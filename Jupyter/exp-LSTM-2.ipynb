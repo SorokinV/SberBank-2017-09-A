{
 "cells": [
  {
   "cell_type": "code",
   "execution_count": 1,
   "metadata": {
    "collapsed": true,
    "deletable": true,
    "editable": true
   },
   "outputs": [],
   "source": [
    "# 2017-10-08 LSTM-2\n",
    "# переработан ввод на последовательности "
   ]
  },
  {
   "cell_type": "code",
   "execution_count": 2,
   "metadata": {
    "collapsed": true,
    "deletable": true,
    "editable": true
   },
   "outputs": [],
   "source": [
    "from __future__ import division\n",
    "import sys, os, datetime\n",
    "import pandas as pd\n",
    "from collections import Counter\n",
    "import functools\n",
    "#import tqdm\n",
    "import re\n",
    "import numpy as np\n",
    "import matplotlib.pyplot as plt\n",
    "from sklearn.ensemble import GradientBoostingClassifier\n",
    "import sklearn.metrics as skm\n",
    "import sklearn.model_selection as skms\n",
    "import pymorphy2"
   ]
  },
  {
   "cell_type": "code",
   "execution_count": 3,
   "metadata": {
    "collapsed": false,
    "deletable": true,
    "editable": true
   },
   "outputs": [
    {
     "name": "stderr",
     "output_type": "stream",
     "text": [
      "Using TensorFlow backend.\n"
     ]
    }
   ],
   "source": [
    "import keras\n",
    "from keras.models import Sequential, Model\n",
    "from keras.layers import Dense, Input, Dropout, Flatten\n",
    "from keras.layers import LSTM\n",
    "from keras.layers.convolutional import Conv1D\n",
    "from keras.layers.convolutional import MaxPooling1D\n",
    "import keras.preprocessing.text\n",
    "from keras.layers.embeddings import Embedding\n",
    "from keras.callbacks import EarlyStopping,ReduceLROnPlateau,ModelCheckpoint\n",
    "import keras.backend as K"
   ]
  },
  {
   "cell_type": "code",
   "execution_count": null,
   "metadata": {
    "collapsed": true,
    "deletable": true,
    "editable": true
   },
   "outputs": [],
   "source": []
  },
  {
   "cell_type": "code",
   "execution_count": 4,
   "metadata": {
    "collapsed": true,
    "deletable": true,
    "editable": true
   },
   "outputs": [],
   "source": [
    "#dftrain, dftest = pd.read_csv(\"../Data/train_task1_latest.csv\"), pd.read_csv(\"../Data/test_task1_latest.csv\")\n",
    "dftrain, dftest = pd.read_csv(\"../Work/train_task1_lemma.csv\"), pd.read_csv(\"../Work/test_task1_lemma.csv\")"
   ]
  },
  {
   "cell_type": "code",
   "execution_count": null,
   "metadata": {
    "collapsed": true,
    "deletable": true,
    "editable": true
   },
   "outputs": [],
   "source": []
  },
  {
   "cell_type": "code",
   "execution_count": null,
   "metadata": {
    "collapsed": true,
    "deletable": true,
    "editable": true
   },
   "outputs": [],
   "source": []
  },
  {
   "cell_type": "code",
   "execution_count": 5,
   "metadata": {
    "collapsed": false,
    "deletable": true,
    "editable": true
   },
   "outputs": [
    {
     "data": {
      "text/plain": [
       "((119398, 13),\n",
       " (74294, 12),\n",
       " Index([u'paragraph_id', u'question_id', u'paragraph', u'question', u'target',\n",
       "        u'paragraphL', u'questionL', u'paragraphLS', u'questionLS',\n",
       "        u'paragraphLX', u'questionLX', u'paragraphLSX', u'questionLSX'],\n",
       "       dtype='object'))"
      ]
     },
     "execution_count": 5,
     "metadata": {},
     "output_type": "execute_result"
    }
   ],
   "source": [
    "dftrain.shape, dftest.shape, dftrain.columns"
   ]
  },
  {
   "cell_type": "code",
   "execution_count": null,
   "metadata": {
    "collapsed": false,
    "deletable": true,
    "editable": true
   },
   "outputs": [],
   "source": []
  },
  {
   "cell_type": "code",
   "execution_count": null,
   "metadata": {
    "collapsed": false,
    "deletable": true,
    "editable": true
   },
   "outputs": [],
   "source": []
  },
  {
   "cell_type": "code",
   "execution_count": null,
   "metadata": {
    "collapsed": true,
    "deletable": true,
    "editable": true
   },
   "outputs": [],
   "source": []
  },
  {
   "cell_type": "code",
   "execution_count": 366,
   "metadata": {
    "collapsed": false,
    "deletable": true,
    "editable": true
   },
   "outputs": [
    {
     "name": "stdout",
     "output_type": "stream",
     "text": [
      "(3000, 320) (3000, 60) 0.723333333333 (3000, 343) (3000, 288)\n"
     ]
    }
   ],
   "source": [
    "num_rows  = 3000 #len(dftrain) #10000 #00\n",
    "num_voc   = 500\n",
    "\n",
    "train_x0  = dftrain.paragraphLS[:num_rows].tolist()\n",
    "train_x1  = dftrain.questionLS[:num_rows].tolist()\n",
    "train_y   = dftrain.target[:num_rows]\n",
    "\n",
    "test_x0   = dftest.paragraphLS[:num_rows].tolist()\n",
    "test_x1   = dftest.questionLS[:num_rows].tolist()\n",
    "\n",
    "train_s0  = [keras.preprocessing.text.one_hot(xx,num_voc) for xx in train_x0]\n",
    "train_s1  = [keras.preprocessing.text.one_hot(xx,num_voc) for xx in train_x1]\n",
    "\n",
    "test_s0   = [keras.preprocessing.text.one_hot(xx,num_voc) for xx in test_x0]\n",
    "test_s1   = [keras.preprocessing.text.one_hot(xx,num_voc) for xx in test_x1]\n",
    "\n",
    "train_ss0 = keras.preprocessing.sequence.pad_sequences(train_s0)\n",
    "train_ss1 = keras.preprocessing.sequence.pad_sequences(train_s1)\n",
    "\n",
    "test_ss0  = keras.preprocessing.sequence.pad_sequences(test_s0)\n",
    "test_ss1  = keras.preprocessing.sequence.pad_sequences(test_s1)\n",
    "\n",
    "\n",
    "#print train_s0[0], train_s1[0], '\\n', train_ss0.shape, train_ss1.shape, '\\n', train_ss0[0,:], '\\n', train_ss1[0,:]\n",
    "print train_ss0.shape, train_ss1.shape, 1.0-train_y.mean(), test_ss0.shape, test_ss1.shape\n"
   ]
  },
  {
   "cell_type": "code",
   "execution_count": 367,
   "metadata": {
    "collapsed": false,
    "deletable": true,
    "editable": true
   },
   "outputs": [
    {
     "data": {
      "image/png": "[encoded data removed]",
      "text/plain": [
       "<matplotlib.figure.Figure at 0x7fceb34adc90>"
      ]
     },
     "metadata": {},
     "output_type": "display_data"
    },
    {
     "data": {
      "image/png": "[encoded data removed]",
      "text/plain": [
       "<matplotlib.figure.Figure at 0x7fce9a7db990>"
      ]
     },
     "metadata": {},
     "output_type": "display_data"
    }
   ],
   "source": [
    "plt.hist(train_y.values.flatten(),bins=10); plt.show()\n",
    "plt.hist(train_ss1[train_ss1>0].flatten(),bins=100); plt.show()"
   ]
  },
  {
   "cell_type": "code",
   "execution_count": 337,
   "metadata": {
    "collapsed": false,
    "deletable": true,
    "editable": true
   },
   "outputs": [
    {
     "data": {
      "text/plain": [
       "\"\\nimport keras.layers.merge\\nmax_features0 = train_ss0.shape[1]\\nmax_features1 = train_ss1.shape[1]\\n#model = Sequential()\\n#model.add(Embedding(max_features, 256))\\n#model.add(Input(shape=[max_feature], dtype='float32'))\\n#model.add(LSTM(256, dropout=0.2, recurrent_dropout=0.2,return_sequences=True,input_shape=[None,6]))\\n#model.add(Dense(50, activation='relu'))\\n#model.add(Dense(5, activation='sigmoid'))\\n\\nK.clear_session()\\n\\ni0 = Input(shape=[max_features]) #, dtype='float32')\\nx0 = Embedding(max_features, 16)(i0)\\nx0 = LSTM(128,dropout=0.2)(x0)\\n\\ni1 = Input(shape=[max_features]) #, dtype='float32')\\nx1 = Embedding(max_features, 8)(i1)\\nx1 = LSTM(128,dropout=0.2)(x1)\\n\\n#xx = keras.layers.concatenate([x0, x1])\\nxx = keras.layers.Add()([x0, x1])\\n\\nxx = Dense(16, activation='relu')(xx)\\n#xx = Dropout(0.25)(xx)\\nxx = Dense(64, activation='relu')(xx)\\n#xx = Dropout(0.25)(xx)\\n#xx = Dense(128, activation='relu')(xx)\\n#xx = Dropout(0.25)(xx)\\n##xx = Dense(256, activation='relu')(xx)\\nxx = Dropout(0.25)(xx)\\no = Dense(2, activation='softmax')(xx)\\n#o = Dense(1, activation='sigmoid')(xx)\\n\\nmodel = Model(inputs=[i0,i1], outputs=o)\\n\\nmodel.summary()\\n\\nmodel.compile(loss='binary_crossentropy', #'mae', #'mse', #'binary_crossentropy',\\n              optimizer='adam',\\n              metrics=['binary_accuracy','mse'])\\n\""
      ]
     },
     "execution_count": 337,
     "metadata": {},
     "output_type": "execute_result"
    }
   ],
   "source": [
    "'''\n",
    "import keras.layers.merge\n",
    "max_features0 = train_ss0.shape[1]\n",
    "max_features1 = train_ss1.shape[1]\n",
    "#model = Sequential()\n",
    "#model.add(Embedding(max_features, 256))\n",
    "#model.add(Input(shape=[max_feature], dtype='float32'))\n",
    "#model.add(LSTM(256, dropout=0.2, recurrent_dropout=0.2,return_sequences=True,input_shape=[None,6]))\n",
    "#model.add(Dense(50, activation='relu'))\n",
    "#model.add(Dense(5, activation='sigmoid'))\n",
    "\n",
    "K.clear_session()\n",
    "\n",
    "i0 = Input(shape=[max_features]) #, dtype='float32')\n",
    "x0 = Embedding(max_features, 16)(i0)\n",
    "x0 = LSTM(128,dropout=0.2)(x0)\n",
    "\n",
    "i1 = Input(shape=[max_features]) #, dtype='float32')\n",
    "x1 = Embedding(max_features, 8)(i1)\n",
    "x1 = LSTM(128,dropout=0.2)(x1)\n",
    "\n",
    "#xx = keras.layers.concatenate([x0, x1])\n",
    "xx = keras.layers.Add()([x0, x1])\n",
    "\n",
    "xx = Dense(16, activation='relu')(xx)\n",
    "#xx = Dropout(0.25)(xx)\n",
    "xx = Dense(64, activation='relu')(xx)\n",
    "#xx = Dropout(0.25)(xx)\n",
    "#xx = Dense(128, activation='relu')(xx)\n",
    "#xx = Dropout(0.25)(xx)\n",
    "##xx = Dense(256, activation='relu')(xx)\n",
    "xx = Dropout(0.25)(xx)\n",
    "o = Dense(2, activation='softmax')(xx)\n",
    "#o = Dense(1, activation='sigmoid')(xx)\n",
    "\n",
    "model = Model(inputs=[i0,i1], outputs=o)\n",
    "\n",
    "model.summary()\n",
    "\n",
    "model.compile(loss='binary_crossentropy', #'mae', #'mse', #'binary_crossentropy',\n",
    "              optimizer='adam',\n",
    "              metrics=['binary_accuracy','mse'])\n",
    "'''"
   ]
  },
  {
   "cell_type": "code",
   "execution_count": 347,
   "metadata": {
    "collapsed": false,
    "deletable": true,
    "editable": true
   },
   "outputs": [
    {
     "name": "stdout",
     "output_type": "stream",
     "text": [
      "____________________________________________________________________________________________________\n",
      "Layer (type)                     Output Shape          Param #     Connected to                     \n",
      "====================================================================================================\n",
      "input_1 (InputLayer)             (None, 320)           0                                            \n",
      "____________________________________________________________________________________________________\n",
      "input_2 (InputLayer)             (None, 60)            0                                            \n",
      "____________________________________________________________________________________________________\n",
      "embedding_1 (Embedding)          (None, 320, 320)      102400      input_1[0][0]                    \n",
      "____________________________________________________________________________________________________\n",
      "embedding_2 (Embedding)          (None, 60, 60)        3600        input_2[0][0]                    \n",
      "____________________________________________________________________________________________________\n",
      "lstm_1 (LSTM)                    [(None, 320), (None,  820480      embedding_1[0][0]                \n",
      "____________________________________________________________________________________________________\n",
      "lstm_2 (LSTM)                    [(None, 320), (None,  487680      embedding_2[0][0]                \n",
      "                                                                   lstm_1[0][1]                     \n",
      "                                                                   lstm_1[0][2]                     \n",
      "____________________________________________________________________________________________________\n",
      "dense_1 (Dense)                  (None, 1)             321         lstm_2[0][0]                     \n",
      "====================================================================================================\n",
      "Total params: 1,414,481\n",
      "Trainable params: 1,414,481\n",
      "Non-trainable params: 0\n",
      "____________________________________________________________________________________________________\n"
     ]
    }
   ],
   "source": [
    "max_features0 = train_ss0.shape[1]\n",
    "max_features1 = train_ss1.shape[1]\n",
    "max_lstm      = max(train_ss0.shape[1],train_ss1.shape[1])\n",
    "#model = Sequential()\n",
    "#model.add(Embedding(max_features, 256))\n",
    "#model.add(Input(shape=[max_feature], dtype='float32'))\n",
    "#model.add(LSTM(256, dropout=0.2, recurrent_dropout=0.2,return_sequences=True,input_shape=[None,6]))\n",
    "#model.add(Dense(50, activation='relu'))\n",
    "#model.add(Dense(5, activation='sigmoid'))\n",
    "\n",
    "K.clear_session()\n",
    "\n",
    "i0 = Input(shape=[max_features0]) #, dtype='float32')\n",
    "x0 = Embedding(max_features0,max_features0)(i0)\n",
    "x0,state_h,state_c = LSTM(max_lstm,dropout=0.2,recurrent_dropout=0.2,return_state=True)(x0)\n",
    "\n",
    "i1 = Input(shape=[max_features1]) #, dtype='float32')\n",
    "x1 = Embedding(max_features1,max_features1)(i1)\n",
    "xx,_,_ = LSTM(max_lstm,dropout=0.2,recurrent_dropout=0.2,return_state=True)(x1,initial_state=[state_h,state_c])\n",
    "\n",
    "#xx = keras.layers.concatenate([x0, x1])\n",
    "\n",
    "#xx = Dense(128, activation='relu')(xx)\n",
    "#xx = Dropout(0.25)(xx)\n",
    "#xx = Dense(64, activation='relu')(xx)\n",
    "#xx = Dropout(0.25)(xx)\n",
    "#xx = Dense(32, activation='relu')(xx)\n",
    "#xx = Dropout(0.25)(xx)\n",
    "#xx = Dense(16, activation='relu')(xx)\n",
    "#xx = Dropout(0.25)(xx)\n",
    "#xx = Dense(32, activation='relu')(xx)\n",
    "#xx = Dropout(0.5)(xx)\n",
    "##xx = Dense(256, activation='relu')(xx)\n",
    "###xx = Dropout(0.25)(xx)\n",
    "#o = Dense(2, activation='softmax')(xx)\n",
    "o = Dense(1, activation='sigmoid')(xx)\n",
    "\n",
    "model = Model(inputs=[i0,i1], outputs=o)\n",
    "\n",
    "model.summary()\n",
    "\n",
    "sgd = keras.optimizers.SGD(lr=0.01, decay=1e-6, momentum=0.9, nesterov=True) #, clipnorm=0.2)\n",
    "model.compile(loss='binary_crossentropy', #'mae', #'mse', #'binary_crossentropy',\n",
    "              optimizer='adam', #sgd, #'RMSprop', #sgd, #'adam',\n",
    "              metrics=['binary_accuracy','accuracy','mse'])"
   ]
  },
  {
   "cell_type": "code",
   "execution_count": 348,
   "metadata": {
    "collapsed": true,
    "deletable": true,
    "editable": true
   },
   "outputs": [],
   "source": [
    "if 0 :\n",
    "    sgd = keras.optimizers.SGD(lr=0.001, decay=1e-6, momentum=0.9, nesterov=True) #, clipnorm=0.2)\n",
    "    model.compile(loss='binary_crossentropy', #'mae', #'mse', #'binary_crossentropy',\n",
    "                  optimizer=sgd, #'RMSprop', #sgd, #'adam',\n",
    "                  metrics=['binary_accuracy','accuracy','mse'])"
   ]
  },
  {
   "cell_type": "code",
   "execution_count": 349,
   "metadata": {
    "collapsed": false
   },
   "outputs": [],
   "source": [
    "import h5py"
   ]
  },
  {
   "cell_type": "code",
   "execution_count": 350,
   "metadata": {
    "collapsed": false,
    "deletable": true,
    "editable": true
   },
   "outputs": [
    {
     "name": "stdout",
     "output_type": "stream",
     "text": [
      "2017-10-09 00:50:25.406396\n",
      "Epoch 1/150\n",
      "Epoch 00000: acc improved from -inf to 0.68867, saving model to ../Temp/LSTM2-best.hdf5\n",
      "10s - loss: 0.6347 - binary_accuracy: 0.6887 - acc: 0.6887 - mean_squared_error: 0.2211\n",
      "Epoch 2/150\n",
      "Epoch 00001: acc improved from 0.68867 to 0.70467, saving model to ../Temp/LSTM2-best.hdf5\n",
      "9s - loss: 0.5791 - binary_accuracy: 0.7047 - acc: 0.7047 - mean_squared_error: 0.1966\n",
      "Epoch 3/150\n",
      "Epoch 00002: acc improved from 0.70467 to 0.72333, saving model to ../Temp/LSTM2-best.hdf5\n",
      "10s - loss: 0.5750 - binary_accuracy: 0.7233 - acc: 0.7233 - mean_squared_error: 0.1941\n",
      "Epoch 4/150\n",
      "Epoch 00003: acc improved from 0.72333 to 0.72900, saving model to ../Temp/LSTM2-best.hdf5\n",
      "9s - loss: 0.5441 - binary_accuracy: 0.7290 - acc: 0.7290 - mean_squared_error: 0.1822\n",
      "Epoch 5/150\n",
      "Epoch 00004: acc improved from 0.72900 to 0.74633, saving model to ../Temp/LSTM2-best.hdf5\n",
      "9s - loss: 0.5149 - binary_accuracy: 0.7463 - acc: 0.7463 - mean_squared_error: 0.1689\n",
      "Epoch 6/150\n",
      "Epoch 00005: acc did not improve\n",
      "9s - loss: 0.5138 - binary_accuracy: 0.7363 - acc: 0.7363 - mean_squared_error: 0.1708\n",
      "Epoch 7/150\n",
      "Epoch 00006: acc improved from 0.74633 to 0.78200, saving model to ../Temp/LSTM2-best.hdf5\n",
      "10s - loss: 0.4771 - binary_accuracy: 0.7820 - acc: 0.7820 - mean_squared_error: 0.1546\n",
      "Epoch 8/150\n",
      "Epoch 00007: acc improved from 0.78200 to 0.79433, saving model to ../Temp/LSTM2-best.hdf5\n",
      "10s - loss: 0.4703 - binary_accuracy: 0.7943 - acc: 0.7943 - mean_squared_error: 0.1520\n",
      "Epoch 9/150\n",
      "Epoch 00008: acc did not improve\n",
      "9s - loss: 0.4632 - binary_accuracy: 0.7877 - acc: 0.7877 - mean_squared_error: 0.1496\n",
      "Epoch 10/150\n",
      "Epoch 00009: acc did not improve\n",
      "9s - loss: 0.4571 - binary_accuracy: 0.7917 - acc: 0.7917 - mean_squared_error: 0.1483\n",
      "Epoch 11/150\n",
      "Epoch 00010: acc did not improve\n",
      "9s - loss: 0.4575 - binary_accuracy: 0.7940 - acc: 0.7940 - mean_squared_error: 0.1477\n",
      "Epoch 12/150\n",
      "Epoch 00011: acc did not improve\n",
      "9s - loss: 0.4608 - binary_accuracy: 0.7893 - acc: 0.7893 - mean_squared_error: 0.1488\n",
      "Epoch 13/150\n",
      "Epoch 00012: acc did not improve\n",
      "9s - loss: 0.4597 - binary_accuracy: 0.7897 - acc: 0.7897 - mean_squared_error: 0.1489\n",
      "Epoch 14/150\n",
      "Epoch 00013: acc did not improve\n",
      "9s - loss: 0.4543 - binary_accuracy: 0.7913 - acc: 0.7913 - mean_squared_error: 0.1467\n",
      "Epoch 15/150\n",
      "Epoch 00014: acc did not improve\n",
      "9s - loss: 0.4588 - binary_accuracy: 0.7917 - acc: 0.7917 - mean_squared_error: 0.1477\n",
      "Epoch 16/150\n",
      "Epoch 00015: acc did not improve\n",
      "9s - loss: 0.4560 - binary_accuracy: 0.7897 - acc: 0.7897 - mean_squared_error: 0.1474\n",
      "Epoch 17/150\n",
      "Epoch 00016: acc did not improve\n",
      "9s - loss: 0.4548 - binary_accuracy: 0.7897 - acc: 0.7897 - mean_squared_error: 0.1476\n",
      "Epoch 18/150\n",
      "Epoch 00017: acc did not improve\n",
      "9s - loss: 0.4509 - binary_accuracy: 0.7920 - acc: 0.7920 - mean_squared_error: 0.1456\n",
      "Epoch 19/150\n",
      "Epoch 00018: acc improved from 0.79433 to 0.79667, saving model to ../Temp/LSTM2-best.hdf5\n",
      "10s - loss: 0.4502 - binary_accuracy: 0.7967 - acc: 0.7967 - mean_squared_error: 0.1455\n",
      "Epoch 20/150\n",
      "Epoch 00019: acc improved from 0.79667 to 0.79767, saving model to ../Temp/LSTM2-best.hdf5\n",
      "10s - loss: 0.4490 - binary_accuracy: 0.7977 - acc: 0.7977 - mean_squared_error: 0.1447\n",
      "Epoch 21/150\n",
      "Epoch 00020: acc did not improve\n",
      "9s - loss: 0.4491 - binary_accuracy: 0.7957 - acc: 0.7957 - mean_squared_error: 0.1449\n",
      "Epoch 22/150\n",
      "Epoch 00021: acc did not improve\n",
      "9s - loss: 0.4485 - binary_accuracy: 0.7970 - acc: 0.7970 - mean_squared_error: 0.1448\n",
      "Epoch 23/150\n",
      "Epoch 00022: acc did not improve\n",
      "9s - loss: 0.4524 - binary_accuracy: 0.7920 - acc: 0.7920 - mean_squared_error: 0.1464\n",
      "Epoch 24/150\n",
      "Epoch 00023: acc improved from 0.79767 to 0.79767, saving model to ../Temp/LSTM2-best.hdf5\n",
      "10s - loss: 0.4445 - binary_accuracy: 0.7977 - acc: 0.7977 - mean_squared_error: 0.1435\n",
      "Epoch 25/150\n",
      "Epoch 00024: acc improved from 0.79767 to 0.80467, saving model to ../Temp/LSTM2-best.hdf5\n",
      "10s - loss: 0.4351 - binary_accuracy: 0.8047 - acc: 0.8047 - mean_squared_error: 0.1403\n",
      "Epoch 26/150\n",
      "Epoch 00025: acc improved from 0.80467 to 0.81767, saving model to ../Temp/LSTM2-best.hdf5\n",
      "9s - loss: 0.4003 - binary_accuracy: 0.8177 - acc: 0.8177 - mean_squared_error: 0.1272\n",
      "Epoch 27/150\n",
      "Epoch 00026: acc improved from 0.81767 to 0.83600, saving model to ../Temp/LSTM2-best.hdf5\n",
      "9s - loss: 0.3615 - binary_accuracy: 0.8360 - acc: 0.8360 - mean_squared_error: 0.1151\n",
      "Epoch 28/150\n",
      "Epoch 00027: acc improved from 0.83600 to 0.85167, saving model to ../Temp/LSTM2-best.hdf5\n",
      "10s - loss: 0.3345 - binary_accuracy: 0.8517 - acc: 0.8517 - mean_squared_error: 0.1037\n",
      "Epoch 29/150\n",
      "Epoch 00028: acc improved from 0.85167 to 0.85567, saving model to ../Temp/LSTM2-best.hdf5\n",
      "9s - loss: 0.3205 - binary_accuracy: 0.8557 - acc: 0.8557 - mean_squared_error: 0.1003\n",
      "Epoch 30/150\n",
      "Epoch 00029: acc improved from 0.85567 to 0.86300, saving model to ../Temp/LSTM2-best.hdf5\n",
      "9s - loss: 0.2978 - binary_accuracy: 0.8630 - acc: 0.8630 - mean_squared_error: 0.0937\n",
      "Epoch 31/150\n",
      "Epoch 00030: acc improved from 0.86300 to 0.86467, saving model to ../Temp/LSTM2-best.hdf5\n",
      "9s - loss: 0.3004 - binary_accuracy: 0.8647 - acc: 0.8647 - mean_squared_error: 0.0937\n",
      "Epoch 32/150\n",
      "Epoch 00031: acc did not improve\n",
      "9s - loss: 0.4770 - binary_accuracy: 0.7787 - acc: 0.7787 - mean_squared_error: 0.1492\n",
      "Epoch 33/150\n",
      "Epoch 00032: acc did not improve\n",
      "9s - loss: 0.5415 - binary_accuracy: 0.7530 - acc: 0.7530 - mean_squared_error: 0.1741\n",
      "Epoch 34/150\n",
      "\n",
      "Epoch 00033: reducing learning rate to 0.00010000000475.\n",
      "Epoch 00033: acc did not improve\n",
      "9s - loss: 0.4910 - binary_accuracy: 0.7693 - acc: 0.7693 - mean_squared_error: 0.1593\n",
      "Epoch 35/150\n",
      "Epoch 00034: acc did not improve\n",
      "9s - loss: 0.4780 - binary_accuracy: 0.7843 - acc: 0.7843 - mean_squared_error: 0.1546\n",
      "Epoch 36/150\n",
      "Epoch 00035: acc did not improve\n",
      "9s - loss: 0.4721 - binary_accuracy: 0.7793 - acc: 0.7793 - mean_squared_error: 0.1526\n",
      "Epoch 37/150\n",
      "\n",
      "Epoch 00036: reducing learning rate to 1.0000000475e-05.\n",
      "Epoch 00036: acc did not improve\n",
      "9s - loss: 0.4670 - binary_accuracy: 0.7823 - acc: 0.7823 - mean_squared_error: 0.1514\n",
      "Epoch 38/150\n",
      "Epoch 00037: acc did not improve\n",
      "9s - loss: 0.4671 - binary_accuracy: 0.7803 - acc: 0.7803 - mean_squared_error: 0.1514\n",
      "Epoch 39/150\n",
      "Epoch 00038: acc did not improve\n",
      "9s - loss: 0.4646 - binary_accuracy: 0.7787 - acc: 0.7787 - mean_squared_error: 0.1505\n",
      "Epoch 00038: early stopping\n",
      "2017-10-09 00:56:55.538408\n"
     ]
    }
   ],
   "source": [
    "batch_size   = 256  #128 #256 #512 #1024 #+512 #+1024 #+512\n",
    "print (datetime.datetime.now())\n",
    "\n",
    "reduce_lr1     = ReduceLROnPlateau(monitor='loss', factor=0.1,patience=3, min_lr=0.0000001,verbose=1)\n",
    "early_stopping = EarlyStopping(monitor='loss', patience=8,min_delta=0.0001,verbose=1)\n",
    "\n",
    "#filepath=\"../Temp/LSTM2--val_\"+metric+\"={val_\"+metric+\":.4f}-{\"+metric+\":.4f}---\"+str(i)+\".hdf5\"\n",
    "filepath=\"../Temp/LSTM2-best.hdf5\"\n",
    "checkpoint1 = ModelCheckpoint(filepath, monitor='acc', verbose=1, save_best_only=True, mode='max')\n",
    "\n",
    "hist = model.fit([train_ss0,train_ss1], train_y,\n",
    "                  batch_size=batch_size,\n",
    "                  #shuffle=True,\n",
    "                  epochs=150,\n",
    "                  initial_epoch=0,\n",
    "                  callbacks=[reduce_lr1, early_stopping, checkpoint1],\n",
    "                  #validation_data=([x_train[-200:],z_train[-200:],a_train[-200:]], y_train[-200:]),\n",
    "                  verbose=2)\n",
    "print (datetime.datetime.now())"
   ]
  },
  {
   "cell_type": "code",
   "execution_count": 281,
   "metadata": {
    "collapsed": false,
    "deletable": true,
    "editable": true
   },
   "outputs": [],
   "source": [
    "#hist.__dict__"
   ]
  },
  {
   "cell_type": "code",
   "execution_count": 315,
   "metadata": {
    "collapsed": false
   },
   "outputs": [],
   "source": [
    "model.load_weights('../Temp/LSTM2-best.hdf5')"
   ]
  },
  {
   "cell_type": "code",
   "execution_count": 316,
   "metadata": {
    "collapsed": false,
    "deletable": true,
    "editable": true
   },
   "outputs": [],
   "source": [
    "train_xp = model.predict([train_ss0[:num_rows],train_ss1[:num_rows]],batch_size=batch_size)"
   ]
  },
  {
   "cell_type": "code",
   "execution_count": 317,
   "metadata": {
    "collapsed": false,
    "deletable": true,
    "editable": true
   },
   "outputs": [
    {
     "data": {
      "text/plain": [
       "(0.90500000000000003, 0.96402837155071908)"
      ]
     },
     "execution_count": 317,
     "metadata": {},
     "output_type": "execute_result"
    }
   ],
   "source": [
    "skm.accuracy_score(train_y[:num_rows],train_xp>0.5), skm.roc_auc_score(train_y[:num_rows],train_xp)"
   ]
  },
  {
   "cell_type": "code",
   "execution_count": 318,
   "metadata": {
    "collapsed": false,
    "deletable": true,
    "editable": true
   },
   "outputs": [
    {
     "data": {
      "image/png": "[encoded data removed]",
      "text/plain": [
       "<matplotlib.figure.Figure at 0x7fcea994d990>"
      ]
     },
     "metadata": {},
     "output_type": "display_data"
    }
   ],
   "source": [
    "hh=plt.hist(train_xp.flatten(),bins=50); plt.show()"
   ]
  },
  {
   "cell_type": "code",
   "execution_count": null,
   "metadata": {
    "collapsed": false,
    "deletable": true,
    "editable": true
   },
   "outputs": [],
   "source": []
  },
  {
   "cell_type": "code",
   "execution_count": null,
   "metadata": {
    "collapsed": false,
    "deletable": true,
    "editable": true
   },
   "outputs": [],
   "source": []
  },
  {
   "cell_type": "code",
   "execution_count": null,
   "metadata": {
    "collapsed": true,
    "deletable": true,
    "editable": true
   },
   "outputs": [],
   "source": []
  },
  {
   "cell_type": "code",
   "execution_count": null,
   "metadata": {
    "collapsed": true,
    "deletable": true,
    "editable": true
   },
   "outputs": [],
   "source": []
  },
  {
   "cell_type": "code",
   "execution_count": null,
   "metadata": {
    "collapsed": true,
    "deletable": true,
    "editable": true
   },
   "outputs": [],
   "source": []
  },
  {
   "cell_type": "code",
   "execution_count": 184,
   "metadata": {
    "collapsed": false,
    "deletable": true,
    "editable": true
   },
   "outputs": [],
   "source": [
    "import nltk, re\n",
    "xx = dftrain.paragraphLS[:num_rows].tolist()\n",
    "#print(type(xx),unicode(xx[0],'utf-8'))\n",
    "\n",
    "##ff=nltk.probability.FreqDist(xx[0].decode('utf-8'))\n",
    "##ff=nltk.probability.FreqDist(unicode(xx[0],'utf-8'),unicode_)\n",
    "\n",
    "ff=nltk.probability.FreqDist()\n",
    "\n",
    "for ss in xx :\n",
    "    for ww in re.findall(\"\\w+\", ss.decode('utf-8'),re.UNICODE) :\n",
    "        ff[ww] +=1\n",
    "\n",
    "\n",
    "#for ww,cc in ff.most_common(50) : print(ww,cc)"
   ]
  },
  {
   "cell_type": "code",
   "execution_count": 181,
   "metadata": {
    "collapsed": false,
    "deletable": true,
    "editable": true
   },
   "outputs": [
    {
     "name": "stdout",
     "output_type": "stream",
     "text": [
      "год 134808\n",
      "который 84027\n",
      "свой 59027\n",
      "это 55298\n",
      "время 46071\n",
      "мочь 40857\n",
      "также 33663\n",
      "весь 33155\n",
      "являться 28849\n",
      "её 27409\n",
      "система 25191\n",
      "человек 25005\n",
      "например 23112\n",
      "опера 22024\n",
      "вид 21269\n",
      "стать 19141\n",
      "форма 19004\n",
      "иметь 18984\n",
      "век 18482\n",
      "образ 18071\n",
      "ещё 17594\n",
      "друг 17112\n",
      "новый 17066\n",
      "французский 16918\n",
      "некоторый 16481\n",
      "течение 16471\n",
      "часть 16230\n",
      "большой 16189\n",
      "отношение 15804\n",
      "мир 14612\n",
      "язык 14559\n",
      "отец 14396\n",
      "команда 14138\n",
      "страна 13909\n",
      "право 13904\n",
      "использоваться 13754\n",
      "иван 13682\n",
      "сын 13438\n",
      "фильм 13414\n",
      "высокий 13341\n",
      "4 13260\n",
      "1 13211\n",
      "несколько 13026\n",
      "ряд 12871\n",
      "разум 12618\n",
      "двигатель 12602\n",
      "называть 12460\n",
      "самый 12431\n",
      "писатель 12080\n",
      "происходить 11915\n"
     ]
    }
   ],
   "source": [
    "for ww,cc in ff.most_common(50) :\n",
    "    print ww,cc"
   ]
  },
  {
   "cell_type": "code",
   "execution_count": null,
   "metadata": {
    "collapsed": true,
    "deletable": true,
    "editable": true
   },
   "outputs": [],
   "source": []
  }
 ],
 "metadata": {
  "kernelspec": {
   "display_name": "Python 2",
   "language": "python",
   "name": "python2"
  },
  "language_info": {
   "codemirror_mode": {
    "name": "ipython",
    "version": 2
   },
   "file_extension": ".py",
   "mimetype": "text/x-python",
   "name": "python",
   "nbconvert_exporter": "python",
   "pygments_lexer": "ipython2",
   "version": "2.7.13"
  }
 },
 "nbformat": 4,
 "nbformat_minor": 2
}
