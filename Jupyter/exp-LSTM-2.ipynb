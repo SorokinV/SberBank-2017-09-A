{
 "cells": [
  {
   "cell_type": "code",
   "execution_count": 1,
   "metadata": {
    "collapsed": true,
    "deletable": true,
    "editable": true
   },
   "outputs": [],
   "source": [
    "# 2017-10-08 LSTM-2\n",
    "# переработан ввод на последовательности "
   ]
  },
  {
   "cell_type": "code",
   "execution_count": 2,
   "metadata": {
    "collapsed": true,
    "deletable": true,
    "editable": true
   },
   "outputs": [],
   "source": [
    "from __future__ import division\n",
    "import sys, os, datetime\n",
    "import pandas as pd\n",
    "from collections import Counter\n",
    "import functools\n",
    "#import tqdm\n",
    "import re\n",
    "import numpy as np\n",
    "import matplotlib.pyplot as plt\n",
    "from sklearn.ensemble import GradientBoostingClassifier\n",
    "import sklearn.metrics as skm\n",
    "import sklearn.model_selection as skms\n",
    "import pymorphy2\n",
    "import h5py"
   ]
  },
  {
   "cell_type": "code",
   "execution_count": 3,
   "metadata": {
    "collapsed": false,
    "deletable": true,
    "editable": true
   },
   "outputs": [
    {
     "name": "stderr",
     "output_type": "stream",
     "text": [
      "Using TensorFlow backend.\n"
     ]
    }
   ],
   "source": [
    "import keras\n",
    "from keras.models import Sequential, Model\n",
    "from keras.layers import Dense, Input, Dropout, Flatten\n",
    "from keras.layers import LSTM\n",
    "from keras.layers.convolutional import Conv1D\n",
    "from keras.layers.convolutional import MaxPooling1D\n",
    "import keras.preprocessing.text\n",
    "from keras.layers.embeddings import Embedding\n",
    "from keras.callbacks import EarlyStopping,ReduceLROnPlateau,ModelCheckpoint\n",
    "import keras.backend as K"
   ]
  },
  {
   "cell_type": "code",
   "execution_count": null,
   "metadata": {
    "collapsed": true,
    "deletable": true,
    "editable": true
   },
   "outputs": [],
   "source": []
  },
  {
   "cell_type": "code",
   "execution_count": 4,
   "metadata": {
    "collapsed": true,
    "deletable": true,
    "editable": true
   },
   "outputs": [],
   "source": [
    "#dftrain, dftest = pd.read_csv(\"../Data/train_task1_latest.csv\"), pd.read_csv(\"../Data/test_task1_latest.csv\")\n",
    "dftrain, dftest = pd.read_csv(\"../Work/train_task1_lemma.csv\"), pd.read_csv(\"../Work/test_task1_lemma.csv\")"
   ]
  },
  {
   "cell_type": "code",
   "execution_count": null,
   "metadata": {
    "collapsed": true,
    "deletable": true,
    "editable": true
   },
   "outputs": [],
   "source": []
  },
  {
   "cell_type": "code",
   "execution_count": null,
   "metadata": {
    "collapsed": true,
    "deletable": true,
    "editable": true
   },
   "outputs": [],
   "source": []
  },
  {
   "cell_type": "code",
   "execution_count": 5,
   "metadata": {
    "collapsed": false,
    "deletable": true,
    "editable": true
   },
   "outputs": [
    {
     "data": {
      "text/plain": [
       "((119398, 13),\n",
       " (74294, 12),\n",
       " Index([u'paragraph_id', u'question_id', u'paragraph', u'question', u'target',\n",
       "        u'paragraphL', u'questionL', u'paragraphLS', u'questionLS',\n",
       "        u'paragraphLX', u'questionLX', u'paragraphLSX', u'questionLSX'],\n",
       "       dtype='object'))"
      ]
     },
     "execution_count": 5,
     "metadata": {},
     "output_type": "execute_result"
    }
   ],
   "source": [
    "dftrain.shape, dftest.shape, dftrain.columns"
   ]
  },
  {
   "cell_type": "code",
   "execution_count": null,
   "metadata": {
    "collapsed": false,
    "deletable": true,
    "editable": true
   },
   "outputs": [],
   "source": []
  },
  {
   "cell_type": "code",
   "execution_count": null,
   "metadata": {
    "collapsed": false,
    "deletable": true,
    "editable": true
   },
   "outputs": [],
   "source": []
  },
  {
   "cell_type": "code",
   "execution_count": null,
   "metadata": {
    "collapsed": true,
    "deletable": true,
    "editable": true
   },
   "outputs": [],
   "source": []
  },
  {
   "cell_type": "code",
   "execution_count": 16,
   "metadata": {
    "collapsed": false,
    "deletable": true,
    "editable": true
   },
   "outputs": [
    {
     "name": "stdout",
     "output_type": "stream",
     "text": [
      "(119398, 350) (119398, 60) 0.714928223253 (74294, 350) (74294, 301)\n"
     ]
    }
   ],
   "source": [
    "num_rows  = len(dftrain) #10000 #00\n",
    "num_voc   = 500\n",
    "max_len   = 350\n",
    "\n",
    "train_x0  = dftrain.paragraphLS[:num_rows].tolist()\n",
    "train_x1  = dftrain.questionLS[:num_rows].tolist()\n",
    "train_y   = dftrain.target[:num_rows]\n",
    "\n",
    "test_x0   = dftest.paragraphLS[:num_rows].tolist()\n",
    "test_x1   = dftest.questionLS[:num_rows].tolist()\n",
    "\n",
    "train_s0  = [keras.preprocessing.text.one_hot(xx,num_voc) for xx in train_x0]\n",
    "train_s1  = [keras.preprocessing.text.one_hot(xx,num_voc) for xx in train_x1]\n",
    "\n",
    "test_s0   = [keras.preprocessing.text.one_hot(xx,num_voc) for xx in test_x0]\n",
    "test_s1   = [keras.preprocessing.text.one_hot(xx,num_voc) for xx in test_x1]\n",
    "\n",
    "train_ss0 = keras.preprocessing.sequence.pad_sequences(train_s0, maxlen=max_len)\n",
    "train_ss1 = keras.preprocessing.sequence.pad_sequences(train_s1)\n",
    "\n",
    "test_ss0  = keras.preprocessing.sequence.pad_sequences(test_s0, maxlen=max_len)\n",
    "test_ss1  = keras.preprocessing.sequence.pad_sequences(test_s1)\n",
    "\n",
    "\n",
    "#print train_s0[0], train_s1[0], '\\n', train_ss0.shape, train_ss1.shape, '\\n', train_ss0[0,:], '\\n', train_ss1[0,:]\n",
    "print train_ss0.shape, train_ss1.shape, 1.0-train_y.mean(), test_ss0.shape, test_ss1.shape\n"
   ]
  },
  {
   "cell_type": "code",
   "execution_count": 17,
   "metadata": {
    "collapsed": false,
    "deletable": true,
    "editable": true
   },
   "outputs": [
    {
     "data": {
      "image/png": "[encoded data removed]",
      "text/plain": [
       "<matplotlib.figure.Figure at 0x7f4970ecd290>"
      ]
     },
     "metadata": {},
     "output_type": "display_data"
    },
    {
     "data": {
      "image/png": "[encoded data removed]",
      "text/plain": [
       "<matplotlib.figure.Figure at 0x7f4966588e50>"
      ]
     },
     "metadata": {},
     "output_type": "display_data"
    }
   ],
   "source": [
    "plt.hist(train_y.values.flatten(),bins=10); plt.show()\n",
    "plt.hist(train_ss1[train_ss1>0].flatten(),bins=100); plt.show()"
   ]
  },
  {
   "cell_type": "code",
   "execution_count": 18,
   "metadata": {
    "collapsed": false,
    "deletable": true,
    "editable": true
   },
   "outputs": [
    {
     "data": {
      "text/plain": [
       "\"\\nimport keras.layers.merge\\nmax_features0 = train_ss0.shape[1]\\nmax_features1 = train_ss1.shape[1]\\n#model = Sequential()\\n#model.add(Embedding(max_features, 256))\\n#model.add(Input(shape=[max_feature], dtype='float32'))\\n#model.add(LSTM(256, dropout=0.2, recurrent_dropout=0.2,return_sequences=True,input_shape=[None,6]))\\n#model.add(Dense(50, activation='relu'))\\n#model.add(Dense(5, activation='sigmoid'))\\n\\nK.clear_session()\\n\\ni0 = Input(shape=[max_features]) #, dtype='float32')\\nx0 = Embedding(max_features, 16)(i0)\\nx0 = LSTM(128,dropout=0.2)(x0)\\n\\ni1 = Input(shape=[max_features]) #, dtype='float32')\\nx1 = Embedding(max_features, 8)(i1)\\nx1 = LSTM(128,dropout=0.2)(x1)\\n\\n#xx = keras.layers.concatenate([x0, x1])\\nxx = keras.layers.Add()([x0, x1])\\n\\nxx = Dense(16, activation='relu')(xx)\\n#xx = Dropout(0.25)(xx)\\nxx = Dense(64, activation='relu')(xx)\\n#xx = Dropout(0.25)(xx)\\n#xx = Dense(128, activation='relu')(xx)\\n#xx = Dropout(0.25)(xx)\\n##xx = Dense(256, activation='relu')(xx)\\nxx = Dropout(0.25)(xx)\\no = Dense(2, activation='softmax')(xx)\\n#o = Dense(1, activation='sigmoid')(xx)\\n\\nmodel = Model(inputs=[i0,i1], outputs=o)\\n\\nmodel.summary()\\n\\nmodel.compile(loss='binary_crossentropy', #'mae', #'mse', #'binary_crossentropy',\\n              optimizer='adam',\\n              metrics=['binary_accuracy','mse'])\\n\""
      ]
     },
     "execution_count": 18,
     "metadata": {},
     "output_type": "execute_result"
    }
   ],
   "source": [
    "'''\n",
    "import keras.layers.merge\n",
    "max_features0 = train_ss0.shape[1]\n",
    "max_features1 = train_ss1.shape[1]\n",
    "#model = Sequential()\n",
    "#model.add(Embedding(max_features, 256))\n",
    "#model.add(Input(shape=[max_feature], dtype='float32'))\n",
    "#model.add(LSTM(256, dropout=0.2, recurrent_dropout=0.2,return_sequences=True,input_shape=[None,6]))\n",
    "#model.add(Dense(50, activation='relu'))\n",
    "#model.add(Dense(5, activation='sigmoid'))\n",
    "\n",
    "K.clear_session()\n",
    "\n",
    "i0 = Input(shape=[max_features]) #, dtype='float32')\n",
    "x0 = Embedding(max_features, 16)(i0)\n",
    "x0 = LSTM(128,dropout=0.2)(x0)\n",
    "\n",
    "i1 = Input(shape=[max_features]) #, dtype='float32')\n",
    "x1 = Embedding(max_features, 8)(i1)\n",
    "x1 = LSTM(128,dropout=0.2)(x1)\n",
    "\n",
    "#xx = keras.layers.concatenate([x0, x1])\n",
    "xx = keras.layers.Add()([x0, x1])\n",
    "\n",
    "xx = Dense(16, activation='relu')(xx)\n",
    "#xx = Dropout(0.25)(xx)\n",
    "xx = Dense(64, activation='relu')(xx)\n",
    "#xx = Dropout(0.25)(xx)\n",
    "#xx = Dense(128, activation='relu')(xx)\n",
    "#xx = Dropout(0.25)(xx)\n",
    "##xx = Dense(256, activation='relu')(xx)\n",
    "xx = Dropout(0.25)(xx)\n",
    "o = Dense(2, activation='softmax')(xx)\n",
    "#o = Dense(1, activation='sigmoid')(xx)\n",
    "\n",
    "model = Model(inputs=[i0,i1], outputs=o)\n",
    "\n",
    "model.summary()\n",
    "\n",
    "model.compile(loss='binary_crossentropy', #'mae', #'mse', #'binary_crossentropy',\n",
    "              optimizer='adam',\n",
    "              metrics=['binary_accuracy','mse'])\n",
    "'''"
   ]
  },
  {
   "cell_type": "code",
   "execution_count": 23,
   "metadata": {
    "collapsed": false,
    "deletable": true,
    "editable": true
   },
   "outputs": [
    {
     "name": "stdout",
     "output_type": "stream",
     "text": [
      "____________________________________________________________________________________________________\n",
      "Layer (type)                     Output Shape          Param #     Connected to                     \n",
      "====================================================================================================\n",
      "input_1 (InputLayer)             (None, 350)           0                                            \n",
      "____________________________________________________________________________________________________\n",
      "input_2 (InputLayer)             (None, 60)            0                                            \n",
      "____________________________________________________________________________________________________\n",
      "embedding_1 (Embedding)          (None, 350, 350)      122500      input_1[0][0]                    \n",
      "____________________________________________________________________________________________________\n",
      "embedding_2 (Embedding)          (None, 60, 60)        3600        input_2[0][0]                    \n",
      "____________________________________________________________________________________________________\n",
      "lstm_1 (LSTM)                    [(None, 350), (None,  981400      embedding_1[0][0]                \n",
      "____________________________________________________________________________________________________\n",
      "lstm_2 (LSTM)                    [(None, 350), (None,  575400      embedding_2[0][0]                \n",
      "                                                                   lstm_1[0][1]                     \n",
      "                                                                   lstm_1[0][2]                     \n",
      "____________________________________________________________________________________________________\n",
      "dense_1 (Dense)                  (None, 1)             351         lstm_2[0][0]                     \n",
      "====================================================================================================\n",
      "Total params: 1,683,251\n",
      "Trainable params: 1,683,251\n",
      "Non-trainable params: 0\n",
      "____________________________________________________________________________________________________\n"
     ]
    }
   ],
   "source": [
    "max_features0 = train_ss0.shape[1]\n",
    "max_features1 = train_ss1.shape[1]\n",
    "max_lstm      = max(train_ss0.shape[1],train_ss1.shape[1])\n",
    "#model = Sequential()\n",
    "#model.add(Embedding(max_features, 256))\n",
    "#model.add(Input(shape=[max_feature], dtype='float32'))\n",
    "#model.add(LSTM(256, dropout=0.2, recurrent_dropout=0.2,return_sequences=True,input_shape=[None,6]))\n",
    "#model.add(Dense(50, activation='relu'))\n",
    "#model.add(Dense(5, activation='sigmoid'))\n",
    "\n",
    "K.clear_session()\n",
    "\n",
    "i0 = Input(shape=[max_features0]) #, dtype='float32')\n",
    "x0 = Embedding(max_features0,max_features0)(i0)\n",
    "x0,state_h,state_c = LSTM(max_lstm,dropout=0.2,recurrent_dropout=0.2,return_state=True)(x0)\n",
    "\n",
    "i1 = Input(shape=[max_features1]) #, dtype='float32')\n",
    "x1 = Embedding(max_features1,max_features1)(i1)\n",
    "xx,_,_ = LSTM(max_lstm,dropout=0.2,recurrent_dropout=0.2,return_state=True)(x1,initial_state=[state_h,state_c])\n",
    "\n",
    "#xx = keras.layers.concatenate([x0, x1])\n",
    "\n",
    "#xx = Dense(128, activation='relu')(xx)\n",
    "#xx = Dropout(0.25)(xx)\n",
    "#xx = Dense(64, activation='relu')(xx)\n",
    "#xx = Dropout(0.25)(xx)\n",
    "#xx = Dense(32, activation='relu')(xx)\n",
    "#xx = Dropout(0.25)(xx)\n",
    "#xx = Dense(16, activation='relu')(xx)\n",
    "#xx = Dropout(0.25)(xx)\n",
    "#xx = Dense(32, activation='relu')(xx)\n",
    "#xx = Dropout(0.5)(xx)\n",
    "##xx = Dense(256, activation='relu')(xx)\n",
    "###xx = Dropout(0.25)(xx)\n",
    "#o = Dense(2, activation='softmax')(xx)\n",
    "o = Dense(1, activation='sigmoid')(xx)\n",
    "\n",
    "model = Model(inputs=[i0,i1], outputs=o)\n",
    "\n",
    "model.summary()\n",
    "\n",
    "sgd = keras.optimizers.SGD(lr=0.01, decay=1e-6, momentum=0.9, nesterov=True) #, clipnorm=0.2)\n",
    "model.compile(loss='binary_crossentropy', #'mae', #'mse', #'binary_crossentropy',\n",
    "              optimizer='adam', #sgd, #'RMSprop', #sgd, #'adam',\n",
    "              metrics=['binary_accuracy','accuracy','mse'])"
   ]
  },
  {
   "cell_type": "code",
   "execution_count": 24,
   "metadata": {
    "collapsed": true,
    "deletable": true,
    "editable": true
   },
   "outputs": [],
   "source": [
    "if 0 :\n",
    "    sgd = keras.optimizers.SGD(lr=0.001, decay=1e-6, momentum=0.9, nesterov=True) #, clipnorm=0.2)\n",
    "    model.compile(loss='binary_crossentropy', #'mae', #'mse', #'binary_crossentropy',\n",
    "                  optimizer=sgd, #'RMSprop', #sgd, #'adam',\n",
    "                  metrics=['binary_accuracy','accuracy','mse'])"
   ]
  },
  {
   "cell_type": "code",
   "execution_count": null,
   "metadata": {
    "collapsed": false,
    "deletable": true,
    "editable": true
   },
   "outputs": [],
   "source": []
  },
  {
   "cell_type": "code",
   "execution_count": 25,
   "metadata": {
    "collapsed": false,
    "deletable": true,
    "editable": true
   },
   "outputs": [
    {
     "name": "stdout",
     "output_type": "stream",
     "text": [
      "2017-10-09 02:23:17.195701\n",
      "Epoch 1/150\n",
      "Epoch 00000: acc improved from -inf to 0.79758, saving model to ../Temp/LSTM2-best.hdf5\n",
      "474s - loss: 0.4321 - binary_accuracy: 0.7976 - acc: 0.7976 - mean_squared_error: 0.1408\n",
      "Epoch 2/150\n",
      "Epoch 00001: acc improved from 0.79758 to 0.84632, saving model to ../Temp/LSTM2-best.hdf5\n",
      "468s - loss: 0.3092 - binary_accuracy: 0.8463 - acc: 0.8463 - mean_squared_error: 0.1018\n",
      "Epoch 3/150\n",
      "Epoch 00002: acc did not improve\n",
      "467s - loss: 0.3266 - binary_accuracy: 0.8400 - acc: 0.8400 - mean_squared_error: 0.1069\n",
      "Epoch 4/150\n",
      "Epoch 00003: acc improved from 0.84632 to 0.86313, saving model to ../Temp/LSTM2-best.hdf5\n",
      "467s - loss: 0.2784 - binary_accuracy: 0.8631 - acc: 0.8631 - mean_squared_error: 0.0913\n",
      "Epoch 5/150\n",
      "Epoch 00004: acc improved from 0.86313 to 0.87714, saving model to ../Temp/LSTM2-best.hdf5\n",
      "467s - loss: 0.2572 - binary_accuracy: 0.8771 - acc: 0.8771 - mean_squared_error: 0.0834\n",
      "Epoch 6/150\n",
      "Epoch 00005: acc improved from 0.87714 to 0.88382, saving model to ../Temp/LSTM2-best.hdf5\n",
      "467s - loss: 0.2469 - binary_accuracy: 0.8838 - acc: 0.8838 - mean_squared_error: 0.0796\n",
      "Epoch 7/150\n",
      "Epoch 00006: acc improved from 0.88382 to 0.88433, saving model to ../Temp/LSTM2-best.hdf5\n",
      "467s - loss: 0.2474 - binary_accuracy: 0.8843 - acc: 0.8843 - mean_squared_error: 0.0795\n",
      "Epoch 8/150\n",
      "Epoch 00007: acc improved from 0.88433 to 0.88977, saving model to ../Temp/LSTM2-best.hdf5\n",
      "467s - loss: 0.2365 - binary_accuracy: 0.8898 - acc: 0.8898 - mean_squared_error: 0.0757\n",
      "Epoch 9/150\n",
      "Epoch 00008: acc improved from 0.88977 to 0.89475, saving model to ../Temp/LSTM2-best.hdf5\n",
      "467s - loss: 0.2303 - binary_accuracy: 0.8947 - acc: 0.8947 - mean_squared_error: 0.0733\n",
      "Epoch 10/150\n",
      "Epoch 00009: acc improved from 0.89475 to 0.90030, saving model to ../Temp/LSTM2-best.hdf5\n",
      "467s - loss: 0.2217 - binary_accuracy: 0.9003 - acc: 0.9003 - mean_squared_error: 0.0702\n",
      "Epoch 11/150\n",
      "Epoch 00010: acc improved from 0.90030 to 0.90581, saving model to ../Temp/LSTM2-best.hdf5\n",
      "467s - loss: 0.2130 - binary_accuracy: 0.9058 - acc: 0.9058 - mean_squared_error: 0.0669\n",
      "Epoch 12/150\n",
      "Epoch 00011: acc improved from 0.90581 to 0.90938, saving model to ../Temp/LSTM2-best.hdf5\n",
      "466s - loss: 0.2069 - binary_accuracy: 0.9094 - acc: 0.9094 - mean_squared_error: 0.0646\n",
      "Epoch 13/150\n",
      "Epoch 00012: acc improved from 0.90938 to 0.91220, saving model to ../Temp/LSTM2-best.hdf5\n",
      "467s - loss: 0.2018 - binary_accuracy: 0.9122 - acc: 0.9122 - mean_squared_error: 0.0628\n",
      "Epoch 14/150\n",
      "Epoch 00013: acc improved from 0.91220 to 0.91502, saving model to ../Temp/LSTM2-best.hdf5\n",
      "467s - loss: 0.1962 - binary_accuracy: 0.9150 - acc: 0.9150 - mean_squared_error: 0.0608\n",
      "Epoch 15/150\n",
      "Epoch 00014: acc improved from 0.91502 to 0.91740, saving model to ../Temp/LSTM2-best.hdf5\n",
      "467s - loss: 0.1913 - binary_accuracy: 0.9174 - acc: 0.9174 - mean_squared_error: 0.0592\n",
      "Epoch 16/150\n",
      "Epoch 00015: acc improved from 0.91740 to 0.92094, saving model to ../Temp/LSTM2-best.hdf5\n",
      "467s - loss: 0.1857 - binary_accuracy: 0.9209 - acc: 0.9209 - mean_squared_error: 0.0572\n",
      "Epoch 17/150\n",
      "Epoch 00016: acc improved from 0.92094 to 0.92159, saving model to ../Temp/LSTM2-best.hdf5\n",
      "466s - loss: 0.1824 - binary_accuracy: 0.9216 - acc: 0.9216 - mean_squared_error: 0.0561\n",
      "Epoch 18/150\n",
      "Epoch 00017: acc did not improve\n",
      "466s - loss: 0.2030 - binary_accuracy: 0.9102 - acc: 0.9102 - mean_squared_error: 0.0633\n",
      "Epoch 19/150\n",
      "Epoch 00018: acc did not improve\n",
      "466s - loss: 0.2125 - binary_accuracy: 0.9049 - acc: 0.9049 - mean_squared_error: 0.0666\n",
      "Epoch 20/150\n",
      "Epoch 00019: acc did not improve\n",
      "466s - loss: 0.2119 - binary_accuracy: 0.9072 - acc: 0.9072 - mean_squared_error: 0.0659\n",
      "Epoch 21/150\n",
      "\n",
      "Epoch 00020: reducing learning rate to 0.00010000000475.\n",
      "Epoch 00020: acc did not improve\n",
      "466s - loss: 0.2268 - binary_accuracy: 0.8974 - acc: 0.8974 - mean_squared_error: 0.0714\n",
      "Epoch 22/150\n",
      "Epoch 00021: acc did not improve\n",
      "466s - loss: 0.2106 - binary_accuracy: 0.9049 - acc: 0.9049 - mean_squared_error: 0.0664\n",
      "Epoch 23/150\n",
      "Epoch 00022: acc did not improve\n",
      "466s - loss: 0.2163 - binary_accuracy: 0.9015 - acc: 0.9015 - mean_squared_error: 0.0684\n",
      "Epoch 24/150\n",
      "\n",
      "Epoch 00023: reducing learning rate to 1.0000000475e-05.\n",
      "Epoch 00023: acc did not improve\n",
      "466s - loss: 0.2483 - binary_accuracy: 0.8864 - acc: 0.8864 - mean_squared_error: 0.0787\n",
      "Epoch 25/150\n",
      "Epoch 00024: acc did not improve\n",
      "466s - loss: 0.2710 - binary_accuracy: 0.8793 - acc: 0.8793 - mean_squared_error: 0.0848\n",
      "Epoch 26/150\n",
      "Epoch 00025: acc did not improve\n",
      "466s - loss: 0.3317 - binary_accuracy: 0.8490 - acc: 0.8490 - mean_squared_error: 0.1050\n",
      "Epoch 00025: early stopping\n",
      "2017-10-09 05:45:51.280178\n"
     ]
    }
   ],
   "source": [
    "batch_size   = 256  #128 #256 #512 #1024 #+512 #+1024 #+512\n",
    "print (datetime.datetime.now())\n",
    "\n",
    "reduce_lr1     = ReduceLROnPlateau(monitor='loss', factor=0.1,patience=3, min_lr=0.0000001,verbose=1)\n",
    "early_stopping = EarlyStopping(monitor='loss', patience=8,min_delta=0.0001,verbose=1)\n",
    "\n",
    "#filepath=\"../Temp/LSTM2--val_\"+metric+\"={val_\"+metric+\":.4f}-{\"+metric+\":.4f}---\"+str(i)+\".hdf5\"\n",
    "filepath=\"../Temp/LSTM2-best.hdf5\"\n",
    "checkpoint1 = ModelCheckpoint(filepath, monitor='acc', verbose=1, save_best_only=True, mode='max')\n",
    "\n",
    "hist = model.fit([train_ss0,train_ss1], train_y,\n",
    "                  batch_size=batch_size,\n",
    "                  #shuffle=True,\n",
    "                  epochs=150,\n",
    "                  initial_epoch=0,\n",
    "                  callbacks=[reduce_lr1, early_stopping, checkpoint1],\n",
    "                  #validation_data=([x_train[-200:],z_train[-200:],a_train[-200:]], y_train[-200:]),\n",
    "                  verbose=2)\n",
    "print (datetime.datetime.now())"
   ]
  },
  {
   "cell_type": "code",
   "execution_count": 281,
   "metadata": {
    "collapsed": false,
    "deletable": true,
    "editable": true
   },
   "outputs": [],
   "source": [
    "#hist.__dict__"
   ]
  },
  {
   "cell_type": "code",
   "execution_count": 26,
   "metadata": {
    "collapsed": false,
    "deletable": true,
    "editable": true
   },
   "outputs": [],
   "source": [
    "model.load_weights('../Temp/LSTM2-best.hdf5')"
   ]
  },
  {
   "cell_type": "code",
   "execution_count": 27,
   "metadata": {
    "collapsed": false,
    "deletable": true,
    "editable": true
   },
   "outputs": [],
   "source": [
    "train_xp = model.predict([train_ss0[:num_rows],train_ss1[:num_rows]],batch_size=batch_size)"
   ]
  },
  {
   "cell_type": "code",
   "execution_count": 28,
   "metadata": {
    "collapsed": false,
    "deletable": true,
    "editable": true
   },
   "outputs": [
    {
     "data": {
      "text/plain": [
       "(0.93241930350592139, 0.98079748944573342)"
      ]
     },
     "execution_count": 28,
     "metadata": {},
     "output_type": "execute_result"
    }
   ],
   "source": [
    "skm.accuracy_score(train_y[:num_rows],train_xp>0.5), skm.roc_auc_score(train_y[:num_rows],train_xp)"
   ]
  },
  {
   "cell_type": "code",
   "execution_count": 29,
   "metadata": {
    "collapsed": false,
    "deletable": true,
    "editable": true
   },
   "outputs": [
    {
     "data": {
      "image/png": "[encoded data removed]",
      "text/plain": [
       "<matplotlib.figure.Figure at 0x7f499ef48390>"
      ]
     },
     "metadata": {},
     "output_type": "display_data"
    }
   ],
   "source": [
    "hh=plt.hist(train_xp.flatten(),bins=50); plt.show()"
   ]
  },
  {
   "cell_type": "code",
   "execution_count": null,
   "metadata": {
    "collapsed": false,
    "deletable": true,
    "editable": true
   },
   "outputs": [],
   "source": []
  },
  {
   "cell_type": "code",
   "execution_count": 31,
   "metadata": {
    "collapsed": false,
    "deletable": true,
    "editable": true
   },
   "outputs": [],
   "source": [
    "test_xp = model.predict([test_ss0[:num_rows],test_ss1[:num_rows,:60]],batch_size=batch_size)"
   ]
  },
  {
   "cell_type": "code",
   "execution_count": 32,
   "metadata": {
    "collapsed": false,
    "deletable": true,
    "editable": true
   },
   "outputs": [
    {
     "data": {
      "image/png": "[encoded data removed]",
      "text/plain": [
       "<matplotlib.figure.Figure at 0x7f4964890e90>"
      ]
     },
     "metadata": {},
     "output_type": "display_data"
    }
   ],
   "source": [
    "hh=plt.hist(test_xp.flatten(),bins=50); plt.show()"
   ]
  },
  {
   "cell_type": "code",
   "execution_count": null,
   "metadata": {
    "collapsed": true,
    "deletable": true,
    "editable": true
   },
   "outputs": [],
   "source": []
  },
  {
   "cell_type": "code",
   "execution_count": 36,
   "metadata": {
    "collapsed": false,
    "deletable": true,
    "editable": true
   },
   "outputs": [],
   "source": [
    "dfresult = dftest[['paragraph_id', 'question_id']].copy()\n",
    "dfresult['prediction'] = test_xp\n",
    "dfresult[['paragraph_id', 'question_id', 'prediction']].to_csv(\"../Result/prediction-2017-10-09-15-25-lstm.csv\", index=False)"
   ]
  },
  {
   "cell_type": "code",
   "execution_count": null,
   "metadata": {
    "collapsed": true
   },
   "outputs": [],
   "source": []
  },
  {
   "cell_type": "code",
   "execution_count": null,
   "metadata": {
    "collapsed": true
   },
   "outputs": [],
   "source": []
  },
  {
   "cell_type": "code",
   "execution_count": 51,
   "metadata": {
    "collapsed": false
   },
   "outputs": [
    {
     "name": "stdout",
     "output_type": "stream",
     "text": [
      "Передний мозг сильно развит, это самая большая часть головного мозга\n",
      " Кора переднего мозга у птиц выражена лучше, чем у пресмыкающихся, но её слой довольно тонок\n",
      " Хорошо развиты полосатые тела — главная часть переднего мозга, в которых расположены центры регуляции зрения, движения и т\n",
      " д\n",
      " Обонятельные доли малы и тесно примыкают к большим полушариям, поэтому способность птиц к восприятию запахов ограничена\n",
      " У птиц, питающихся падалью, обонятельные доли развиты гораздо лучше\n",
      " Полушария передней части мозга гладкие, без извилин и по сравнению с млекопитающими относительно невелики\n",
      " В их функцию входит управление поведением, ориентация в пространстве, употребление пищи, спаривание и способность строить гнёзда\n",
      " По современным взглядам, значительную часть больших полушарий у птиц занимает сложно дифференцированный паллиум (лат\n",
      " pallium)\n",
      " Ранее большая его часть принималась за производные стриатума\n",
      " У птиц паллиум содержит участки, гомологичные слоям неокортекса млекопитающих, но располагаются они не слоями, а образуют т\n",
      " н\n",
      " ядра\n",
      "\n"
     ]
    }
   ],
   "source": [
    "xx = dftest.paragraph[0]\n",
    "xxx = xx.split('.')\n",
    "len(xxx)\n",
    "for xxxx in xxx :\n",
    "    print (xxxx)"
   ]
  },
  {
   "cell_type": "code",
   "execution_count": null,
   "metadata": {
    "collapsed": true
   },
   "outputs": [],
   "source": []
  },
  {
   "cell_type": "code",
   "execution_count": 184,
   "metadata": {
    "collapsed": false,
    "deletable": true,
    "editable": true
   },
   "outputs": [],
   "source": [
    "import nltk, re\n",
    "xx = dftrain.paragraphLS[:num_rows].tolist()\n",
    "#print(type(xx),unicode(xx[0],'utf-8'))\n",
    "\n",
    "##ff=nltk.probability.FreqDist(xx[0].decode('utf-8'))\n",
    "##ff=nltk.probability.FreqDist(unicode(xx[0],'utf-8'),unicode_)\n",
    "\n",
    "ff=nltk.probability.FreqDist()\n",
    "\n",
    "for ss in xx :\n",
    "    for ww in re.findall(\"\\w+\", ss.decode('utf-8'),re.UNICODE) :\n",
    "        ff[ww] +=1\n",
    "\n",
    "\n",
    "#for ww,cc in ff.most_common(50) : print(ww,cc)"
   ]
  },
  {
   "cell_type": "code",
   "execution_count": 181,
   "metadata": {
    "collapsed": false,
    "deletable": true,
    "editable": true
   },
   "outputs": [
    {
     "name": "stdout",
     "output_type": "stream",
     "text": [
      "год 134808\n",
      "который 84027\n",
      "свой 59027\n",
      "это 55298\n",
      "время 46071\n",
      "мочь 40857\n",
      "также 33663\n",
      "весь 33155\n",
      "являться 28849\n",
      "её 27409\n",
      "система 25191\n",
      "человек 25005\n",
      "например 23112\n",
      "опера 22024\n",
      "вид 21269\n",
      "стать 19141\n",
      "форма 19004\n",
      "иметь 18984\n",
      "век 18482\n",
      "образ 18071\n",
      "ещё 17594\n",
      "друг 17112\n",
      "новый 17066\n",
      "французский 16918\n",
      "некоторый 16481\n",
      "течение 16471\n",
      "часть 16230\n",
      "большой 16189\n",
      "отношение 15804\n",
      "мир 14612\n",
      "язык 14559\n",
      "отец 14396\n",
      "команда 14138\n",
      "страна 13909\n",
      "право 13904\n",
      "использоваться 13754\n",
      "иван 13682\n",
      "сын 13438\n",
      "фильм 13414\n",
      "высокий 13341\n",
      "4 13260\n",
      "1 13211\n",
      "несколько 13026\n",
      "ряд 12871\n",
      "разум 12618\n",
      "двигатель 12602\n",
      "называть 12460\n",
      "самый 12431\n",
      "писатель 12080\n",
      "происходить 11915\n"
     ]
    }
   ],
   "source": [
    "for ww,cc in ff.most_common(50) :\n",
    "    print ww,cc"
   ]
  },
  {
   "cell_type": "code",
   "execution_count": null,
   "metadata": {
    "collapsed": true,
    "deletable": true,
    "editable": true
   },
   "outputs": [],
   "source": []
  }
 ],
 "metadata": {
  "kernelspec": {
   "display_name": "Python 2",
   "language": "python",
   "name": "python2"
  },
  "language_info": {
   "codemirror_mode": {
    "name": "ipython",
    "version": 2
   },
   "file_extension": ".py",
   "mimetype": "text/x-python",
   "name": "python",
   "nbconvert_exporter": "python",
   "pygments_lexer": "ipython2",
   "version": "2.7.13"
  }
 },
 "nbformat": 4,
 "nbformat_minor": 2
}
