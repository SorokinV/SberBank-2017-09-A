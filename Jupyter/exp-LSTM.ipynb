{
 "cells": [
  {
   "cell_type": "code",
   "execution_count": 1,
   "metadata": {
    "collapsed": true,
    "deletable": true,
    "editable": true
   },
   "outputs": [],
   "source": [
    "# 2017-10-05 LSTM"
   ]
  },
  {
   "cell_type": "code",
   "execution_count": 2,
   "metadata": {
    "collapsed": true,
    "deletable": true,
    "editable": true
   },
   "outputs": [],
   "source": [
    "from __future__ import division\n",
    "import sys, os, datetime\n",
    "import pandas as pd\n",
    "from collections import Counter\n",
    "import functools\n",
    "#import tqdm\n",
    "import re\n",
    "import numpy as np\n",
    "import matplotlib.pyplot as plt\n",
    "from sklearn.ensemble import GradientBoostingClassifier\n",
    "import sklearn.metrics as skm\n",
    "import sklearn.model_selection as skms\n",
    "import pymorphy2"
   ]
  },
  {
   "cell_type": "code",
   "execution_count": 3,
   "metadata": {
    "collapsed": false,
    "deletable": true,
    "editable": true
   },
   "outputs": [
    {
     "name": "stderr",
     "output_type": "stream",
     "text": [
      "Using TensorFlow backend.\n"
     ]
    }
   ],
   "source": [
    "import keras\n",
    "from keras.models import Sequential, Model\n",
    "from keras.layers import Dense, Input, Dropout, Flatten\n",
    "from keras.layers import LSTM\n",
    "from keras.layers.convolutional import Conv1D\n",
    "from keras.layers.convolutional import MaxPooling1D\n",
    "import keras.preprocessing.text\n",
    "from keras.layers.embeddings import Embedding\n",
    "from keras.callbacks import EarlyStopping,ReduceLROnPlateau,ModelCheckpoint\n",
    "import keras.backend as K"
   ]
  },
  {
   "cell_type": "code",
   "execution_count": null,
   "metadata": {
    "collapsed": true,
    "deletable": true,
    "editable": true
   },
   "outputs": [],
   "source": []
  },
  {
   "cell_type": "code",
   "execution_count": 4,
   "metadata": {
    "collapsed": true,
    "deletable": true,
    "editable": true
   },
   "outputs": [],
   "source": [
    "#dftrain, dftest = pd.read_csv(\"../Data/train_task1_latest.csv\"), pd.read_csv(\"../Data/test_task1_latest.csv\")\n",
    "dftrain, dftest = pd.read_csv(\"../Work/train_task1_lemma.csv\"), pd.read_csv(\"../Work/test_task1_lemma.csv\")"
   ]
  },
  {
   "cell_type": "code",
   "execution_count": null,
   "metadata": {
    "collapsed": true,
    "deletable": true,
    "editable": true
   },
   "outputs": [],
   "source": []
  },
  {
   "cell_type": "code",
   "execution_count": null,
   "metadata": {
    "collapsed": true,
    "deletable": true,
    "editable": true
   },
   "outputs": [],
   "source": []
  },
  {
   "cell_type": "code",
   "execution_count": 5,
   "metadata": {
    "collapsed": false,
    "deletable": true,
    "editable": true
   },
   "outputs": [
    {
     "data": {
      "text/plain": [
       "((119398, 13),\n",
       " (74294, 12),\n",
       " Index([u'paragraph_id', u'question_id', u'paragraph', u'question', u'target',\n",
       "        u'paragraphL', u'questionL', u'paragraphLS', u'questionLS',\n",
       "        u'paragraphLX', u'questionLX', u'paragraphLSX', u'questionLSX'],\n",
       "       dtype='object'))"
      ]
     },
     "execution_count": 5,
     "metadata": {},
     "output_type": "execute_result"
    }
   ],
   "source": [
    "dftrain.shape, dftest.shape, dftrain.columns"
   ]
  },
  {
   "cell_type": "code",
   "execution_count": 40,
   "metadata": {
    "collapsed": false,
    "deletable": true,
    "editable": true
   },
   "outputs": [],
   "source": [
    "def text_to_word_sequence(text,\n",
    "                          filters='!\"#$%&()*+,-./:;<=>?@[\\\\]^_`{|}~\\t\\n',\n",
    "                          lower=True, split=\" \"):\n",
    "    \"\"\"Converts a text to a sequence of words (or tokens).\n",
    "    # Arguments\n",
    "        text: Input text (string).\n",
    "        filters: Sequence of characters to filter out.\n",
    "        lower: Whether to convert the input to lowercase.\n",
    "        split: Sentence split marker (string).\n",
    "    # Returns\n",
    "        A list of words (or tokens).\n",
    "    \"\"\"\n",
    "    if lower:\n",
    "        text = text.lower()\n",
    "\n",
    "    if sys.version_info < (3,) and isinstance(text, unicode):\n",
    "        translate_map = dict((ord(c), unicode(split)) for c in filters)\n",
    "    else:\n",
    "        translate_map = maketrans(filters, split * len(filters))\n",
    "\n",
    "    text = text.translate(translate_map)\n",
    "    seq = text.split(split)\n",
    "    return [i for i in seq if i]"
   ]
  },
  {
   "cell_type": "code",
   "execution_count": 97,
   "metadata": {
    "collapsed": false
   },
   "outputs": [
    {
     "data": {
      "text/plain": [
       "([276, 281, 230, 232, 243, 272, 242, 239, 236, 234, 283, 84, 84, 84],\n",
       " [276, 281, 230, 232, 243, 272, 242, 239, 236, 234, 283, 84, 84, 84],\n",
       " 100,\n",
       " 100,\n",
       " [1,\n",
       "  0,\n",
       "  1,\n",
       "  0,\n",
       "  0,\n",
       "  0,\n",
       "  1,\n",
       "  0,\n",
       "  1,\n",
       "  1,\n",
       "  1,\n",
       "  1,\n",
       "  1,\n",
       "  1,\n",
       "  0,\n",
       "  0,\n",
       "  1,\n",
       "  1,\n",
       "  1,\n",
       "  1,\n",
       "  1,\n",
       "  1,\n",
       "  0,\n",
       "  1,\n",
       "  0,\n",
       "  1,\n",
       "  0,\n",
       "  1,\n",
       "  1,\n",
       "  0,\n",
       "  0,\n",
       "  1,\n",
       "  1,\n",
       "  0,\n",
       "  0,\n",
       "  0,\n",
       "  1,\n",
       "  1,\n",
       "  1,\n",
       "  0,\n",
       "  1,\n",
       "  0,\n",
       "  0,\n",
       "  1,\n",
       "  0,\n",
       "  0,\n",
       "  1,\n",
       "  0,\n",
       "  1,\n",
       "  1,\n",
       "  1,\n",
       "  1,\n",
       "  1,\n",
       "  0,\n",
       "  1,\n",
       "  0,\n",
       "  0,\n",
       "  0,\n",
       "  1,\n",
       "  1,\n",
       "  1,\n",
       "  1,\n",
       "  0,\n",
       "  0,\n",
       "  0,\n",
       "  1,\n",
       "  0,\n",
       "  0,\n",
       "  0,\n",
       "  0,\n",
       "  0,\n",
       "  1,\n",
       "  0,\n",
       "  0,\n",
       "  1,\n",
       "  1,\n",
       "  0,\n",
       "  0,\n",
       "  1,\n",
       "  0,\n",
       "  0,\n",
       "  0,\n",
       "  1,\n",
       "  1,\n",
       "  0,\n",
       "  1,\n",
       "  1,\n",
       "  1,\n",
       "  1,\n",
       "  0,\n",
       "  0,\n",
       "  1,\n",
       "  0,\n",
       "  0,\n",
       "  0,\n",
       "  1,\n",
       "  0,\n",
       "  0,\n",
       "  0,\n",
       "  0])"
      ]
     },
     "execution_count": 97,
     "metadata": {},
     "output_type": "execute_result"
    }
   ],
   "source": [
    "#keras.preprocessing.text.text_to_word_sequence(unicode(u'фф аа оо пп ff dd'))\n",
    "#print text_to_word_sequence(unicode(u'фф аа оо пп ff dd'))\n",
    "unicode('фф аа оо пп ff dd'.decode('utf-8')).encode('utf-8')\n",
    "\n",
    "text   = text_to_word_sequence(u'ф ы в а п р о л д ж э b b b')\n",
    "tokens = keras.preprocessing.text.Tokenizer(num_words=13)\n",
    "#xx = tokens.fit_on_texts(text)\n",
    "\n",
    "#xx = tokens.sequences_to_matrix(text); \n",
    "\n",
    "#xx, xx.shape, text, tokens.__dict__\n",
    "\n",
    "text   = u'ф ы в а п р о л д ж э b b b'\n",
    "text   = 'ф ы в а п р о л д ж э b b b'\n",
    "text1  = 'ф ы в а п р о л д ж э b b b'\n",
    "\n",
    "stext  = keras.preprocessing.text.one_hot(text,500)\n",
    "stext1 = keras.preprocessing.text.one_hot(text1,500)\n",
    "sskip  = keras.preprocessing.sequence.skipgrams(stext,500,window_size=2)\n",
    "\n",
    "\n",
    "stext,stext1,len(sskip[0]),len(sskip[1]),sskip[1]\n"
   ]
  },
  {
   "cell_type": "code",
   "execution_count": null,
   "metadata": {
    "collapsed": true
   },
   "outputs": [],
   "source": []
  },
  {
   "cell_type": "code",
   "execution_count": 60,
   "metadata": {
    "collapsed": false,
    "deletable": true,
    "editable": true
   },
   "outputs": [
    {
     "name": "stdout",
     "output_type": "stream",
     "text": [
      "признак киевский монах нестор летописец использовать разделение народность\n",
      "применять изначально определение близкородственный группа , который называть также племя , библейский литература роды , который делиться колено т. п. дальнейший , особенно , появление государственный образование , слово стать приобретать размытый значение . например , многочисленный племя варвар римляна объединять галл , франк , германец , даковы т. п. это , римляна прекрасно знать внутренний деление десятка крупный мелкий роды , засвидетельствовать многочисленный римский хроник . например , современный город париж основать паризий . зачастую , объединять признак становиться близкий язык . например , грек , затем римляна именовать весь иной народ ономатоп барбароса — имитация непонятный речь . аналогично , восточный славянин киевский монах нестор-летописец использовать объединять различать признак языци . существовать совершенно странный наименование народ , который имя давать пришелец .\n",
      "['\\xd0\\xbf\\xd1\\x80\\xd0\\xb8\\xd0\\xbc\\xd0\\xb5\\xd0\\xbd\\xd1\\x8f\\xd1\\x82\\xd1\\x8c', '\\xd0\\xb8\\xd0\\xb7\\xd0\\xbd\\xd0\\xb0\\xd1\\x87\\xd0\\xb0\\xd0\\xbb\\xd1\\x8c\\xd0\\xbd\\xd0\\xbe', '\\xd0\\xbe\\xd0\\xbf\\xd1\\x80\\xd0\\xb5\\xd0\\xb4\\xd0\\xb5\\xd0\\xbb\\xd0\\xb5\\xd0\\xbd\\xd0\\xb8\\xd0\\xb5', '\\xd0\\xb1\\xd0\\xbb\\xd0\\xb8\\xd0\\xb7\\xd0\\xba\\xd0\\xbe\\xd1\\x80\\xd0\\xbe\\xd0\\xb4\\xd1\\x81\\xd1\\x82\\xd0\\xb2\\xd0\\xb5\\xd0\\xbd\\xd0\\xbd\\xd1\\x8b\\xd0\\xb9', '\\xd0\\xb3\\xd1\\x80\\xd1\\x83\\xd0\\xbf\\xd0\\xbf\\xd0\\xb0', '\\xd0\\xba\\xd0\\xbe\\xd1\\x82\\xd0\\xbe\\xd1\\x80\\xd1\\x8b\\xd0\\xb9', '\\xd0\\xbd\\xd0\\xb0\\xd0\\xb7\\xd1\\x8b\\xd0\\xb2\\xd0\\xb0\\xd1\\x82\\xd1\\x8c', '\\xd1\\x82\\xd0\\xb0\\xd0\\xba\\xd0\\xb6\\xd0\\xb5', '\\xd0\\xbf\\xd0\\xbb\\xd0\\xb5\\xd0\\xbc\\xd1\\x8f', '\\xd0\\xb1\\xd0\\xb8\\xd0\\xb1\\xd0\\xbb\\xd0\\xb5\\xd0\\xb9\\xd1\\x81\\xd0\\xba\\xd0\\xb8\\xd0\\xb9', '\\xd0\\xbb\\xd0\\xb8\\xd1\\x82\\xd0\\xb5\\xd1\\x80\\xd0\\xb0\\xd1\\x82\\xd1\\x83\\xd1\\x80\\xd0\\xb0', '\\xd1\\x80\\xd0\\xbe\\xd0\\xb4\\xd1\\x8b', '\\xd0\\xba\\xd0\\xbe\\xd1\\x82\\xd0\\xbe\\xd1\\x80\\xd1\\x8b\\xd0\\xb9', '\\xd0\\xb4\\xd0\\xb5\\xd0\\xbb\\xd0\\xb8\\xd1\\x82\\xd1\\x8c\\xd1\\x81\\xd1\\x8f', '\\xd0\\xba\\xd0\\xbe\\xd0\\xbb\\xd0\\xb5\\xd0\\xbd\\xd0\\xbe', '\\xd1\\x82', '\\xd0\\xbf', '\\xd0\\xb4\\xd0\\xb0\\xd0\\xbb\\xd1\\x8c\\xd0\\xbd\\xd0\\xb5\\xd0\\xb9\\xd1\\x88\\xd0\\xb8\\xd0\\xb9', '\\xd0\\xbe\\xd1\\x81\\xd0\\xbe\\xd0\\xb1\\xd0\\xb5\\xd0\\xbd\\xd0\\xbd\\xd0\\xbe', '\\xd0\\xbf\\xd0\\xbe\\xd1\\x8f\\xd0\\xb2\\xd0\\xbb\\xd0\\xb5\\xd0\\xbd\\xd0\\xb8\\xd0\\xb5', '\\xd0\\xb3\\xd0\\xbe\\xd1\\x81\\xd1\\x83\\xd0\\xb4\\xd0\\xb0\\xd1\\x80\\xd1\\x81\\xd1\\x82\\xd0\\xb2\\xd0\\xb5\\xd0\\xbd\\xd0\\xbd\\xd1\\x8b\\xd0\\xb9', '\\xd0\\xbe\\xd0\\xb1\\xd1\\x80\\xd0\\xb0\\xd0\\xb7\\xd0\\xbe\\xd0\\xb2\\xd0\\xb0\\xd0\\xbd\\xd0\\xb8\\xd0\\xb5', '\\xd1\\x81\\xd0\\xbb\\xd0\\xbe\\xd0\\xb2\\xd0\\xbe', '\\xd1\\x81\\xd1\\x82\\xd0\\xb0\\xd1\\x82\\xd1\\x8c', '\\xd0\\xbf\\xd1\\x80\\xd0\\xb8\\xd0\\xbe\\xd0\\xb1\\xd1\\x80\\xd0\\xb5\\xd1\\x82\\xd0\\xb0\\xd1\\x82\\xd1\\x8c', '\\xd1\\x80\\xd0\\xb0\\xd0\\xb7\\xd0\\xbc\\xd1\\x8b\\xd1\\x82\\xd1\\x8b\\xd0\\xb9', '\\xd0\\xb7\\xd0\\xbd\\xd0\\xb0\\xd1\\x87\\xd0\\xb5\\xd0\\xbd\\xd0\\xb8\\xd0\\xb5', '\\xd0\\xbd\\xd0\\xb0\\xd0\\xbf\\xd1\\x80\\xd0\\xb8\\xd0\\xbc\\xd0\\xb5\\xd1\\x80', '\\xd0\\xbc\\xd0\\xbd\\xd0\\xbe\\xd0\\xb3\\xd0\\xbe\\xd1\\x87\\xd0\\xb8\\xd1\\x81\\xd0\\xbb\\xd0\\xb5\\xd0\\xbd\\xd0\\xbd\\xd1\\x8b\\xd0\\xb9', '\\xd0\\xbf\\xd0\\xbb\\xd0\\xb5\\xd0\\xbc\\xd1\\x8f', '\\xd0\\xb2\\xd0\\xb0\\xd1\\x80\\xd0\\xb2\\xd0\\xb0\\xd1\\x80', '\\xd1\\x80\\xd0\\xb8\\xd0\\xbc\\xd0\\xbb\\xd1\\x8f\\xd0\\xbd\\xd0\\xb0', '\\xd0\\xbe\\xd0\\xb1\\xd1\\x8a\\xd0\\xb5\\xd0\\xb4\\xd0\\xb8\\xd0\\xbd\\xd1\\x8f\\xd1\\x82\\xd1\\x8c', '\\xd0\\xb3\\xd0\\xb0\\xd0\\xbb\\xd0\\xbb', '\\xd1\\x84\\xd1\\x80\\xd0\\xb0\\xd0\\xbd\\xd0\\xba', '\\xd0\\xb3\\xd0\\xb5\\xd1\\x80\\xd0\\xbc\\xd0\\xb0\\xd0\\xbd\\xd0\\xb5\\xd1\\x86', '\\xd0\\xb4\\xd0\\xb0\\xd0\\xba\\xd0\\xbe\\xd0\\xb2\\xd1\\x8b', '\\xd1\\x82', '\\xd0\\xbf', '\\xd1\\x8d\\xd1\\x82\\xd0\\xbe', '\\xd1\\x80\\xd0\\xb8\\xd0\\xbc\\xd0\\xbb\\xd1\\x8f\\xd0\\xbd\\xd0\\xb0', '\\xd0\\xbf\\xd1\\x80\\xd0\\xb5\\xd0\\xba\\xd1\\x80\\xd0\\xb0\\xd1\\x81\\xd0\\xbd\\xd0\\xbe', '\\xd0\\xb7\\xd0\\xbd\\xd0\\xb0\\xd1\\x82\\xd1\\x8c', '\\xd0\\xb2\\xd0\\xbd\\xd1\\x83\\xd1\\x82\\xd1\\x80\\xd0\\xb5\\xd0\\xbd\\xd0\\xbd\\xd0\\xb8\\xd0\\xb9', '\\xd0\\xb4\\xd0\\xb5\\xd0\\xbb\\xd0\\xb5\\xd0\\xbd\\xd0\\xb8\\xd0\\xb5', '\\xd0\\xb4\\xd0\\xb5\\xd1\\x81\\xd1\\x8f\\xd1\\x82\\xd0\\xba\\xd0\\xb0', '\\xd0\\xba\\xd1\\x80\\xd1\\x83\\xd0\\xbf\\xd0\\xbd\\xd1\\x8b\\xd0\\xb9', '\\xd0\\xbc\\xd0\\xb5\\xd0\\xbb\\xd0\\xba\\xd0\\xb8\\xd0\\xb9', '\\xd1\\x80\\xd0\\xbe\\xd0\\xb4\\xd1\\x8b', '\\xd0\\xb7\\xd0\\xb0\\xd1\\x81\\xd0\\xb2\\xd0\\xb8\\xd0\\xb4\\xd0\\xb5\\xd1\\x82\\xd0\\xb5\\xd0\\xbb\\xd1\\x8c\\xd1\\x81\\xd1\\x82\\xd0\\xb2\\xd0\\xbe\\xd0\\xb2\\xd0\\xb0\\xd1\\x82\\xd1\\x8c', '\\xd0\\xbc\\xd0\\xbd\\xd0\\xbe\\xd0\\xb3\\xd0\\xbe\\xd1\\x87\\xd0\\xb8\\xd1\\x81\\xd0\\xbb\\xd0\\xb5\\xd0\\xbd\\xd0\\xbd\\xd1\\x8b\\xd0\\xb9', '\\xd1\\x80\\xd0\\xb8\\xd0\\xbc\\xd1\\x81\\xd0\\xba\\xd0\\xb8\\xd0\\xb9', '\\xd1\\x85\\xd1\\x80\\xd0\\xbe\\xd0\\xbd\\xd0\\xb8\\xd0\\xba', '\\xd0\\xbd\\xd0\\xb0\\xd0\\xbf\\xd1\\x80\\xd0\\xb8\\xd0\\xbc\\xd0\\xb5\\xd1\\x80', '\\xd1\\x81\\xd0\\xbe\\xd0\\xb2\\xd1\\x80\\xd0\\xb5\\xd0\\xbc\\xd0\\xb5\\xd0\\xbd\\xd0\\xbd\\xd1\\x8b\\xd0\\xb9', '\\xd0\\xb3\\xd0\\xbe\\xd1\\x80\\xd0\\xbe\\xd0\\xb4', '\\xd0\\xbf\\xd0\\xb0\\xd1\\x80\\xd0\\xb8\\xd0\\xb6', '\\xd0\\xbe\\xd1\\x81\\xd0\\xbd\\xd0\\xbe\\xd0\\xb2\\xd0\\xb0\\xd1\\x82\\xd1\\x8c', '\\xd0\\xbf\\xd0\\xb0\\xd1\\x80\\xd0\\xb8\\xd0\\xb7\\xd0\\xb8\\xd0\\xb9', '\\xd0\\xb7\\xd0\\xb0\\xd1\\x87\\xd0\\xb0\\xd1\\x81\\xd1\\x82\\xd1\\x83\\xd1\\x8e', '\\xd0\\xbe\\xd0\\xb1\\xd1\\x8a\\xd0\\xb5\\xd0\\xb4\\xd0\\xb8\\xd0\\xbd\\xd1\\x8f\\xd1\\x82\\xd1\\x8c', '\\xd0\\xbf\\xd1\\x80\\xd0\\xb8\\xd0\\xb7\\xd0\\xbd\\xd0\\xb0\\xd0\\xba', '\\xd1\\x81\\xd1\\x82\\xd0\\xb0\\xd0\\xbd\\xd0\\xbe\\xd0\\xb2\\xd0\\xb8\\xd1\\x82\\xd1\\x8c\\xd1\\x81\\xd1\\x8f', '\\xd0\\xb1\\xd0\\xbb\\xd0\\xb8\\xd0\\xb7\\xd0\\xba\\xd0\\xb8\\xd0\\xb9', '\\xd1\\x8f\\xd0\\xb7\\xd1\\x8b\\xd0\\xba', '\\xd0\\xbd\\xd0\\xb0\\xd0\\xbf\\xd1\\x80\\xd0\\xb8\\xd0\\xbc\\xd0\\xb5\\xd1\\x80', '\\xd0\\xb3\\xd1\\x80\\xd0\\xb5\\xd0\\xba', '\\xd0\\xb7\\xd0\\xb0\\xd1\\x82\\xd0\\xb5\\xd0\\xbc', '\\xd1\\x80\\xd0\\xb8\\xd0\\xbc\\xd0\\xbb\\xd1\\x8f\\xd0\\xbd\\xd0\\xb0', '\\xd0\\xb8\\xd0\\xbc\\xd0\\xb5\\xd0\\xbd\\xd0\\xbe\\xd0\\xb2\\xd0\\xb0\\xd1\\x82\\xd1\\x8c', '\\xd0\\xb2\\xd0\\xb5\\xd1\\x81\\xd1\\x8c', '\\xd0\\xb8\\xd0\\xbd\\xd0\\xbe\\xd0\\xb9', '\\xd0\\xbd\\xd0\\xb0\\xd1\\x80\\xd0\\xbe\\xd0\\xb4', '\\xd0\\xbe\\xd0\\xbd\\xd0\\xbe\\xd0\\xbc\\xd0\\xb0\\xd1\\x82\\xd0\\xbe\\xd0\\xbf', '\\xd0\\xb1\\xd0\\xb0\\xd1\\x80\\xd0\\xb1\\xd0\\xb0\\xd1\\x80\\xd0\\xbe\\xd1\\x81\\xd0\\xb0', '\\xe2\\x80\\x94', '\\xd0\\xb8\\xd0\\xbc\\xd0\\xb8\\xd1\\x82\\xd0\\xb0\\xd1\\x86\\xd0\\xb8\\xd1\\x8f', '\\xd0\\xbd\\xd0\\xb5\\xd0\\xbf\\xd0\\xbe\\xd0\\xbd\\xd1\\x8f\\xd1\\x82\\xd0\\xbd\\xd1\\x8b\\xd0\\xb9', '\\xd1\\x80\\xd0\\xb5\\xd1\\x87\\xd1\\x8c', '\\xd0\\xb0\\xd0\\xbd\\xd0\\xb0\\xd0\\xbb\\xd0\\xbe\\xd0\\xb3\\xd0\\xb8\\xd1\\x87\\xd0\\xbd\\xd0\\xbe', '\\xd0\\xb2\\xd0\\xbe\\xd1\\x81\\xd1\\x82\\xd0\\xbe\\xd1\\x87\\xd0\\xbd\\xd1\\x8b\\xd0\\xb9', '\\xd1\\x81\\xd0\\xbb\\xd0\\xb0\\xd0\\xb2\\xd1\\x8f\\xd0\\xbd\\xd0\\xb8\\xd0\\xbd', '\\xd0\\xba\\xd0\\xb8\\xd0\\xb5\\xd0\\xb2\\xd1\\x81\\xd0\\xba\\xd0\\xb8\\xd0\\xb9', '\\xd0\\xbc\\xd0\\xbe\\xd0\\xbd\\xd0\\xb0\\xd1\\x85', '\\xd0\\xbd\\xd0\\xb5\\xd1\\x81\\xd1\\x82\\xd0\\xbe\\xd1\\x80', '\\xd0\\xbb\\xd0\\xb5\\xd1\\x82\\xd0\\xbe\\xd0\\xbf\\xd0\\xb8\\xd1\\x81\\xd0\\xb5\\xd1\\x86', '\\xd0\\xb8\\xd1\\x81\\xd0\\xbf\\xd0\\xbe\\xd0\\xbb\\xd1\\x8c\\xd0\\xb7\\xd0\\xbe\\xd0\\xb2\\xd0\\xb0\\xd1\\x82\\xd1\\x8c', '\\xd0\\xbe\\xd0\\xb1\\xd1\\x8a\\xd0\\xb5\\xd0\\xb4\\xd0\\xb8\\xd0\\xbd\\xd1\\x8f\\xd1\\x82\\xd1\\x8c', '\\xd1\\x80\\xd0\\xb0\\xd0\\xb7\\xd0\\xbb\\xd0\\xb8\\xd1\\x87\\xd0\\xb0\\xd1\\x82\\xd1\\x8c', '\\xd0\\xbf\\xd1\\x80\\xd0\\xb8\\xd0\\xb7\\xd0\\xbd\\xd0\\xb0\\xd0\\xba', '\\xd1\\x8f\\xd0\\xb7\\xd1\\x8b\\xd1\\x86\\xd0\\xb8', '\\xd1\\x81\\xd1\\x83\\xd1\\x89\\xd0\\xb5\\xd1\\x81\\xd1\\x82\\xd0\\xb2\\xd0\\xbe\\xd0\\xb2\\xd0\\xb0\\xd1\\x82\\xd1\\x8c', '\\xd1\\x81\\xd0\\xbe\\xd0\\xb2\\xd0\\xb5\\xd1\\x80\\xd1\\x88\\xd0\\xb5\\xd0\\xbd\\xd0\\xbd\\xd0\\xbe', '\\xd1\\x81\\xd1\\x82\\xd1\\x80\\xd0\\xb0\\xd0\\xbd\\xd0\\xbd\\xd1\\x8b\\xd0\\xb9', '\\xd0\\xbd\\xd0\\xb0\\xd0\\xb8\\xd0\\xbc\\xd0\\xb5\\xd0\\xbd\\xd0\\xbe\\xd0\\xb2\\xd0\\xb0\\xd0\\xbd\\xd0\\xb8\\xd0\\xb5', '\\xd0\\xbd\\xd0\\xb0\\xd1\\x80\\xd0\\xbe\\xd0\\xb4', '\\xd0\\xba\\xd0\\xbe\\xd1\\x82\\xd0\\xbe\\xd1\\x80\\xd1\\x8b\\xd0\\xb9', '\\xd0\\xb8\\xd0\\xbc\\xd1\\x8f', '\\xd0\\xb4\\xd0\\xb0\\xd0\\xb2\\xd0\\xb0\\xd1\\x82\\xd1\\x8c', '\\xd0\\xbf\\xd1\\x80\\xd0\\xb8\\xd1\\x88\\xd0\\xb5\\xd0\\xbb\\xd0\\xb5\\xd1\\x86']\n",
      "(10, 1000) (10, 1000) \n",
      "\n",
      "[[ 0.  0.  0.  0.  0.  0.]\n",
      " [ 0.  0.  0.  0.  0.  0.]\n",
      " [ 0.  0.  0.  0.  0.  0.]\n",
      " [ 0.  0.  0.  0.  0.  0.]] \n",
      "\n",
      "[[ 0.  0.  0.  0.  0.  0.]\n",
      " [ 0.  0.  0.  0.  0.  0.]\n",
      " [ 0.  0.  0.  0.  0.  0.]\n",
      " [ 0.  0.  0.  0.  0.  0.]]\n",
      "\n",
      "x0-sum=0.0 x1-sum=0.0 all0=0.8000\n"
     ]
    },
    {
     "data": {
      "text/plain": [
       "(561,\n",
       " '\\n',\n",
       " array([ 0.,  0.,  0.,  0.,  0.,  0.,  0.,  0.,  0.,  0.]),\n",
       " array([ 0.,  0.,  0.,  0.,  0.,  0.,  0.,  0.,  0.,  0.]),\n",
       " array([ 0.,  0.,  0.,  0.,  0.,  0.,  0.,  0.,  0.,  0.]),\n",
       " array([ 0.,  0.,  0.,  0.,  0.,  0.,  0.,  1.,  1.,  0.]))"
      ]
     },
     "execution_count": 60,
     "metadata": {},
     "output_type": "execute_result"
    }
   ],
   "source": [
    "num_rows  = 10 #len(dftrain) #10000 #00\n",
    "train_x0  = dftrain.paragraphLS[:num_rows].tolist()\n",
    "train_x1  = dftrain.questionLS[:num_rows].tolist()\n",
    "xxx = []\n",
    "for xx in train_x1 :\n",
    "    xxx.append(' '.join([ss.encode('utf-8') for ss in re.findall(\"\\w+\", xx.decode('utf-8'),re.UNICODE) if len(ss)>=3]))\n",
    "#print(train_x1[:2])\n",
    "#print(xxx[:2])\n",
    "#print([xx for xx in xxx if xx in None])\n",
    "train_x1 = xxx\n",
    "train_y   = dftrain.target[:num_rows]\n",
    "train_voc = train_x1+train_x0\n",
    "tokens = keras.preprocessing.text.Tokenizer(num_words=1000)\n",
    "xx = tokens.fit_on_texts(train_voc)\n",
    "'''\n",
    "train_x0 = tokens.texts_to_matrix(train_x0, mode='binary')  #, mode='tfidf')\n",
    "train_x1 = tokens.texts_to_matrix(train_x1, mode='binary')  #, mode='tfidf')\n",
    "'''\n",
    "print train_x1[7]\n",
    "print train_x0[7]\n",
    "xxx = []\n",
    "for xx in train_x0 :\n",
    "    #print(keras.preprocessing.text.text_to_word_sequence(xx))\n",
    "    #xxx.append(keras.preprocessing.text.text_to_word_sequence(unicode(xx)))\n",
    "    xxx.append([ww.encode('utf-8') for ww in text_to_word_sequence(unicode(xx.decode('utf-8')))])\n",
    "    #xxx.append([ss.encode('utf-8') for ss in re.findall(\"\\w+\", xx.decode('utf-8'),re.UNICODE) if len(ss)>=3])\n",
    "train_x0 = xxx\n",
    "print train_x0[7]\n",
    "\n",
    "train_x0 = tokens.sequences_to_matrix(train_x0, mode='binary')  #, mode='tfidf')\n",
    "train_x1 = tokens.sequences_to_matrix(train_x1, mode='binary')  #, mode='tfidf')\n",
    "\n",
    "print train_x0.shape, train_x1.shape, '\\n\\n', train_x0[:4,:6], '\\n\\n', train_x1[:4,:6]\n",
    "print  '\\nx0-sum={} x1-sum={} all0={:.4f}'.format(train_x0.sum(),train_x1.sum(), 1.0-float(train_y.sum())/len(train_y))\n",
    "\n",
    "train_yy = np.array([train_y.values,train_y.values]).T\n",
    "train_yy[:,0] = 1.0-train_yy[:,1]\n",
    "\n",
    "train_yy.shape, train_yy[:100,0]\n",
    "\n",
    "\n",
    "#tokens.__dict__\n",
    "len(tokens.word_counts), '\\n', train_x0.sum(axis=1), train_x1.sum(axis=1), (train_x0*train_x1).sum(axis=1), train_y.values\n",
    "#for tt,xx in zip(tokens.word_counts.keys()[:55],tokens.word_counts.values()[:55]) : print xx,tt"
   ]
  },
  {
   "cell_type": "code",
   "execution_count": 429,
   "metadata": {
    "collapsed": false,
    "deletable": true,
    "editable": true
   },
   "outputs": [
    {
     "data": {
      "image/png": "[encoded data removed]",
      "text/plain": [
       "<matplotlib.figure.Figure at 0x7f39249f9b10>"
      ]
     },
     "metadata": {},
     "output_type": "display_data"
    },
    {
     "data": {
      "image/png": "[encoded data removed]",
      "text/plain": [
       "<matplotlib.figure.Figure at 0x7f3924c7d7d0>"
      ]
     },
     "metadata": {},
     "output_type": "display_data"
    }
   ],
   "source": [
    "#train_x1.sum()\n",
    "plt.hist(train_x1.flatten()); plt.show()\n",
    "plt.hist(train_y.values.flatten()); plt.show()"
   ]
  },
  {
   "cell_type": "code",
   "execution_count": 433,
   "metadata": {
    "collapsed": false,
    "deletable": true,
    "editable": true
   },
   "outputs": [
    {
     "name": "stdout",
     "output_type": "stream",
     "text": [
      "____________________________________________________________________________________________________\n",
      "Layer (type)                     Output Shape          Param #     Connected to                     \n",
      "====================================================================================================\n",
      "input_1 (InputLayer)             (None, 1000)          0                                            \n",
      "____________________________________________________________________________________________________\n",
      "input_2 (InputLayer)             (None, 1000)          0                                            \n",
      "____________________________________________________________________________________________________\n",
      "embedding_1 (Embedding)          (None, 1000, 16)      16000       input_1[0][0]                    \n",
      "____________________________________________________________________________________________________\n",
      "embedding_2 (Embedding)          (None, 1000, 8)       8000        input_2[0][0]                    \n",
      "____________________________________________________________________________________________________\n",
      "lstm_1 (LSTM)                    (None, 128)           74240       embedding_1[0][0]                \n",
      "____________________________________________________________________________________________________\n",
      "lstm_2 (LSTM)                    (None, 128)           70144       embedding_2[0][0]                \n",
      "____________________________________________________________________________________________________\n",
      "add_1 (Add)                      (None, 128)           0           lstm_1[0][0]                     \n",
      "                                                                   lstm_2[0][0]                     \n",
      "____________________________________________________________________________________________________\n",
      "dense_1 (Dense)                  (None, 16)            2064        add_1[0][0]                      \n",
      "____________________________________________________________________________________________________\n",
      "dense_2 (Dense)                  (None, 64)            1088        dense_1[0][0]                    \n",
      "____________________________________________________________________________________________________\n",
      "dropout_1 (Dropout)              (None, 64)            0           dense_2[0][0]                    \n",
      "____________________________________________________________________________________________________\n",
      "dense_3 (Dense)                  (None, 2)             130         dropout_1[0][0]                  \n",
      "====================================================================================================\n",
      "Total params: 171,666\n",
      "Trainable params: 171,666\n",
      "Non-trainable params: 0\n",
      "____________________________________________________________________________________________________\n"
     ]
    }
   ],
   "source": [
    "import keras.layers.merge\n",
    "max_features = train_x0.shape[1]\n",
    "#model = Sequential()\n",
    "#model.add(Embedding(max_features, 256))\n",
    "#model.add(Input(shape=[max_feature], dtype='float32'))\n",
    "#model.add(LSTM(256, dropout=0.2, recurrent_dropout=0.2,return_sequences=True,input_shape=[None,6]))\n",
    "#model.add(Dense(50, activation='relu'))\n",
    "#model.add(Dense(5, activation='sigmoid'))\n",
    "\n",
    "K.clear_session()\n",
    "\n",
    "i0 = Input(shape=[max_features]) #, dtype='float32')\n",
    "x0 = Embedding(max_features, 16)(i0)\n",
    "x0 = LSTM(128,dropout=0.2)(x0)\n",
    "\n",
    "i1 = Input(shape=[max_features]) #, dtype='float32')\n",
    "x1 = Embedding(max_features, 8)(i1)\n",
    "x1 = LSTM(128,dropout=0.2)(x1)\n",
    "\n",
    "#xx = keras.layers.concatenate([x0, x1])\n",
    "xx = keras.layers.Add()([x0, x1])\n",
    "\n",
    "xx = Dense(16, activation='relu')(xx)\n",
    "#xx = Dropout(0.25)(xx)\n",
    "xx = Dense(64, activation='relu')(xx)\n",
    "#xx = Dropout(0.25)(xx)\n",
    "#xx = Dense(128, activation='relu')(xx)\n",
    "#xx = Dropout(0.25)(xx)\n",
    "##xx = Dense(256, activation='relu')(xx)\n",
    "xx = Dropout(0.25)(xx)\n",
    "o = Dense(2, activation='softmax')(xx)\n",
    "#o = Dense(1, activation='sigmoid')(xx)\n",
    "\n",
    "model = Model(inputs=[i0,i1], outputs=o)\n",
    "\n",
    "model.summary()\n",
    "\n",
    "model.compile(loss='binary_crossentropy', #'mae', #'mse', #'binary_crossentropy',\n",
    "              optimizer='adam',\n",
    "              metrics=['binary_accuracy','mse'])\n"
   ]
  },
  {
   "cell_type": "code",
   "execution_count": 383,
   "metadata": {
    "collapsed": false,
    "deletable": true,
    "editable": true
   },
   "outputs": [
    {
     "name": "stdout",
     "output_type": "stream",
     "text": [
      "____________________________________________________________________________________________________\n",
      "Layer (type)                     Output Shape          Param #     Connected to                     \n",
      "====================================================================================================\n",
      "input_1 (InputLayer)             (None, 1000)          0                                            \n",
      "____________________________________________________________________________________________________\n",
      "input_2 (InputLayer)             (None, 1000)          0                                            \n",
      "____________________________________________________________________________________________________\n",
      "embedding_1 (Embedding)          (None, 1000, 16)      16000       input_1[0][0]                    \n",
      "____________________________________________________________________________________________________\n",
      "embedding_2 (Embedding)          (None, 1000, 16)      16000       input_2[0][0]                    \n",
      "____________________________________________________________________________________________________\n",
      "lstm_1 (LSTM)                    [(None, 16), (None, 1 2112        embedding_1[0][0]                \n",
      "____________________________________________________________________________________________________\n",
      "lstm_2 (LSTM)                    [(None, 16), (None, 1 2112        embedding_2[0][0]                \n",
      "                                                                   lstm_1[0][1]                     \n",
      "                                                                   lstm_1[0][2]                     \n",
      "____________________________________________________________________________________________________\n",
      "dense_1 (Dense)                  (None, 128)           2176        lstm_2[0][0]                     \n",
      "____________________________________________________________________________________________________\n",
      "dropout_1 (Dropout)              (None, 128)           0           dense_1[0][0]                    \n",
      "____________________________________________________________________________________________________\n",
      "dense_2 (Dense)                  (None, 2)             258         dropout_1[0][0]                  \n",
      "====================================================================================================\n",
      "Total params: 38,658\n",
      "Trainable params: 38,658\n",
      "Non-trainable params: 0\n",
      "____________________________________________________________________________________________________\n"
     ]
    }
   ],
   "source": [
    "max_features = train_x0.shape[1]\n",
    "#model = Sequential()\n",
    "#model.add(Embedding(max_features, 256))\n",
    "#model.add(Input(shape=[max_feature], dtype='float32'))\n",
    "#model.add(LSTM(256, dropout=0.2, recurrent_dropout=0.2,return_sequences=True,input_shape=[None,6]))\n",
    "#model.add(Dense(50, activation='relu'))\n",
    "#model.add(Dense(5, activation='sigmoid'))\n",
    "\n",
    "K.clear_session()\n",
    "\n",
    "i0 = Input(shape=[max_features]) #, dtype='float32')\n",
    "x0 = Embedding(max_features,16)(i0)\n",
    "x0,state_h,state_c = LSTM(16,dropout=0.2,return_state=True)(x0)\n",
    "\n",
    "i1 = Input(shape=[max_features]) #, dtype='float32')\n",
    "x1 = Embedding(max_features, 16)(i1)\n",
    "xx,_,_ = LSTM(16,dropout=0.2,return_state=True)(x1,initial_state=[state_h,state_c])\n",
    "\n",
    "#xx = keras.layers.concatenate([x0, x1])\n",
    "\n",
    "#xx = Dense(128, activation='relu')(xx)\n",
    "#xx = Dropout(0.25)(xx)\n",
    "#xx = Dense(64, activation='relu')(xx)\n",
    "#xx = Dropout(0.25)(xx)\n",
    "#xx = Dense(32, activation='relu')(xx)\n",
    "#xx = Dropout(0.25)(xx)\n",
    "#xx = Dense(16, activation='relu')(xx)\n",
    "#xx = Dropout(0.25)(xx)\n",
    "xx = Dense(128, activation='relu')(xx)\n",
    "xx = Dropout(0.25)(xx)\n",
    "##xx = Dense(256, activation='relu')(xx)\n",
    "###xx = Dropout(0.25)(xx)\n",
    "o = Dense(2, activation='softmax')(xx)\n",
    "#o = Dense(1, activation='sigmoid')(xx)\n",
    "\n",
    "model = Model(inputs=[i0,i1], outputs=o)\n",
    "\n",
    "model.summary()\n",
    "\n",
    "sgd = keras.optimizers.SGD(lr=0.01, decay=1e-6, momentum=0.9, nesterov=True, clipnorm=0.3)\n",
    "model.compile(loss='binary_crossentropy', #'mae', #'mse', #'binary_crossentropy',\n",
    "              optimizer='RMSprop', #sgd, #'adam',\n",
    "              metrics=['binary_accuracy','accuracy','mse'])"
   ]
  },
  {
   "cell_type": "code",
   "execution_count": null,
   "metadata": {
    "collapsed": true,
    "deletable": true,
    "editable": true
   },
   "outputs": [],
   "source": []
  },
  {
   "cell_type": "code",
   "execution_count": 435,
   "metadata": {
    "collapsed": false,
    "deletable": true,
    "editable": true
   },
   "outputs": [
    {
     "name": "stdout",
     "output_type": "stream",
     "text": [
      "2017-10-07 21:24:11.951716\n",
      "Epoch 1/10\n",
      "16s - loss: 0.5965 - binary_accuracy: 0.7340 - mean_squared_error: 0.2023\n",
      "Epoch 2/10\n",
      "16s - loss: 0.5825 - binary_accuracy: 0.7340 - mean_squared_error: 0.1967\n",
      "Epoch 3/10\n",
      "16s - loss: 0.5834 - binary_accuracy: 0.7340 - mean_squared_error: 0.1969\n",
      "Epoch 4/10\n",
      "16s - loss: 0.5805 - binary_accuracy: 0.7340 - mean_squared_error: 0.1958\n",
      "Epoch 5/10\n",
      "16s - loss: 0.5826 - binary_accuracy: 0.7340 - mean_squared_error: 0.1966\n",
      "Epoch 6/10\n",
      "16s - loss: 0.5850 - binary_accuracy: 0.7340 - mean_squared_error: 0.1976\n",
      "Epoch 7/10\n",
      "\n",
      "Epoch 00006: reducing learning rate to 0.000500000023749.\n",
      "16s - loss: 0.5808 - binary_accuracy: 0.7340 - mean_squared_error: 0.1958\n",
      "Epoch 8/10\n",
      "16s - loss: 0.5804 - binary_accuracy: 0.7340 - mean_squared_error: 0.1957\n",
      "Epoch 9/10\n",
      "16s - loss: 0.5839 - binary_accuracy: 0.7340 - mean_squared_error: 0.1971\n",
      "Epoch 10/10\n",
      "16s - loss: 0.5819 - binary_accuracy: 0.7340 - mean_squared_error: 0.1963\n",
      "2017-10-07 21:26:54.833149\n"
     ]
    }
   ],
   "source": [
    "batch_size   = 128  #128 #256 #512 #1024 #+512 #+1024 #+512\n",
    "print (datetime.datetime.now())\n",
    "\n",
    "reduce_lr1     = ReduceLROnPlateau(monitor='loss', factor=0.5,patience=2, min_lr=0.0000001,verbose=1)\n",
    "early_stopping = EarlyStopping(monitor='loss', patience=10,min_delta=0.0001,verbose=1)\n",
    "\n",
    "#filepath=\"../Temp/TempTempG5M5KFold2/V1-UNET-val_\"+metric+\"={val_\"+metric+\":.4f}-{\"+metric+\":.4f}---\"+str(i)+\".hdf5\"\n",
    "#checkpoint1 = ModelCheckpoint(filepath, monitor=metric,        verbose=1, save_best_only=True, mode='max')\n",
    "\n",
    "hist = model.fit([train_x0,train_x1], train_yy,\n",
    "                  batch_size=batch_size,\n",
    "                  #shuffle=True,\n",
    "                  epochs=10,\n",
    "                  initial_epoch=0,\n",
    "                  callbacks=[reduce_lr1],\n",
    "                  #validation_data=([x_train[-200:],z_train[-200:],a_train[-200:]], y_train[-200:]),\n",
    "                  verbose=2)\n",
    "print (datetime.datetime.now())"
   ]
  },
  {
   "cell_type": "code",
   "execution_count": 405,
   "metadata": {
    "collapsed": false,
    "deletable": true,
    "editable": true
   },
   "outputs": [],
   "source": [
    "#hist.__dict__"
   ]
  },
  {
   "cell_type": "code",
   "execution_count": 406,
   "metadata": {
    "collapsed": true,
    "deletable": true,
    "editable": true
   },
   "outputs": [],
   "source": [
    "train_xp = model.predict([train_x0[:num_rows],train_x1[:num_rows]],batch_size=batch_size)"
   ]
  },
  {
   "cell_type": "code",
   "execution_count": 407,
   "metadata": {
    "collapsed": false,
    "deletable": true,
    "editable": true
   },
   "outputs": [
    {
     "data": {
      "text/plain": [
       "(0.69999999999999996, 0.5)"
      ]
     },
     "execution_count": 407,
     "metadata": {},
     "output_type": "execute_result"
    }
   ],
   "source": [
    "skm.accuracy_score(train_yy[:num_rows],train_xp>0.5), skm.roc_auc_score(train_yy[:num_rows],train_xp)"
   ]
  },
  {
   "cell_type": "code",
   "execution_count": 408,
   "metadata": {
    "collapsed": false,
    "deletable": true,
    "editable": true
   },
   "outputs": [
    {
     "data": {
      "image/png": "[encoded data removed]",
      "text/plain": [
       "<matplotlib.figure.Figure at 0x7f37e06b7350>"
      ]
     },
     "metadata": {},
     "output_type": "display_data"
    }
   ],
   "source": [
    "train_xp[:,1].sum()\n",
    "hh=plt.hist(train_xp[:,1].flatten(),bins=50); plt.show()"
   ]
  },
  {
   "cell_type": "code",
   "execution_count": 409,
   "metadata": {
    "collapsed": false,
    "deletable": true,
    "editable": true
   },
   "outputs": [
    {
     "data": {
      "text/plain": [
       "(array([  0.,   0.,   0.,   0.,   0.,   0.,   0.,   0.,   0.,   0.,   0.,\n",
       "          0.,   0.,   0.,   0.,   0.,   0.,   0.,   0.,   0.,   0.,   0.,\n",
       "          0.,   0.,   0.,  30.,   0.,   0.,   0.,   0.,   0.,   0.,   0.,\n",
       "          0.,   0.,   0.,   0.,   0.,   0.,   0.,   0.,   0.,   0.,   0.,\n",
       "          0.,   0.,   0.,   0.,   0.,   0.]),\n",
       " array([ -1.98198259e-02,   1.80174112e-04,   2.01801741e-02,\n",
       "          4.01801741e-02,   6.01801741e-02,   8.01801741e-02,\n",
       "          1.00180174e-01,   1.20180174e-01,   1.40180174e-01,\n",
       "          1.60180174e-01,   1.80180174e-01,   2.00180174e-01,\n",
       "          2.20180174e-01,   2.40180174e-01,   2.60180174e-01,\n",
       "          2.80180174e-01,   3.00180174e-01,   3.20180174e-01,\n",
       "          3.40180174e-01,   3.60180174e-01,   3.80180174e-01,\n",
       "          4.00180174e-01,   4.20180174e-01,   4.40180174e-01,\n",
       "          4.60180174e-01,   4.80180174e-01,   5.00180174e-01,\n",
       "          5.20180174e-01,   5.40180174e-01,   5.60180174e-01,\n",
       "          5.80180174e-01,   6.00180174e-01,   6.20180174e-01,\n",
       "          6.40180174e-01,   6.60180174e-01,   6.80180174e-01,\n",
       "          7.00180174e-01,   7.20180174e-01,   7.40180174e-01,\n",
       "          7.60180174e-01,   7.80180174e-01,   8.00180174e-01,\n",
       "          8.20180174e-01,   8.40180174e-01,   8.60180174e-01,\n",
       "          8.80180174e-01,   9.00180174e-01,   9.20180174e-01,\n",
       "          9.40180174e-01,   9.60180174e-01,   9.80180174e-01]),\n",
       " <a list of 50 Patch objects>)"
      ]
     },
     "execution_count": 409,
     "metadata": {},
     "output_type": "execute_result"
    }
   ],
   "source": [
    "hh"
   ]
  },
  {
   "cell_type": "code",
   "execution_count": 410,
   "metadata": {
    "collapsed": false,
    "deletable": true,
    "editable": true
   },
   "outputs": [
    {
     "data": {
      "text/plain": [
       "(269,\n",
       " '\\n',\n",
       " array([  7.,   8.,   7.,   4.,  19.,   9.,  10.,  16.,  17.,  10.,  35.,\n",
       "         10.,  12.,  14.,   6.,  22.,   4.,  14.,   6.,  15.,   5.,  32.,\n",
       "         23.,  17.,  12.,  12.,  14.,  13.,  25.,  17.]),\n",
       " array([ 12.,  18.,  16.,   8.,   5.,  12.,   8.,   8.,  10.,   7.,  14.,\n",
       "         11.,   7.,  14.,  13.,   6.,   6.,   5.,  17.,   5.,   8.,  10.,\n",
       "         15.,   9.,   7.,   9.,   9.,   3.,   8.,  14.]),\n",
       " array([  0.,   0.,   2.,   0.,   3.,   1.,   2.,   7.,  11.,   0.,  31.,\n",
       "          0.,   8.,   3.,   0.,  12.,   1.,   4.,   0.,   1.,   2.,  13.,\n",
       "         23.,   7.,   3.,   1.,   0.,   4.,  11.,   0.]),\n",
       " array([ 0.,  0.,  0.,  0.,  0.,  0.,  0.,  1.,  1.,  0.,  1.,  0.,  1.,\n",
       "         0.,  0.,  1.,  0.,  0.,  0.,  0.,  0.,  0.,  1.,  1.,  0.,  0.,\n",
       "         0.,  1.,  1.,  0.]),\n",
       " array([ 0.48018017,  0.48018017,  0.48018017,  0.48018017,  0.48018017,\n",
       "         0.48018017,  0.48018017,  0.48018017,  0.48018017,  0.48018017,\n",
       "         0.48018017,  0.48018017,  0.48018017,  0.48018017,  0.48018017,\n",
       "         0.48018017,  0.48018017,  0.48018017,  0.48018017,  0.48018017,\n",
       "         0.48018017,  0.48018017,  0.48018017,  0.48018017,  0.48018017,\n",
       "         0.48018017,  0.48018017,  0.48018017,  0.48018017,  0.48018017], dtype=float32))"
      ]
     },
     "execution_count": 410,
     "metadata": {},
     "output_type": "execute_result"
    }
   ],
   "source": [
    "len(tokens.word_counts), '\\n', train_x0.sum(axis=1), train_x1.sum(axis=1), (train_x0*train_x1).sum(axis=1), train_y.values, train_xp[:,1]\n"
   ]
  },
  {
   "cell_type": "code",
   "execution_count": null,
   "metadata": {
    "collapsed": true,
    "deletable": true,
    "editable": true
   },
   "outputs": [],
   "source": []
  },
  {
   "cell_type": "code",
   "execution_count": null,
   "metadata": {
    "collapsed": true,
    "deletable": true,
    "editable": true
   },
   "outputs": [],
   "source": []
  },
  {
   "cell_type": "code",
   "execution_count": null,
   "metadata": {
    "collapsed": true,
    "deletable": true,
    "editable": true
   },
   "outputs": [],
   "source": []
  },
  {
   "cell_type": "code",
   "execution_count": 184,
   "metadata": {
    "collapsed": false,
    "deletable": true,
    "editable": true
   },
   "outputs": [],
   "source": [
    "import nltk, re\n",
    "xx = dftrain.paragraphLS[:num_rows].tolist()\n",
    "#print(type(xx),unicode(xx[0],'utf-8'))\n",
    "\n",
    "##ff=nltk.probability.FreqDist(xx[0].decode('utf-8'))\n",
    "##ff=nltk.probability.FreqDist(unicode(xx[0],'utf-8'),unicode_)\n",
    "\n",
    "ff=nltk.probability.FreqDist()\n",
    "\n",
    "for ss in xx :\n",
    "    for ww in re.findall(\"\\w+\", ss.decode('utf-8'),re.UNICODE) :\n",
    "        ff[ww] +=1\n",
    "\n",
    "\n",
    "#for ww,cc in ff.most_common(50) : print(ww,cc)"
   ]
  },
  {
   "cell_type": "code",
   "execution_count": 181,
   "metadata": {
    "collapsed": false,
    "deletable": true,
    "editable": true
   },
   "outputs": [
    {
     "name": "stdout",
     "output_type": "stream",
     "text": [
      "год 134808\n",
      "который 84027\n",
      "свой 59027\n",
      "это 55298\n",
      "время 46071\n",
      "мочь 40857\n",
      "также 33663\n",
      "весь 33155\n",
      "являться 28849\n",
      "её 27409\n",
      "система 25191\n",
      "человек 25005\n",
      "например 23112\n",
      "опера 22024\n",
      "вид 21269\n",
      "стать 19141\n",
      "форма 19004\n",
      "иметь 18984\n",
      "век 18482\n",
      "образ 18071\n",
      "ещё 17594\n",
      "друг 17112\n",
      "новый 17066\n",
      "французский 16918\n",
      "некоторый 16481\n",
      "течение 16471\n",
      "часть 16230\n",
      "большой 16189\n",
      "отношение 15804\n",
      "мир 14612\n",
      "язык 14559\n",
      "отец 14396\n",
      "команда 14138\n",
      "страна 13909\n",
      "право 13904\n",
      "использоваться 13754\n",
      "иван 13682\n",
      "сын 13438\n",
      "фильм 13414\n",
      "высокий 13341\n",
      "4 13260\n",
      "1 13211\n",
      "несколько 13026\n",
      "ряд 12871\n",
      "разум 12618\n",
      "двигатель 12602\n",
      "называть 12460\n",
      "самый 12431\n",
      "писатель 12080\n",
      "происходить 11915\n"
     ]
    }
   ],
   "source": [
    "for ww,cc in ff.most_common(50) :\n",
    "    print ww,cc"
   ]
  },
  {
   "cell_type": "code",
   "execution_count": null,
   "metadata": {
    "collapsed": true,
    "deletable": true,
    "editable": true
   },
   "outputs": [],
   "source": []
  }
 ],
 "metadata": {
  "kernelspec": {
   "display_name": "Python 2",
   "language": "python",
   "name": "python2"
  },
  "language_info": {
   "codemirror_mode": {
    "name": "ipython",
    "version": 2
   },
   "file_extension": ".py",
   "mimetype": "text/x-python",
   "name": "python",
   "nbconvert_exporter": "python",
   "pygments_lexer": "ipython2",
   "version": "2.7.13"
  }
 },
 "nbformat": 4,
 "nbformat_minor": 2
}
