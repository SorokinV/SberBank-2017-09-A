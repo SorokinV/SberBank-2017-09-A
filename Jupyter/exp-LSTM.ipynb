{
 "cells": [
  {
   "cell_type": "code",
   "execution_count": 1,
   "metadata": {
    "collapsed": true
   },
   "outputs": [],
   "source": [
    "# 2017-10-05 LSTM"
   ]
  },
  {
   "cell_type": "code",
   "execution_count": 74,
   "metadata": {
    "collapsed": true
   },
   "outputs": [],
   "source": [
    "from __future__ import division\n",
    "import sys, os, datetime\n",
    "import pandas as pd\n",
    "from collections import Counter\n",
    "import functools\n",
    "#import tqdm\n",
    "import re\n",
    "import numpy as np\n",
    "import matplotlib.pyplot as plt\n",
    "from sklearn.ensemble import GradientBoostingClassifier\n",
    "import sklearn.metrics as skm\n",
    "import sklearn.model_selection as skms\n",
    "import pymorphy2"
   ]
  },
  {
   "cell_type": "code",
   "execution_count": 143,
   "metadata": {
    "collapsed": false
   },
   "outputs": [],
   "source": [
    "import keras\n",
    "from keras.models import Sequential, Model\n",
    "from keras.layers import Dense, Input, Dropout, Flatten\n",
    "from keras.layers import LSTM\n",
    "from keras.layers.convolutional import Conv1D\n",
    "from keras.layers.convolutional import MaxPooling1D\n",
    "from keras.layers.embeddings import Embedding\n",
    "import keras.backend as K"
   ]
  },
  {
   "cell_type": "code",
   "execution_count": null,
   "metadata": {
    "collapsed": true
   },
   "outputs": [],
   "source": []
  },
  {
   "cell_type": "code",
   "execution_count": 4,
   "metadata": {
    "collapsed": true
   },
   "outputs": [],
   "source": [
    "#dftrain, dftest = pd.read_csv(\"../Data/train_task1_latest.csv\"), pd.read_csv(\"../Data/test_task1_latest.csv\")\n",
    "dftrain, dftest = pd.read_csv(\"../Work/train_task1_lemma.csv\"), pd.read_csv(\"../Work/test_task1_lemma.csv\")"
   ]
  },
  {
   "cell_type": "code",
   "execution_count": null,
   "metadata": {
    "collapsed": true
   },
   "outputs": [],
   "source": []
  },
  {
   "cell_type": "code",
   "execution_count": null,
   "metadata": {
    "collapsed": true
   },
   "outputs": [],
   "source": []
  },
  {
   "cell_type": "code",
   "execution_count": 5,
   "metadata": {
    "collapsed": false
   },
   "outputs": [
    {
     "data": {
      "text/plain": [
       "((119398, 7),\n",
       " (74294, 6),\n",
       " Index([u'paragraph_id', u'question_id', u'paragraph', u'question', u'target',\n",
       "        u'paragraphL', u'questionL'],\n",
       "       dtype='object'))"
      ]
     },
     "execution_count": 5,
     "metadata": {},
     "output_type": "execute_result"
    }
   ],
   "source": [
    "dftrain.shape, dftest.shape, dftrain.columns"
   ]
  },
  {
   "cell_type": "code",
   "execution_count": 242,
   "metadata": {
    "collapsed": false
   },
   "outputs": [],
   "source": [
    "num_rows  = len(dftrain) #10000 #00\n",
    "train_x0  = dftrain.paragraphL[:num_rows].tolist()\n",
    "train_x1  = dftrain.questionL[:num_rows].tolist()\n",
    "train_y   = dftrain.target[:num_rows]\n",
    "train_voc = train_x0+train_x1"
   ]
  },
  {
   "cell_type": "code",
   "execution_count": 243,
   "metadata": {
    "collapsed": false
   },
   "outputs": [
    {
     "data": {
      "text/plain": [
       "((119398, 1000), (119398, 1000))"
      ]
     },
     "execution_count": 243,
     "metadata": {},
     "output_type": "execute_result"
    }
   ],
   "source": [
    "import keras.preprocessing.text\n",
    "tokens = keras.preprocessing.text.Tokenizer(num_words=1000)\n",
    "xx = tokens.fit_on_texts(train_voc)\n",
    "train_x0 = tokens.texts_to_matrix(train_x0) #, mode='tfidf')\n",
    "train_x1 = tokens.texts_to_matrix(train_x1) #, mode='tfidf')\n",
    "train_x0.shape, train_x1.shape\n",
    "\n",
    "#tokens.__dict__"
   ]
  },
  {
   "cell_type": "code",
   "execution_count": 244,
   "metadata": {
    "collapsed": false
   },
   "outputs": [
    {
     "name": "stdout",
     "output_type": "stream",
     "text": [
      "____________________________________________________________________________________________________\n",
      "Layer (type)                     Output Shape          Param #     Connected to                     \n",
      "====================================================================================================\n",
      "input_1 (InputLayer)             (None, 1000)          0                                            \n",
      "____________________________________________________________________________________________________\n",
      "input_2 (InputLayer)             (None, 1000)          0                                            \n",
      "____________________________________________________________________________________________________\n",
      "embedding_1 (Embedding)          (None, 1000, 16)      16000       input_1[0][0]                    \n",
      "____________________________________________________________________________________________________\n",
      "embedding_2 (Embedding)          (None, 1000, 8)       8000        input_2[0][0]                    \n",
      "____________________________________________________________________________________________________\n",
      "lstm_1 (LSTM)                    (None, 16)            2112        embedding_1[0][0]                \n",
      "____________________________________________________________________________________________________\n",
      "lstm_2 (LSTM)                    (None, 8)             544         embedding_2[0][0]                \n",
      "____________________________________________________________________________________________________\n",
      "concatenate_1 (Concatenate)      (None, 24)            0           lstm_1[0][0]                     \n",
      "                                                                   lstm_2[0][0]                     \n",
      "____________________________________________________________________________________________________\n",
      "dense_1 (Dense)                  (None, 16)            400         concatenate_1[0][0]              \n",
      "____________________________________________________________________________________________________\n",
      "dense_2 (Dense)                  (None, 64)            1088        dense_1[0][0]                    \n",
      "____________________________________________________________________________________________________\n",
      "dropout_1 (Dropout)              (None, 64)            0           dense_2[0][0]                    \n",
      "____________________________________________________________________________________________________\n",
      "dense_3 (Dense)                  (None, 1)             65          dropout_1[0][0]                  \n",
      "====================================================================================================\n",
      "Total params: 28,209\n",
      "Trainable params: 28,209\n",
      "Non-trainable params: 0\n",
      "____________________________________________________________________________________________________\n"
     ]
    }
   ],
   "source": [
    "max_features = train_x0.shape[1]\n",
    "#model = Sequential()\n",
    "#model.add(Embedding(max_features, 256))\n",
    "#model.add(Input(shape=[max_feature], dtype='float32'))\n",
    "#model.add(LSTM(256, dropout=0.2, recurrent_dropout=0.2,return_sequences=True,input_shape=[None,6]))\n",
    "#model.add(Dense(50, activation='relu'))\n",
    "#model.add(Dense(5, activation='sigmoid'))\n",
    "\n",
    "K.clear_session()\n",
    "\n",
    "i0 = Input(shape=[max_features]) #, dtype='float32')\n",
    "x0 = Embedding(max_features, 16)(i0)\n",
    "x0 = LSTM(16)(x0)\n",
    "\n",
    "i1 = Input(shape=[max_features]) #, dtype='float32')\n",
    "x1 = Embedding(max_features, 8)(i1)\n",
    "x1 = LSTM(8)(x1)\n",
    "\n",
    "xx = keras.layers.concatenate([x0, x1])\n",
    "\n",
    "xx = Dense(16, activation='relu')(xx)\n",
    "#xx = Dropout(0.25)(xx)\n",
    "xx = Dense(64, activation='relu')(xx)\n",
    "#xx = Dropout(0.25)(xx)\n",
    "#xx = Dense(128, activation='relu')(xx)\n",
    "#xx = Dropout(0.25)(xx)\n",
    "##xx = Dense(256, activation='relu')(xx)\n",
    "xx = Dropout(0.25)(xx)\n",
    "#o = Dense(5, activation='sigmoid')(xx)\n",
    "o = Dense(1, activation='sigmoid')(xx)\n",
    "\n",
    "model = Model(inputs=[i0,i1], outputs=o)\n",
    "\n",
    "model.summary()\n",
    "\n",
    "model.compile(loss='binary_crossentropy', #'mae', #'mse', #'binary_crossentropy',\n",
    "              optimizer='adam',\n",
    "              metrics=['binary_accuracy','mse'])"
   ]
  },
  {
   "cell_type": "code",
   "execution_count": 247,
   "metadata": {
    "collapsed": true
   },
   "outputs": [],
   "source": [
    "from keras.callbacks import EarlyStopping,ReduceLROnPlateau,ModelCheckpoint"
   ]
  },
  {
   "cell_type": "code",
   "execution_count": 249,
   "metadata": {
    "collapsed": false
   },
   "outputs": [
    {
     "name": "stdout",
     "output_type": "stream",
     "text": [
      "2017-10-06 14:05:52.750747\n",
      "Epoch 38/57\n",
      "313s - loss: 0.5023 - binary_accuracy: 0.7149 - mean_squared_error: 0.1687\n",
      "Epoch 39/57\n",
      "312s - loss: 0.4977 - binary_accuracy: 0.7150 - mean_squared_error: 0.1674\n",
      "Epoch 40/57\n",
      "312s - loss: 0.4972 - binary_accuracy: 0.7152 - mean_squared_error: 0.1672\n",
      "Epoch 41/57\n",
      "311s - loss: 0.4943 - binary_accuracy: 0.7190 - mean_squared_error: 0.1662\n",
      "Epoch 42/57\n",
      "312s - loss: 0.4930 - binary_accuracy: 0.7236 - mean_squared_error: 0.1657\n",
      "Epoch 43/57\n",
      "311s - loss: 0.4906 - binary_accuracy: 0.7225 - mean_squared_error: 0.1648\n",
      "Epoch 44/57\n",
      "312s - loss: 0.4891 - binary_accuracy: 0.7250 - mean_squared_error: 0.1642\n",
      "Epoch 45/57\n",
      "312s - loss: 0.4874 - binary_accuracy: 0.7267 - mean_squared_error: 0.1636\n",
      "Epoch 46/57\n",
      "313s - loss: 0.4866 - binary_accuracy: 0.7296 - mean_squared_error: 0.1632\n",
      "Epoch 47/57\n",
      "312s - loss: 0.4850 - binary_accuracy: 0.7298 - mean_squared_error: 0.1628\n",
      "Epoch 48/57\n",
      "311s - loss: 0.4865 - binary_accuracy: 0.7313 - mean_squared_error: 0.1633\n",
      "Epoch 49/57\n",
      "311s - loss: 0.4856 - binary_accuracy: 0.7336 - mean_squared_error: 0.1629\n",
      "Epoch 50/57\n",
      "\n",
      "Epoch 00049: reducing learning rate to 6.25000029686e-05.\n",
      "312s - loss: 0.4853 - binary_accuracy: 0.7326 - mean_squared_error: 0.1630\n",
      "Epoch 51/57\n",
      "314s - loss: 0.4843 - binary_accuracy: 0.7318 - mean_squared_error: 0.1627\n",
      "Epoch 52/57\n",
      "315s - loss: 0.4848 - binary_accuracy: 0.7331 - mean_squared_error: 0.1628\n",
      "Epoch 53/57\n",
      "314s - loss: 0.4843 - binary_accuracy: 0.7330 - mean_squared_error: 0.1627\n",
      "Epoch 54/57\n",
      "314s - loss: 0.4838 - binary_accuracy: 0.7302 - mean_squared_error: 0.1627\n",
      "Epoch 55/57\n",
      "313s - loss: 0.4843 - binary_accuracy: 0.7308 - mean_squared_error: 0.1627\n",
      "Epoch 56/57\n",
      "315s - loss: 0.4836 - binary_accuracy: 0.7317 - mean_squared_error: 0.1626\n",
      "Epoch 57/57\n",
      "314s - loss: 0.4837 - binary_accuracy: 0.7298 - mean_squared_error: 0.1626\n",
      "2017-10-06 15:50:16.907786\n"
     ]
    }
   ],
   "source": [
    "batch_size   = 1024+1024 #+512\n",
    "print (datetime.datetime.now())\n",
    "\n",
    "reduce_lr1     = ReduceLROnPlateau(monitor='loss', factor=0.5,patience=2, min_lr=0.0000001,verbose=1)\n",
    "early_stopping = EarlyStopping(monitor='loss', patience=10,min_delta=0.0001,verbose=1)\n",
    "\n",
    "#filepath=\"../Temp/TempTempG5M5KFold2/V1-UNET-val_\"+metric+\"={val_\"+metric+\":.4f}-{\"+metric+\":.4f}---\"+str(i)+\".hdf5\"\n",
    "#checkpoint1 = ModelCheckpoint(filepath, monitor=metric,        verbose=1, save_best_only=True, mode='max')\n",
    "\n",
    "hist = model.fit([train_x0,train_x1], train_y,\n",
    "                  batch_size=batch_size,\n",
    "                  #shuffle=True,\n",
    "                  epochs=37+20,\n",
    "                  initial_epoch=37,\n",
    "                  callbacks=[reduce_lr1],\n",
    "                  #validation_data=([x_train[-200:],z_train[-200:],a_train[-200:]], y_train[-200:]),\n",
    "                  verbose=2)\n",
    "print (datetime.datetime.now())"
   ]
  },
  {
   "cell_type": "code",
   "execution_count": 250,
   "metadata": {
    "collapsed": false
   },
   "outputs": [],
   "source": [
    "#hist.__dict__"
   ]
  },
  {
   "cell_type": "code",
   "execution_count": 251,
   "metadata": {
    "collapsed": true
   },
   "outputs": [],
   "source": [
    "train_xp = model.predict([train_x0,train_x1],batch_size=batch_size)"
   ]
  },
  {
   "cell_type": "code",
   "execution_count": 256,
   "metadata": {
    "collapsed": false
   },
   "outputs": [
    {
     "data": {
      "text/plain": [
       "(0.73461867032948625, 0.78626132406633753)"
      ]
     },
     "execution_count": 256,
     "metadata": {},
     "output_type": "execute_result"
    }
   ],
   "source": [
    "skm.accuracy_score(train_y,train_xp>0.5), skm.roc_auc_score(train_y,train_xp)"
   ]
  },
  {
   "cell_type": "code",
   "execution_count": null,
   "metadata": {
    "collapsed": true
   },
   "outputs": [],
   "source": []
  },
  {
   "cell_type": "code",
   "execution_count": null,
   "metadata": {
    "collapsed": true
   },
   "outputs": [],
   "source": []
  }
 ],
 "metadata": {
  "kernelspec": {
   "display_name": "Python 2",
   "language": "python",
   "name": "python2"
  },
  "language_info": {
   "codemirror_mode": {
    "name": "ipython",
    "version": 2
   },
   "file_extension": ".py",
   "mimetype": "text/x-python",
   "name": "python",
   "nbconvert_exporter": "python",
   "pygments_lexer": "ipython2",
   "version": "2.7.13"
  }
 },
 "nbformat": 4,
 "nbformat_minor": 2
}
