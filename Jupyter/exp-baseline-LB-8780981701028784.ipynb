{
 "cells": [
  {
   "cell_type": "code",
   "execution_count": 5,
   "metadata": {
    "collapsed": true,
    "deletable": true,
    "editable": true
   },
   "outputs": [],
   "source": [
    "# 2017-10-03 baseline (only)                         --> LB=0.78\n",
    "# 2017-10-03 baseline with lemmarization (pymorphy2) --> LB=0.83991\n",
    "# 2017-10-03 baseline + lemmarization (pymorphy2)\n",
    "# 2017-10-04 baseline + lemmarization (pymorphy2) + base\n",
    "# 2017-10-05 baseline + lemmarization (pymorphy2) + base + XGB(natural) --> LB=0.8688\n",
    "# 2017-10-07 baseline + lemmarization (pymorphy2) + base - stopWords XGB(natural) -> 0.8755666207002808"
   ]
  },
  {
   "cell_type": "code",
   "execution_count": 6,
   "metadata": {
    "collapsed": false,
    "deletable": true,
    "editable": true
   },
   "outputs": [],
   "source": [
    "from __future__ import division\n",
    "import pandas as pd\n",
    "from collections import Counter\n",
    "import functools\n",
    "#import tqdm\n",
    "import re\n",
    "import numpy as np\n",
    "import matplotlib.pyplot as plt\n",
    "from sklearn.ensemble import GradientBoostingClassifier\n",
    "import sklearn.metrics as skm\n",
    "import sklearn.model_selection as skms\n",
    "import pymorphy2"
   ]
  },
  {
   "cell_type": "code",
   "execution_count": 7,
   "metadata": {
    "collapsed": false,
    "deletable": true,
    "editable": true
   },
   "outputs": [],
   "source": [
    "#dftrain, dftest = pd.read_csv(\"../Data/train_task1_latest.csv\"), pd.read_csv(\"../Data/test_task1_latest.csv\")\n",
    "dftrain, dftest = pd.read_csv(\"../Work/train_task1_lemma.csv\"), pd.read_csv(\"../Work/test_task1_lemma.csv\")"
   ]
  },
  {
   "cell_type": "code",
   "execution_count": 8,
   "metadata": {
    "collapsed": false,
    "deletable": true,
    "editable": true
   },
   "outputs": [
    {
     "data": {
      "text/plain": [
       "((119398, 13),\n",
       " (74294, 12),\n",
       " ['paragraph_id',\n",
       "  'question_id',\n",
       "  'paragraph',\n",
       "  'question',\n",
       "  'target',\n",
       "  'paragraphL',\n",
       "  'questionL',\n",
       "  'paragraphLS',\n",
       "  'questionLS',\n",
       "  'paragraphLX',\n",
       "  'questionLX',\n",
       "  'paragraphLSX',\n",
       "  'questionLSX'])"
      ]
     },
     "execution_count": 8,
     "metadata": {},
     "output_type": "execute_result"
    }
   ],
   "source": [
    "dftrain.shape, dftest.shape, dftrain.columns.tolist()"
   ]
  },
  {
   "cell_type": "code",
   "execution_count": 9,
   "metadata": {
    "collapsed": false,
    "deletable": true,
    "editable": true,
    "scrolled": true
   },
   "outputs": [
    {
     "data": {
      "text/plain": [
       "'\\nprint(dftrain.paragraph[0])\\nmm2 = pymorphy2.MorphAnalyzer()\\nmm2.parse(u\\'\\xd0\\xb2\\xd0\\xbe\\xd0\\xb2\\xd0\\xb0\\')\\nprint mm2.parse(u\\'\\xd0\\xb2\\xd0\\xbe\\xd0\\xb2\\xd1\\x83\\')[0].normal_form\\n\\n[mm2.parse(xx)[0].normal_form for xx in re.findall(\"\\\\w+\", (dftrain.paragraph[0]).decode(\\'utf-8\\'),re.UNICODE) if mm2.parse(xx)[0].tag.POS in {\\'PREP\\',\\'CONJ\\',\\'PRCL\\'}] \\nfor xx in [mm2.parse(xx)[0].normal_form for xx in re.findall(\"\\\\w+\", (dftrain.paragraph[0]).decode(\\'utf-8\\'),re.UNICODE) if mm2.parse(xx)[0].tag.POS not in {\\'PREP\\',\\'CONJ\\',\\'PRCL\\'}]  :\\n    print xx\\n'"
      ]
     },
     "execution_count": 9,
     "metadata": {},
     "output_type": "execute_result"
    }
   ],
   "source": [
    "'''\n",
    "print(dftrain.paragraph[0])\n",
    "mm2 = pymorphy2.MorphAnalyzer()\n",
    "mm2.parse(u'вова')\n",
    "print mm2.parse(u'вову')[0].normal_form\n",
    "\n",
    "[mm2.parse(xx)[0].normal_form for xx in re.findall(\"\\w+\", (dftrain.paragraph[0]).decode('utf-8'),re.UNICODE) if mm2.parse(xx)[0].tag.POS in {'PREP','CONJ','PRCL'}] \n",
    "for xx in [mm2.parse(xx)[0].normal_form for xx in re.findall(\"\\w+\", (dftrain.paragraph[0]).decode('utf-8'),re.UNICODE) if mm2.parse(xx)[0].tag.POS not in {'PREP','CONJ','PRCL'}]  :\n",
    "    print xx\n",
    "'''\n"
   ]
  },
  {
   "cell_type": "code",
   "execution_count": 10,
   "metadata": {
    "collapsed": false,
    "deletable": true,
    "editable": true
   },
   "outputs": [],
   "source": [
    "#@functools.lru_cache(maxsize=2 ** 19)\n",
    "def uniq_words_old_baseline(text):\n",
    "    return set(re.findall(\"\\w+\", text.decode('utf-8'),re.UNICODE))\n",
    "\n",
    "def calculate_idfs_old_baseline(data):\n",
    "    counter_paragraph = Counter()\n",
    "    uniq_paragraphs = data['paragraph'].unique()\n",
    "    for paragraph in uniq_paragraphs : #tqdm.tqdm(uniq_paragraphs, desc=\"calc idf\"):\n",
    "        set_words = uniq_words_old_baseline(paragraph)\n",
    "        counter_paragraph.update(set_words)\n",
    "        \n",
    "    num_docs = uniq_paragraphs.shape[0]\n",
    "    idfs = {}\n",
    "    for word in counter_paragraph:\n",
    "        idfs[word] = np.log(float(num_docs) // counter_paragraph[word])\n",
    "    return idfs"
   ]
  },
  {
   "cell_type": "code",
   "execution_count": 11,
   "metadata": {
    "collapsed": true,
    "deletable": true,
    "editable": true
   },
   "outputs": [],
   "source": [
    "#@functools.lru_cache(maxsize=2 ** 19)\n",
    "def uniq_words(text):\n",
    "    ttext = [mm2.parse(xx)[0].normal_form for xx in re.findall(\"\\w+\", text.decode('utf-8'),re.UNICODE) \n",
    "             if mm2.parse(xx)[0].tag.POS not in {'PREP','CONJ','PRCL','INTJ'}]\n",
    "    return  set(ttext)\n",
    "    #return set(re.findall(\"\\w+\", text.decode('utf-8'),re.UNICODE))\n",
    "\n",
    "def calculate_idfs(data):\n",
    "    counter_paragraph = Counter()\n",
    "    uniq_paragraphs = data['paragraph'].unique()\n",
    "    for paragraph in uniq_paragraphs : #tqdm.tqdm(uniq_paragraphs, desc=\"calc idf\"):\n",
    "        set_words = uniq_words(paragraph)\n",
    "        counter_paragraph.update(set_words)\n",
    "        \n",
    "    num_docs = uniq_paragraphs.shape[0]\n",
    "    idfs = {}\n",
    "    for word in counter_paragraph:\n",
    "        idfs[word] = np.log(float(num_docs) // counter_paragraph[word])\n",
    "    return idfs"
   ]
  },
  {
   "cell_type": "code",
   "execution_count": 54,
   "metadata": {
    "collapsed": true,
    "deletable": true,
    "editable": true
   },
   "outputs": [],
   "source": [
    "#@functools.lru_cache(maxsize=2 ** 19)\n",
    "# add truncate 3 word\n",
    "def uniq_wordsX(text, minLen=4):\n",
    "    ttext = [xx for xx in re.findall(\"\\w+\", text.decode('utf-8'),re.UNICODE) if len(xx)>=minLen]\n",
    "    return set(re.findall(\"\\w+\", text.decode('utf-8'),re.UNICODE))\n",
    "\n",
    "def calculate_idfsX(data, column='paragraph'):\n",
    "    counter_paragraph = Counter()\n",
    "    uniq_paragraphs = data[column].unique()\n",
    "    for paragraph in uniq_paragraphs : #tqdm.tqdm(uniq_paragraphs, desc=\"calc idf\"):\n",
    "        set_words = uniq_wordsX(paragraph)\n",
    "        counter_paragraph.update(set_words)\n",
    "        \n",
    "    num_docs = uniq_paragraphs.shape[0]\n",
    "    idfs = {}\n",
    "    for word in counter_paragraph:\n",
    "        idfs[word] = np.log(float(num_docs) // counter_paragraph[word])\n",
    "    return idfs"
   ]
  },
  {
   "cell_type": "code",
   "execution_count": null,
   "metadata": {
    "collapsed": true,
    "deletable": true,
    "editable": true
   },
   "outputs": [],
   "source": []
  },
  {
   "cell_type": "code",
   "execution_count": 55,
   "metadata": {
    "collapsed": false,
    "deletable": true,
    "editable": true
   },
   "outputs": [],
   "source": [
    "idfs  = calculate_idfsX(dftrain,'paragraphLSX')\n",
    "idfs0 = calculate_idfsX(dftrain,'paragraph')"
   ]
  },
  {
   "cell_type": "code",
   "execution_count": 56,
   "metadata": {
    "collapsed": false,
    "deletable": true,
    "editable": true
   },
   "outputs": [
    {
     "data": {
      "text/html": [
       "<div>\n",
       "<table border=\"1\" class=\"dataframe\">\n",
       "  <thead>\n",
       "    <tr style=\"text-align: right;\">\n",
       "      <th></th>\n",
       "      <th>paragraph_id</th>\n",
       "      <th>question_id</th>\n",
       "      <th>paragraph</th>\n",
       "      <th>question</th>\n",
       "      <th>target</th>\n",
       "      <th>paragraphL</th>\n",
       "      <th>questionL</th>\n",
       "      <th>paragraphLS</th>\n",
       "      <th>questionLS</th>\n",
       "      <th>paragraphLX</th>\n",
       "      <th>...</th>\n",
       "      <th>len_intersection</th>\n",
       "      <th>idf_question</th>\n",
       "      <th>idf_paragraph</th>\n",
       "      <th>idf_intersection</th>\n",
       "      <th>len_paragraph0</th>\n",
       "      <th>len_question0</th>\n",
       "      <th>len_intersection0</th>\n",
       "      <th>idf_question0</th>\n",
       "      <th>idf_paragraph0</th>\n",
       "      <th>idf_intersection0</th>\n",
       "    </tr>\n",
       "  </thead>\n",
       "  <tbody>\n",
       "    <tr>\n",
       "      <th>0</th>\n",
       "      <td>1094</td>\n",
       "      <td>46273</td>\n",
       "      <td>В отличие от рыб, земноводные (амфибии) и прес...</td>\n",
       "      <td>С какого года Русское Царство перешло на летои...</td>\n",
       "      <td>0.0</td>\n",
       "      <td>в отличие от рыба , земноводный ( амфибия ) и ...</td>\n",
       "      <td>с какой год русский царство перейти на летоисч...</td>\n",
       "      <td>отличие рыба , земноводный ( амфибия ) пресмык...</td>\n",
       "      <td>год русский царство перейти летоисчисление рож...</td>\n",
       "      <td>отличие рыба , земноводный ( амфибия ) пресмык...</td>\n",
       "      <td>...</td>\n",
       "      <td>0.0</td>\n",
       "      <td>56.729073</td>\n",
       "      <td>255.420678</td>\n",
       "      <td>0.0</td>\n",
       "      <td>67.0</td>\n",
       "      <td>19.0</td>\n",
       "      <td>3.0</td>\n",
       "      <td>81.077319</td>\n",
       "      <td>352.850226</td>\n",
       "      <td>1.791759</td>\n",
       "    </tr>\n",
       "  </tbody>\n",
       "</table>\n",
       "<p>1 rows × 25 columns</p>\n",
       "</div>"
      ],
      "text/plain": [
       "   paragraph_id  question_id  \\\n",
       "0          1094        46273   \n",
       "\n",
       "                                           paragraph  \\\n",
       "0  В отличие от рыб, земноводные (амфибии) и прес...   \n",
       "\n",
       "                                            question  target  \\\n",
       "0  С какого года Русское Царство перешло на летои...     0.0   \n",
       "\n",
       "                                          paragraphL  \\\n",
       "0  в отличие от рыба , земноводный ( амфибия ) и ...   \n",
       "\n",
       "                                           questionL  \\\n",
       "0  с какой год русский царство перейти на летоисч...   \n",
       "\n",
       "                                         paragraphLS  \\\n",
       "0  отличие рыба , земноводный ( амфибия ) пресмык...   \n",
       "\n",
       "                                          questionLS  \\\n",
       "0  год русский царство перейти летоисчисление рож...   \n",
       "\n",
       "                                         paragraphLX        ...          \\\n",
       "0  отличие рыба , земноводный ( амфибия ) пресмык...        ...           \n",
       "\n",
       "  len_intersection idf_question idf_paragraph  idf_intersection  \\\n",
       "0              0.0    56.729073    255.420678               0.0   \n",
       "\n",
       "   len_paragraph0  len_question0  len_intersection0  idf_question0  \\\n",
       "0            67.0           19.0                3.0      81.077319   \n",
       "\n",
       "   idf_paragraph0  idf_intersection0  \n",
       "0      352.850226           1.791759  \n",
       "\n",
       "[1 rows x 25 columns]"
      ]
     },
     "execution_count": 56,
     "metadata": {},
     "output_type": "execute_result"
    }
   ],
   "source": [
    "dftrain[:1]"
   ]
  },
  {
   "cell_type": "code",
   "execution_count": 57,
   "metadata": {
    "collapsed": false,
    "deletable": true,
    "editable": true
   },
   "outputs": [],
   "source": [
    "#print(dftrain.paragraph[0])"
   ]
  },
  {
   "cell_type": "code",
   "execution_count": 58,
   "metadata": {
    "collapsed": false,
    "deletable": true,
    "editable": true
   },
   "outputs": [],
   "source": [
    "#paragraph = uniq_words(str(dftrain.paragraph[0]));\n",
    "#print len(paragraph)\n",
    "#for xx in paragraph : print xx"
   ]
  },
  {
   "cell_type": "code",
   "execution_count": null,
   "metadata": {
    "collapsed": true,
    "deletable": true,
    "editable": true
   },
   "outputs": [],
   "source": []
  },
  {
   "cell_type": "code",
   "execution_count": 59,
   "metadata": {
    "collapsed": false,
    "deletable": true,
    "editable": true
   },
   "outputs": [],
   "source": [
    "for name, df in [('train', dftrain), ('test', dftest)]:\n",
    "    for index, row in df.iterrows() : #tqdm.tqdm(df.iterrows(), total=df.shape[0], desc=\"build features for \" + name):\n",
    "        \n",
    "        question  = uniq_wordsX(row.questionLSX)\n",
    "        paragraph = uniq_wordsX(row.paragraphLSX)\n",
    "        df.loc[index, 'len_paragraph'] = len(paragraph)\n",
    "        df.loc[index, 'len_question'] = len(question)\n",
    "        df.loc[index, 'len_intersection'] = len(paragraph & question)\n",
    "        df.loc[index, 'idf_question'] = np.sum([idfs.get(word, 0.0) for word in question])\n",
    "        df.loc[index, 'idf_paragraph'] = np.sum([idfs.get(word, 0.0) for word in paragraph])\n",
    "        df.loc[index, 'idf_intersection'] = np.sum([idfs.get(word, 0.0) for word in paragraph & question])\n",
    "        \n",
    "        question  = uniq_wordsX(row.question)\n",
    "        paragraph = uniq_wordsX(row.paragraph)\n",
    "        df.loc[index, 'len_paragraph0'] = len(paragraph)\n",
    "        df.loc[index, 'len_question0'] = len(question)\n",
    "        df.loc[index, 'len_intersection0'] = len(paragraph & question)\n",
    "        df.loc[index, 'idf_question0'] = np.sum([idfs0.get(word, 0.0) for word in question])\n",
    "        df.loc[index, 'idf_paragraph0'] = np.sum([idfs0.get(word, 0.0) for word in paragraph])\n",
    "        df.loc[index, 'idf_intersection0'] = np.sum([idfs0.get(word, 0.0) for word in paragraph & question])"
   ]
  },
  {
   "cell_type": "code",
   "execution_count": 60,
   "metadata": {
    "collapsed": false,
    "deletable": true,
    "editable": true
   },
   "outputs": [
    {
     "data": {
      "text/html": [
       "<div>\n",
       "<table border=\"1\" class=\"dataframe\">\n",
       "  <thead>\n",
       "    <tr style=\"text-align: right;\">\n",
       "      <th></th>\n",
       "      <th>paragraph_id</th>\n",
       "      <th>question_id</th>\n",
       "      <th>paragraph</th>\n",
       "      <th>question</th>\n",
       "      <th>target</th>\n",
       "      <th>paragraphL</th>\n",
       "      <th>questionL</th>\n",
       "      <th>paragraphLS</th>\n",
       "      <th>questionLS</th>\n",
       "      <th>paragraphLX</th>\n",
       "      <th>...</th>\n",
       "      <th>len_intersection</th>\n",
       "      <th>idf_question</th>\n",
       "      <th>idf_paragraph</th>\n",
       "      <th>idf_intersection</th>\n",
       "      <th>len_paragraph0</th>\n",
       "      <th>len_question0</th>\n",
       "      <th>len_intersection0</th>\n",
       "      <th>idf_question0</th>\n",
       "      <th>idf_paragraph0</th>\n",
       "      <th>idf_intersection0</th>\n",
       "    </tr>\n",
       "  </thead>\n",
       "  <tbody>\n",
       "    <tr>\n",
       "      <th>119393</th>\n",
       "      <td>787</td>\n",
       "      <td>78704</td>\n",
       "      <td>С VIII века, как для Везера, так и для Верра, ...</td>\n",
       "      <td>Какие новые спортивные сооружения были построе...</td>\n",
       "      <td>0.0</td>\n",
       "      <td>с viii век , как для везер , так и для верра ,...</td>\n",
       "      <td>какой новое спортивный сооружение быть построи...</td>\n",
       "      <td>viii век , везер , верра , передаваться поколе...</td>\n",
       "      <td>новое спортивный сооружение построить универси...</td>\n",
       "      <td>viii век , везер , верра , передаваться поколе...</td>\n",
       "      <td>...</td>\n",
       "      <td>0.0</td>\n",
       "      <td>31.905366</td>\n",
       "      <td>521.613527</td>\n",
       "      <td>0.000000</td>\n",
       "      <td>134.0</td>\n",
       "      <td>11.0</td>\n",
       "      <td>3.0</td>\n",
       "      <td>39.611780</td>\n",
       "      <td>729.865475</td>\n",
       "      <td>3.044522</td>\n",
       "    </tr>\n",
       "    <tr>\n",
       "      <th>119394</th>\n",
       "      <td>7414</td>\n",
       "      <td>97752</td>\n",
       "      <td>В 1049 году Балдуину V удалось отнять у Герман...</td>\n",
       "      <td>В каком году умер Райан Уайт?</td>\n",
       "      <td>0.0</td>\n",
       "      <td>в 1049 год балдуин v удаться отнять у германия...</td>\n",
       "      <td>в какой год умереть райан уайт ?</td>\n",
       "      <td>1049 год балдуин v удаться отнять германия час...</td>\n",
       "      <td>год умереть райан уайт ?</td>\n",
       "      <td>1049 год балдуин v удаться отнять германия час...</td>\n",
       "      <td>...</td>\n",
       "      <td>2.0</td>\n",
       "      <td>20.930153</td>\n",
       "      <td>336.687899</td>\n",
       "      <td>5.411646</td>\n",
       "      <td>89.0</td>\n",
       "      <td>6.0</td>\n",
       "      <td>3.0</td>\n",
       "      <td>28.438558</td>\n",
       "      <td>496.188281</td>\n",
       "      <td>6.473891</td>\n",
       "    </tr>\n",
       "    <tr>\n",
       "      <th>119395</th>\n",
       "      <td>3845</td>\n",
       "      <td>2104</td>\n",
       "      <td>Клиническая фармакология изучает воздействие л...</td>\n",
       "      <td>Когда на всемирном конгрессе немецких школ за ...</td>\n",
       "      <td>0.0</td>\n",
       "      <td>клинический фармакология изучать воздействие л...</td>\n",
       "      <td>когда на всемирный конгресс немецкий школа за ...</td>\n",
       "      <td>клинический фармакология изучать воздействие л...</td>\n",
       "      <td>всемирный конгресс немецкий школа рубеж предст...</td>\n",
       "      <td>клинический фармакология изучать воздействие л...</td>\n",
       "      <td>...</td>\n",
       "      <td>0.0</td>\n",
       "      <td>37.792184</td>\n",
       "      <td>240.341321</td>\n",
       "      <td>0.000000</td>\n",
       "      <td>74.0</td>\n",
       "      <td>14.0</td>\n",
       "      <td>3.0</td>\n",
       "      <td>66.305302</td>\n",
       "      <td>381.707501</td>\n",
       "      <td>4.941642</td>\n",
       "    </tr>\n",
       "    <tr>\n",
       "      <th>119396</th>\n",
       "      <td>168</td>\n",
       "      <td>92509</td>\n",
       "      <td>Сложность выделения чистых белков затрудняла и...</td>\n",
       "      <td>Что в конце 1940-х — начале 1950-х годов разра...</td>\n",
       "      <td>0.0</td>\n",
       "      <td>сложность выделение чистый белок затруднять он...</td>\n",
       "      <td>что в конец 1940-ха — начало 1950-ха год разра...</td>\n",
       "      <td>сложность выделение чистый белок затруднять из...</td>\n",
       "      <td>конец 1940-ха — начало 1950-ха год разработать...</td>\n",
       "      <td>сложность выделение чистый белок затруднять он...</td>\n",
       "      <td>...</td>\n",
       "      <td>2.0</td>\n",
       "      <td>25.659151</td>\n",
       "      <td>223.153311</td>\n",
       "      <td>3.258097</td>\n",
       "      <td>63.0</td>\n",
       "      <td>11.0</td>\n",
       "      <td>5.0</td>\n",
       "      <td>50.299845</td>\n",
       "      <td>324.672574</td>\n",
       "      <td>13.735103</td>\n",
       "    </tr>\n",
       "    <tr>\n",
       "      <th>119397</th>\n",
       "      <td>2679</td>\n",
       "      <td>41770</td>\n",
       "      <td>У типичной свободной программы (то есть, неком...</td>\n",
       "      <td>с каким персонажем происходит схватка Шерлока ...</td>\n",
       "      <td>0.0</td>\n",
       "      <td>у типичный свободный программа ( то есть , нек...</td>\n",
       "      <td>с какой персонаж происходить схватка шерлок хо...</td>\n",
       "      <td>типичный свободный программа ( , некоммерчески...</td>\n",
       "      <td>персонаж происходить схватка шерлок холмс филь...</td>\n",
       "      <td>типичный свободный программа ( , некоммерчески...</td>\n",
       "      <td>...</td>\n",
       "      <td>0.0</td>\n",
       "      <td>51.723335</td>\n",
       "      <td>257.646193</td>\n",
       "      <td>0.000000</td>\n",
       "      <td>86.0</td>\n",
       "      <td>13.0</td>\n",
       "      <td>3.0</td>\n",
       "      <td>68.846945</td>\n",
       "      <td>442.699187</td>\n",
       "      <td>0.000000</td>\n",
       "    </tr>\n",
       "  </tbody>\n",
       "</table>\n",
       "<p>5 rows × 25 columns</p>\n",
       "</div>"
      ],
      "text/plain": [
       "        paragraph_id  question_id  \\\n",
       "119393           787        78704   \n",
       "119394          7414        97752   \n",
       "119395          3845         2104   \n",
       "119396           168        92509   \n",
       "119397          2679        41770   \n",
       "\n",
       "                                                paragraph  \\\n",
       "119393  С VIII века, как для Везера, так и для Верра, ...   \n",
       "119394  В 1049 году Балдуину V удалось отнять у Герман...   \n",
       "119395  Клиническая фармакология изучает воздействие л...   \n",
       "119396  Сложность выделения чистых белков затрудняла и...   \n",
       "119397  У типичной свободной программы (то есть, неком...   \n",
       "\n",
       "                                                 question  target  \\\n",
       "119393  Какие новые спортивные сооружения были построе...     0.0   \n",
       "119394                      В каком году умер Райан Уайт?     0.0   \n",
       "119395  Когда на всемирном конгрессе немецких школ за ...     0.0   \n",
       "119396  Что в конце 1940-х — начале 1950-х годов разра...     0.0   \n",
       "119397  с каким персонажем происходит схватка Шерлока ...     0.0   \n",
       "\n",
       "                                               paragraphL  \\\n",
       "119393  с viii век , как для везер , так и для верра ,...   \n",
       "119394  в 1049 год балдуин v удаться отнять у германия...   \n",
       "119395  клинический фармакология изучать воздействие л...   \n",
       "119396  сложность выделение чистый белок затруднять он...   \n",
       "119397  у типичный свободный программа ( то есть , нек...   \n",
       "\n",
       "                                                questionL  \\\n",
       "119393  какой новое спортивный сооружение быть построи...   \n",
       "119394                   в какой год умереть райан уайт ?   \n",
       "119395  когда на всемирный конгресс немецкий школа за ...   \n",
       "119396  что в конец 1940-ха — начало 1950-ха год разра...   \n",
       "119397  с какой персонаж происходить схватка шерлок хо...   \n",
       "\n",
       "                                              paragraphLS  \\\n",
       "119393  viii век , везер , верра , передаваться поколе...   \n",
       "119394  1049 год балдуин v удаться отнять германия час...   \n",
       "119395  клинический фармакология изучать воздействие л...   \n",
       "119396  сложность выделение чистый белок затруднять из...   \n",
       "119397  типичный свободный программа ( , некоммерчески...   \n",
       "\n",
       "                                               questionLS  \\\n",
       "119393  новое спортивный сооружение построить универси...   \n",
       "119394                           год умереть райан уайт ?   \n",
       "119395  всемирный конгресс немецкий школа рубеж предст...   \n",
       "119396  конец 1940-ха — начало 1950-ха год разработать...   \n",
       "119397  персонаж происходить схватка шерлок холмс филь...   \n",
       "\n",
       "                                              paragraphLX        ...          \\\n",
       "119393  viii век , везер , верра , передаваться поколе...        ...           \n",
       "119394  1049 год балдуин v удаться отнять германия час...        ...           \n",
       "119395  клинический фармакология изучать воздействие л...        ...           \n",
       "119396  сложность выделение чистый белок затруднять он...        ...           \n",
       "119397  типичный свободный программа ( , некоммерчески...        ...           \n",
       "\n",
       "       len_intersection idf_question idf_paragraph  idf_intersection  \\\n",
       "119393              0.0    31.905366    521.613527          0.000000   \n",
       "119394              2.0    20.930153    336.687899          5.411646   \n",
       "119395              0.0    37.792184    240.341321          0.000000   \n",
       "119396              2.0    25.659151    223.153311          3.258097   \n",
       "119397              0.0    51.723335    257.646193          0.000000   \n",
       "\n",
       "        len_paragraph0  len_question0  len_intersection0  idf_question0  \\\n",
       "119393           134.0           11.0                3.0      39.611780   \n",
       "119394            89.0            6.0                3.0      28.438558   \n",
       "119395            74.0           14.0                3.0      66.305302   \n",
       "119396            63.0           11.0                5.0      50.299845   \n",
       "119397            86.0           13.0                3.0      68.846945   \n",
       "\n",
       "        idf_paragraph0  idf_intersection0  \n",
       "119393      729.865475           3.044522  \n",
       "119394      496.188281           6.473891  \n",
       "119395      381.707501           4.941642  \n",
       "119396      324.672574          13.735103  \n",
       "119397      442.699187           0.000000  \n",
       "\n",
       "[5 rows x 25 columns]"
      ]
     },
     "execution_count": 60,
     "metadata": {},
     "output_type": "execute_result"
    }
   ],
   "source": [
    "dftrain.tail()"
   ]
  },
  {
   "cell_type": "code",
   "execution_count": 71,
   "metadata": {
    "collapsed": false,
    "deletable": true,
    "editable": true
   },
   "outputs": [],
   "source": [
    "import xgboost as xgb\n",
    "columns  = []\n",
    "columns += ['len_paragraph', 'len_question', 'len_intersection', 'idf_question', 'idf_paragraph', 'idf_intersection']\n",
    "columns += ['len_paragraph0', 'len_question0', 'len_intersection0', 'idf_question0', 'idf_paragraph0', 'idf_intersection0']\n",
    "#model = GradientBoostingClassifier()\n",
    "model = xgb.XGBClassifier(learning_rate=0.1, n_estimators=900, silent=True).fit(dftrain[columns], dftrain['target'])\n",
    "#model = GradientBoostingClassifier().fit(dftrain[columns], dftrain['target'])\n",
    "dftest['prediction']  = model.predict_proba(dftest[columns])[:, 1]\n",
    "ddftrain = model.predict_proba(dftrain[columns])[:, 1]"
   ]
  },
  {
   "cell_type": "code",
   "execution_count": 72,
   "metadata": {
    "collapsed": false,
    "deletable": true,
    "editable": true
   },
   "outputs": [
    {
     "data": {
      "text/html": [
       "<div>\n",
       "<table border=\"1\" class=\"dataframe\">\n",
       "  <thead>\n",
       "    <tr style=\"text-align: right;\">\n",
       "      <th></th>\n",
       "      <th>paragraph_id</th>\n",
       "      <th>question_id</th>\n",
       "      <th>prediction</th>\n",
       "    </tr>\n",
       "  </thead>\n",
       "  <tbody>\n",
       "    <tr>\n",
       "      <th>0</th>\n",
       "      <td>1361</td>\n",
       "      <td>6463</td>\n",
       "      <td>0.000012</td>\n",
       "    </tr>\n",
       "    <tr>\n",
       "      <th>1</th>\n",
       "      <td>1403</td>\n",
       "      <td>34696</td>\n",
       "      <td>0.700277</td>\n",
       "    </tr>\n",
       "    <tr>\n",
       "      <th>2</th>\n",
       "      <td>1435</td>\n",
       "      <td>13751</td>\n",
       "      <td>0.002335</td>\n",
       "    </tr>\n",
       "    <tr>\n",
       "      <th>3</th>\n",
       "      <td>341</td>\n",
       "      <td>38544</td>\n",
       "      <td>0.999482</td>\n",
       "    </tr>\n",
       "    <tr>\n",
       "      <th>4</th>\n",
       "      <td>1317</td>\n",
       "      <td>14589</td>\n",
       "      <td>0.006904</td>\n",
       "    </tr>\n",
       "  </tbody>\n",
       "</table>\n",
       "</div>"
      ],
      "text/plain": [
       "   paragraph_id  question_id  prediction\n",
       "0          1361         6463    0.000012\n",
       "1          1403        34696    0.700277\n",
       "2          1435        13751    0.002335\n",
       "3           341        38544    0.999482\n",
       "4          1317        14589    0.006904"
      ]
     },
     "execution_count": 72,
     "metadata": {},
     "output_type": "execute_result"
    }
   ],
   "source": [
    "dftest[['paragraph_id', 'question_id', 'prediction']].head()"
   ]
  },
  {
   "cell_type": "code",
   "execution_count": 74,
   "metadata": {
    "collapsed": true,
    "deletable": true,
    "editable": true
   },
   "outputs": [],
   "source": [
    "dftest[['paragraph_id', 'question_id', 'prediction']].to_csv(\"../Result/prediction-2017-10-08-00-10.csv\", index=False)"
   ]
  },
  {
   "cell_type": "code",
   "execution_count": 52,
   "metadata": {
    "collapsed": false,
    "deletable": true,
    "editable": true
   },
   "outputs": [
    {
     "data": {
      "text/plain": [
       "array([  8.01344595e-06,   1.67586407e-07,   1.09849652e-05,\n",
       "         4.38361676e-05,   5.30144632e-01,   1.79525273e-06,\n",
       "         7.36293878e-05,   9.93215561e-01,   9.99737799e-01,\n",
       "         7.50693216e-05], dtype=float32)"
      ]
     },
     "execution_count": 52,
     "metadata": {},
     "output_type": "execute_result"
    }
   ],
   "source": [
    "dftrain.target[:10]\n",
    "ddftrain[:10]"
   ]
  },
  {
   "cell_type": "code",
   "execution_count": 73,
   "metadata": {
    "collapsed": false,
    "deletable": true,
    "editable": true
   },
   "outputs": [
    {
     "name": "stdout",
     "output_type": "stream",
     "text": [
      "accuracy=0.98976 roc_auc=0.98807\n"
     ]
    },
    {
     "data": {
      "image/png": "[encoded data removed]",
      "text/plain": [
       "<matplotlib.figure.Figure at 0x7fdc74710290>"
      ]
     },
     "metadata": {},
     "output_type": "display_data"
    },
    {
     "data": {
      "image/png": "[encoded data removed]",
      "text/plain": [
       "<matplotlib.figure.Figure at 0x7fdc70c271d0>"
      ]
     },
     "metadata": {},
     "output_type": "display_data"
    }
   ],
   "source": [
    "print 'accuracy={:.5f} roc_auc={:.5f}'.format(skm.accuracy_score(dftrain['target'].values,ddftrain>0.5),\n",
    "           skm.roc_auc_score(dftrain['target'].values,ddftrain>0.5))\n",
    "plt.hist(ddftrain,bins=50); plt.show()\n",
    "plt.hist(dftest['prediction'],bins=50); plt.show()"
   ]
  },
  {
   "cell_type": "code",
   "execution_count": 38,
   "metadata": {
    "collapsed": false,
    "deletable": true,
    "editable": true
   },
   "outputs": [
    {
     "name": "stdout",
     "output_type": "stream",
     "text": [
      "accuracy=0.98549 roc_auc=0.98326\n"
     ]
    },
    {
     "data": {
      "image/png": "[encoded data removed]",
      "text/plain": [
       "<matplotlib.figure.Figure at 0x7fdc70ff2210>"
      ]
     },
     "metadata": {},
     "output_type": "display_data"
    },
    {
     "data": {
      "image/png": "[encoded data removed]",
      "text/plain": [
       "<matplotlib.figure.Figure at 0x7fdc70e8bb90>"
      ]
     },
     "metadata": {},
     "output_type": "display_data"
    }
   ],
   "source": [
    "print 'accuracy={:.5f} roc_auc={:.5f}'.format(skm.accuracy_score(dftrain['target'].values,ddftrain>0.5),\n",
    "           skm.roc_auc_score(dftrain['target'].values,ddftrain>0.5))\n",
    "plt.hist(ddftrain,bins=50); plt.show()\n",
    "plt.hist(dftest['prediction'],bins=50); plt.show()"
   ]
  },
  {
   "cell_type": "code",
   "execution_count": 145,
   "metadata": {
    "collapsed": false,
    "deletable": true,
    "editable": true
   },
   "outputs": [
    {
     "name": "stdout",
     "output_type": "stream",
     "text": [
      "0.973935911824\n"
     ]
    },
    {
     "data": {
      "image/png": "[encoded data removed]",
      "text/plain": [
       "<matplotlib.figure.Figure at 0x7ff530ce46d0>"
      ]
     },
     "metadata": {},
     "output_type": "display_data"
    },
    {
     "data": {
      "image/png": "[encoded data removed]",
      "text/plain": [
       "<matplotlib.figure.Figure at 0x7ff530beef90>"
      ]
     },
     "metadata": {},
     "output_type": "display_data"
    }
   ],
   "source": [
    "print skm.accuracy_score(dftrain['target'].values,ddftrain>0.5)\n",
    "plt.hist(ddftrain); plt.show()\n",
    "plt.hist(dftest['prediction']); plt.show()"
   ]
  },
  {
   "cell_type": "code",
   "execution_count": null,
   "metadata": {
    "collapsed": true,
    "deletable": true,
    "editable": true
   },
   "outputs": [],
   "source": []
  },
  {
   "cell_type": "code",
   "execution_count": 28,
   "metadata": {
    "collapsed": false,
    "deletable": true,
    "editable": true
   },
   "outputs": [
    {
     "data": {
      "text/plain": [
       "Counter({' ': 1, 'a': 2, 'b': 3, 'c': 4})"
      ]
     },
     "execution_count": 28,
     "metadata": {},
     "output_type": "execute_result"
    }
   ],
   "source": [
    "aa=Counter('aabb bcccc'); aa\n",
    "#aa=Counter({'aa':6, 'b':7}); aa"
   ]
  },
  {
   "cell_type": "code",
   "execution_count": 85,
   "metadata": {
    "collapsed": false,
    "deletable": true,
    "editable": true
   },
   "outputs": [
    {
     "name": "stdout",
     "output_type": "stream",
     "text": [
      "вова\n"
     ]
    }
   ],
   "source": [
    "import pymorphy2\n",
    "morphy = pymorphy2.MorphAnalyzer()\n",
    "morphy.parse(u'вова')\n",
    "print morphy.parse(u'вову')[0].normal_form\n",
    "#str(morphy.parse(u'вовочка')[0].normal_form) #.encode('cp1251')"
   ]
  },
  {
   "cell_type": "code",
   "execution_count": 112,
   "metadata": {
    "collapsed": false,
    "deletable": true,
    "editable": true
   },
   "outputs": [
    {
     "name": "stdout",
     "output_type": "stream",
     "text": [
      "4 [Parse(word=u'\\u0447\\u0435\\u0442\\u0432\\u0435\\u0440\\u0442\\u044b\\u0439 \\u043f\\u0435\\u0440\\u0435\\u0441\\u0438\\u0434\\u0435\\u0432\\u0448\\u0438\\u0439', tag=OpencorporaTag('PRTF,perf,intr,past,actv masc,sing,nomn'), normal_form=u'\\u0447\\u0435\\u0442\\u0432\\u0435\\u0440\\u0442\\u044b\\u0439 \\u043f\\u0435\\u0440\\u0435\\u0441\\u0438\\u0434\\u0435\\u0442\\u044c', score=0.4831932773109244, methods_stack=((<FakeDictionary>, u'\\u0447\\u0435\\u0442\\u0432\\u0435\\u0440\\u0442\\u044b\\u0439 \\u043f\\u0435\\u0440\\u0435\\u0441\\u0438\\u0434\\u0435\\u0432\\u0448\\u0438\\u0439', 715, 15), (<KnownSuffixAnalyzer>, u'\\u0435\\u0432\\u0448\\u0438\\u0439'))), Parse(word=u'\\u0447\\u0435\\u0442\\u0432\\u0435\\u0440\\u0442\\u044b\\u0439 \\u043f\\u0435\\u0440\\u0435\\u0441\\u0438\\u0434\\u0435\\u0432\\u0448\\u0438\\u0439', tag=OpencorporaTag('PRTF,perf,intr,past,actv inan,masc,sing,accs'), normal_form=u'\\u0447\\u0435\\u0442\\u0432\\u0435\\u0440\\u0442\\u044b\\u0439 \\u043f\\u0435\\u0440\\u0435\\u0441\\u0438\\u0434\\u0435\\u0442\\u044c', score=0.4831932773109244, methods_stack=((<FakeDictionary>, u'\\u0447\\u0435\\u0442\\u0432\\u0435\\u0440\\u0442\\u044b\\u0439 \\u043f\\u0435\\u0440\\u0435\\u0441\\u0438\\u0434\\u0435\\u0432\\u0448\\u0438\\u0439', 715, 19), (<KnownSuffixAnalyzer>, u'\\u0435\\u0432\\u0448\\u0438\\u0439'))), Parse(word=u'\\u0447\\u0435\\u0442\\u0432\\u0435\\u0440\\u0442\\u044b\\u0439 \\u043f\\u0435\\u0440\\u0435\\u0441\\u0438\\u0434\\u0435\\u0432\\u0448\\u0438\\u0439', tag=OpencorporaTag('ADJF masc,sing,nomn'), normal_form=u'\\u0447\\u0435\\u0442\\u0432\\u0435\\u0440\\u0442\\u044b\\u0439 \\u043f\\u0435\\u0440\\u0435\\u0441\\u0438\\u0434\\u0435\\u0432\\u0448\\u0438\\u0439', score=0.01680672268907563, methods_stack=((<FakeDictionary>, u'\\u0447\\u0435\\u0442\\u0432\\u0435\\u0440\\u0442\\u044b\\u0439 \\u043f\\u0435\\u0440\\u0435\\u0441\\u0438\\u0434\\u0435\\u0432\\u0448\\u0438\\u0439', 100, 0), (<KnownSuffixAnalyzer>, u'\\u0435\\u0432\\u0448\\u0438\\u0439'))), Parse(word=u'\\u0447\\u0435\\u0442\\u0432\\u0435\\u0440\\u0442\\u044b\\u0439 \\u043f\\u0435\\u0440\\u0435\\u0441\\u0438\\u0434\\u0435\\u0432\\u0448\\u0438\\u0439', tag=OpencorporaTag('ADJF inan,masc,sing,accs'), normal_form=u'\\u0447\\u0435\\u0442\\u0432\\u0435\\u0440\\u0442\\u044b\\u0439 \\u043f\\u0435\\u0440\\u0435\\u0441\\u0438\\u0434\\u0435\\u0432\\u0448\\u0438\\u0439', score=0.01680672268907563, methods_stack=((<FakeDictionary>, u'\\u0447\\u0435\\u0442\\u0432\\u0435\\u0440\\u0442\\u044b\\u0439 \\u043f\\u0435\\u0440\\u0435\\u0441\\u0438\\u0434\\u0435\\u0432\\u0448\\u0438\\u0439', 100, 4), (<KnownSuffixAnalyzer>, u'\\u0435\\u0432\\u0448\\u0438\\u0439')))]\n",
      "четвертый пересидеть\n",
      "четвертый пересидеть 0.483193277311 PRTF,perf,intr,past,actv masc,sing,nomn\n",
      "четвертый пересидеть 0.483193277311 PRTF,perf,intr,past,actv inan,masc,sing,accs\n",
      "четвертый пересидевший 0.0168067226891 ADJF masc,sing,nomn\n",
      "четвертый пересидевший 0.0168067226891 ADJF inan,masc,sing,accs\n"
     ]
    }
   ],
   "source": [
    "wword = u'четвертый пересидевший'\n",
    "print len(morphy.parse(wword)),morphy.parse(wword)\n",
    "print morphy.parse(wword)[0].normal_form\n",
    "for pp in morphy.parse(wword) : print pp.normal_form, pp.score, pp.tag"
   ]
  },
  {
   "cell_type": "code",
   "execution_count": 75,
   "metadata": {
    "collapsed": false,
    "deletable": true,
    "editable": true
   },
   "outputs": [
    {
     "name": "stdout",
     "output_type": "stream",
     "text": [
      "вщвщчка\n"
     ]
    }
   ],
   "source": [
    "print unicode(u'вщвщчка')\n",
    "#str(u'вщвщчка'.decode('utf_8'))"
   ]
  },
  {
   "cell_type": "code",
   "execution_count": 74,
   "metadata": {
    "collapsed": false,
    "deletable": true,
    "editable": true
   },
   "outputs": [
    {
     "name": "stdout",
     "output_type": "stream",
     "text": [
      "вовочка\n"
     ]
    }
   ],
   "source": [
    "print 'вовочка'.decode('utf-8')"
   ]
  },
  {
   "cell_type": "code",
   "execution_count": 200,
   "metadata": {
    "collapsed": true,
    "deletable": true,
    "editable": true
   },
   "outputs": [],
   "source": [
    "import nltk"
   ]
  },
  {
   "cell_type": "code",
   "execution_count": 217,
   "metadata": {
    "collapsed": false,
    "deletable": true,
    "editable": true
   },
   "outputs": [
    {
     "data": {
      "text/plain": [
       "Index([u'paragraph_id', u'question_id', u'paragraph', u'question', u'target',\n",
       "       u'len_paragraph', u'len_question', u'len_intersection', u'idf_question',\n",
       "       u'idf_paragraph', u'idf_intersection', u'len_paragraph0',\n",
       "       u'len_question0', u'len_intersection0', u'idf_question0',\n",
       "       u'idf_paragraph0', u'idf_intersection0'],\n",
       "      dtype='object')"
      ]
     },
     "execution_count": 217,
     "metadata": {},
     "output_type": "execute_result"
    }
   ],
   "source": [
    "dftrain.columns"
   ]
  },
  {
   "cell_type": "code",
   "execution_count": 253,
   "metadata": {
    "collapsed": false,
    "deletable": true,
    "editable": true
   },
   "outputs": [
    {
     "data": {
      "image/png": "[encoded data removed]",
      "text/plain": [
       "<matplotlib.figure.Figure at 0x7ff5079b2350>"
      ]
     },
     "metadata": {},
     "output_type": "display_data"
    }
   ],
   "source": [
    "plt.figure(figsize=(15,20))\n",
    "bbins = [xx for xx in range(0,1000,10)]\n",
    "plt.subplot(621); plt.hist(dftrain.idf_paragraph,bins=bbins); plt.title('train idf paragraph')\n",
    "plt.subplot(622);plt.hist(dftest.idf_paragraph,bins=bbins);   plt.title('test  idf paragraph') \n",
    "plt.subplot(623); plt.hist(dftrain.idf_question,bins=75);     plt.title('train idf question')\n",
    "plt.subplot(624);plt.hist(dftest.idf_question,bins=75);       plt.title('test  idf question')\n",
    "plt.subplot(625);plt.hist(dftrain.idf_intersection,bins=75);       plt.title('train  idf intersection')\n",
    "plt.subplot(626);plt.hist(dftest.idf_intersection,bins=75);       plt.title('test  idf intersection')\n",
    "\n",
    "plt.subplot(627); plt.hist(dftrain.idf_paragraph0,bins=bbins);plt.title('train idf paragraph0')\n",
    "plt.subplot(628);plt.hist(dftest.idf_paragraph0,bins=bbins);  plt.title('test  idf paragraph0')\n",
    "plt.subplot(629); plt.hist(dftrain.idf_question0,bins=75);    plt.title('train idf question0')\n",
    "plt.subplot(6,2,10);plt.hist(dftest.idf_question0,bins=75);      plt.title('test  idf question0')\n",
    "plt.subplot(6,2,11);plt.hist(dftrain.idf_intersection0,bins=75);      plt.title('train  idf intersection0')\n",
    "plt.subplot(6,2,12);plt.hist(dftest.idf_intersection0,bins=75);      plt.title('test  idf intersection0')\n",
    "\n",
    "plt.show()"
   ]
  },
  {
   "cell_type": "code",
   "execution_count": 252,
   "metadata": {
    "collapsed": false,
    "deletable": true,
    "editable": true
   },
   "outputs": [
    {
     "data": {
      "image/png": "[encoded data removed]",
      "text/plain": [
       "<matplotlib.figure.Figure at 0x7ff4fd716310>"
      ]
     },
     "metadata": {},
     "output_type": "display_data"
    }
   ],
   "source": [
    "plt.figure(figsize=(15,20))\n",
    "bbins = [xx for xx in range(0,500,5)]\n",
    "plt.subplot(621); plt.hist(dftrain.len_paragraph,bins=bbins); plt.title('train len paragraph')\n",
    "plt.subplot(622);plt.hist(dftest.len_paragraph,bins=bbins);   plt.title('test  len paragraph') \n",
    "plt.subplot(623); plt.hist(dftrain.len_question,bins=50);     plt.title('train len question')\n",
    "plt.subplot(624);plt.hist(dftest.len_question,bins=50);       plt.title('test  len question')\n",
    "plt.subplot(625);plt.hist(dftrain.len_intersection,bins=75);       plt.title('train  len intersection')\n",
    "plt.subplot(626);plt.hist(dftest.len_intersection,bins=75);       plt.title('test  len intersection')\n",
    "\n",
    "plt.subplot(627); plt.hist(dftrain.len_paragraph0,bins=bbins);plt.title('train len paragraph0')\n",
    "plt.subplot(628);plt.hist(dftest.len_paragraph0,bins=bbins);  plt.title('test  len paragraph0')\n",
    "plt.subplot(629); plt.hist(dftrain.len_question0,bins=50);    plt.title('train len question0')\n",
    "plt.subplot(6,2,10);plt.hist(dftest.len_question0,bins=50);      plt.title('test  len question0')\n",
    "plt.subplot(6,2,11);plt.hist(dftrain.len_intersection0,bins=75);      plt.title('train  len intersection0')\n",
    "plt.subplot(6,2,12);plt.hist(dftest.len_intersection0,bins=75);      plt.title('test  len intersection0')\n",
    "\n",
    "plt.show()"
   ]
  },
  {
   "cell_type": "code",
   "execution_count": 274,
   "metadata": {
    "collapsed": false,
    "deletable": true,
    "editable": true,
    "scrolled": true
   },
   "outputs": [
    {
     "name": "stdout",
     "output_type": "stream",
     "text": [
      "[11, 22, 33, 44, 55, 66, 77, 88, 99, 10]\n",
      "train=[2 3 4 7 8 9] test=[0 1 5 6]\n",
      "[33 44 55 88 99 10]\n",
      "[11 22 66 77]\n",
      "train=[0 1 4 5 6 9] test=[2 3 7 8]\n",
      "[11 22 55 66 77 10]\n",
      "[33 44 88 99]\n",
      "train=[0 1 2 3 5 6 7 8] test=[4 9]\n",
      "[11 22 33 44 66 77 88 99]\n",
      "[55 10]\n"
     ]
    }
   ],
   "source": [
    "skf = skms.StratifiedKFold(n_splits=3)\n",
    "X = [11,22,33,44,55,66,77,88,99,10]; \n",
    "y = [11,11,11,11,11,22,22,22,22,22]; \n",
    "print(X)\n",
    "for train_index, test_index in skf.split(X,y) :\n",
    "    print 'train={} test={}'.format(train_index,test_index)\n",
    "    print np.array(X)[train_index]\n",
    "    print np.array(X)[test_index]\n"
   ]
  },
  {
   "cell_type": "code",
   "execution_count": 336,
   "metadata": {
    "collapsed": false,
    "deletable": true,
    "editable": true
   },
   "outputs": [
    {
     "data": {
      "text/plain": [
       "(0.99839152723779545,\n",
       " 0.00012748411913640487,\n",
       " array([ 0.99834759,  0.99852797,  0.99835356,  0.99835328,  0.99859732,\n",
       "         0.99834908,  0.99856697,  0.99815247,  0.99832212,  0.99834491]))"
      ]
     },
     "execution_count": 336,
     "metadata": {},
     "output_type": "execute_result"
    }
   ],
   "source": [
    "skf = skms.StratifiedKFold(n_splits=10)\n",
    "import xgboost as xgb\n",
    "columns  = []\n",
    "columns += ['len_paragraph', 'len_question', 'len_intersection', 'idf_question', 'idf_paragraph', 'idf_intersection']\n",
    "columns += ['len_paragraph0', 'len_question0', 'len_intersection0', 'idf_question0', 'idf_paragraph0', 'idf_intersection0']\n",
    "#model = GradientBoostingClassifier()\n",
    "model = xgb.XGBClassifier(learning_rate=0.1, n_estimators=300, silent=True)\n",
    "scores = skms.cross_val_score(model, dftrain[columns], dftrain['target'], cv=skf, scoring='roc_auc');\n",
    "#dftest['prediction']  = model.predict_proba(dftest[columns])[:, 1]\n",
    "#ddftrain = model.predict_proba(dftrain[columns])[:, 1]\n",
    "np.array(scores).mean(), np.array(scores).std(), scores"
   ]
  },
  {
   "cell_type": "code",
   "execution_count": 335,
   "metadata": {
    "collapsed": false,
    "deletable": true,
    "editable": true
   },
   "outputs": [
    {
     "data": {
      "text/plain": [
       "(0.99835128988464183,\n",
       " 0.00013363048368364195,\n",
       " array([ 0.99830495,  0.99850091,  0.99830191,  0.99829347,  0.99856759,\n",
       "         0.99828593,  0.99852408,  0.99809739,  0.99833713,  0.99829954]))"
      ]
     },
     "execution_count": 335,
     "metadata": {},
     "output_type": "execute_result"
    }
   ],
   "source": [
    "np.array(scores).mean(), np.array(scores).std(), scores"
   ]
  }
 ],
 "metadata": {
  "kernelspec": {
   "display_name": "Python 2",
   "language": "python",
   "name": "python2"
  },
  "language_info": {
   "codemirror_mode": {
    "name": "ipython",
    "version": 2
   },
   "file_extension": ".py",
   "mimetype": "text/x-python",
   "name": "python",
   "nbconvert_exporter": "python",
   "pygments_lexer": "ipython2",
   "version": "2.7.13"
  }
 },
 "nbformat": 4,
 "nbformat_minor": 2
}
