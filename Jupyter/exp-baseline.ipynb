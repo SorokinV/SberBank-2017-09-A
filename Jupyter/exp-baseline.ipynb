{
 "cells": [
  {
   "cell_type": "code",
   "execution_count": 1,
   "metadata": {
    "collapsed": true,
    "deletable": true,
    "editable": true
   },
   "outputs": [],
   "source": [
    "# 2017-10-03 baseline (only)                         --> LB=0.78\n",
    "# 2017-10-03 baseline with lemmarization (pymorphy2) --> LB=0.83991\n",
    "# 2017-10-03 baseline + lemmarization (pymorphy2)\n",
    "# 2017-10-04 baseline + lemmarization (pymorphy2) + base\n",
    "# 2017-10-05 baseline + lemmarization (pymorphy2) + base + XGB(natural) --> LB=0.8688\n",
    "# 2017-10-07 baseline + lemmarization (pymorphy2) + base - stopWords XGB(natural) -> 0.8755666207002808\n",
    "#\n",
    "#2017-10-13 + test.paragraph on sentences -> 0.9164478890738156\n",
    "#\n",
    "# 2017-10-30 -> 0.9331374717885157"
   ]
  },
  {
   "cell_type": "code",
   "execution_count": 2,
   "metadata": {
    "collapsed": false,
    "deletable": true,
    "editable": true
   },
   "outputs": [],
   "source": [
    "from __future__ import division\n",
    "import sys, os, datetime\n",
    "import pandas as pd\n",
    "from collections import Counter\n",
    "import functools\n",
    "#import tqdm\n",
    "import re\n",
    "import numpy as np\n",
    "import matplotlib.pyplot as plt\n",
    "from sklearn.ensemble import GradientBoostingClassifier\n",
    "import sklearn.metrics as skm\n",
    "import sklearn.model_selection as skms\n",
    "import pymorphy2"
   ]
  },
  {
   "cell_type": "code",
   "execution_count": 3,
   "metadata": {
    "collapsed": false,
    "deletable": true,
    "editable": true
   },
   "outputs": [
    {
     "name": "stderr",
     "output_type": "stream",
     "text": [
      "Using TensorFlow backend.\n"
     ]
    }
   ],
   "source": [
    "import gensim.models.word2vec"
   ]
  },
  {
   "cell_type": "code",
   "execution_count": 315,
   "metadata": {
    "collapsed": false,
    "deletable": true,
    "editable": true
   },
   "outputs": [],
   "source": [
    "#dftrain, dftest = pd.read_csv(\"../Data/train_task1_latest.csv\"), pd.read_csv(\"../Data/test_task1_latest.csv\")\n",
    "dftrain, dftest = pd.read_csv(\"../Work/train_task1_lemma.csv\"), pd.read_csv(\"../Work/test_task1_lemma.csv\")"
   ]
  },
  {
   "cell_type": "code",
   "execution_count": 316,
   "metadata": {
    "collapsed": false,
    "deletable": true,
    "editable": true
   },
   "outputs": [
    {
     "data": {
      "text/plain": [
       "((119398, 13),\n",
       " (74294, 12),\n",
       " ['paragraph_id',\n",
       "  'question_id',\n",
       "  'paragraph',\n",
       "  'question',\n",
       "  'target',\n",
       "  'paragraphL',\n",
       "  'questionL',\n",
       "  'paragraphLS',\n",
       "  'questionLS',\n",
       "  'paragraphLX',\n",
       "  'questionLX',\n",
       "  'paragraphLSX',\n",
       "  'questionLSX'])"
      ]
     },
     "execution_count": 316,
     "metadata": {},
     "output_type": "execute_result"
    }
   ],
   "source": [
    "dftrain.shape, dftest.shape, dftrain.columns.tolist()"
   ]
  },
  {
   "cell_type": "code",
   "execution_count": null,
   "metadata": {
    "collapsed": false,
    "deletable": true,
    "editable": true,
    "scrolled": true
   },
   "outputs": [],
   "source": []
  },
  {
   "cell_type": "code",
   "execution_count": 317,
   "metadata": {
    "collapsed": false,
    "deletable": true,
    "editable": true
   },
   "outputs": [],
   "source": [
    "#@functools.lru_cache(maxsize=2 ** 19)\n",
    "def uniq_words_old_baseline(text):\n",
    "    return set(re.findall(\"\\w+\", text.decode('utf-8'),re.UNICODE))\n",
    "\n",
    "def calculate_idfs_old_baseline(data):\n",
    "    counter_paragraph = Counter()\n",
    "    uniq_paragraphs = data['paragraph'].unique()\n",
    "    for paragraph in uniq_paragraphs : #tqdm.tqdm(uniq_paragraphs, desc=\"calc idf\"):\n",
    "        set_words = uniq_words_old_baseline(paragraph)\n",
    "        counter_paragraph.update(set_words)\n",
    "        \n",
    "    num_docs = uniq_paragraphs.shape[0]\n",
    "    idfs = {}\n",
    "    for word in counter_paragraph:\n",
    "        idfs[word] = np.log(float(num_docs) // counter_paragraph[word])\n",
    "    return idfs"
   ]
  },
  {
   "cell_type": "code",
   "execution_count": 318,
   "metadata": {
    "collapsed": true,
    "deletable": true,
    "editable": true
   },
   "outputs": [],
   "source": [
    "#@functools.lru_cache(maxsize=2 ** 19)\n",
    "def uniq_words(text):\n",
    "    ttext = [mm2.parse(xx)[0].normal_form for xx in re.findall(\"\\w+\", text.decode('utf-8'),re.UNICODE) \n",
    "             if mm2.parse(xx)[0].tag.POS not in {'PREP','CONJ','PRCL','INTJ'}]\n",
    "    return  set(ttext)\n",
    "    #return set(re.findall(\"\\w+\", text.decode('utf-8'),re.UNICODE))\n",
    "\n",
    "def calculate_idfs(data):\n",
    "    counter_paragraph = Counter()\n",
    "    uniq_paragraphs = data['paragraph'].unique()\n",
    "    for paragraph in uniq_paragraphs : #tqdm.tqdm(uniq_paragraphs, desc=\"calc idf\"):\n",
    "        set_words = uniq_words(paragraph)\n",
    "        counter_paragraph.update(set_words)\n",
    "        \n",
    "    num_docs = uniq_paragraphs.shape[0]\n",
    "    idfs = {}\n",
    "    for word in counter_paragraph:\n",
    "        idfs[word] = np.log(float(num_docs) // counter_paragraph[word])\n",
    "    return idfs"
   ]
  },
  {
   "cell_type": "code",
   "execution_count": 319,
   "metadata": {
    "collapsed": true,
    "deletable": true,
    "editable": true
   },
   "outputs": [],
   "source": [
    "#@functools.lru_cache(maxsize=2 ** 19)\n",
    "# add truncate 3 word\n",
    "def uniq_wordsX(text, minLen=3):\n",
    "    ttext = [xx for xx in re.findall(\"\\w+\", text.decode('utf-8'),re.UNICODE) if len(xx)>=minLen]\n",
    "    return set(re.findall(\"\\w+\", text.decode('utf-8'),re.UNICODE))\n",
    "\n",
    "def calculate_idfsX(data, column='paragraph'):\n",
    "    counter_paragraph = Counter()\n",
    "    uniq_paragraphs = data[column].unique()\n",
    "    for paragraph in uniq_paragraphs : #tqdm.tqdm(uniq_paragraphs, desc=\"calc idf\"):\n",
    "        set_words = uniq_wordsX(paragraph)\n",
    "        counter_paragraph.update(set_words)\n",
    "        \n",
    "    num_docs = uniq_paragraphs.shape[0]\n",
    "    idfs = {}\n",
    "    for word in counter_paragraph:\n",
    "        idfs[word] = np.log(float(num_docs) // counter_paragraph[word])\n",
    "    return idfs"
   ]
  },
  {
   "cell_type": "code",
   "execution_count": null,
   "metadata": {
    "collapsed": true,
    "deletable": true,
    "editable": true
   },
   "outputs": [],
   "source": []
  },
  {
   "cell_type": "code",
   "execution_count": 320,
   "metadata": {
    "collapsed": false,
    "deletable": true,
    "editable": true
   },
   "outputs": [],
   "source": [
    "idfs  = calculate_idfsX(dftrain,'paragraphLSX')\n",
    "idfs0 = calculate_idfsX(dftrain,'paragraph')"
   ]
  },
  {
   "cell_type": "code",
   "execution_count": 321,
   "metadata": {
    "collapsed": false,
    "deletable": true,
    "editable": true
   },
   "outputs": [
    {
     "data": {
      "text/html": [
       "<div>\n",
       "<table border=\"1\" class=\"dataframe\">\n",
       "  <thead>\n",
       "    <tr style=\"text-align: right;\">\n",
       "      <th></th>\n",
       "      <th>paragraph_id</th>\n",
       "      <th>question_id</th>\n",
       "      <th>paragraph</th>\n",
       "      <th>question</th>\n",
       "      <th>target</th>\n",
       "      <th>paragraphL</th>\n",
       "      <th>questionL</th>\n",
       "      <th>paragraphLS</th>\n",
       "      <th>questionLS</th>\n",
       "      <th>paragraphLX</th>\n",
       "      <th>questionLX</th>\n",
       "      <th>paragraphLSX</th>\n",
       "      <th>questionLSX</th>\n",
       "    </tr>\n",
       "  </thead>\n",
       "  <tbody>\n",
       "    <tr>\n",
       "      <th>0</th>\n",
       "      <td>1094</td>\n",
       "      <td>46273</td>\n",
       "      <td>В отличие от рыб, земноводные (амфибии) и прес...</td>\n",
       "      <td>С какого года Русское Царство перешло на летои...</td>\n",
       "      <td>0.0</td>\n",
       "      <td>в отличие от рыба , земноводный ( амфибия ) и ...</td>\n",
       "      <td>с какой год русский царство перейти на летоисч...</td>\n",
       "      <td>отличие рыба , земноводный ( амфибия ) пресмык...</td>\n",
       "      <td>год русский царство перейти летоисчисление рож...</td>\n",
       "      <td>отличие рыба , земноводный ( амфибия ) пресмык...</td>\n",
       "      <td>какой год русский царство перейти летоисчислен...</td>\n",
       "      <td>отличие рыба , земноводный ( амфибия ) пресмык...</td>\n",
       "      <td>год русский царство перейти летоисчисление рож...</td>\n",
       "    </tr>\n",
       "  </tbody>\n",
       "</table>\n",
       "</div>"
      ],
      "text/plain": [
       "   paragraph_id  question_id  \\\n",
       "0          1094        46273   \n",
       "\n",
       "                                           paragraph  \\\n",
       "0  В отличие от рыб, земноводные (амфибии) и прес...   \n",
       "\n",
       "                                            question  target  \\\n",
       "0  С какого года Русское Царство перешло на летои...     0.0   \n",
       "\n",
       "                                          paragraphL  \\\n",
       "0  в отличие от рыба , земноводный ( амфибия ) и ...   \n",
       "\n",
       "                                           questionL  \\\n",
       "0  с какой год русский царство перейти на летоисч...   \n",
       "\n",
       "                                         paragraphLS  \\\n",
       "0  отличие рыба , земноводный ( амфибия ) пресмык...   \n",
       "\n",
       "                                          questionLS  \\\n",
       "0  год русский царство перейти летоисчисление рож...   \n",
       "\n",
       "                                         paragraphLX  \\\n",
       "0  отличие рыба , земноводный ( амфибия ) пресмык...   \n",
       "\n",
       "                                          questionLX  \\\n",
       "0  какой год русский царство перейти летоисчислен...   \n",
       "\n",
       "                                        paragraphLSX  \\\n",
       "0  отличие рыба , земноводный ( амфибия ) пресмык...   \n",
       "\n",
       "                                         questionLSX  \n",
       "0  год русский царство перейти летоисчисление рож...  "
      ]
     },
     "execution_count": 321,
     "metadata": {},
     "output_type": "execute_result"
    }
   ],
   "source": [
    "dftrain[:1]"
   ]
  },
  {
   "cell_type": "code",
   "execution_count": 322,
   "metadata": {
    "collapsed": false,
    "deletable": true,
    "editable": true
   },
   "outputs": [],
   "source": [
    "#print(dftrain.paragraph[0])"
   ]
  },
  {
   "cell_type": "code",
   "execution_count": 323,
   "metadata": {
    "collapsed": false,
    "deletable": true,
    "editable": true
   },
   "outputs": [],
   "source": [
    "#paragraph = uniq_words(str(dftrain.paragraph[0]));\n",
    "#print len(paragraph)\n",
    "#for xx in paragraph : print xx"
   ]
  },
  {
   "cell_type": "code",
   "execution_count": 324,
   "metadata": {
    "collapsed": true,
    "deletable": true,
    "editable": true
   },
   "outputs": [],
   "source": [
    "def newFields (paragraph, question) :\n",
    "    return(len(paragraph), \\\n",
    "           len(question), \\\n",
    "           len(paragraph & question), \\\n",
    "           np.sum([idfs.get(word, 0.0) for word in question]), \\\n",
    "           np.sum([idfs.get(word, 0.0) for word in paragraph]), \\\n",
    "           np.sum([idfs.get(word, 0.0) for word in paragraph & question]), \\\n",
    "           float(len(paragraph & question))/len(question), \\\n",
    "           np.sum([idfs.get(word, 0.0) for word in paragraph & question])/(np.sum([idfs.get(word, 0.0) for word in question]))\n",
    "          )"
   ]
  },
  {
   "cell_type": "code",
   "execution_count": null,
   "metadata": {
    "collapsed": true,
    "deletable": true,
    "editable": true
   },
   "outputs": [],
   "source": []
  },
  {
   "cell_type": "code",
   "execution_count": 325,
   "metadata": {
    "collapsed": false,
    "deletable": true,
    "editable": true
   },
   "outputs": [
    {
     "name": "stdout",
     "output_type": "stream",
     "text": [
      "387384\n"
     ]
    }
   ],
   "source": [
    "sentences  = dftrain['paragraphL'].tolist()+dftrain.questionL.tolist()\n",
    "sentences += dftest ['paragraphL'].tolist()+dftest.questionL.tolist()\n",
    "sentences = [[ss.decode('utf-8') for ss in s.split(' ')] for s in sentences]\n",
    "print len(sentences) #, sentences[0]"
   ]
  },
  {
   "cell_type": "code",
   "execution_count": 326,
   "metadata": {
    "collapsed": false,
    "deletable": true,
    "editable": true,
    "scrolled": true
   },
   "outputs": [
    {
     "name": "stdout",
     "output_type": "stream",
     "text": [
      "2017-10-30 04:26:40.488286\n",
      "2017-10-30 04:28:05.243394\n"
     ]
    }
   ],
   "source": [
    "print datetime.datetime.now()\n",
    "model = gensim.models.word2vec.Word2Vec(sentences, size=100, window=5, workers=4, min_count=1)\n",
    "wv    = model.wv\n",
    "print datetime.datetime.now()"
   ]
  },
  {
   "cell_type": "code",
   "execution_count": 327,
   "metadata": {
    "collapsed": false,
    "deletable": true,
    "editable": true
   },
   "outputs": [],
   "source": [
    "if 0 : model.save(\"../Work/model_word2vec1\"); wv=model.wv\n",
    "if 1 : model = gensim.models.Word2Vec.load(\"../Work/model_word2vec1\"); wv=model.wv"
   ]
  },
  {
   "cell_type": "code",
   "execution_count": null,
   "metadata": {
    "collapsed": true,
    "deletable": true,
    "editable": true
   },
   "outputs": [],
   "source": []
  },
  {
   "cell_type": "code",
   "execution_count": 328,
   "metadata": {
    "collapsed": false,
    "deletable": true,
    "editable": true
   },
   "outputs": [
    {
     "name": "stdout",
     "output_type": "stream",
     "text": [
      "2017-10-30 04:29:04.132219 train 0\n"
     ]
    },
    {
     "name": "stderr",
     "output_type": "stream",
     "text": [
      "/home/boba/anaconda2/envs/tensorflow-gpu/lib/python2.7/site-packages/ipykernel/__main__.py:2: RuntimeWarning: invalid value encountered in double_scalars\n",
      "  from ipykernel import kernelapp as app\n"
     ]
    },
    {
     "name": "stdout",
     "output_type": "stream",
     "text": [
      "2017-10-30 04:33:00.216084 train 10000\n",
      "2017-10-30 04:36:52.028441 train 20000\n",
      "2017-10-30 04:40:47.161004 train 30000\n",
      "2017-10-30 04:44:46.135881 train 40000\n",
      "2017-10-30 04:48:44.532433 train 50000\n",
      "2017-10-30 04:52:36.304718 train 60000\n",
      "2017-10-30 04:56:27.129838 train 70000\n",
      "2017-10-30 05:00:19.049104 train 80000\n",
      "2017-10-30 05:04:11.689934 train 90000\n",
      "2017-10-30 05:08:00.921744 train 100000\n",
      "2017-10-30 05:11:56.739159 train 110000\n",
      "2017-10-30 05:15:34.730606 test 0\n",
      "2017-10-30 05:19:44.110302 test 10000\n",
      "2017-10-30 05:23:50.483046 test 20000\n",
      "2017-10-30 05:27:59.802567 test 30000\n",
      "2017-10-30 05:32:08.658610 test 40000\n",
      "2017-10-30 05:36:15.891525 test 50000\n",
      "2017-10-30 05:40:22.388936 test 60000\n",
      "2017-10-30 05:44:31.574641 test 70000\n"
     ]
    }
   ],
   "source": [
    "for name, df in [('train', dftrain), ('test', dftest)]:\n",
    "    for index, row in df.iterrows() : #tqdm.tqdm(df.iterrows(), total=df.shape[0], desc=\"build features for \" + name):\n",
    "        \n",
    "        if index%10000==0 : print datetime.datetime.now(), name, index\n",
    "        \n",
    "        question  = uniq_wordsX(row.questionLSX)\n",
    "        paragraph = uniq_wordsX(row.paragraphLSX)\n",
    "        PQ        = newFields (paragraph, question) \n",
    "        ##print index,PQ\n",
    "        df.loc[index, 'len_paragraph']    = PQ[0]\n",
    "        df.loc[index, 'len_question']     = PQ[1]\n",
    "        df.loc[index, 'len_intersection'] = PQ[2]\n",
    "        df.loc[index, 'idf_question']     = PQ[3]\n",
    "        df.loc[index, 'idf_paragraph']    = PQ[4]\n",
    "        df.loc[index, 'idf_intersection'] = PQ[5]\n",
    "        \n",
    "        df.loc[index, 'len_intNorm']      = PQ[6]\n",
    "        df.loc[index, 'idf_intNorm']      = PQ[7]\n",
    "        \n",
    "        pp                    = [unicode(ppx,'utf-8') for ppx in row.paragraphLSX.split()]\n",
    "        qq                    = [unicode(qqx,'utf-8') for qqx in row.questionLSX.split()]\n",
    "        try    : w2v = wv.n_similarity(pp,qq)\n",
    "        except : w2v = -2.0\n",
    "            \n",
    "        #for ppx in pp : print ppx, wv[ppx].shape\n",
    "            \n",
    "        df.loc[index, 'w2v_pqf'] = w2v\n",
    "        \n",
    "        df.loc[index, 'w2v_wmd'] = model2.wmdistance(pp,qq)\n",
    "\n",
    "            \n",
    "        #print w2v,pp,qq\n",
    "\n",
    "        \n",
    "        question  = uniq_wordsX(row.question)\n",
    "        paragraph = uniq_wordsX(row.paragraph)\n",
    "        PQ        = newFields (paragraph, question) \n",
    "        df.loc[index, 'len_paragraph0']    = PQ[0]\n",
    "        df.loc[index, 'len_question0']     = PQ[1]\n",
    "        df.loc[index, 'len_intersection0'] = PQ[2]\n",
    "        df.loc[index, 'idf_question0']     = PQ[3]\n",
    "        df.loc[index, 'idf_paragraph0']    = PQ[4]\n",
    "        df.loc[index, 'idf_intersection0'] = PQ[5]\n",
    "        \n",
    "        df.loc[index, 'len_intNorm0']      = PQ[6]\n",
    "        df.loc[index, 'idf_intNorm0']      = PQ[7]\n"
   ]
  },
  {
   "cell_type": "code",
   "execution_count": 329,
   "metadata": {
    "collapsed": false,
    "deletable": true,
    "editable": true
   },
   "outputs": [
    {
     "data": {
      "text/plain": [
       "(Index([u'paragraph_id', u'question_id', u'paragraph', u'question', u'target',\n",
       "        u'paragraphL', u'questionL', u'paragraphLS', u'questionLS',\n",
       "        u'paragraphLX', u'questionLX', u'paragraphLSX', u'questionLSX',\n",
       "        u'len_paragraph', u'len_question', u'len_intersection', u'idf_question',\n",
       "        u'idf_paragraph', u'idf_intersection', u'len_intNorm', u'idf_intNorm',\n",
       "        u'w2v_pqf', u'w2v_wmd', u'len_paragraph0', u'len_question0',\n",
       "        u'len_intersection0', u'idf_question0', u'idf_paragraph0',\n",
       "        u'idf_intersection0', u'len_intNorm0', u'idf_intNorm0'],\n",
       "       dtype='object'),\n",
       " Index([u'paragraph_id', u'question_id', u'paragraph', u'question',\n",
       "        u'paragraphL', u'questionL', u'paragraphLS', u'questionLS',\n",
       "        u'paragraphLX', u'questionLX', u'paragraphLSX', u'questionLSX',\n",
       "        u'len_paragraph', u'len_question', u'len_intersection', u'idf_question',\n",
       "        u'idf_paragraph', u'idf_intersection', u'len_intNorm', u'idf_intNorm',\n",
       "        u'w2v_pqf', u'w2v_wmd', u'len_paragraph0', u'len_question0',\n",
       "        u'len_intersection0', u'idf_question0', u'idf_paragraph0',\n",
       "        u'idf_intersection0', u'len_intNorm0', u'idf_intNorm0'],\n",
       "       dtype='object'))"
      ]
     },
     "execution_count": 329,
     "metadata": {},
     "output_type": "execute_result"
    }
   ],
   "source": [
    "dftrain.columns, dftest.columns"
   ]
  },
  {
   "cell_type": "code",
   "execution_count": 330,
   "metadata": {
    "collapsed": true,
    "deletable": true,
    "editable": true
   },
   "outputs": [],
   "source": [
    "if 1 : \n",
    "    dftrain.to_csv(\"../Work/train_task1_compute.csv\",index=False)\n",
    "    dftest.to_csv (\"../Work/test_task1_compute.csv\",index=False)\n",
    "if 0 : \n",
    "    dftrain, dftest = pd.read_csv(\"../Work/train_task1_compute.csv\"), pd.read_csv(\"../Work/test_task1_compute.csv\")"
   ]
  },
  {
   "cell_type": "code",
   "execution_count": 331,
   "metadata": {
    "collapsed": false,
    "deletable": true,
    "editable": true
   },
   "outputs": [
    {
     "data": {
      "text/plain": [
       "(array([ 0.,  1.]),\n",
       " (119398, 31),\n",
       " 0.28507177674667916,\n",
       " (34037, 31),\n",
       " (74294, 30))"
      ]
     },
     "execution_count": 331,
     "metadata": {},
     "output_type": "execute_result"
    }
   ],
   "source": [
    "dftrain.loc[(np.isinf(dftrain.w2v_wmd)),'w2v_wmd']=-2\n",
    "dftrain[(np.isinf(dftrain.w2v_wmd))].head()\n",
    "dftrain.target.unique(), dftrain.shape, dftrain.target.mean(), dftrain[dftrain.target==1].shape, dftest.shape"
   ]
  },
  {
   "cell_type": "code",
   "execution_count": 332,
   "metadata": {
    "collapsed": false,
    "deletable": true,
    "editable": true
   },
   "outputs": [
    {
     "data": {
      "image/png": "[encoded data removed]",
      "text/plain": [
       "<matplotlib.figure.Figure at 0x7f4c9667c850>"
      ]
     },
     "metadata": {},
     "output_type": "display_data"
    },
    {
     "data": {
      "image/png": "[encoded data removed]",
      "text/plain": [
       "<matplotlib.figure.Figure at 0x7f4c93691490>"
      ]
     },
     "metadata": {},
     "output_type": "display_data"
    },
    {
     "data": {
      "image/png": "[encoded data removed]",
      "text/plain": [
       "<matplotlib.figure.Figure at 0x7f4a4a707f10>"
      ]
     },
     "metadata": {},
     "output_type": "display_data"
    },
    {
     "data": {
      "text/plain": [
       "(-2.0, 0.99943272080415768, 0.99931279997425737, 3087, 803)"
      ]
     },
     "execution_count": 332,
     "metadata": {},
     "output_type": "execute_result"
    }
   ],
   "source": [
    "plt.hist(dftrain.w2v_pqf,bins=100); plt.show()\n",
    "plt.figure(figsize=(15,5))\n",
    "plt.subplot(131);\n",
    "plt.hist(dftrain.w2v_pqf[dftrain.target==0],bins=100);\n",
    "plt.hist(dftrain.w2v_pqf[dftrain.target==1],bins=100);\n",
    "plt.subplot(132);\n",
    "plt.hist(dftrain.w2v_pqf[dftrain.target==0],bins=100);\n",
    "plt.subplot(133);\n",
    "plt.hist(dftrain.w2v_pqf[dftrain.target==1],bins=100); \n",
    "plt.show()\n",
    "plt.hist(dftest.w2v_pqf,bins=100); plt.show()\n",
    "dftrain.w2v_pqf.min(),dftrain.w2v_pqf.max(),dftest.w2v_pqf.max(), len(dftrain[dftrain.w2v_pqf==-2]), len(dftest[dftest.w2v_pqf==-2])"
   ]
  },
  {
   "cell_type": "code",
   "execution_count": 199,
   "metadata": {
    "collapsed": false,
    "deletable": true,
    "editable": true
   },
   "outputs": [
    {
     "data": {
      "text/plain": [
       "((119398, 30), (74294, 29))"
      ]
     },
     "execution_count": 199,
     "metadata": {},
     "output_type": "execute_result"
    }
   ],
   "source": [
    "dftrain.shape,dftest.shape"
   ]
  },
  {
   "cell_type": "code",
   "execution_count": 200,
   "metadata": {
    "collapsed": false,
    "deletable": true,
    "editable": true
   },
   "outputs": [],
   "source": [
    "# Build word2vec model 2"
   ]
  },
  {
   "cell_type": "code",
   "execution_count": 201,
   "metadata": {
    "collapsed": false,
    "deletable": true,
    "editable": true
   },
   "outputs": [
    {
     "name": "stdout",
     "output_type": "stream",
     "text": [
      "1610230\n"
     ]
    }
   ],
   "source": [
    "sentences  = dftrain['paragraphL'].tolist()\n",
    "sentences += dftest ['paragraphL'].tolist()\n",
    "\n",
    "ps = []\n",
    "for ps1 in sentences : ps.extend(ps1.split('.'))\n",
    "sentences = ps; del ps, ps1\n",
    "\n",
    "sentences += dftrain.questionL.tolist()\n",
    "sentences += dftest.questionL.tolist()\n",
    "sentences = [[ss.decode('utf-8') for ss in s.split(' ')] for s in sentences]\n",
    "print len(sentences) #, sentences[0]"
   ]
  },
  {
   "cell_type": "code",
   "execution_count": null,
   "metadata": {
    "collapsed": false,
    "deletable": true,
    "editable": true
   },
   "outputs": [],
   "source": []
  },
  {
   "cell_type": "code",
   "execution_count": 202,
   "metadata": {
    "collapsed": false,
    "deletable": true,
    "editable": true,
    "scrolled": true
   },
   "outputs": [
    {
     "name": "stdout",
     "output_type": "stream",
     "text": [
      "2017-10-30 00:50:35.199235\n",
      "2017-10-30 00:52:12.528671\n"
     ]
    }
   ],
   "source": [
    "print datetime.datetime.now()\n",
    "model2 = gensim.models.word2vec.Word2Vec(sentences, size=100, window=5, workers=4, min_count=1)\n",
    "wv    = model2.wv\n",
    "print datetime.datetime.now()"
   ]
  },
  {
   "cell_type": "code",
   "execution_count": 333,
   "metadata": {
    "collapsed": false,
    "deletable": true,
    "editable": true
   },
   "outputs": [],
   "source": [
    "if 0: model2.save(\"../Work/model_word2vec2\"); wv=model2.wv\n",
    "if 1: model2 = gensim.models.Word2Vec.load(\"../Work/model_word2vec2\"); wv=model2.wv"
   ]
  },
  {
   "cell_type": "code",
   "execution_count": null,
   "metadata": {
    "collapsed": false,
    "deletable": true,
    "editable": true
   },
   "outputs": [],
   "source": []
  },
  {
   "cell_type": "code",
   "execution_count": null,
   "metadata": {
    "collapsed": true,
    "deletable": true,
    "editable": true
   },
   "outputs": [],
   "source": []
  },
  {
   "cell_type": "code",
   "execution_count": 334,
   "metadata": {
    "collapsed": false,
    "deletable": true,
    "editable": true
   },
   "outputs": [
    {
     "name": "stdout",
     "output_type": "stream",
     "text": [
      "2017-10-30 05:46:47.370234 test 0\n",
      "2017-10-30 05:49:53.237300 test 10000\n"
     ]
    },
    {
     "name": "stderr",
     "output_type": "stream",
     "text": [
      "/home/boba/anaconda2/envs/tensorflow-gpu/lib/python2.7/site-packages/ipykernel/__main__.py:2: RuntimeWarning: invalid value encountered in double_scalars\n",
      "  from ipykernel import kernelapp as app\n"
     ]
    },
    {
     "name": "stdout",
     "output_type": "stream",
     "text": [
      "2017-10-30 05:52:48.107333 test 20000\n",
      "2017-10-30 05:55:42.715377 test 30000\n",
      "2017-10-30 05:58:34.485012 test 40000\n",
      "2017-10-30 06:01:24.881845 test 50000\n",
      "2017-10-30 06:04:12.145411 test 60000\n",
      "2017-10-30 06:07:06.102070 test 70000\n"
     ]
    }
   ],
   "source": [
    "#dftrain['w2v_wmd'] = -2.0\n",
    "#dftest ['w2v_wmd'] = -2.0\n",
    "\n",
    "#for name, df in [('train', dftrain), ('test', dftest)]:\n",
    "for name, df in [('test', dftest)]:\n",
    "    df1 = []; \n",
    "    for index, row0 in df.iterrows() : #tqdm.tqdm(df.iterrows(), total=df.shape[0], desc=\"build features for \" + name):\n",
    "        \n",
    "        if index%10000==0 : print datetime.datetime.now(), name, index\n",
    "            \n",
    "        pars  = row0.paragraphLSX.split('.')\n",
    "        pars0 = row0.paragraph.split('.')\n",
    "        if len(pars)<1 : continue;\n",
    "        \n",
    "        for par0,par1 in zip(pars0,pars) :\n",
    "            if len(par1)<=1 : continue\n",
    "            row1 = row0.copy(); \n",
    "            \n",
    "            row1.paragraph    = par0\n",
    "            row1.paragraphLSX = par1\n",
    "            \n",
    "            #print(row1.paragraph)\n",
    "            #print(row1.question)\n",
    "            \n",
    "            question  = uniq_wordsX(row1.questionLSX)\n",
    "            paragraph = uniq_wordsX(row1.paragraphLSX)\n",
    "            PQ        = newFields (paragraph, question) \n",
    "            row1.len_paragraph    = PQ[0]\n",
    "            row1.len_question     = PQ[1]\n",
    "            row1.len_intersection = PQ[2]\n",
    "            row1.idf_question     = PQ[3]\n",
    "            row1.idf_paragraph    = PQ[4]\n",
    "            row1.idf_intersection = PQ[5]\n",
    "\n",
    "            row1.len_intNorm      = PQ[6]\n",
    "            row1.idf_intNorm      = PQ[7]\n",
    "            \n",
    "            '''\n",
    "            pp                    = row1.paragraphLSX.split()\n",
    "            qq                    = row1.questionLSX.split()\n",
    "            '''\n",
    "            pp                    = [unicode(ppx,'utf-8') for ppx in row1.paragraphLSX.split()]\n",
    "            qq                    = [unicode(qqx,'utf-8') for qqx in row1.questionLSX.split()]\n",
    "            try    : row1.w2v_pqf = wv.n_similarity(pp,qq)\n",
    "            except : row1.w2v_pqf = -2.0\n",
    "            \n",
    "            row1.w2v_wmd = model2.wmdistance(pp,qq)\n",
    "            \n",
    "            '''\n",
    "            question  = uniq_wordsX(row1.question)\n",
    "            paragraph = uniq_wordsX(row1.paragraph)\n",
    "            PQ        = newFields (paragraph, question) \n",
    "            row1.len_paragraph0   = PQ[0]\n",
    "            row1.len_question0    = PQ[1]\n",
    "            row1.len_intersection0= PQ[2]\n",
    "            row1.idf_question0    = PQ[3]\n",
    "            row1.idf_paragraph0   = PQ[4]\n",
    "            row1.idf_intersection0= PQ[5]\n",
    "\n",
    "            row1.len_intNorm0     = PQ[6]\n",
    "            '''\n",
    "            \n",
    "            df1.append(row1)\n",
    "        \n",
    "    df1 = pd.DataFrame.from_dict(df1)\n",
    "    if name=='train' :    dftrain  = df1; #dftrain.append(df1)\n",
    "    if name=='test'  :    dftest   = df1; #dftest.append(df1)"
   ]
  },
  {
   "cell_type": "code",
   "execution_count": 286,
   "metadata": {
    "collapsed": false,
    "deletable": true,
    "editable": true
   },
   "outputs": [],
   "source": [
    "if 0 : \n",
    "    dftrain.to_csv(\"../Work/train_task2_compute.csv\",index=False)\n",
    "    dftest.to_csv (\"../Work/test_task2_compute.csv\",index=False)\n",
    "if 1 : \n",
    "    dftrain, dftest = pd.read_csv(\"../Work/train_task2_compute.csv\"), pd.read_csv(\"../Work/test_task2_compute.csv\")"
   ]
  },
  {
   "cell_type": "code",
   "execution_count": 335,
   "metadata": {
    "collapsed": false,
    "deletable": true,
    "editable": true,
    "scrolled": true
   },
   "outputs": [
    {
     "name": "stdout",
     "output_type": "stream",
     "text": [
      "(491449, 30) (119398, 31) Index([u'paragraph_id', u'question_id', u'paragraph', u'question', u'target',\n",
      "       u'paragraphL', u'questionL', u'paragraphLS', u'questionLS',\n",
      "       u'paragraphLX', u'questionLX', u'paragraphLSX', u'questionLSX',\n",
      "       u'len_paragraph', u'len_question', u'len_intersection', u'idf_question',\n",
      "       u'idf_paragraph', u'idf_intersection', u'len_intNorm', u'idf_intNorm',\n",
      "       u'w2v_pqf', u'w2v_wmd', u'len_paragraph0', u'len_question0',\n",
      "       u'len_intersection0', u'idf_question0', u'idf_paragraph0',\n",
      "       u'idf_intersection0', u'len_intNorm0', u'idf_intNorm0'],\n",
      "      dtype='object')\n"
     ]
    }
   ],
   "source": [
    "#row0,row1, \n",
    "print dftest.shape, dftrain.shape, dftrain.columns"
   ]
  },
  {
   "cell_type": "code",
   "execution_count": 288,
   "metadata": {
    "collapsed": false,
    "deletable": true,
    "editable": true
   },
   "outputs": [
    {
     "name": "stdout",
     "output_type": "stream",
     "text": [
      "(728004, 31)\n",
      "(116005, 32)\n"
     ]
    }
   ],
   "source": [
    "dff    = dftrain.copy()\n",
    "print  dftrain.shape\n",
    "\n",
    "# max only target==1\n",
    "##dfgroup=dff[dff.target==1][['paragraph_id','question_id','w2v_pqf']].groupby(['paragraph_id','question_id'])\n",
    "dfgroup=dff[dff.target==1][['paragraph_id','question_id','w2v_wmd']].groupby(['paragraph_id','question_id'])\n",
    "dfw2v  =dfgroup.max()\n",
    "##dff = dff.set_index(['paragraph_id','question_id','w2v_pqf'])\n",
    "dff = dff.set_index(['paragraph_id','question_id','w2v_wmd'])\n",
    "dff['ttarget']   = 0.0\n",
    "dfw2v['ttarget'] = 1.0\n",
    "##dfw2v = dfw2v.reset_index().set_index(['paragraph_id','question_id','w2v_pqf'])\n",
    "dfw2v = dfw2v.reset_index().set_index(['paragraph_id','question_id','w2v_wmd'])\n",
    "dff.ttarget = dfw2v.ttarget \n",
    "dff.loc[dff.target==0.0,'ttarget'] = 0.0 \n",
    "dff = dff.dropna()\n",
    "dff = dff.reset_index()\n",
    "\n",
    "# max only target==0\n",
    "dfgroup=dff[dff.target==0][['paragraph_id','question_id','w2v_pqf']].groupby(['paragraph_id','question_id'])\n",
    "##dfgroup=dff[dff.target==0][['paragraph_id','question_id','w2v_wmd']].groupby(['paragraph_id','question_id'])\n",
    "dfw2v  =dfgroup.max()\n",
    "dff = dff.set_index(['paragraph_id','question_id','w2v_pqf'])\n",
    "##dff = dff.set_index(['paragraph_id','question_id','w2v_wmd'])\n",
    "dff['ttarget']   = -1.0\n",
    "dfw2v['ttarget'] =  0.0\n",
    "dfw2v = dfw2v.reset_index().set_index(['paragraph_id','question_id','w2v_pqf'])\n",
    "##dfw2v = dfw2v.reset_index().set_index(['paragraph_id','question_id','w2v_wmd'])\n",
    "dff.ttarget = dfw2v.ttarget \n",
    "dff.loc[dff.target==1.0,'ttarget'] = 1.0 \n",
    "dff = dff.dropna()\n",
    "dff = dff.reset_index()\n",
    "\n",
    "dftrain = dff.copy()\n",
    "dftrain.target = dftrain.ttarget\n",
    "print  dftrain.shape\n",
    "#print dftrain.head()\n",
    "#plt.hist(dfw2v.w2v_pq1,bins=100); plt.show()"
   ]
  },
  {
   "cell_type": "code",
   "execution_count": 336,
   "metadata": {
    "collapsed": false
   },
   "outputs": [
    {
     "data": {
      "text/plain": [
       "(array([ 0.,  1.]),\n",
       " (119398, 31),\n",
       " 0.28507177674667916,\n",
       " (34037, 31),\n",
       " (491449, 30))"
      ]
     },
     "execution_count": 336,
     "metadata": {},
     "output_type": "execute_result"
    }
   ],
   "source": [
    "dftrain.loc[(np.isinf(dftrain.w2v_wmd)),'w2v_wmd']=-2\n",
    "dftrain[(np.isinf(dftrain.w2v_wmd))].head()\n",
    "dftrain.target.unique(), dftrain.shape, dftrain.target.mean(), dftrain[dftrain.target==1].shape, dftest.shape"
   ]
  },
  {
   "cell_type": "code",
   "execution_count": 338,
   "metadata": {
    "collapsed": false,
    "deletable": true,
    "editable": true,
    "scrolled": false
   },
   "outputs": [
    {
     "data": {
      "image/png": "[encoded data removed]",
      "text/plain": [
       "<matplotlib.figure.Figure at 0x7f4d3a344050>"
      ]
     },
     "metadata": {},
     "output_type": "display_data"
    },
    {
     "data": {
      "image/png": "[encoded data removed]",
      "text/plain": [
       "<matplotlib.figure.Figure at 0x7f4d3c213f10>"
      ]
     },
     "metadata": {},
     "output_type": "display_data"
    },
    {
     "data": {
      "image/png": "[encoded data removed]",
      "text/plain": [
       "<matplotlib.figure.Figure at 0x7f4d433ff850>"
      ]
     },
     "metadata": {},
     "output_type": "display_data"
    },
    {
     "data": {
      "image/png": "[encoded data removed]",
      "text/plain": [
       "<matplotlib.figure.Figure at 0x7f4d787d2310>"
      ]
     },
     "metadata": {},
     "output_type": "display_data"
    },
    {
     "data": {
      "image/png": "[encoded data removed]",
      "text/plain": [
       "<matplotlib.figure.Figure at 0x7f4d8216b7d0>"
      ]
     },
     "metadata": {},
     "output_type": "display_data"
    },
    {
     "data": {
      "text/plain": [
       "(-2.0, 0.99943272080415768, 0.99926666352040761, 3087, 6)"
      ]
     },
     "execution_count": 338,
     "metadata": {},
     "output_type": "execute_result"
    }
   ],
   "source": [
    "plt.hist(dftrain.w2v_wmd,bins=100); plt.show()\n",
    "plt.hist(dftest.w2v_wmd,bins=100); plt.show()\n",
    "plt.hist(dftrain.w2v_pqf,bins=100); plt.show()\n",
    "plt.figure(figsize=(15,5))\n",
    "plt.subplot(131);\n",
    "plt.hist(dftrain.w2v_pqf[dftrain.target==0],bins=100);\n",
    "plt.hist(dftrain.w2v_pqf[dftrain.target==1],bins=100);\n",
    "plt.subplot(132);\n",
    "plt.hist(dftrain.w2v_pqf[dftrain.target==0],bins=100);\n",
    "plt.subplot(133);\n",
    "plt.hist(dftrain.w2v_pqf[dftrain.target==1],bins=100); \n",
    "plt.show()\n",
    "plt.hist(dftest.w2v_pqf,bins=100); plt.show()\n",
    "dftrain.w2v_pqf.min(),dftrain.w2v_pqf.max(),dftest.w2v_pqf.max(), len(dftrain[dftrain.w2v_pqf==-2]), len(dftest[dftest.w2v_pqf==-2])"
   ]
  },
  {
   "cell_type": "code",
   "execution_count": 339,
   "metadata": {
    "collapsed": false,
    "deletable": true,
    "editable": true
   },
   "outputs": [
    {
     "name": "stderr",
     "output_type": "stream",
     "text": [
      "/home/boba/anaconda2/envs/tensorflow-gpu/lib/python2.7/site-packages/ipykernel/__main__.py:1: UserWarning: Boolean Series key will be reindexed to match DataFrame index.\n",
      "  if __name__ == '__main__':\n"
     ]
    }
   ],
   "source": [
    "xx = dftrain[dftrain.w2v_pqf==-2][dftrain.target==1]\n",
    "xx.shape\n",
    "for ii,row1 in xx[:5].iterrows() :\n",
    "        pp                    = row1.paragraphLSX.split()\n",
    "        qq                    = row1.questionLSX.split()\n",
    "        for ppx in pp :\n",
    "            for qqx in qq :\n",
    "                try : w2v_pqf = wv.similarity(unicode(ppx,'utf-8'),unicode(qqx,'utf-8'))\n",
    "                except : print ppx,qqx"
   ]
  },
  {
   "cell_type": "code",
   "execution_count": null,
   "metadata": {
    "collapsed": false,
    "deletable": true,
    "editable": true
   },
   "outputs": [],
   "source": []
  },
  {
   "cell_type": "code",
   "execution_count": 374,
   "metadata": {
    "collapsed": true,
    "deletable": true,
    "editable": true
   },
   "outputs": [],
   "source": [
    "dftrain['len_queNorm']  = dftrain.len_question/dftrain.len_paragraph\n",
    "dftrain['len_queNorm0'] = dftrain.len_question0/dftrain.len_paragraph0\n",
    "dftest['len_queNorm']   = dftest.len_question/dftest.len_paragraph\n",
    "dftest['len_queNorm0']  = dftest.len_question0/dftest.len_paragraph0\n",
    "\n",
    "dftrain['idf_queNorm']  = dftrain.idf_question/dftrain.idf_paragraph\n",
    "dftrain['idf_queNorm0'] = dftrain.idf_question0/dftrain.idf_paragraph0\n",
    "dftest['idf_queNorm']   = dftest.idf_question/dftest.idf_paragraph\n",
    "dftest['idf_queNorm0']  = dftest.idf_question0/dftest.idf_paragraph0\n",
    "\n",
    "dftrain['len_queIntNorm']  = dftrain.len_intNorm*dftrain.len_queNorm\n",
    "dftrain['len_queIntNorm0'] = dftrain.len_intNorm0*dftrain.len_queNorm0\n",
    "dftest ['len_queIntNorm']  = dftest.len_intNorm*dftest.len_queNorm\n",
    "dftest ['len_queIntNorm0'] = dftest.len_intNorm0*dftest.len_queNorm0\n",
    "\n",
    "dftrain['idf_queIntNorm']  = dftrain.idf_intNorm*dftrain.idf_queNorm\n",
    "dftrain['idf_queIntNorm0'] = dftrain.idf_intNorm0*dftrain.idf_queNorm0\n",
    "dftest ['idf_queIntNorm']  = dftest.idf_intNorm*dftest.idf_queNorm\n",
    "dftest ['idf_queIntNorm0'] = dftest.idf_intNorm0*dftest.idf_queNorm0\n",
    "\n",
    "dftrain['wmd_queNorm']     = dftrain.w2v_wmd/dftrain.len_question\n",
    "dftest ['wmd_queNorm']     = dftest.w2v_wmd/dftest.len_question\n",
    "\n",
    "dftrain['wmd_queNorm2']    = dftrain.w2v_wmd/(dftrain.len_question+dftrain.len_paragraph)\n",
    "dftest ['wmd_queNorm2']    = dftest.w2v_wmd/(dftest.len_question+dftest.len_paragraph)\n",
    "\n",
    "dftrain['pqf_queNorm']     = dftrain.w2v_pqf/dftrain.len_question\n",
    "dftest ['pqf_queNorm']     = dftest.w2v_pqf/dftest.len_question\n",
    "\n",
    "dftrain['pqf_queNorm2']     = dftrain.w2v_pqf/(dftrain.len_question+dftrain.len_paragraph)\n",
    "dftest ['pqf_queNorm2']     = dftest.w2v_pqf/(dftest.len_question+dftest.len_paragraph)"
   ]
  },
  {
   "cell_type": "code",
   "execution_count": 375,
   "metadata": {
    "collapsed": false,
    "deletable": true,
    "editable": true
   },
   "outputs": [
    {
     "data": {
      "image/png": "[encoded data removed]",
      "text/plain": [
       "<matplotlib.figure.Figure at 0x7f4d8bb53310>"
      ]
     },
     "metadata": {},
     "output_type": "display_data"
    },
    {
     "data": {
      "image/png": "[encoded data removed]",
      "text/plain": [
       "<matplotlib.figure.Figure at 0x7f4d382351d0>"
      ]
     },
     "metadata": {},
     "output_type": "display_data"
    },
    {
     "data": {
      "image/png": "[encoded data removed]",
      "text/plain": [
       "<matplotlib.figure.Figure at 0x7f4d8c7f76d0>"
      ]
     },
     "metadata": {},
     "output_type": "display_data"
    },
    {
     "data": {
      "image/png": "[encoded data removed]",
      "text/plain": [
       "<matplotlib.figure.Figure at 0x7f4d973c8f50>"
      ]
     },
     "metadata": {},
     "output_type": "display_data"
    }
   ],
   "source": [
    "plt.hist(dftrain.pqf_queNorm,bins=100); plt.show()\n",
    "plt.hist(dftrain.wmd_queNorm,bins=100); plt.show()\n",
    "plt.hist(dftrain.pqf_queNorm2,bins=100); plt.show()\n",
    "plt.hist(dftrain.wmd_queNorm2,bins=100); plt.show()"
   ]
  },
  {
   "cell_type": "code",
   "execution_count": 376,
   "metadata": {
    "collapsed": false,
    "deletable": true,
    "editable": true
   },
   "outputs": [
    {
     "data": {
      "text/html": [
       "<div>\n",
       "<table border=\"1\" class=\"dataframe\">\n",
       "  <thead>\n",
       "    <tr style=\"text-align: right;\">\n",
       "      <th></th>\n",
       "      <th>paragraph_id</th>\n",
       "      <th>question_id</th>\n",
       "      <th>paragraph</th>\n",
       "      <th>question</th>\n",
       "      <th>target</th>\n",
       "      <th>paragraphL</th>\n",
       "      <th>questionL</th>\n",
       "      <th>paragraphLS</th>\n",
       "      <th>questionLS</th>\n",
       "      <th>paragraphLX</th>\n",
       "      <th>...</th>\n",
       "      <th>idf_queNorm</th>\n",
       "      <th>idf_queNorm0</th>\n",
       "      <th>len_queIntNorm</th>\n",
       "      <th>len_queIntNorm0</th>\n",
       "      <th>idf_queIntNorm</th>\n",
       "      <th>idf_queIntNorm0</th>\n",
       "      <th>wmd_queNorm</th>\n",
       "      <th>pqf_queNorm</th>\n",
       "      <th>wmd_queNorm2</th>\n",
       "      <th>pqf_queNorm2</th>\n",
       "    </tr>\n",
       "  </thead>\n",
       "  <tbody>\n",
       "    <tr>\n",
       "      <th>119393</th>\n",
       "      <td>787</td>\n",
       "      <td>78704</td>\n",
       "      <td>С VIII века, как для Везера, так и для Верра, ...</td>\n",
       "      <td>Какие новые спортивные сооружения были построе...</td>\n",
       "      <td>0.0</td>\n",
       "      <td>с viii век , как для везер , так и для верра ,...</td>\n",
       "      <td>какой новое спортивный сооружение быть построи...</td>\n",
       "      <td>viii век , везер , верра , передаваться поколе...</td>\n",
       "      <td>новое спортивный сооружение построить универси...</td>\n",
       "      <td>viii век , везер , верра , передаваться поколе...</td>\n",
       "      <td>...</td>\n",
       "      <td>0.061167</td>\n",
       "      <td>0.033937</td>\n",
       "      <td>0.000000</td>\n",
       "      <td>0.022388</td>\n",
       "      <td>0.000000</td>\n",
       "      <td>0.013541</td>\n",
       "      <td>3.583656</td>\n",
       "      <td>-0.003817</td>\n",
       "      <td>0.250856</td>\n",
       "      <td>-0.000267</td>\n",
       "    </tr>\n",
       "    <tr>\n",
       "      <th>119394</th>\n",
       "      <td>7414</td>\n",
       "      <td>97752</td>\n",
       "      <td>В 1049 году Балдуину V удалось отнять у Герман...</td>\n",
       "      <td>В каком году умер Райан Уайт?</td>\n",
       "      <td>0.0</td>\n",
       "      <td>в 1049 год балдуин v удаться отнять у германия...</td>\n",
       "      <td>в какой год умереть райан уайт ?</td>\n",
       "      <td>1049 год балдуин v удаться отнять германия час...</td>\n",
       "      <td>год умереть райан уайт ?</td>\n",
       "      <td>1049 год балдуин v удаться отнять германия час...</td>\n",
       "      <td>...</td>\n",
       "      <td>0.062165</td>\n",
       "      <td>0.000000</td>\n",
       "      <td>0.033333</td>\n",
       "      <td>0.033708</td>\n",
       "      <td>0.016073</td>\n",
       "      <td>NaN</td>\n",
       "      <td>5.095301</td>\n",
       "      <td>0.105876</td>\n",
       "      <td>0.318456</td>\n",
       "      <td>0.006617</td>\n",
       "    </tr>\n",
       "    <tr>\n",
       "      <th>119395</th>\n",
       "      <td>3845</td>\n",
       "      <td>2104</td>\n",
       "      <td>Клиническая фармакология изучает воздействие л...</td>\n",
       "      <td>Когда на всемирном конгрессе немецких школ за ...</td>\n",
       "      <td>0.0</td>\n",
       "      <td>клинический фармакология изучать воздействие л...</td>\n",
       "      <td>когда на всемирный конгресс немецкий школа за ...</td>\n",
       "      <td>клинический фармакология изучать воздействие л...</td>\n",
       "      <td>всемирный конгресс немецкий школа рубеж предст...</td>\n",
       "      <td>клинический фармакология изучать воздействие л...</td>\n",
       "      <td>...</td>\n",
       "      <td>0.157244</td>\n",
       "      <td>0.233382</td>\n",
       "      <td>0.000000</td>\n",
       "      <td>0.040541</td>\n",
       "      <td>0.000000</td>\n",
       "      <td>0.149962</td>\n",
       "      <td>3.016908</td>\n",
       "      <td>0.002534</td>\n",
       "      <td>0.460206</td>\n",
       "      <td>0.000387</td>\n",
       "    </tr>\n",
       "    <tr>\n",
       "      <th>119396</th>\n",
       "      <td>168</td>\n",
       "      <td>92509</td>\n",
       "      <td>Сложность выделения чистых белков затрудняла и...</td>\n",
       "      <td>Что в конце 1940-х — начале 1950-х годов разра...</td>\n",
       "      <td>0.0</td>\n",
       "      <td>сложность выделение чистый белок затруднять он...</td>\n",
       "      <td>что в конец 1940-ха — начало 1950-ха год разра...</td>\n",
       "      <td>сложность выделение чистый белок затруднять из...</td>\n",
       "      <td>конец 1940-ха — начало 1950-ха год разработать...</td>\n",
       "      <td>сложность выделение чистый белок затруднять он...</td>\n",
       "      <td>...</td>\n",
       "      <td>0.114984</td>\n",
       "      <td>0.246512</td>\n",
       "      <td>0.045455</td>\n",
       "      <td>0.079365</td>\n",
       "      <td>0.014600</td>\n",
       "      <td>0.173905</td>\n",
       "      <td>3.212299</td>\n",
       "      <td>0.010145</td>\n",
       "      <td>0.385476</td>\n",
       "      <td>0.001217</td>\n",
       "    </tr>\n",
       "    <tr>\n",
       "      <th>119397</th>\n",
       "      <td>2679</td>\n",
       "      <td>41770</td>\n",
       "      <td>У типичной свободной программы (то есть, неком...</td>\n",
       "      <td>с каким персонажем происходит схватка Шерлока ...</td>\n",
       "      <td>0.0</td>\n",
       "      <td>у типичный свободный программа ( то есть , нек...</td>\n",
       "      <td>с какой персонаж происходить схватка шерлок хо...</td>\n",
       "      <td>типичный свободный программа ( , некоммерчески...</td>\n",
       "      <td>персонаж происходить схватка шерлок холмс филь...</td>\n",
       "      <td>типичный свободный программа ( , некоммерчески...</td>\n",
       "      <td>...</td>\n",
       "      <td>0.200753</td>\n",
       "      <td>0.166646</td>\n",
       "      <td>0.000000</td>\n",
       "      <td>0.034884</td>\n",
       "      <td>0.000000</td>\n",
       "      <td>0.066639</td>\n",
       "      <td>2.582799</td>\n",
       "      <td>-0.019305</td>\n",
       "      <td>0.346943</td>\n",
       "      <td>-0.002593</td>\n",
       "    </tr>\n",
       "  </tbody>\n",
       "</table>\n",
       "<p>5 rows × 43 columns</p>\n",
       "</div>"
      ],
      "text/plain": [
       "        paragraph_id  question_id  \\\n",
       "119393           787        78704   \n",
       "119394          7414        97752   \n",
       "119395          3845         2104   \n",
       "119396           168        92509   \n",
       "119397          2679        41770   \n",
       "\n",
       "                                                paragraph  \\\n",
       "119393  С VIII века, как для Везера, так и для Верра, ...   \n",
       "119394  В 1049 году Балдуину V удалось отнять у Герман...   \n",
       "119395  Клиническая фармакология изучает воздействие л...   \n",
       "119396  Сложность выделения чистых белков затрудняла и...   \n",
       "119397  У типичной свободной программы (то есть, неком...   \n",
       "\n",
       "                                                 question  target  \\\n",
       "119393  Какие новые спортивные сооружения были построе...     0.0   \n",
       "119394                      В каком году умер Райан Уайт?     0.0   \n",
       "119395  Когда на всемирном конгрессе немецких школ за ...     0.0   \n",
       "119396  Что в конце 1940-х — начале 1950-х годов разра...     0.0   \n",
       "119397  с каким персонажем происходит схватка Шерлока ...     0.0   \n",
       "\n",
       "                                               paragraphL  \\\n",
       "119393  с viii век , как для везер , так и для верра ,...   \n",
       "119394  в 1049 год балдуин v удаться отнять у германия...   \n",
       "119395  клинический фармакология изучать воздействие л...   \n",
       "119396  сложность выделение чистый белок затруднять он...   \n",
       "119397  у типичный свободный программа ( то есть , нек...   \n",
       "\n",
       "                                                questionL  \\\n",
       "119393  какой новое спортивный сооружение быть построи...   \n",
       "119394                   в какой год умереть райан уайт ?   \n",
       "119395  когда на всемирный конгресс немецкий школа за ...   \n",
       "119396  что в конец 1940-ха — начало 1950-ха год разра...   \n",
       "119397  с какой персонаж происходить схватка шерлок хо...   \n",
       "\n",
       "                                              paragraphLS  \\\n",
       "119393  viii век , везер , верра , передаваться поколе...   \n",
       "119394  1049 год балдуин v удаться отнять германия час...   \n",
       "119395  клинический фармакология изучать воздействие л...   \n",
       "119396  сложность выделение чистый белок затруднять из...   \n",
       "119397  типичный свободный программа ( , некоммерчески...   \n",
       "\n",
       "                                               questionLS  \\\n",
       "119393  новое спортивный сооружение построить универси...   \n",
       "119394                           год умереть райан уайт ?   \n",
       "119395  всемирный конгресс немецкий школа рубеж предст...   \n",
       "119396  конец 1940-ха — начало 1950-ха год разработать...   \n",
       "119397  персонаж происходить схватка шерлок холмс филь...   \n",
       "\n",
       "                                              paragraphLX      ...       \\\n",
       "119393  viii век , везер , верра , передаваться поколе...      ...        \n",
       "119394  1049 год балдуин v удаться отнять германия час...      ...        \n",
       "119395  клинический фармакология изучать воздействие л...      ...        \n",
       "119396  сложность выделение чистый белок затруднять он...      ...        \n",
       "119397  типичный свободный программа ( , некоммерчески...      ...        \n",
       "\n",
       "       idf_queNorm idf_queNorm0 len_queIntNorm  len_queIntNorm0  \\\n",
       "119393    0.061167     0.033937       0.000000         0.022388   \n",
       "119394    0.062165     0.000000       0.033333         0.033708   \n",
       "119395    0.157244     0.233382       0.000000         0.040541   \n",
       "119396    0.114984     0.246512       0.045455         0.079365   \n",
       "119397    0.200753     0.166646       0.000000         0.034884   \n",
       "\n",
       "        idf_queIntNorm  idf_queIntNorm0  wmd_queNorm  pqf_queNorm  \\\n",
       "119393        0.000000         0.013541     3.583656    -0.003817   \n",
       "119394        0.016073              NaN     5.095301     0.105876   \n",
       "119395        0.000000         0.149962     3.016908     0.002534   \n",
       "119396        0.014600         0.173905     3.212299     0.010145   \n",
       "119397        0.000000         0.066639     2.582799    -0.019305   \n",
       "\n",
       "        wmd_queNorm2  pqf_queNorm2  \n",
       "119393      0.250856     -0.000267  \n",
       "119394      0.318456      0.006617  \n",
       "119395      0.460206      0.000387  \n",
       "119396      0.385476      0.001217  \n",
       "119397      0.346943     -0.002593  \n",
       "\n",
       "[5 rows x 43 columns]"
      ]
     },
     "execution_count": 376,
     "metadata": {},
     "output_type": "execute_result"
    }
   ],
   "source": [
    "dftrain.tail()"
   ]
  },
  {
   "cell_type": "code",
   "execution_count": 377,
   "metadata": {
    "collapsed": false,
    "deletable": true,
    "editable": true
   },
   "outputs": [
    {
     "data": {
      "text/plain": [
       "Index([u'paragraph_id', u'question_id', u'paragraph', u'question', u'target',\n",
       "       u'paragraphL', u'questionL', u'paragraphLS', u'questionLS',\n",
       "       u'paragraphLX', u'questionLX', u'paragraphLSX', u'questionLSX',\n",
       "       u'len_paragraph', u'len_question', u'len_intersection', u'idf_question',\n",
       "       u'idf_paragraph', u'idf_intersection', u'len_intNorm', u'idf_intNorm',\n",
       "       u'w2v_pqf', u'w2v_wmd', u'len_paragraph0', u'len_question0',\n",
       "       u'len_intersection0', u'idf_question0', u'idf_paragraph0',\n",
       "       u'idf_intersection0', u'len_intNorm0', u'idf_intNorm0', u'len_queNorm',\n",
       "       u'len_queNorm0', u'idf_queNorm', u'idf_queNorm0', u'len_queIntNorm',\n",
       "       u'len_queIntNorm0', u'idf_queIntNorm', u'idf_queIntNorm0',\n",
       "       u'wmd_queNorm', u'pqf_queNorm', u'wmd_queNorm2', u'pqf_queNorm2'],\n",
       "      dtype='object')"
      ]
     },
     "execution_count": 377,
     "metadata": {},
     "output_type": "execute_result"
    }
   ],
   "source": [
    "dftrain.columns"
   ]
  },
  {
   "cell_type": "code",
   "execution_count": 378,
   "metadata": {
    "collapsed": false,
    "deletable": true,
    "editable": true
   },
   "outputs": [],
   "source": [
    "import xgboost as xgb\n",
    "columns  = []\n",
    "columns += ['len_paragraph', 'len_question', 'len_intersection', 'idf_question', 'idf_paragraph', 'idf_intersection'] + \\\n",
    "           ['len_intNorm', 'idf_intNorm']\n",
    "#columns += ['w2v_pq1', 'w2v_pqf', 'w2v_wmd'] + \\\n",
    "columns += ['w2v_wmd', 'w2v_pqf'] + \\\n",
    "           ['wmd_queNorm', 'pqf_queNorm'] + \\\n",
    "           ['wmd_queNorm2', 'pqf_queNorm2'] + \\\n",
    "           ['len_queNorm', 'len_queIntNorm', 'idf_queNorm', 'idf_queIntNorm']\n",
    "        \n",
    "columns += ['len_paragraph0', 'len_question0', 'len_intersection0', 'idf_question0', 'idf_paragraph0', 'idf_intersection0'] + \\\n",
    "           ['len_intNorm0', 'idf_intNorm0'] + \\\n",
    "           ['len_queNorm0', 'len_queIntNorm0'] #, 'idf_queNorm0', 'idf_queIntNorm0']\n",
    "#model = GradientBoostingClassifier()\n",
    "#model = xgb.XGBClassifier(learning_rate=0.1, n_estimators=900, silent=True).fit(dftrain[columns], dftrain['target'])\n",
    "#model = xgb.XGBClassifier(learning_rate=0.1, n_estimators=600, silent=True).fit(dftrain[columns], dftrain['target'])\n",
    "#model = GradientBoostingClassifier().fit(dftrain[columns], dftrain['target'])\n",
    "#dftest['prediction']  = model.predict_proba(dftest[columns])[:, 1]\n",
    "#ddftrain = model.predict_proba(dftrain[columns])[:, 1]"
   ]
  },
  {
   "cell_type": "code",
   "execution_count": 379,
   "metadata": {
    "collapsed": false,
    "scrolled": true
   },
   "outputs": [
    {
     "name": "stdout",
     "output_type": "stream",
     "text": [
      "[0]\ttrain-auc:0.996961+0.000229963\ttest-auc:0.996621+0.000563531\n",
      "[25]\ttrain-auc:0.998644+5.55359e-05\ttest-auc:0.998186+0.000189258\n",
      "[50]\ttrain-auc:0.999014+1.66925e-05\ttest-auc:0.998471+0.000189281\n",
      "[75]\ttrain-auc:0.999171+2.33015e-05\ttest-auc:0.998571+0.000146877\n",
      "[100]\ttrain-auc:0.999311+2.01455e-05\ttest-auc:0.998615+0.000133763\n",
      "[125]\ttrain-auc:0.99945+2.66983e-05\ttest-auc:0.998638+0.000131272\n",
      "[150]\ttrain-auc:0.999561+3.24838e-05\ttest-auc:0.998661+0.000132037\n",
      "[175]\ttrain-auc:0.999654+2.91753e-05\ttest-auc:0.99868+0.000133323\n",
      "[200]\ttrain-auc:0.999731+3.01105e-05\ttest-auc:0.998689+0.000128554\n",
      "[225]\ttrain-auc:0.999791+2.21215e-05\ttest-auc:0.998697+0.000131431\n",
      "[250]\ttrain-auc:0.99984+1.77358e-05\ttest-auc:0.998702+0.000130693\n",
      "[275]\ttrain-auc:0.999877+1.78729e-05\ttest-auc:0.998703+0.000126237\n",
      "[300]\ttrain-auc:0.999909+1.59825e-05\ttest-auc:0.998705+0.00013059\n",
      "[325]\ttrain-auc:0.999935+1.38651e-05\ttest-auc:0.99871+0.000128412\n",
      "[350]\ttrain-auc:0.999953+1.0028e-05\ttest-auc:0.998713+0.000129975\n",
      "[375]\ttrain-auc:0.999968+8.52291e-06\ttest-auc:0.998714+0.000128617\n",
      "[400]\ttrain-auc:0.99998+5.42586e-06\ttest-auc:0.998714+0.000129764\n",
      "[425]\ttrain-auc:0.999987+4e-06\ttest-auc:0.998718+0.000124265\n",
      "[450]\ttrain-auc:0.999992+2.15407e-06\ttest-auc:0.998719+0.000125842\n"
     ]
    }
   ],
   "source": [
    "'''\n",
    "def xgbtrain (param, train_x, train_y, num_round=1800, stopping=10, ratio=0.9) :\n",
    "    \n",
    "    split = int(round(ratio*len(train_y)))\n",
    "    dtrain = xgb.DMatrix(train_x[:split],label=train_y[:split])\n",
    "    dvalid = xgb.DMatrix(train_x[split:],label=train_y[split:])\n",
    "    watchlist  = [(dtrain,'train'),(dvalid,'valid')]\n",
    "    rvalid={}\n",
    "    bst = xgb.train(param, dtrain, num_round, watchlist, feval=rmsle,early_stopping_rounds=20,evals_result=rvalid)\n",
    "    return(bst,np.array(rvalid['valid']['rmsle']))\n",
    "\n",
    "def xgbCVtrain (param, train_x, train_y, num_round=1800, stopping=10, ratio=0.9) :\n",
    "    \n",
    "    split = int(round(ratio*len(train_y)))\n",
    "    dtrain = xgb.DMatrix(train_x[:split],label=train_y[:split])\n",
    "    dvalid = xgb.DMatrix(train_x[split:],label=train_y[split:])\n",
    "    watchlist  = [(dtrain,'train'),(dvalid,'valid')]\n",
    "    history = xgb.cv(param, dtrain, verbose_eval=10, \n",
    "                     metrics=['rmse'],feval=rmsle,\n",
    "                     num_boost_round=num_round,nfold=5,early_stopping_rounds=stopping) \n",
    "    rvalid={}\n",
    "    bst    = xgb.train(param, dtrain, history['test-rmsle-mean'].argmin()+2, watchlist, evals_result=rvalid, feval=rmsle)\n",
    "    #bst = xgb.train(param, dtrain, num_round, watchlist, evals_result=rvalid, early_stopping_rounds=stopping)\n",
    "    return(bst,np.array(rvalid['valid']['rmse']))\n",
    "'''\n",
    "\n",
    "param = {'silent':0, \n",
    "         'objective':'reg:logistic', \n",
    "         'eta':0.1, \n",
    "         #'max_depth':9, \n",
    "         #'subsample':0.85, 'colsample_bytree':0.8, \n",
    "         #'min_child_weight':12.0,\n",
    "         #'tree_method':'exact',\n",
    "         'eval_metric':'auc'}\n",
    "\n",
    "dtrain = xgb.DMatrix(dftrain[columns], label=dftrain['target'])\n",
    "\n",
    "if 1 :\n",
    "    history = xgb.cv(param, dtrain, verbose_eval=25, metrics=['auc'],\n",
    "                     num_boost_round=500,nfold=5,\n",
    "                     early_stopping_rounds=20) #,stratified=True,maximize=True)"
   ]
  },
  {
   "cell_type": "code",
   "execution_count": 380,
   "metadata": {
    "collapsed": false
   },
   "outputs": [
    {
     "data": {
      "image/png": "[encoded data removed]",
      "text/plain": [
       "<matplotlib.figure.Figure at 0x7f4da596ebd0>"
      ]
     },
     "metadata": {},
     "output_type": "display_data"
    },
    {
     "data": {
      "text/html": [
       "<div>\n",
       "<table border=\"1\" class=\"dataframe\">\n",
       "  <thead>\n",
       "    <tr style=\"text-align: right;\">\n",
       "      <th></th>\n",
       "      <th>test-auc-mean</th>\n",
       "      <th>test-auc-std</th>\n",
       "      <th>train-auc-mean</th>\n",
       "      <th>train-auc-std</th>\n",
       "    </tr>\n",
       "  </thead>\n",
       "  <tbody>\n",
       "    <tr>\n",
       "      <th>432</th>\n",
       "      <td>0.998719</td>\n",
       "      <td>0.000125</td>\n",
       "      <td>0.999988</td>\n",
       "      <td>0.000003</td>\n",
       "    </tr>\n",
       "    <tr>\n",
       "      <th>433</th>\n",
       "      <td>0.998718</td>\n",
       "      <td>0.000125</td>\n",
       "      <td>0.999989</td>\n",
       "      <td>0.000004</td>\n",
       "    </tr>\n",
       "    <tr>\n",
       "      <th>434</th>\n",
       "      <td>0.998718</td>\n",
       "      <td>0.000124</td>\n",
       "      <td>0.999989</td>\n",
       "      <td>0.000004</td>\n",
       "    </tr>\n",
       "    <tr>\n",
       "      <th>435</th>\n",
       "      <td>0.998718</td>\n",
       "      <td>0.000124</td>\n",
       "      <td>0.999989</td>\n",
       "      <td>0.000004</td>\n",
       "    </tr>\n",
       "    <tr>\n",
       "      <th>436</th>\n",
       "      <td>0.998718</td>\n",
       "      <td>0.000124</td>\n",
       "      <td>0.999989</td>\n",
       "      <td>0.000003</td>\n",
       "    </tr>\n",
       "    <tr>\n",
       "      <th>437</th>\n",
       "      <td>0.998718</td>\n",
       "      <td>0.000124</td>\n",
       "      <td>0.999989</td>\n",
       "      <td>0.000003</td>\n",
       "    </tr>\n",
       "    <tr>\n",
       "      <th>438</th>\n",
       "      <td>0.998718</td>\n",
       "      <td>0.000123</td>\n",
       "      <td>0.999989</td>\n",
       "      <td>0.000003</td>\n",
       "    </tr>\n",
       "    <tr>\n",
       "      <th>439</th>\n",
       "      <td>0.998718</td>\n",
       "      <td>0.000124</td>\n",
       "      <td>0.999989</td>\n",
       "      <td>0.000003</td>\n",
       "    </tr>\n",
       "    <tr>\n",
       "      <th>440</th>\n",
       "      <td>0.998718</td>\n",
       "      <td>0.000124</td>\n",
       "      <td>0.999990</td>\n",
       "      <td>0.000003</td>\n",
       "    </tr>\n",
       "    <tr>\n",
       "      <th>441</th>\n",
       "      <td>0.998719</td>\n",
       "      <td>0.000124</td>\n",
       "      <td>0.999990</td>\n",
       "      <td>0.000003</td>\n",
       "    </tr>\n",
       "    <tr>\n",
       "      <th>442</th>\n",
       "      <td>0.998718</td>\n",
       "      <td>0.000124</td>\n",
       "      <td>0.999990</td>\n",
       "      <td>0.000003</td>\n",
       "    </tr>\n",
       "    <tr>\n",
       "      <th>443</th>\n",
       "      <td>0.998718</td>\n",
       "      <td>0.000125</td>\n",
       "      <td>0.999990</td>\n",
       "      <td>0.000003</td>\n",
       "    </tr>\n",
       "    <tr>\n",
       "      <th>444</th>\n",
       "      <td>0.998718</td>\n",
       "      <td>0.000124</td>\n",
       "      <td>0.999991</td>\n",
       "      <td>0.000003</td>\n",
       "    </tr>\n",
       "    <tr>\n",
       "      <th>445</th>\n",
       "      <td>0.998719</td>\n",
       "      <td>0.000124</td>\n",
       "      <td>0.999991</td>\n",
       "      <td>0.000003</td>\n",
       "    </tr>\n",
       "    <tr>\n",
       "      <th>446</th>\n",
       "      <td>0.998719</td>\n",
       "      <td>0.000124</td>\n",
       "      <td>0.999991</td>\n",
       "      <td>0.000003</td>\n",
       "    </tr>\n",
       "    <tr>\n",
       "      <th>447</th>\n",
       "      <td>0.998719</td>\n",
       "      <td>0.000125</td>\n",
       "      <td>0.999991</td>\n",
       "      <td>0.000003</td>\n",
       "    </tr>\n",
       "    <tr>\n",
       "      <th>448</th>\n",
       "      <td>0.998719</td>\n",
       "      <td>0.000125</td>\n",
       "      <td>0.999991</td>\n",
       "      <td>0.000002</td>\n",
       "    </tr>\n",
       "    <tr>\n",
       "      <th>449</th>\n",
       "      <td>0.998719</td>\n",
       "      <td>0.000126</td>\n",
       "      <td>0.999991</td>\n",
       "      <td>0.000002</td>\n",
       "    </tr>\n",
       "    <tr>\n",
       "      <th>450</th>\n",
       "      <td>0.998719</td>\n",
       "      <td>0.000126</td>\n",
       "      <td>0.999992</td>\n",
       "      <td>0.000002</td>\n",
       "    </tr>\n",
       "    <tr>\n",
       "      <th>451</th>\n",
       "      <td>0.998719</td>\n",
       "      <td>0.000126</td>\n",
       "      <td>0.999992</td>\n",
       "      <td>0.000003</td>\n",
       "    </tr>\n",
       "  </tbody>\n",
       "</table>\n",
       "</div>"
      ],
      "text/plain": [
       "     test-auc-mean  test-auc-std  train-auc-mean  train-auc-std\n",
       "432       0.998719      0.000125        0.999988       0.000003\n",
       "433       0.998718      0.000125        0.999989       0.000004\n",
       "434       0.998718      0.000124        0.999989       0.000004\n",
       "435       0.998718      0.000124        0.999989       0.000004\n",
       "436       0.998718      0.000124        0.999989       0.000003\n",
       "437       0.998718      0.000124        0.999989       0.000003\n",
       "438       0.998718      0.000123        0.999989       0.000003\n",
       "439       0.998718      0.000124        0.999989       0.000003\n",
       "440       0.998718      0.000124        0.999990       0.000003\n",
       "441       0.998719      0.000124        0.999990       0.000003\n",
       "442       0.998718      0.000124        0.999990       0.000003\n",
       "443       0.998718      0.000125        0.999990       0.000003\n",
       "444       0.998718      0.000124        0.999991       0.000003\n",
       "445       0.998719      0.000124        0.999991       0.000003\n",
       "446       0.998719      0.000124        0.999991       0.000003\n",
       "447       0.998719      0.000125        0.999991       0.000003\n",
       "448       0.998719      0.000125        0.999991       0.000002\n",
       "449       0.998719      0.000126        0.999991       0.000002\n",
       "450       0.998719      0.000126        0.999992       0.000002\n",
       "451       0.998719      0.000126        0.999992       0.000003"
      ]
     },
     "execution_count": 380,
     "metadata": {},
     "output_type": "execute_result"
    }
   ],
   "source": [
    "plt.figure(figsize=(12,5))\n",
    "plt.plot(history['test-auc-mean']); \n",
    "plt.plot(history['train-auc-mean']); \n",
    "plt.show();\n",
    "history.tail(20)"
   ]
  },
  {
   "cell_type": "code",
   "execution_count": 393,
   "metadata": {
    "collapsed": false
   },
   "outputs": [
    {
     "name": "stdout",
     "output_type": "stream",
     "text": [
      "[0]\ttrain-auc:0.997244\n",
      "Will train until train-auc hasn't improved in 20 rounds.\n",
      "[50]\ttrain-auc:0.998961\n",
      "[100]\ttrain-auc:0.999255\n",
      "[150]\ttrain-auc:0.9995\n",
      "[200]\ttrain-auc:0.999685\n",
      "[250]\ttrain-auc:0.999785\n",
      "[300]\ttrain-auc:0.999861\n",
      "[350]\ttrain-auc:0.999915\n"
     ]
    }
   ],
   "source": [
    "num_round = 400\n",
    "watchlist  = [(dtrain,'train')]\n",
    "\n",
    "bst = xgb.train(param, dtrain, num_round, watchlist, early_stopping_rounds=20,verbose_eval=50)"
   ]
  },
  {
   "cell_type": "code",
   "execution_count": 394,
   "metadata": {
    "collapsed": false
   },
   "outputs": [
    {
     "data": {
      "text/plain": [
       "((491449,), array([  1.39191332e-06,   2.82517226e-06,   3.02265630e-06,\n",
       "          1.30987202e-04,   3.29296404e-06,   3.49082279e-06,\n",
       "          4.15763452e-06,   2.05872425e-06,   5.44116210e-06,\n",
       "          2.19185749e-05,   3.57494127e-06,   3.67965572e-06,\n",
       "          2.47289836e-06,   1.02160448e-06,   6.60874284e-05,\n",
       "          3.43208521e-05,   8.26740146e-01,   2.07085614e-05,\n",
       "          3.08992567e-05,   2.36221931e-05], dtype=float32))"
      ]
     },
     "execution_count": 394,
     "metadata": {},
     "output_type": "execute_result"
    }
   ],
   "source": [
    "dtest    = xgb.DMatrix(dftest[columns])\n",
    "ddftest  = bst.predict(dtest)\n",
    "ddftrain = bst.predict(dtrain)\n",
    "dftest['prediction']=ddftest\n",
    "ddftest.shape, ddftest[:20]"
   ]
  },
  {
   "cell_type": "code",
   "execution_count": 369,
   "metadata": {
    "collapsed": false
   },
   "outputs": [
    {
     "data": {
      "text/plain": [
       "{'idf_intNorm': 491,\n",
       " 'idf_intNorm0': 189,\n",
       " 'idf_intersection': 226,\n",
       " 'idf_intersection0': 174,\n",
       " 'idf_paragraph': 256,\n",
       " 'idf_paragraph0': 348,\n",
       " 'idf_queIntNorm': 193,\n",
       " 'idf_queNorm': 187,\n",
       " 'idf_question': 243,\n",
       " 'idf_question0': 230,\n",
       " 'len_intNorm': 113,\n",
       " 'len_intNorm0': 267,\n",
       " 'len_intersection': 12,\n",
       " 'len_intersection0': 230,\n",
       " 'len_paragraph': 168,\n",
       " 'len_paragraph0': 189,\n",
       " 'len_queIntNorm': 214,\n",
       " 'len_queIntNorm0': 241,\n",
       " 'len_queNorm': 100,\n",
       " 'len_queNorm0': 149,\n",
       " 'len_question': 19,\n",
       " 'len_question0': 91,\n",
       " 'pqf_queNorm': 325,\n",
       " 'pqf_queNorm2': 235,\n",
       " 'w2v_pqf': 407,\n",
       " 'w2v_wmd': 598,\n",
       " 'wmd_queNorm': 137,\n",
       " 'wmd_queNorm2': 193}"
      ]
     },
     "execution_count": 369,
     "metadata": {},
     "output_type": "execute_result"
    }
   ],
   "source": [
    "bst.get_fscore()"
   ]
  },
  {
   "cell_type": "code",
   "execution_count": 395,
   "metadata": {
    "collapsed": false
   },
   "outputs": [
    {
     "data": {
      "text/plain": [
       "<matplotlib.figure.Figure at 0x7f4d3763a250>"
      ]
     },
     "metadata": {},
     "output_type": "display_data"
    },
    {
     "data": {
      "image/png": "[encoded data removed]",
      "text/plain": [
       "<matplotlib.figure.Figure at 0x7f4d8bf18b50>"
      ]
     },
     "metadata": {},
     "output_type": "display_data"
    }
   ],
   "source": [
    "plt.figure(figsize=(15,8))\n",
    "xgb.plot_importance(bst); plt.show()"
   ]
  },
  {
   "cell_type": "code",
   "execution_count": 396,
   "metadata": {
    "collapsed": false,
    "deletable": true,
    "editable": true
   },
   "outputs": [],
   "source": [
    "ddftest = dftest.groupby(by=['paragraph_id', 'question_id'])['prediction'].max().reset_index()"
   ]
  },
  {
   "cell_type": "code",
   "execution_count": 397,
   "metadata": {
    "collapsed": false,
    "deletable": true,
    "editable": true
   },
   "outputs": [
    {
     "data": {
      "text/html": [
       "<div>\n",
       "<table border=\"1\" class=\"dataframe\">\n",
       "  <thead>\n",
       "    <tr style=\"text-align: right;\">\n",
       "      <th></th>\n",
       "      <th>paragraph_id</th>\n",
       "      <th>question_id</th>\n",
       "      <th>prediction</th>\n",
       "    </tr>\n",
       "  </thead>\n",
       "  <tbody>\n",
       "    <tr>\n",
       "      <th>74285</th>\n",
       "      <td>1627</td>\n",
       "      <td>33917</td>\n",
       "      <td>0.980625</td>\n",
       "    </tr>\n",
       "    <tr>\n",
       "      <th>74286</th>\n",
       "      <td>1627</td>\n",
       "      <td>34164</td>\n",
       "      <td>0.999830</td>\n",
       "    </tr>\n",
       "    <tr>\n",
       "      <th>74287</th>\n",
       "      <td>1627</td>\n",
       "      <td>34899</td>\n",
       "      <td>0.991352</td>\n",
       "    </tr>\n",
       "    <tr>\n",
       "      <th>74288</th>\n",
       "      <td>1627</td>\n",
       "      <td>36819</td>\n",
       "      <td>0.122811</td>\n",
       "    </tr>\n",
       "    <tr>\n",
       "      <th>74289</th>\n",
       "      <td>1627</td>\n",
       "      <td>38856</td>\n",
       "      <td>0.999999</td>\n",
       "    </tr>\n",
       "  </tbody>\n",
       "</table>\n",
       "</div>"
      ],
      "text/plain": [
       "       paragraph_id  question_id  prediction\n",
       "74285          1627        33917    0.980625\n",
       "74286          1627        34164    0.999830\n",
       "74287          1627        34899    0.991352\n",
       "74288          1627        36819    0.122811\n",
       "74289          1627        38856    0.999999"
      ]
     },
     "execution_count": 397,
     "metadata": {},
     "output_type": "execute_result"
    }
   ],
   "source": [
    "ddftest.tail()\n",
    "#xx = dftest['paragraph_id'].unique()\n",
    "#xx.sort(); xx"
   ]
  },
  {
   "cell_type": "code",
   "execution_count": 398,
   "metadata": {
    "collapsed": false,
    "deletable": true,
    "editable": true
   },
   "outputs": [
    {
     "data": {
      "text/html": [
       "<div>\n",
       "<table border=\"1\" class=\"dataframe\">\n",
       "  <thead>\n",
       "    <tr style=\"text-align: right;\">\n",
       "      <th></th>\n",
       "      <th>paragraph_id</th>\n",
       "      <th>question_id</th>\n",
       "      <th>prediction</th>\n",
       "    </tr>\n",
       "  </thead>\n",
       "  <tbody>\n",
       "    <tr>\n",
       "      <th>0</th>\n",
       "      <td>1361</td>\n",
       "      <td>6463</td>\n",
       "      <td>0.000001</td>\n",
       "    </tr>\n",
       "    <tr>\n",
       "      <th>0</th>\n",
       "      <td>1361</td>\n",
       "      <td>6463</td>\n",
       "      <td>0.000003</td>\n",
       "    </tr>\n",
       "    <tr>\n",
       "      <th>0</th>\n",
       "      <td>1361</td>\n",
       "      <td>6463</td>\n",
       "      <td>0.000003</td>\n",
       "    </tr>\n",
       "    <tr>\n",
       "      <th>0</th>\n",
       "      <td>1361</td>\n",
       "      <td>6463</td>\n",
       "      <td>0.000131</td>\n",
       "    </tr>\n",
       "    <tr>\n",
       "      <th>0</th>\n",
       "      <td>1361</td>\n",
       "      <td>6463</td>\n",
       "      <td>0.000003</td>\n",
       "    </tr>\n",
       "  </tbody>\n",
       "</table>\n",
       "</div>"
      ],
      "text/plain": [
       "   paragraph_id  question_id  prediction\n",
       "0          1361         6463    0.000001\n",
       "0          1361         6463    0.000003\n",
       "0          1361         6463    0.000003\n",
       "0          1361         6463    0.000131\n",
       "0          1361         6463    0.000003"
      ]
     },
     "execution_count": 398,
     "metadata": {},
     "output_type": "execute_result"
    }
   ],
   "source": [
    "dftest[['paragraph_id', 'question_id', 'prediction']].head()"
   ]
  },
  {
   "cell_type": "code",
   "execution_count": 402,
   "metadata": {
    "collapsed": true,
    "deletable": true,
    "editable": true
   },
   "outputs": [],
   "source": [
    "# LB=0.9300849192457006\n",
    "ddftest[['paragraph_id', 'question_id', 'prediction']].to_csv(\"../Result/prediction-2017-10-30-18-30.csv\", index=False)"
   ]
  },
  {
   "cell_type": "code",
   "execution_count": null,
   "metadata": {
    "collapsed": false,
    "deletable": true,
    "editable": true
   },
   "outputs": [],
   "source": []
  },
  {
   "cell_type": "code",
   "execution_count": 401,
   "metadata": {
    "collapsed": false,
    "deletable": true,
    "editable": true
   },
   "outputs": [
    {
     "name": "stdout",
     "output_type": "stream",
     "text": [
      "accuracy=0.99712 roc_auc=0.99663\n"
     ]
    },
    {
     "data": {
      "image/png": "[encoded data removed]",
      "text/plain": [
       "<matplotlib.figure.Figure at 0x7f4d8df07490>"
      ]
     },
     "metadata": {},
     "output_type": "display_data"
    },
    {
     "data": {
      "image/png": "[encoded data removed]",
      "text/plain": [
       "<matplotlib.figure.Figure at 0x7f4d3bc5c310>"
      ]
     },
     "metadata": {},
     "output_type": "display_data"
    },
    {
     "data": {
      "image/png": "[encoded data removed]",
      "text/plain": [
       "<matplotlib.figure.Figure at 0x7f4dab1fd650>"
      ]
     },
     "metadata": {},
     "output_type": "display_data"
    },
    {
     "data": {
      "image/png": "[encoded data removed]",
      "text/plain": [
       "<matplotlib.figure.Figure at 0x7f4d8c8165d0>"
      ]
     },
     "metadata": {},
     "output_type": "display_data"
    }
   ],
   "source": [
    "print 'accuracy={:.5f} roc_auc={:.5f}'.format(skm.accuracy_score(dftrain['target'].values,ddftrain>0.5),\n",
    "           skm.roc_auc_score(dftrain['target'].values,ddftrain>0.5))\n",
    "plt.hist(ddftrain,bins=50); plt.show()\n",
    "plt.hist(ddftest['prediction'],bins=50); plt.show()\n",
    "plt.hist(dftest['prediction'],bins=50); plt.show()\n",
    "plt.hist(ddftest['prediction'],bins=50); plt.show()"
   ]
  },
  {
   "cell_type": "code",
   "execution_count": 93,
   "metadata": {
    "collapsed": false,
    "deletable": true,
    "editable": true
   },
   "outputs": [
    {
     "name": "stdout",
     "output_type": "stream",
     "text": [
      "accuracy=0.98976 roc_auc=0.98807\n"
     ]
    },
    {
     "data": {
      "image/png": "[encoded data removed]",
      "text/plain": [
       "<matplotlib.figure.Figure at 0x7fdc6fbb4150>"
      ]
     },
     "metadata": {},
     "output_type": "display_data"
    },
    {
     "data": {
      "image/png": "[encoded data removed]",
      "text/plain": [
       "<matplotlib.figure.Figure at 0x7fdc70e5af10>"
      ]
     },
     "metadata": {},
     "output_type": "display_data"
    }
   ],
   "source": [
    "print 'accuracy={:.5f} roc_auc={:.5f}'.format(skm.accuracy_score(dftrain['target'].values,ddftrain>0.5),\n",
    "           skm.roc_auc_score(dftrain['target'].values,ddftrain>0.5))\n",
    "plt.hist(ddftrain,bins=50); plt.show()\n",
    "plt.hist(dftest['prediction'],bins=50); plt.show()"
   ]
  },
  {
   "cell_type": "code",
   "execution_count": 145,
   "metadata": {
    "collapsed": false,
    "deletable": true,
    "editable": true
   },
   "outputs": [
    {
     "name": "stdout",
     "output_type": "stream",
     "text": [
      "0.973935911824\n"
     ]
    },
    {
     "data": {
      "image/png": "[encoded data removed]",
      "text/plain": [
       "<matplotlib.figure.Figure at 0x7ff530ce46d0>"
      ]
     },
     "metadata": {},
     "output_type": "display_data"
    },
    {
     "data": {
      "image/png": "[encoded data removed]",
      "text/plain": [
       "<matplotlib.figure.Figure at 0x7ff530beef90>"
      ]
     },
     "metadata": {},
     "output_type": "display_data"
    }
   ],
   "source": [
    "print skm.accuracy_score(dftrain['target'].values,ddftrain>0.5)\n",
    "plt.hist(ddftrain); plt.show()\n",
    "plt.hist(dftest['prediction']); plt.show()"
   ]
  },
  {
   "cell_type": "code",
   "execution_count": null,
   "metadata": {
    "collapsed": true,
    "deletable": true,
    "editable": true
   },
   "outputs": [],
   "source": []
  },
  {
   "cell_type": "code",
   "execution_count": null,
   "metadata": {
    "collapsed": true,
    "deletable": true,
    "editable": true
   },
   "outputs": [],
   "source": []
  },
  {
   "cell_type": "code",
   "execution_count": 21,
   "metadata": {
    "collapsed": false,
    "deletable": true,
    "editable": true
   },
   "outputs": [
    {
     "name": "stderr",
     "output_type": "stream",
     "text": [
      "Using TensorFlow backend.\n"
     ]
    }
   ],
   "source": [
    "import gensim.models.word2vec"
   ]
  },
  {
   "cell_type": "code",
   "execution_count": 40,
   "metadata": {
    "collapsed": false,
    "deletable": true,
    "editable": true
   },
   "outputs": [
    {
     "name": "stdout",
     "output_type": "stream",
     "text": [
      "2109476\n"
     ]
    },
    {
     "data": {
      "text/plain": [
       "2109476"
      ]
     },
     "execution_count": 40,
     "metadata": {},
     "output_type": "execute_result"
    }
   ],
   "source": [
    "sentences  = dftrain['paragraphL'].tolist()+dftrain.questionL.tolist()\n",
    "sentences += dftest ['paragraphL'].tolist()+dftest.questionL.tolist()\n",
    "#sentences += dftest ['paragraph'].tolist()+dftest ['question'].tolist()\n",
    "sentences = [[ss.decode('utf-8') for ss in s.split(' ')] for s in sentences]\n",
    "print len(sentences) #, sentences[0]\n",
    "len(sentences)"
   ]
  },
  {
   "cell_type": "code",
   "execution_count": null,
   "metadata": {
    "collapsed": false,
    "deletable": true,
    "editable": true
   },
   "outputs": [],
   "source": []
  },
  {
   "cell_type": "code",
   "execution_count": 41,
   "metadata": {
    "collapsed": false,
    "deletable": true,
    "editable": true
   },
   "outputs": [
    {
     "name": "stdout",
     "output_type": "stream",
     "text": [
      "2017-10-28 19:58:44.384072\n",
      "2017-10-28 20:04:31.241479\n"
     ]
    }
   ],
   "source": [
    "print datetime.datetime.now()\n",
    "model = gensim.models.word2vec.Word2Vec(sentences, size=100, window=5, workers=4, min_count=1)\n",
    "print datetime.datetime.now()"
   ]
  },
  {
   "cell_type": "code",
   "execution_count": 43,
   "metadata": {
    "collapsed": false,
    "deletable": true,
    "editable": true
   },
   "outputs": [
    {
     "name": "stdout",
     "output_type": "stream",
     "text": [
      "земноводный\n"
     ]
    }
   ],
   "source": [
    "print sentences[0][5]"
   ]
  },
  {
   "cell_type": "code",
   "execution_count": 44,
   "metadata": {
    "collapsed": false,
    "deletable": true,
    "editable": true
   },
   "outputs": [
    {
     "data": {
      "text/plain": [
       "array([ -2.98387313e+00,   5.51913261e+00,   7.42003059e+00,\n",
       "         4.52600813e+00,   1.42700901e+01,  -3.03050518e+00,\n",
       "         2.59337997e+00,  -3.26727843e+00,  -1.52219963e+00,\n",
       "         5.91764545e+00,  -4.89653063e+00,   8.80865455e-01,\n",
       "        -6.35947466e-01,  -4.66090727e+00,   3.15288448e+00,\n",
       "        -3.46123910e+00,   1.19812751e+00,  -2.79872561e+00,\n",
       "        -2.66737413e+00,  -2.54326153e+00,   4.76887846e+00,\n",
       "        -4.23117161e+00,   8.84592831e-01,   1.07003033e+00,\n",
       "        -1.06999767e+00,   1.02019989e+00,   7.04411983e+00,\n",
       "         1.40653050e+00,  -2.67896438e+00,   1.14307380e+00,\n",
       "        -4.62081575e+00,  -9.75797117e-01,   2.75414991e+00,\n",
       "        -5.19478858e-01,  -9.16263294e+00,  -7.18607485e-01,\n",
       "         6.99500465e+00,   2.22612309e+00,  -5.58874083e+00,\n",
       "         6.27894831e+00,   6.10575342e+00,  -1.15751280e-02,\n",
       "        -8.38653946e+00,  -4.22843277e-01,   5.44648457e+00,\n",
       "        -5.09045267e+00,   4.85996532e+00,   3.59171939e+00,\n",
       "        -1.23300278e+00,   9.34731293e+00,  -2.16865325e+00,\n",
       "        -1.64826822e+00,   2.17185807e+00,  -8.42592657e-01,\n",
       "         8.92026043e+00,  -3.92207527e+00,   5.01767492e+00,\n",
       "         6.29040420e-01,  -6.67382860e+00,   7.27681160e-01,\n",
       "         2.98862433e+00,   9.68177021e-02,   4.80076122e+00,\n",
       "        -3.44857049e+00,  -7.01488924e+00,  -8.02513409e+00,\n",
       "         1.49281740e+00,   5.99842191e-01,   7.18671083e-01,\n",
       "        -4.00051403e+00,   1.86530143e-01,   4.58797663e-02,\n",
       "        -5.22883558e+00,  -1.41863394e+00,  -6.03884041e-01,\n",
       "         7.54941177e+00,  -2.15711474e-01,  -3.17399001e+00,\n",
       "         2.15563226e+00,   5.01104069e+00,  -1.91185009e-02,\n",
       "        -2.58362961e+00,  -4.59091812e-01,   2.65452838e+00,\n",
       "         2.08802581e+00,   3.12917352e+00,   1.11107135e+00,\n",
       "        -4.69830662e-01,   3.66307449e+00,   1.72632289e+00,\n",
       "        -4.60106516e+00,   1.39378858e+00,   1.57249242e-01,\n",
       "        -1.15687962e+01,  -3.63947213e-01,  -3.33961678e+00,\n",
       "        -4.36306667e+00,  -5.80088568e+00,   9.74162483e+00,\n",
       "        -3.39015698e+00], dtype=float32)"
      ]
     },
     "execution_count": 44,
     "metadata": {},
     "output_type": "execute_result"
    }
   ],
   "source": [
    "model.wv[sentences[1][1]]"
   ]
  },
  {
   "cell_type": "code",
   "execution_count": 47,
   "metadata": {
    "collapsed": false,
    "deletable": true,
    "editable": true
   },
   "outputs": [
    {
     "data": {
      "text/plain": [
       "0.0"
      ]
     },
     "execution_count": 47,
     "metadata": {},
     "output_type": "execute_result"
    }
   ],
   "source": [
    "model.get_latest_training_loss()\n",
    "#model.accuracy()"
   ]
  },
  {
   "cell_type": "code",
   "execution_count": 48,
   "metadata": {
    "collapsed": false,
    "deletable": true,
    "editable": true
   },
   "outputs": [
    {
     "name": "stdout",
     "output_type": "stream",
     "text": [
      "['syn0norm', 'vocab', 'index2word', 'vector_size', 'syn0']\n",
      "vector_size None\n",
      "syn0 (79809, 100)\n",
      "None\n",
      "vocab 79809 [u'', u'hcho', u'diy-\\u0438\\u0434\\u0435\\u043e\\u043b\\u043e\\u0433\\u0438\\u044f', u'\\u043a\\u043e\\u043b\\u0442\\u0443\\u043d', u'\\u0441\\u043e\\u0431\\u0440\\u0430\\u0442']\n",
      "\n",
      "hcho\n",
      "diy-идеология\n",
      "колтун\n",
      "собрат\n",
      "соr\n",
      "гольфстрим\n",
      "грызун\n",
      "деноминация\n",
      "гласный-согласный\n",
      "нормальный\n",
      "субсоциальность\n",
      "woods\n",
      "анкара\n",
      "spiders\n",
      "francesco\n",
      "francesca\n",
      "сахаромицет\n",
      "нуклид\n",
      "излиться\n",
      "бенефициарный\n",
      "имхотёпа\n",
      "ребровый\n",
      "слоговой\n",
      "районирование\n",
      "gentis\n",
      "лашко\n",
      "взмах\n",
      "гомозиготный\n",
      "отстоять\n",
      "евграф\n",
      "ядовитость\n",
      "псевдополовый\n",
      "пектиназа\n",
      "данаиды-монарх\n",
      "богословие\n",
      "hermann\n",
      "ногайский\n",
      "балаганчик\n",
      "пронский\n",
      "наготове\n",
      "восприимчивый\n",
      "четырёхстраничный\n",
      "40,8\n",
      "λεπίδος\n",
      "со2\n",
      "хабаровский\n",
      "40,4\n",
      "40,5\n",
      "властелин\n"
     ]
    }
   ],
   "source": [
    "wv = model.wv\n",
    "print wv.__dict__.keys()\n",
    "print 'vector_size',wv.__dict__['vector_size']\n",
    "print 'syn0',wv.__dict__['syn0'].shape #,wv.__dict__['syn0']\n",
    "print wv.__dict__['syn0norm']\n",
    "print 'vocab',len(wv.__dict__['vocab']),wv.__dict__['vocab'].keys()[:5]\n",
    "for word in wv.__dict__['vocab'].keys()[:50] :\n",
    "    print word\n",
    "#print 'index2word',wv.__dict__['index2word'],wv.__dict__['index2word'][0]\n"
   ]
  },
  {
   "cell_type": "code",
   "execution_count": 82,
   "metadata": {
    "collapsed": false,
    "deletable": true,
    "editable": true,
    "scrolled": false
   },
   "outputs": [
    {
     "name": "stdout",
     "output_type": "stream",
     "text": [
      "2017-10-28 20:31:51.943359\n",
      "2017-10-28 20:31:52.259137 train 0\n",
      "2017-10-28 20:31:54.273526 train 10000\n",
      "2017-10-28 20:31:56.342125 train 20000\n",
      "2017-10-28 20:31:58.330599 train 30000\n",
      "2017-10-28 20:32:00.310624 train 40000\n",
      "2017-10-28 20:32:02.301252 train 50000\n",
      "2017-10-28 20:32:04.300879 train 60000\n",
      "2017-10-28 20:32:06.305857 train 70000\n",
      "2017-10-28 20:32:08.428460 train 80000\n",
      "2017-10-28 20:32:10.505278 train 90000\n",
      "2017-10-28 20:32:12.509864 train 100000\n",
      "2017-10-28 20:32:14.676475 train 110000\n",
      "2017-10-28 20:32:16.694803 train 120000\n",
      "2017-10-28 20:32:18.741870 train 130000\n",
      "2017-10-28 20:32:20.749405 train 140000\n",
      "2017-10-28 20:32:22.744605 train 150000\n",
      "2017-10-28 20:32:24.716175 train 160000\n",
      "2017-10-28 20:32:26.698143 train 170000\n",
      "2017-10-28 20:32:28.800694 train 180000\n",
      "2017-10-28 20:32:30.768833 train 190000\n",
      "2017-10-28 20:32:32.714025 train 200000\n",
      "2017-10-28 20:32:34.687650 train 210000\n",
      "2017-10-28 20:32:36.632489 train 220000\n",
      "2017-10-28 20:32:38.590477 train 230000\n",
      "2017-10-28 20:32:40.556579 train 240000\n",
      "2017-10-28 20:32:42.511812 train 250000\n",
      "2017-10-28 20:32:44.463500 train 260000\n",
      "2017-10-28 20:32:46.524959 train 270000\n",
      "2017-10-28 20:32:48.478860 train 280000\n",
      "2017-10-28 20:32:50.467317 train 290000\n",
      "2017-10-28 20:32:52.424627 train 300000\n",
      "2017-10-28 20:32:54.488338 train 310000\n",
      "2017-10-28 20:32:56.494631 train 320000\n",
      "2017-10-28 20:32:58.481526 train 330000\n",
      "2017-10-28 20:33:00.461377 train 340000\n",
      "2017-10-28 20:33:02.423929 train 350000\n",
      "2017-10-28 20:33:04.367490 train 360000\n",
      "2017-10-28 20:33:06.332929 train 370000\n",
      "2017-10-28 20:33:08.293375 train 380000\n",
      "2017-10-28 20:33:10.263345 train 390000\n",
      "2017-10-28 20:33:12.244649 train 400000\n",
      "2017-10-28 20:33:14.206583 train 410000\n",
      "2017-10-28 20:33:16.187083 train 420000\n",
      "2017-10-28 20:33:18.184024 train 430000\n",
      "2017-10-28 20:33:20.132466 train 440000\n",
      "2017-10-28 20:33:22.104015 train 450000\n",
      "2017-10-28 20:33:24.050728 train 460000\n",
      "2017-10-28 20:33:28.589827 train 470000\n",
      "2017-10-28 20:33:30.541245 train 480000\n",
      "2017-10-28 20:33:32.528834 train 490000\n",
      "2017-10-28 20:33:34.617339 train 500000\n",
      "2017-10-28 20:33:36.573796 train 510000\n",
      "2017-10-28 20:33:38.683809 train 520000\n",
      "2017-10-28 20:33:40.620738 train 530000\n",
      "2017-10-28 20:33:42.563848 train 540000\n",
      "2017-10-28 20:33:44.500195 train 550000\n",
      "2017-10-28 20:33:46.452041 train 560000\n",
      "2017-10-28 20:33:47.622409 test 0\n",
      "2017-10-28 20:33:49.414736 test 10000\n",
      "2017-10-28 20:33:51.191146 test 20000\n",
      "2017-10-28 20:33:52.966309 test 30000\n",
      "2017-10-28 20:33:54.760018 test 40000\n",
      "2017-10-28 20:33:56.562477 test 50000\n",
      "2017-10-28 20:33:58.331387 test 60000\n",
      "2017-10-28 20:34:00.144930 test 70000\n",
      "2017-10-28 20:34:02.065061 test 80000\n",
      "2017-10-28 20:34:04.054569 test 90000\n",
      "2017-10-28 20:34:06.009819 test 100000\n",
      "2017-10-28 20:34:07.823227 test 110000\n",
      "2017-10-28 20:34:09.820043 test 120000\n",
      "2017-10-28 20:34:11.725236 test 130000\n",
      "2017-10-28 20:34:13.609797 test 140000\n",
      "2017-10-28 20:34:15.504233 test 150000\n",
      "2017-10-28 20:34:17.318650 test 160000\n",
      "2017-10-28 20:34:19.119942 test 170000\n",
      "2017-10-28 20:34:20.897561 test 180000\n",
      "2017-10-28 20:34:22.665739 test 190000\n",
      "2017-10-28 20:34:24.434316 test 200000\n",
      "2017-10-28 20:34:26.224010 test 210000\n",
      "2017-10-28 20:34:28.027503 test 220000\n",
      "2017-10-28 20:34:29.826084 test 230000\n",
      "2017-10-28 20:34:31.622709 test 240000\n",
      "2017-10-28 20:34:33.387496 test 250000\n",
      "2017-10-28 20:34:35.139598 test 260000\n",
      "2017-10-28 20:34:37.051061 test 270000\n",
      "2017-10-28 20:34:38.823277 test 280000\n",
      "2017-10-28 20:34:40.608667 test 290000\n",
      "2017-10-28 20:34:42.505306 test 300000\n",
      "2017-10-28 20:34:44.306852 test 310000\n",
      "2017-10-28 20:34:46.083994 test 320000\n",
      "2017-10-28 20:34:47.861527 test 330000\n",
      "2017-10-28 20:34:49.640350 test 340000\n",
      "2017-10-28 20:34:51.413880 test 350000\n",
      "2017-10-28 20:34:53.197495 test 360000\n",
      "2017-10-28 20:34:55.023960 test 370000\n",
      "2017-10-28 20:34:56.804328 test 380000\n",
      "2017-10-28 20:34:58.583783 test 390000\n",
      "2017-10-28 20:35:00.398952 test 400000\n",
      "2017-10-28 20:35:02.335930 test 410000\n",
      "2017-10-28 20:35:04.235094 test 420000\n",
      "2017-10-28 20:35:06.064700 test 430000\n",
      "2017-10-28 20:35:07.949743 test 440000\n",
      "2017-10-28 20:35:09.722927 test 450000\n",
      "2017-10-28 20:35:11.536102 test 460000\n",
      "2017-10-28 20:35:13.366575 test 470000\n",
      "2017-10-28 20:35:15.120081 test 480000\n",
      "2017-10-28 20:35:17.025182 test 490000\n",
      "2017-10-28 20:35:17.649618\n"
     ]
    }
   ],
   "source": [
    "#for index, row0 in df.iterrows() \n",
    "print datetime.datetime.now()\n",
    "#dftrain = dftrain.reset_index()\n",
    "#dftest  = dftest.reset_index()\n",
    "#print dftest.head()\n",
    "ilong, ibad, ilist = 0, 0, []\n",
    "for name, df in [('train',dftrain),('test',dftest)] :\n",
    "    for ii,row in df.iterrows() :\n",
    "        if ii%50000==0 : print datetime.datetime.now(), name, ii\n",
    "        if name=='train' and row.target==1 : ilong += 1\n",
    "        pp = row.paragraphLSX.split()\n",
    "        qq = row.questionLSX.split()\n",
    "        tt = row.target if name=='train' else 0.0\n",
    "        try :\n",
    "            ns = wv.n_similarity([unicode(ppx,'utf-8') for ppx in pp],[unicode(qqx,'utf-8') for qqx in qq])\n",
    "            ilist.append([tt,ns])\n",
    "            #print '\\t',ii,row.target,ns\n",
    "        except : ibad += 1; #print '\\t',ii,row.target,'--------------- bad bad'\n",
    "    if name=='train' : trainlist = np.array(ilist)\n",
    "    if name=='test'  : testlist  = np.array(ilist)\n",
    "print datetime.datetime.now()"
   ]
  },
  {
   "cell_type": "code",
   "execution_count": 89,
   "metadata": {
    "collapsed": false,
    "deletable": true,
    "editable": true
   },
   "outputs": [
    {
     "data": {
      "text/plain": [
       "(0.06791362870569104, 0.067913628705691037)"
      ]
     },
     "execution_count": 89,
     "metadata": {},
     "output_type": "execute_result"
    }
   ],
   "source": [
    "ilong/dftrain.shape[0], dftrain.target.mean()"
   ]
  },
  {
   "cell_type": "code",
   "execution_count": 92,
   "metadata": {
    "collapsed": false,
    "deletable": true,
    "editable": true
   },
   "outputs": [
    {
     "name": "stdout",
     "output_type": "stream",
     "text": [
      "537565 1009514 (537565, 2) 45224 38255\n"
     ]
    },
    {
     "data": {
      "image/png": "[encoded data removed]",
      "text/plain": [
       "<matplotlib.figure.Figure at 0x7fb82ebf2a90>"
      ]
     },
     "metadata": {},
     "output_type": "display_data"
    },
    {
     "data": {
      "image/png": "[encoded data removed]",
      "text/plain": [
       "<matplotlib.figure.Figure at 0x7fb8326e5650>"
      ]
     },
     "metadata": {},
     "output_type": "display_data"
    },
    {
     "data": {
      "image/png": "[encoded data removed]",
      "text/plain": [
       "<matplotlib.figure.Figure at 0x7fb8327cc410>"
      ]
     },
     "metadata": {},
     "output_type": "display_data"
    },
    {
     "data": {
      "image/png": "[encoded data removed]",
      "text/plain": [
       "<matplotlib.figure.Figure at 0x7fb83267f250>"
      ]
     },
     "metadata": {},
     "output_type": "display_data"
    },
    {
     "data": {
      "image/png": "[encoded data removed]",
      "text/plain": [
       "<matplotlib.figure.Figure at 0x7fb8325a4210>"
      ]
     },
     "metadata": {},
     "output_type": "display_data"
    }
   ],
   "source": [
    "print len(trainlist), len(testlist), trainlist.shape, ibad, ilong\n",
    "plt.hist(trainlist[trainlist[:,0]==0,1],bins=150); plt.show();\n",
    "plt.hist(trainlist[trainlist[:,0]==1,1],bins=150); plt.show();\n",
    "plt.hist(np.array(trainlist[:,1]),bins=150); plt.show();\n",
    "plt.hist(np.array(testlist[:,1]), bins=150); plt.show();\n",
    "\n",
    "plt.scatter(trainlist[:,0],trainlist[:,1]); plt.show();\n"
   ]
  },
  {
   "cell_type": "code",
   "execution_count": 65,
   "metadata": {
    "collapsed": false,
    "deletable": true,
    "editable": true
   },
   "outputs": [],
   "source": [
    "dff = dftrain.copy()\n",
    "dff.head()\n",
    "del dff"
   ]
  },
  {
   "cell_type": "code",
   "execution_count": 276,
   "metadata": {
    "collapsed": false,
    "deletable": true,
    "editable": true
   },
   "outputs": [
    {
     "data": {
      "image/png": "[encoded data removed]",
      "text/plain": [
       "<matplotlib.figure.Figure at 0x7f71e6b5a8d0>"
      ]
     },
     "metadata": {},
     "output_type": "display_data"
    }
   ],
   "source": [
    "lsx = []\n",
    "for pw in unicode(dftrain.paragraphLSX[0]).split()[:5] :\n",
    "    for qw in unicode(dftrain.questionLSX[0]).split()[:5] :\n",
    "        try : \n",
    "            #print pw,qw,wv.similarity(pw,qw); \n",
    "            lsx.append(abs(wv.similarity(pw,qw)))\n",
    "        except : continue\n",
    "plt.hist(np.array(lsx),bins=100); plt.show()"
   ]
  },
  {
   "cell_type": "code",
   "execution_count": 269,
   "metadata": {
    "collapsed": false,
    "deletable": true,
    "editable": true
   },
   "outputs": [
    {
     "data": {
      "text/plain": [
       "[u'0',\n",
       " u'\\u043e\\u0442\\u043b\\u0438\\u0447\\u0438\\u0435',\n",
       " u'\\u0440\\u044b\\u0431\\u0430',\n",
       " u',',\n",
       " u'\\u0437\\u0435\\u043c\\u043d\\u043e\\u0432\\u043e\\u0434\\u043d\\u044b\\u0439',\n",
       " u'(',\n",
       " u'\\u0430\\u043c\\u0444\\u0438\\u0431\\u0438\\u044f',\n",
       " u')',\n",
       " u'\\u043f\\u0440\\u0435\\u0441\\u043c\\u044b\\u043a...',\n",
       " u'0',\n",
       " u'\\u0435\\u0434\\u0438\\u043d\\u0441\\u0442\\u0432\\u0435\\u043d\\u043d\\u044b\\u0439',\n",
       " u'\\u0441\\u043e\\u0432\\u0440\\u0435\\u043c\\u0435\\u043d\\u043d\\u044b\\u0439',\n",
       " u'\\u0440\\u0435\\u043f\\u0442\\u0438\\u043b\\u0438\\u044f',\n",
       " u',',\n",
       " u'\\u0438\\u043c\\u0435\\u0442\\u044c',\n",
       " u'\\u043d\\u0435\\u043f...',\n",
       " u'0',\n",
       " u'\\u0441\\u0447\\u0438\\u0442\\u0430\\u0442\\u044c\\u0441\\u044f',\n",
       " u',',\n",
       " u'\\u0432\\u043f\\u0435\\u0440\\u0432\\u044b\\u0435',\n",
       " u'\\u0447\\u0435\\u0442\\u044b\\u0440\\u0451\\u0445\\u043a\\u0430\\u043c\\u0435\\u0440\\u043d\\u044b\\u0439',\n",
       " u'\\u0441\\u0435\\u0440\\u0434\\u0446\\u0435',\n",
       " u'\\u043f\\u043e...',\n",
       " u'0',\n",
       " u'\\u0434\\u0430\\u043b\\u044c\\u043d\\u0435\\u0439\\u0448\\u0438\\u0439',\n",
       " u'\\u0441\\u0442\\u0440\\u043e\\u0435\\u043d\\u0438\\u0435',\n",
       " u'\\u0441\\u0435\\u0440\\u0434\\u0446\\u0435',\n",
       " u'\\u0443\\u043d\\u0430\\u0441\\u043b\\u0435\\u0434\\u043e\\u0432\\u0430\\u0442\\u044c',\n",
       " u'\\u043f\\u0440\\u044f\\u043c\\u0430...',\n",
       " u'Name:',\n",
       " u'paragraphLSX,',\n",
       " u'dtype:',\n",
       " u'object']"
      ]
     },
     "execution_count": 269,
     "metadata": {},
     "output_type": "execute_result"
    }
   ],
   "source": [
    "unicode(dftrain.paragraphLSX[0]).split()"
   ]
  },
  {
   "cell_type": "code",
   "execution_count": null,
   "metadata": {
    "collapsed": true,
    "deletable": true,
    "editable": true
   },
   "outputs": [],
   "source": []
  },
  {
   "cell_type": "code",
   "execution_count": 28,
   "metadata": {
    "collapsed": false,
    "deletable": true,
    "editable": true
   },
   "outputs": [
    {
     "data": {
      "text/plain": [
       "Counter({' ': 1, 'a': 2, 'b': 3, 'c': 4})"
      ]
     },
     "execution_count": 28,
     "metadata": {},
     "output_type": "execute_result"
    }
   ],
   "source": [
    "aa=Counter('aabb bcccc'); aa\n",
    "#aa=Counter({'aa':6, 'b':7}); aa"
   ]
  },
  {
   "cell_type": "code",
   "execution_count": 85,
   "metadata": {
    "collapsed": false,
    "deletable": true,
    "editable": true
   },
   "outputs": [
    {
     "name": "stdout",
     "output_type": "stream",
     "text": [
      "вова\n"
     ]
    }
   ],
   "source": [
    "import pymorphy2\n",
    "morphy = pymorphy2.MorphAnalyzer()\n",
    "morphy.parse(u'вова')\n",
    "print morphy.parse(u'вову')[0].normal_form\n",
    "#str(morphy.parse(u'вовочка')[0].normal_form) #.encode('cp1251')"
   ]
  },
  {
   "cell_type": "code",
   "execution_count": 112,
   "metadata": {
    "collapsed": false,
    "deletable": true,
    "editable": true
   },
   "outputs": [
    {
     "name": "stdout",
     "output_type": "stream",
     "text": [
      "4 [Parse(word=u'\\u0447\\u0435\\u0442\\u0432\\u0435\\u0440\\u0442\\u044b\\u0439 \\u043f\\u0435\\u0440\\u0435\\u0441\\u0438\\u0434\\u0435\\u0432\\u0448\\u0438\\u0439', tag=OpencorporaTag('PRTF,perf,intr,past,actv masc,sing,nomn'), normal_form=u'\\u0447\\u0435\\u0442\\u0432\\u0435\\u0440\\u0442\\u044b\\u0439 \\u043f\\u0435\\u0440\\u0435\\u0441\\u0438\\u0434\\u0435\\u0442\\u044c', score=0.4831932773109244, methods_stack=((<FakeDictionary>, u'\\u0447\\u0435\\u0442\\u0432\\u0435\\u0440\\u0442\\u044b\\u0439 \\u043f\\u0435\\u0440\\u0435\\u0441\\u0438\\u0434\\u0435\\u0432\\u0448\\u0438\\u0439', 715, 15), (<KnownSuffixAnalyzer>, u'\\u0435\\u0432\\u0448\\u0438\\u0439'))), Parse(word=u'\\u0447\\u0435\\u0442\\u0432\\u0435\\u0440\\u0442\\u044b\\u0439 \\u043f\\u0435\\u0440\\u0435\\u0441\\u0438\\u0434\\u0435\\u0432\\u0448\\u0438\\u0439', tag=OpencorporaTag('PRTF,perf,intr,past,actv inan,masc,sing,accs'), normal_form=u'\\u0447\\u0435\\u0442\\u0432\\u0435\\u0440\\u0442\\u044b\\u0439 \\u043f\\u0435\\u0440\\u0435\\u0441\\u0438\\u0434\\u0435\\u0442\\u044c', score=0.4831932773109244, methods_stack=((<FakeDictionary>, u'\\u0447\\u0435\\u0442\\u0432\\u0435\\u0440\\u0442\\u044b\\u0439 \\u043f\\u0435\\u0440\\u0435\\u0441\\u0438\\u0434\\u0435\\u0432\\u0448\\u0438\\u0439', 715, 19), (<KnownSuffixAnalyzer>, u'\\u0435\\u0432\\u0448\\u0438\\u0439'))), Parse(word=u'\\u0447\\u0435\\u0442\\u0432\\u0435\\u0440\\u0442\\u044b\\u0439 \\u043f\\u0435\\u0440\\u0435\\u0441\\u0438\\u0434\\u0435\\u0432\\u0448\\u0438\\u0439', tag=OpencorporaTag('ADJF masc,sing,nomn'), normal_form=u'\\u0447\\u0435\\u0442\\u0432\\u0435\\u0440\\u0442\\u044b\\u0439 \\u043f\\u0435\\u0440\\u0435\\u0441\\u0438\\u0434\\u0435\\u0432\\u0448\\u0438\\u0439', score=0.01680672268907563, methods_stack=((<FakeDictionary>, u'\\u0447\\u0435\\u0442\\u0432\\u0435\\u0440\\u0442\\u044b\\u0439 \\u043f\\u0435\\u0440\\u0435\\u0441\\u0438\\u0434\\u0435\\u0432\\u0448\\u0438\\u0439', 100, 0), (<KnownSuffixAnalyzer>, u'\\u0435\\u0432\\u0448\\u0438\\u0439'))), Parse(word=u'\\u0447\\u0435\\u0442\\u0432\\u0435\\u0440\\u0442\\u044b\\u0439 \\u043f\\u0435\\u0440\\u0435\\u0441\\u0438\\u0434\\u0435\\u0432\\u0448\\u0438\\u0439', tag=OpencorporaTag('ADJF inan,masc,sing,accs'), normal_form=u'\\u0447\\u0435\\u0442\\u0432\\u0435\\u0440\\u0442\\u044b\\u0439 \\u043f\\u0435\\u0440\\u0435\\u0441\\u0438\\u0434\\u0435\\u0432\\u0448\\u0438\\u0439', score=0.01680672268907563, methods_stack=((<FakeDictionary>, u'\\u0447\\u0435\\u0442\\u0432\\u0435\\u0440\\u0442\\u044b\\u0439 \\u043f\\u0435\\u0440\\u0435\\u0441\\u0438\\u0434\\u0435\\u0432\\u0448\\u0438\\u0439', 100, 4), (<KnownSuffixAnalyzer>, u'\\u0435\\u0432\\u0448\\u0438\\u0439')))]\n",
      "четвертый пересидеть\n",
      "четвертый пересидеть 0.483193277311 PRTF,perf,intr,past,actv masc,sing,nomn\n",
      "четвертый пересидеть 0.483193277311 PRTF,perf,intr,past,actv inan,masc,sing,accs\n",
      "четвертый пересидевший 0.0168067226891 ADJF masc,sing,nomn\n",
      "четвертый пересидевший 0.0168067226891 ADJF inan,masc,sing,accs\n"
     ]
    }
   ],
   "source": [
    "wword = u'четвертый пересидевший'\n",
    "print len(morphy.parse(wword)),morphy.parse(wword)\n",
    "print morphy.parse(wword)[0].normal_form\n",
    "for pp in morphy.parse(wword) : print pp.normal_form, pp.score, pp.tag"
   ]
  },
  {
   "cell_type": "code",
   "execution_count": 75,
   "metadata": {
    "collapsed": false,
    "deletable": true,
    "editable": true
   },
   "outputs": [
    {
     "name": "stdout",
     "output_type": "stream",
     "text": [
      "вщвщчка\n"
     ]
    }
   ],
   "source": [
    "print unicode(u'вщвщчка')\n",
    "#str(u'вщвщчка'.decode('utf_8'))"
   ]
  },
  {
   "cell_type": "code",
   "execution_count": 74,
   "metadata": {
    "collapsed": false,
    "deletable": true,
    "editable": true
   },
   "outputs": [
    {
     "name": "stdout",
     "output_type": "stream",
     "text": [
      "вовочка\n"
     ]
    }
   ],
   "source": [
    "print 'вовочка'.decode('utf-8')"
   ]
  },
  {
   "cell_type": "code",
   "execution_count": 200,
   "metadata": {
    "collapsed": true,
    "deletable": true,
    "editable": true
   },
   "outputs": [],
   "source": [
    "import nltk"
   ]
  },
  {
   "cell_type": "code",
   "execution_count": 217,
   "metadata": {
    "collapsed": false,
    "deletable": true,
    "editable": true
   },
   "outputs": [
    {
     "data": {
      "text/plain": [
       "Index([u'paragraph_id', u'question_id', u'paragraph', u'question', u'target',\n",
       "       u'len_paragraph', u'len_question', u'len_intersection', u'idf_question',\n",
       "       u'idf_paragraph', u'idf_intersection', u'len_paragraph0',\n",
       "       u'len_question0', u'len_intersection0', u'idf_question0',\n",
       "       u'idf_paragraph0', u'idf_intersection0'],\n",
       "      dtype='object')"
      ]
     },
     "execution_count": 217,
     "metadata": {},
     "output_type": "execute_result"
    }
   ],
   "source": [
    "dftrain.columns"
   ]
  },
  {
   "cell_type": "code",
   "execution_count": 253,
   "metadata": {
    "collapsed": false,
    "deletable": true,
    "editable": true
   },
   "outputs": [
    {
     "data": {
      "image/png": "[encoded data removed]",
      "text/plain": [
       "<matplotlib.figure.Figure at 0x7ff5079b2350>"
      ]
     },
     "metadata": {},
     "output_type": "display_data"
    }
   ],
   "source": [
    "plt.figure(figsize=(15,20))\n",
    "bbins = [xx for xx in range(0,1000,10)]\n",
    "plt.subplot(621); plt.hist(dftrain.idf_paragraph,bins=bbins); plt.title('train idf paragraph')\n",
    "plt.subplot(622);plt.hist(dftest.idf_paragraph,bins=bbins);   plt.title('test  idf paragraph') \n",
    "plt.subplot(623); plt.hist(dftrain.idf_question,bins=75);     plt.title('train idf question')\n",
    "plt.subplot(624);plt.hist(dftest.idf_question,bins=75);       plt.title('test  idf question')\n",
    "plt.subplot(625);plt.hist(dftrain.idf_intersection,bins=75);       plt.title('train  idf intersection')\n",
    "plt.subplot(626);plt.hist(dftest.idf_intersection,bins=75);       plt.title('test  idf intersection')\n",
    "\n",
    "plt.subplot(627); plt.hist(dftrain.idf_paragraph0,bins=bbins);plt.title('train idf paragraph0')\n",
    "plt.subplot(628);plt.hist(dftest.idf_paragraph0,bins=bbins);  plt.title('test  idf paragraph0')\n",
    "plt.subplot(629); plt.hist(dftrain.idf_question0,bins=75);    plt.title('train idf question0')\n",
    "plt.subplot(6,2,10);plt.hist(dftest.idf_question0,bins=75);      plt.title('test  idf question0')\n",
    "plt.subplot(6,2,11);plt.hist(dftrain.idf_intersection0,bins=75);      plt.title('train  idf intersection0')\n",
    "plt.subplot(6,2,12);plt.hist(dftest.idf_intersection0,bins=75);      plt.title('test  idf intersection0')\n",
    "\n",
    "plt.show()"
   ]
  },
  {
   "cell_type": "code",
   "execution_count": 252,
   "metadata": {
    "collapsed": false,
    "deletable": true,
    "editable": true
   },
   "outputs": [
    {
     "data": {
      "image/png": "[encoded data removed]",
      "text/plain": [
       "<matplotlib.figure.Figure at 0x7ff4fd716310>"
      ]
     },
     "metadata": {},
     "output_type": "display_data"
    }
   ],
   "source": [
    "plt.figure(figsize=(15,20))\n",
    "bbins = [xx for xx in range(0,500,5)]\n",
    "plt.subplot(621); plt.hist(dftrain.len_paragraph,bins=bbins); plt.title('train len paragraph')\n",
    "plt.subplot(622);plt.hist(dftest.len_paragraph,bins=bbins);   plt.title('test  len paragraph') \n",
    "plt.subplot(623); plt.hist(dftrain.len_question,bins=50);     plt.title('train len question')\n",
    "plt.subplot(624);plt.hist(dftest.len_question,bins=50);       plt.title('test  len question')\n",
    "plt.subplot(625);plt.hist(dftrain.len_intersection,bins=75);       plt.title('train  len intersection')\n",
    "plt.subplot(626);plt.hist(dftest.len_intersection,bins=75);       plt.title('test  len intersection')\n",
    "\n",
    "plt.subplot(627); plt.hist(dftrain.len_paragraph0,bins=bbins);plt.title('train len paragraph0')\n",
    "plt.subplot(628);plt.hist(dftest.len_paragraph0,bins=bbins);  plt.title('test  len paragraph0')\n",
    "plt.subplot(629); plt.hist(dftrain.len_question0,bins=50);    plt.title('train len question0')\n",
    "plt.subplot(6,2,10);plt.hist(dftest.len_question0,bins=50);      plt.title('test  len question0')\n",
    "plt.subplot(6,2,11);plt.hist(dftrain.len_intersection0,bins=75);      plt.title('train  len intersection0')\n",
    "plt.subplot(6,2,12);plt.hist(dftest.len_intersection0,bins=75);      plt.title('test  len intersection0')\n",
    "\n",
    "plt.show()"
   ]
  },
  {
   "cell_type": "code",
   "execution_count": 274,
   "metadata": {
    "collapsed": false,
    "deletable": true,
    "editable": true,
    "scrolled": true
   },
   "outputs": [
    {
     "name": "stdout",
     "output_type": "stream",
     "text": [
      "[11, 22, 33, 44, 55, 66, 77, 88, 99, 10]\n",
      "train=[2 3 4 7 8 9] test=[0 1 5 6]\n",
      "[33 44 55 88 99 10]\n",
      "[11 22 66 77]\n",
      "train=[0 1 4 5 6 9] test=[2 3 7 8]\n",
      "[11 22 55 66 77 10]\n",
      "[33 44 88 99]\n",
      "train=[0 1 2 3 5 6 7 8] test=[4 9]\n",
      "[11 22 33 44 66 77 88 99]\n",
      "[55 10]\n"
     ]
    }
   ],
   "source": [
    "skf = skms.StratifiedKFold(n_splits=3)\n",
    "X = [11,22,33,44,55,66,77,88,99,10]; \n",
    "y = [11,11,11,11,11,22,22,22,22,22]; \n",
    "print(X)\n",
    "for train_index, test_index in skf.split(X,y) :\n",
    "    print 'train={} test={}'.format(train_index,test_index)\n",
    "    print np.array(X)[train_index]\n",
    "    print np.array(X)[test_index]\n"
   ]
  },
  {
   "cell_type": "code",
   "execution_count": 336,
   "metadata": {
    "collapsed": false,
    "deletable": true,
    "editable": true
   },
   "outputs": [
    {
     "data": {
      "text/plain": [
       "(0.99839152723779545,\n",
       " 0.00012748411913640487,\n",
       " array([ 0.99834759,  0.99852797,  0.99835356,  0.99835328,  0.99859732,\n",
       "         0.99834908,  0.99856697,  0.99815247,  0.99832212,  0.99834491]))"
      ]
     },
     "execution_count": 336,
     "metadata": {},
     "output_type": "execute_result"
    }
   ],
   "source": [
    "skf = skms.StratifiedKFold(n_splits=10)\n",
    "import xgboost as xgb\n",
    "columns  = []\n",
    "columns += ['len_paragraph', 'len_question', 'len_intersection', 'idf_question', 'idf_paragraph', 'idf_intersection']\n",
    "columns += ['len_paragraph0', 'len_question0', 'len_intersection0', 'idf_question0', 'idf_paragraph0', 'idf_intersection0']\n",
    "#model = GradientBoostingClassifier()\n",
    "model = xgb.XGBClassifier(learning_rate=0.1, n_estimators=300, silent=True)\n",
    "scores = skms.cross_val_score(model, dftrain[columns], dftrain['target'], cv=skf, scoring='roc_auc');\n",
    "#dftest['prediction']  = model.predict_proba(dftest[columns])[:, 1]\n",
    "#ddftrain = model.predict_proba(dftrain[columns])[:, 1]\n",
    "np.array(scores).mean(), np.array(scores).std(), scores"
   ]
  },
  {
   "cell_type": "code",
   "execution_count": 335,
   "metadata": {
    "collapsed": false,
    "deletable": true,
    "editable": true
   },
   "outputs": [
    {
     "data": {
      "text/plain": [
       "(0.99835128988464183,\n",
       " 0.00013363048368364195,\n",
       " array([ 0.99830495,  0.99850091,  0.99830191,  0.99829347,  0.99856759,\n",
       "         0.99828593,  0.99852408,  0.99809739,  0.99833713,  0.99829954]))"
      ]
     },
     "execution_count": 335,
     "metadata": {},
     "output_type": "execute_result"
    }
   ],
   "source": [
    "np.array(scores).mean(), np.array(scores).std(), scores"
   ]
  }
 ],
 "metadata": {
  "kernelspec": {
   "display_name": "Python 2",
   "language": "python",
   "name": "python2"
  },
  "language_info": {
   "codemirror_mode": {
    "name": "ipython",
    "version": 2
   },
   "file_extension": ".py",
   "mimetype": "text/x-python",
   "name": "python",
   "nbconvert_exporter": "python",
   "pygments_lexer": "ipython2",
   "version": "2.7.13"
  }
 },
 "nbformat": 4,
 "nbformat_minor": 2
}
