{
 "cells": [
  {
   "cell_type": "code",
   "execution_count": 1,
   "metadata": {
    "collapsed": true,
    "deletable": true,
    "editable": true
   },
   "outputs": [],
   "source": [
    "# 2017-10-03 baseline (only)                         --> LB=0.78\n",
    "# 2017-10-03 baseline with lemmarization (pymorphy2) --> LB=0.83991\n",
    "# 2017-10-03 baseline + lemmarization (pymorphy2)\n",
    "# 2017-10-04 baseline + lemmarization (pymorphy2) + base\n",
    "# 2017-10-05 baseline + lemmarization (pymorphy2) + base + XGB(natural) --> LB=0.8688\n",
    "# 2017-10-07 baseline + lemmarization (pymorphy2) + base - stopWords XGB(natural) -> 0.8755666207002808\n",
    "#\n",
    "#2017-10-13 + test.paragraph on sentences -> 0.9164478890738156\n",
    "#\n",
    "#"
   ]
  },
  {
   "cell_type": "code",
   "execution_count": 2,
   "metadata": {
    "collapsed": false,
    "deletable": true,
    "editable": true
   },
   "outputs": [],
   "source": [
    "from __future__ import division\n",
    "import sys, os, datetime\n",
    "import pandas as pd\n",
    "from collections import Counter\n",
    "import functools\n",
    "#import tqdm\n",
    "import re\n",
    "import numpy as np\n",
    "import matplotlib.pyplot as plt\n",
    "from sklearn.ensemble import GradientBoostingClassifier\n",
    "import sklearn.metrics as skm\n",
    "import sklearn.model_selection as skms\n",
    "import pymorphy2"
   ]
  },
  {
   "cell_type": "code",
   "execution_count": 3,
   "metadata": {
    "collapsed": false,
    "deletable": true,
    "editable": true
   },
   "outputs": [
    {
     "name": "stderr",
     "output_type": "stream",
     "text": [
      "Using TensorFlow backend.\n"
     ]
    }
   ],
   "source": [
    "import gensim.models.word2vec"
   ]
  },
  {
   "cell_type": "code",
   "execution_count": 4,
   "metadata": {
    "collapsed": false,
    "deletable": true,
    "editable": true
   },
   "outputs": [],
   "source": [
    "#dftrain, dftest = pd.read_csv(\"../Data/train_task1_latest.csv\"), pd.read_csv(\"../Data/test_task1_latest.csv\")\n",
    "dftrain, dftest = pd.read_csv(\"../Work/train_task1_lemma.csv\"), pd.read_csv(\"../Work/test_task1_lemma.csv\")"
   ]
  },
  {
   "cell_type": "code",
   "execution_count": 5,
   "metadata": {
    "collapsed": false,
    "deletable": true,
    "editable": true
   },
   "outputs": [
    {
     "data": {
      "text/plain": [
       "((119398, 13),\n",
       " (74294, 12),\n",
       " ['paragraph_id',\n",
       "  'question_id',\n",
       "  'paragraph',\n",
       "  'question',\n",
       "  'target',\n",
       "  'paragraphL',\n",
       "  'questionL',\n",
       "  'paragraphLS',\n",
       "  'questionLS',\n",
       "  'paragraphLX',\n",
       "  'questionLX',\n",
       "  'paragraphLSX',\n",
       "  'questionLSX'])"
      ]
     },
     "execution_count": 5,
     "metadata": {},
     "output_type": "execute_result"
    }
   ],
   "source": [
    "dftrain.shape, dftest.shape, dftrain.columns.tolist()"
   ]
  },
  {
   "cell_type": "code",
   "execution_count": null,
   "metadata": {
    "collapsed": false,
    "deletable": true,
    "editable": true,
    "scrolled": true
   },
   "outputs": [],
   "source": []
  },
  {
   "cell_type": "code",
   "execution_count": 6,
   "metadata": {
    "collapsed": false,
    "deletable": true,
    "editable": true
   },
   "outputs": [],
   "source": [
    "#@functools.lru_cache(maxsize=2 ** 19)\n",
    "def uniq_words_old_baseline(text):\n",
    "    return set(re.findall(\"\\w+\", text.decode('utf-8'),re.UNICODE))\n",
    "\n",
    "def calculate_idfs_old_baseline(data):\n",
    "    counter_paragraph = Counter()\n",
    "    uniq_paragraphs = data['paragraph'].unique()\n",
    "    for paragraph in uniq_paragraphs : #tqdm.tqdm(uniq_paragraphs, desc=\"calc idf\"):\n",
    "        set_words = uniq_words_old_baseline(paragraph)\n",
    "        counter_paragraph.update(set_words)\n",
    "        \n",
    "    num_docs = uniq_paragraphs.shape[0]\n",
    "    idfs = {}\n",
    "    for word in counter_paragraph:\n",
    "        idfs[word] = np.log(float(num_docs) // counter_paragraph[word])\n",
    "    return idfs"
   ]
  },
  {
   "cell_type": "code",
   "execution_count": 7,
   "metadata": {
    "collapsed": true,
    "deletable": true,
    "editable": true
   },
   "outputs": [],
   "source": [
    "#@functools.lru_cache(maxsize=2 ** 19)\n",
    "def uniq_words(text):\n",
    "    ttext = [mm2.parse(xx)[0].normal_form for xx in re.findall(\"\\w+\", text.decode('utf-8'),re.UNICODE) \n",
    "             if mm2.parse(xx)[0].tag.POS not in {'PREP','CONJ','PRCL','INTJ'}]\n",
    "    return  set(ttext)\n",
    "    #return set(re.findall(\"\\w+\", text.decode('utf-8'),re.UNICODE))\n",
    "\n",
    "def calculate_idfs(data):\n",
    "    counter_paragraph = Counter()\n",
    "    uniq_paragraphs = data['paragraph'].unique()\n",
    "    for paragraph in uniq_paragraphs : #tqdm.tqdm(uniq_paragraphs, desc=\"calc idf\"):\n",
    "        set_words = uniq_words(paragraph)\n",
    "        counter_paragraph.update(set_words)\n",
    "        \n",
    "    num_docs = uniq_paragraphs.shape[0]\n",
    "    idfs = {}\n",
    "    for word in counter_paragraph:\n",
    "        idfs[word] = np.log(float(num_docs) // counter_paragraph[word])\n",
    "    return idfs"
   ]
  },
  {
   "cell_type": "code",
   "execution_count": 8,
   "metadata": {
    "collapsed": true,
    "deletable": true,
    "editable": true
   },
   "outputs": [],
   "source": [
    "#@functools.lru_cache(maxsize=2 ** 19)\n",
    "# add truncate 3 word\n",
    "def uniq_wordsX(text, minLen=3):\n",
    "    ttext = [xx for xx in re.findall(\"\\w+\", text.decode('utf-8'),re.UNICODE) if len(xx)>=minLen]\n",
    "    return set(re.findall(\"\\w+\", text.decode('utf-8'),re.UNICODE))\n",
    "\n",
    "def calculate_idfsX(data, column='paragraph'):\n",
    "    counter_paragraph = Counter()\n",
    "    uniq_paragraphs = data[column].unique()\n",
    "    for paragraph in uniq_paragraphs : #tqdm.tqdm(uniq_paragraphs, desc=\"calc idf\"):\n",
    "        set_words = uniq_wordsX(paragraph)\n",
    "        counter_paragraph.update(set_words)\n",
    "        \n",
    "    num_docs = uniq_paragraphs.shape[0]\n",
    "    idfs = {}\n",
    "    for word in counter_paragraph:\n",
    "        idfs[word] = np.log(float(num_docs) // counter_paragraph[word])\n",
    "    return idfs"
   ]
  },
  {
   "cell_type": "code",
   "execution_count": null,
   "metadata": {
    "collapsed": true,
    "deletable": true,
    "editable": true
   },
   "outputs": [],
   "source": []
  },
  {
   "cell_type": "code",
   "execution_count": 9,
   "metadata": {
    "collapsed": false,
    "deletable": true,
    "editable": true
   },
   "outputs": [],
   "source": [
    "idfs  = calculate_idfsX(dftrain,'paragraphLSX')\n",
    "idfs0 = calculate_idfsX(dftrain,'paragraph')"
   ]
  },
  {
   "cell_type": "code",
   "execution_count": 10,
   "metadata": {
    "collapsed": false,
    "deletable": true,
    "editable": true
   },
   "outputs": [
    {
     "data": {
      "text/html": [
       "<div>\n",
       "<table border=\"1\" class=\"dataframe\">\n",
       "  <thead>\n",
       "    <tr style=\"text-align: right;\">\n",
       "      <th></th>\n",
       "      <th>paragraph_id</th>\n",
       "      <th>question_id</th>\n",
       "      <th>paragraph</th>\n",
       "      <th>question</th>\n",
       "      <th>target</th>\n",
       "      <th>paragraphL</th>\n",
       "      <th>questionL</th>\n",
       "      <th>paragraphLS</th>\n",
       "      <th>questionLS</th>\n",
       "      <th>paragraphLX</th>\n",
       "      <th>questionLX</th>\n",
       "      <th>paragraphLSX</th>\n",
       "      <th>questionLSX</th>\n",
       "    </tr>\n",
       "  </thead>\n",
       "  <tbody>\n",
       "    <tr>\n",
       "      <th>0</th>\n",
       "      <td>1094</td>\n",
       "      <td>46273</td>\n",
       "      <td>В отличие от рыб, земноводные (амфибии) и прес...</td>\n",
       "      <td>С какого года Русское Царство перешло на летои...</td>\n",
       "      <td>0.0</td>\n",
       "      <td>в отличие от рыба , земноводный ( амфибия ) и ...</td>\n",
       "      <td>с какой год русский царство перейти на летоисч...</td>\n",
       "      <td>отличие рыба , земноводный ( амфибия ) пресмык...</td>\n",
       "      <td>год русский царство перейти летоисчисление рож...</td>\n",
       "      <td>отличие рыба , земноводный ( амфибия ) пресмык...</td>\n",
       "      <td>какой год русский царство перейти летоисчислен...</td>\n",
       "      <td>отличие рыба , земноводный ( амфибия ) пресмык...</td>\n",
       "      <td>год русский царство перейти летоисчисление рож...</td>\n",
       "    </tr>\n",
       "  </tbody>\n",
       "</table>\n",
       "</div>"
      ],
      "text/plain": [
       "   paragraph_id  question_id  \\\n",
       "0          1094        46273   \n",
       "\n",
       "                                           paragraph  \\\n",
       "0  В отличие от рыб, земноводные (амфибии) и прес...   \n",
       "\n",
       "                                            question  target  \\\n",
       "0  С какого года Русское Царство перешло на летои...     0.0   \n",
       "\n",
       "                                          paragraphL  \\\n",
       "0  в отличие от рыба , земноводный ( амфибия ) и ...   \n",
       "\n",
       "                                           questionL  \\\n",
       "0  с какой год русский царство перейти на летоисч...   \n",
       "\n",
       "                                         paragraphLS  \\\n",
       "0  отличие рыба , земноводный ( амфибия ) пресмык...   \n",
       "\n",
       "                                          questionLS  \\\n",
       "0  год русский царство перейти летоисчисление рож...   \n",
       "\n",
       "                                         paragraphLX  \\\n",
       "0  отличие рыба , земноводный ( амфибия ) пресмык...   \n",
       "\n",
       "                                          questionLX  \\\n",
       "0  какой год русский царство перейти летоисчислен...   \n",
       "\n",
       "                                        paragraphLSX  \\\n",
       "0  отличие рыба , земноводный ( амфибия ) пресмык...   \n",
       "\n",
       "                                         questionLSX  \n",
       "0  год русский царство перейти летоисчисление рож...  "
      ]
     },
     "execution_count": 10,
     "metadata": {},
     "output_type": "execute_result"
    }
   ],
   "source": [
    "dftrain[:1]"
   ]
  },
  {
   "cell_type": "code",
   "execution_count": 11,
   "metadata": {
    "collapsed": false,
    "deletable": true,
    "editable": true
   },
   "outputs": [],
   "source": [
    "#print(dftrain.paragraph[0])"
   ]
  },
  {
   "cell_type": "code",
   "execution_count": 12,
   "metadata": {
    "collapsed": false,
    "deletable": true,
    "editable": true
   },
   "outputs": [],
   "source": [
    "#paragraph = uniq_words(str(dftrain.paragraph[0]));\n",
    "#print len(paragraph)\n",
    "#for xx in paragraph : print xx"
   ]
  },
  {
   "cell_type": "code",
   "execution_count": 13,
   "metadata": {
    "collapsed": true,
    "deletable": true,
    "editable": true
   },
   "outputs": [],
   "source": [
    "def newFields (paragraph, question) :\n",
    "    return(len(paragraph), \\\n",
    "           len(question), \\\n",
    "           len(paragraph & question), \\\n",
    "           np.sum([idfs.get(word, 0.0) for word in question]), \\\n",
    "           np.sum([idfs.get(word, 0.0) for word in paragraph]), \\\n",
    "           np.sum([idfs.get(word, 0.0) for word in paragraph & question]), \\\n",
    "           float(len(paragraph & question))/len(question), \\\n",
    "           np.sum([idfs.get(word, 0.0) for word in paragraph & question])/(np.sum([idfs.get(word, 0.0) for word in question]))\n",
    "          )"
   ]
  },
  {
   "cell_type": "code",
   "execution_count": null,
   "metadata": {
    "collapsed": true,
    "deletable": true,
    "editable": true
   },
   "outputs": [],
   "source": []
  },
  {
   "cell_type": "code",
   "execution_count": 70,
   "metadata": {
    "collapsed": false,
    "deletable": true,
    "editable": true
   },
   "outputs": [
    {
     "name": "stdout",
     "output_type": "stream",
     "text": [
      "387384\n"
     ]
    }
   ],
   "source": [
    "sentences  = dftrain['paragraphL'].tolist()+dftrain.questionL.tolist()\n",
    "sentences += dftest ['paragraphL'].tolist()+dftest.questionL.tolist()\n",
    "sentences = [[ss.decode('utf-8') for ss in s.split(' ')] for s in sentences]\n",
    "print len(sentences) #, sentences[0]"
   ]
  },
  {
   "cell_type": "code",
   "execution_count": 71,
   "metadata": {
    "collapsed": false,
    "deletable": true,
    "editable": true,
    "scrolled": true
   },
   "outputs": [
    {
     "name": "stdout",
     "output_type": "stream",
     "text": [
      "2017-10-28 22:36:32.687718\n",
      "2017-10-28 22:38:03.090958\n"
     ]
    }
   ],
   "source": [
    "print datetime.datetime.now()\n",
    "model = gensim.models.word2vec.Word2Vec(sentences, size=100, window=5, workers=4, min_count=1)\n",
    "wv    = model.wv\n",
    "print datetime.datetime.now()"
   ]
  },
  {
   "cell_type": "code",
   "execution_count": 14,
   "metadata": {
    "collapsed": false,
    "deletable": true,
    "editable": true
   },
   "outputs": [],
   "source": [
    "if 0 : model.save(\"../Work/model_word2vec1\"); wv=model.wv\n",
    "if 1 : model = gensim.models.Word2Vec.load(\"../Work/model_word2vec1\"); wv=model.wv"
   ]
  },
  {
   "cell_type": "code",
   "execution_count": 89,
   "metadata": {
    "collapsed": true,
    "deletable": true,
    "editable": true
   },
   "outputs": [],
   "source": [
    "#dftrain, dftest = dftrain[:10], dftest[:10]"
   ]
  },
  {
   "cell_type": "code",
   "execution_count": 90,
   "metadata": {
    "collapsed": false,
    "deletable": true,
    "editable": true
   },
   "outputs": [
    {
     "name": "stdout",
     "output_type": "stream",
     "text": [
      "2017-10-28 22:42:53.013701 train 0\n"
     ]
    },
    {
     "name": "stderr",
     "output_type": "stream",
     "text": [
      "/home/boba/anaconda2/envs/tensorflow-gpu/lib/python2.7/site-packages/ipykernel/__main__.py:2: RuntimeWarning: invalid value encountered in double_scalars\n",
      "  from ipykernel import kernelapp as app\n"
     ]
    },
    {
     "name": "stdout",
     "output_type": "stream",
     "text": [
      "2017-10-28 22:44:19.221139 train 10000\n",
      "2017-10-28 22:45:44.047272 train 20000\n",
      "2017-10-28 22:47:08.835014 train 30000\n",
      "2017-10-28 22:48:33.525922 train 40000\n",
      "2017-10-28 22:49:58.334802 train 50000\n",
      "2017-10-28 22:51:23.094230 train 60000\n",
      "2017-10-28 22:52:48.533665 train 70000\n",
      "2017-10-28 22:54:13.613604 train 80000\n",
      "2017-10-28 22:55:39.304092 train 90000\n",
      "2017-10-28 22:57:05.651603 train 100000\n",
      "2017-10-28 22:58:32.980087 train 110000\n",
      "2017-10-28 22:59:52.808988 test 0\n",
      "2017-10-28 23:01:03.190880 test 10000\n",
      "2017-10-28 23:02:13.163503 test 20000\n",
      "2017-10-28 23:03:24.513366 test 30000\n",
      "2017-10-28 23:04:36.479233 test 40000\n",
      "2017-10-28 23:05:47.459065 test 50000\n",
      "2017-10-28 23:06:57.841059 test 60000\n",
      "2017-10-28 23:08:08.358619 test 70000\n"
     ]
    }
   ],
   "source": [
    "for name, df in [('train', dftrain), ('test', dftest)]:\n",
    "    for index, row in df.iterrows() : #tqdm.tqdm(df.iterrows(), total=df.shape[0], desc=\"build features for \" + name):\n",
    "        \n",
    "        if index%10000==0 : print datetime.datetime.now(), name, index\n",
    "        \n",
    "        question  = uniq_wordsX(row.questionLSX)\n",
    "        paragraph = uniq_wordsX(row.paragraphLSX)\n",
    "        PQ        = newFields (paragraph, question) \n",
    "        ##print index,PQ\n",
    "        df.loc[index, 'len_paragraph']    = PQ[0]\n",
    "        df.loc[index, 'len_question']     = PQ[1]\n",
    "        df.loc[index, 'len_intersection'] = PQ[2]\n",
    "        df.loc[index, 'idf_question']     = PQ[3]\n",
    "        df.loc[index, 'idf_paragraph']    = PQ[4]\n",
    "        df.loc[index, 'idf_intersection'] = PQ[5]\n",
    "        \n",
    "        df.loc[index, 'len_intNorm']      = PQ[6]\n",
    "        df.loc[index, 'idf_intNorm']      = PQ[7]\n",
    "        \n",
    "        pp                    = [unicode(ppx,'utf-8') for ppx in row.paragraphLSX.split()]\n",
    "        qq                    = [unicode(qqx,'utf-8') for qqx in row.questionLSX.split()]\n",
    "        try    : w2v = wv.n_similarity(pp,qq)\n",
    "        except : w2v = -2.0\n",
    "            \n",
    "        #for ppx in pp : print ppx, wv[ppx].shape\n",
    "            \n",
    "        df.loc[index, 'w2v_pqf'] = w2v\n",
    "            \n",
    "        #print w2v,pp,qq\n",
    "\n",
    "        \n",
    "        question  = uniq_wordsX(row.question)\n",
    "        paragraph = uniq_wordsX(row.paragraph)\n",
    "        PQ        = newFields (paragraph, question) \n",
    "        df.loc[index, 'len_paragraph0']    = PQ[0]\n",
    "        df.loc[index, 'len_question0']     = PQ[1]\n",
    "        df.loc[index, 'len_intersection0'] = PQ[2]\n",
    "        df.loc[index, 'idf_question0']     = PQ[3]\n",
    "        df.loc[index, 'idf_paragraph0']    = PQ[4]\n",
    "        df.loc[index, 'idf_intersection0'] = PQ[5]\n",
    "        \n",
    "        df.loc[index, 'len_intNorm0']      = PQ[6]\n",
    "        df.loc[index, 'idf_intNorm0']      = PQ[7]\n"
   ]
  },
  {
   "cell_type": "code",
   "execution_count": 91,
   "metadata": {
    "collapsed": false,
    "deletable": true,
    "editable": true
   },
   "outputs": [
    {
     "data": {
      "text/plain": [
       "(Index([u'paragraph_id', u'question_id', u'paragraph', u'question', u'target',\n",
       "        u'paragraphL', u'questionL', u'paragraphLS', u'questionLS',\n",
       "        u'paragraphLX', u'questionLX', u'paragraphLSX', u'questionLSX',\n",
       "        u'len_paragraph', u'len_question', u'len_intersection', u'idf_question',\n",
       "        u'idf_paragraph', u'idf_intersection', u'len_intNorm', u'idf_intNorm',\n",
       "        u'w2v_pqf', u'len_paragraph0', u'len_question0', u'len_intersection0',\n",
       "        u'idf_question0', u'idf_paragraph0', u'idf_intersection0',\n",
       "        u'len_intNorm0', u'idf_intNorm0'],\n",
       "       dtype='object'),\n",
       " Index([u'paragraph_id', u'question_id', u'paragraph', u'question',\n",
       "        u'paragraphL', u'questionL', u'paragraphLS', u'questionLS',\n",
       "        u'paragraphLX', u'questionLX', u'paragraphLSX', u'questionLSX',\n",
       "        u'len_paragraph', u'len_question', u'len_intersection', u'idf_question',\n",
       "        u'idf_paragraph', u'idf_intersection', u'len_intNorm', u'idf_intNorm',\n",
       "        u'w2v_pqf', u'len_paragraph0', u'len_question0', u'len_intersection0',\n",
       "        u'idf_question0', u'idf_paragraph0', u'idf_intersection0',\n",
       "        u'len_intNorm0', u'idf_intNorm0'],\n",
       "       dtype='object'))"
      ]
     },
     "execution_count": 91,
     "metadata": {},
     "output_type": "execute_result"
    }
   ],
   "source": [
    "dftrain.columns, dftest.columns"
   ]
  },
  {
   "cell_type": "code",
   "execution_count": 206,
   "metadata": {
    "collapsed": true,
    "deletable": true,
    "editable": true
   },
   "outputs": [],
   "source": [
    "if 0 : \n",
    "    dftrain.to_csv(\"../Work/train_task1_compute.csv\",index=False)\n",
    "    dftest.to_csv (\"../Work/test_task1_compute.csv\",index=False)\n",
    "if 1 : \n",
    "    dftrain, dftest = pd.read_csv(\"../Work/train_task1_compute.csv\"), pd.read_csv(\"../Work/test_task1_compute.csv\")"
   ]
  },
  {
   "cell_type": "code",
   "execution_count": null,
   "metadata": {
    "collapsed": false,
    "deletable": true,
    "editable": true
   },
   "outputs": [],
   "source": []
  },
  {
   "cell_type": "code",
   "execution_count": 198,
   "metadata": {
    "collapsed": false,
    "deletable": true,
    "editable": true
   },
   "outputs": [
    {
     "data": {
      "image/png": "[encoded data removed]",
      "text/plain": [
       "<matplotlib.figure.Figure at 0x7f4d4368bbd0>"
      ]
     },
     "metadata": {},
     "output_type": "display_data"
    },
    {
     "data": {
      "image/png": "[encoded data removed]",
      "text/plain": [
       "<matplotlib.figure.Figure at 0x7f4d43c1f2d0>"
      ]
     },
     "metadata": {},
     "output_type": "display_data"
    },
    {
     "data": {
      "image/png": "[encoded data removed]",
      "text/plain": [
       "<matplotlib.figure.Figure at 0x7f4d443e29d0>"
      ]
     },
     "metadata": {},
     "output_type": "display_data"
    },
    {
     "data": {
      "text/plain": [
       "(-2.0, 0.99939991842700004, 0.99929059724900005, 3087, 803)"
      ]
     },
     "execution_count": 198,
     "metadata": {},
     "output_type": "execute_result"
    }
   ],
   "source": [
    "plt.hist(dftrain.w2v_pqf,bins=100); plt.show()\n",
    "plt.figure(figsize=(15,5))\n",
    "plt.subplot(131);\n",
    "plt.hist(dftrain.w2v_pqf[dftrain.target==0],bins=100);\n",
    "plt.hist(dftrain.w2v_pqf[dftrain.target==1],bins=100);\n",
    "plt.subplot(132);\n",
    "plt.hist(dftrain.w2v_pqf[dftrain.target==0],bins=100);\n",
    "plt.subplot(133);\n",
    "plt.hist(dftrain.w2v_pqf[dftrain.target==1],bins=100); \n",
    "plt.show()\n",
    "plt.hist(dftest.w2v_pqf,bins=100); plt.show()\n",
    "dftrain.w2v_pqf.min(),dftrain.w2v_pqf.max(),dftest.w2v_pqf.max(), len(dftrain[dftrain.w2v_pqf==-2]), len(dftest[dftest.w2v_pqf==-2])"
   ]
  },
  {
   "cell_type": "code",
   "execution_count": 199,
   "metadata": {
    "collapsed": false,
    "deletable": true,
    "editable": true
   },
   "outputs": [
    {
     "data": {
      "text/plain": [
       "((119398, 30), (74294, 29))"
      ]
     },
     "execution_count": 199,
     "metadata": {},
     "output_type": "execute_result"
    }
   ],
   "source": [
    "dftrain.shape,dftest.shape"
   ]
  },
  {
   "cell_type": "code",
   "execution_count": 200,
   "metadata": {
    "collapsed": false,
    "deletable": true,
    "editable": true
   },
   "outputs": [],
   "source": [
    "# Build word2vec model 2"
   ]
  },
  {
   "cell_type": "code",
   "execution_count": 201,
   "metadata": {
    "collapsed": false,
    "deletable": true,
    "editable": true
   },
   "outputs": [
    {
     "name": "stdout",
     "output_type": "stream",
     "text": [
      "1610230\n"
     ]
    }
   ],
   "source": [
    "sentences  = dftrain['paragraphL'].tolist()\n",
    "sentences += dftest ['paragraphL'].tolist()\n",
    "\n",
    "ps = []\n",
    "for ps1 in sentences : ps.extend(ps1.split('.'))\n",
    "sentences = ps; del ps, ps1\n",
    "\n",
    "sentences += dftrain.questionL.tolist()\n",
    "sentences += dftest.questionL.tolist()\n",
    "sentences = [[ss.decode('utf-8') for ss in s.split(' ')] for s in sentences]\n",
    "print len(sentences) #, sentences[0]"
   ]
  },
  {
   "cell_type": "code",
   "execution_count": null,
   "metadata": {
    "collapsed": false,
    "deletable": true,
    "editable": true
   },
   "outputs": [],
   "source": []
  },
  {
   "cell_type": "code",
   "execution_count": 202,
   "metadata": {
    "collapsed": false,
    "deletable": true,
    "editable": true,
    "scrolled": true
   },
   "outputs": [
    {
     "name": "stdout",
     "output_type": "stream",
     "text": [
      "2017-10-30 00:50:35.199235\n",
      "2017-10-30 00:52:12.528671\n"
     ]
    }
   ],
   "source": [
    "print datetime.datetime.now()\n",
    "model2 = gensim.models.word2vec.Word2Vec(sentences, size=100, window=5, workers=4, min_count=1)\n",
    "wv    = model2.wv\n",
    "print datetime.datetime.now()"
   ]
  },
  {
   "cell_type": "code",
   "execution_count": 203,
   "metadata": {
    "collapsed": false,
    "deletable": true,
    "editable": true
   },
   "outputs": [],
   "source": [
    "if 0: model2.save(\"../Work/model_word2vec2\"); wv=model2.wv\n",
    "if 1: model2 = gensim.models.Word2Vec.load(\"../Work/model_word2vec2\"); wv=model2.wv"
   ]
  },
  {
   "cell_type": "code",
   "execution_count": null,
   "metadata": {
    "collapsed": false,
    "deletable": true,
    "editable": true
   },
   "outputs": [],
   "source": []
  },
  {
   "cell_type": "code",
   "execution_count": null,
   "metadata": {
    "collapsed": true,
    "deletable": true,
    "editable": true
   },
   "outputs": [],
   "source": []
  },
  {
   "cell_type": "code",
   "execution_count": 207,
   "metadata": {
    "collapsed": false,
    "deletable": true,
    "editable": true
   },
   "outputs": [
    {
     "name": "stdout",
     "output_type": "stream",
     "text": [
      "2017-10-30 01:24:57.352832 train 0\n"
     ]
    },
    {
     "name": "stderr",
     "output_type": "stream",
     "text": [
      "/home/boba/anaconda2/envs/tensorflow-gpu/lib/python2.7/site-packages/ipykernel/__main__.py:2: RuntimeWarning: invalid value encountered in double_scalars\n",
      "  from ipykernel import kernelapp as app\n"
     ]
    },
    {
     "name": "stdout",
     "output_type": "stream",
     "text": [
      "2017-10-30 01:27:48.338335 train 10000\n",
      "2017-10-30 01:30:35.429057 train 20000\n",
      "2017-10-30 01:33:26.456201 train 30000\n",
      "2017-10-30 01:36:12.521536 train 40000\n",
      "2017-10-30 01:38:55.775586 train 50000\n",
      "2017-10-30 01:41:31.818297 train 60000\n",
      "2017-10-30 01:44:08.862569 train 70000\n",
      "2017-10-30 01:46:44.233350 train 80000\n",
      "2017-10-30 01:49:21.983056 train 90000\n",
      "2017-10-30 01:51:53.975328 train 100000\n",
      "2017-10-30 01:54:26.305317 train 110000\n",
      "2017-10-30 01:57:38.155922 test 0\n",
      "2017-10-30 02:00:49.149095 test 10000\n",
      "2017-10-30 02:04:03.961630 test 20000\n",
      "2017-10-30 02:07:15.467097 test 30000\n",
      "2017-10-30 02:10:19.956473 test 40000\n",
      "2017-10-30 02:13:20.062260 test 50000\n",
      "2017-10-30 02:16:19.606852 test 60000\n",
      "2017-10-30 02:19:18.993211 test 70000\n"
     ]
    }
   ],
   "source": [
    "dftrain['w2v_wmd'] = -2.0\n",
    "dftest ['w2v_wmd'] = -2.0\n",
    "\n",
    "for name, df in [('train', dftrain), ('test', dftest)]:\n",
    "    df1 = []; \n",
    "    for index, row0 in df.iterrows() : #tqdm.tqdm(df.iterrows(), total=df.shape[0], desc=\"build features for \" + name):\n",
    "        \n",
    "        if index%10000==0 : print datetime.datetime.now(), name, index\n",
    "            \n",
    "        pars  = row0.paragraphLSX.split('.')\n",
    "        pars0 = row0.paragraph.split('.')\n",
    "        if len(pars)<1 : continue;\n",
    "        \n",
    "        for par0,par1 in zip(pars0,pars) :\n",
    "            if len(par1)<=1 : continue\n",
    "            row1 = row0.copy(); \n",
    "            \n",
    "            row1.paragraph    = par0\n",
    "            row1.paragraphLSX = par1\n",
    "            \n",
    "            #print(row1.paragraph)\n",
    "            #print(row1.question)\n",
    "            \n",
    "            question  = uniq_wordsX(row1.questionLSX)\n",
    "            paragraph = uniq_wordsX(row1.paragraphLSX)\n",
    "            PQ        = newFields (paragraph, question) \n",
    "            row1.len_paragraph    = PQ[0]\n",
    "            row1.len_question     = PQ[1]\n",
    "            row1.len_intersection = PQ[2]\n",
    "            row1.idf_question     = PQ[3]\n",
    "            row1.idf_paragraph    = PQ[4]\n",
    "            row1.idf_intersection = PQ[5]\n",
    "\n",
    "            row1.len_intNorm      = PQ[6]\n",
    "            row1.idf_intNorm      = PQ[7]\n",
    "            \n",
    "            '''\n",
    "            pp                    = row1.paragraphLSX.split()\n",
    "            qq                    = row1.questionLSX.split()\n",
    "            '''\n",
    "            pp                    = [unicode(ppx,'utf-8') for ppx in row1.paragraphLSX.split()]\n",
    "            qq                    = [unicode(qqx,'utf-8') for qqx in row1.questionLSX.split()]\n",
    "            try    : row1.w2v_pqf = wv.n_similarity(pp,qq)\n",
    "            except : row1.w2v_pqf = -2.0\n",
    "            \n",
    "            row1.w2v_wmd = model2.wmdistance(pp,qq)\n",
    "            \n",
    "            '''\n",
    "            question  = uniq_wordsX(row1.question)\n",
    "            paragraph = uniq_wordsX(row1.paragraph)\n",
    "            PQ        = newFields (paragraph, question) \n",
    "            row1.len_paragraph0   = PQ[0]\n",
    "            row1.len_question0    = PQ[1]\n",
    "            row1.len_intersection0= PQ[2]\n",
    "            row1.idf_question0    = PQ[3]\n",
    "            row1.idf_paragraph0   = PQ[4]\n",
    "            row1.idf_intersection0= PQ[5]\n",
    "\n",
    "            row1.len_intNorm0     = PQ[6]\n",
    "            '''\n",
    "            \n",
    "            df1.append(row1)\n",
    "        \n",
    "    df1 = pd.DataFrame.from_dict(df1)\n",
    "    if name=='train' :    dftrain  = df1; #dftrain.append(df1)\n",
    "    if name=='test'  :    dftest   = df1; #dftest.append(df1)"
   ]
  },
  {
   "cell_type": "code",
   "execution_count": 264,
   "metadata": {
    "collapsed": false,
    "deletable": true,
    "editable": true
   },
   "outputs": [],
   "source": [
    "if 0 : \n",
    "    dftrain.to_csv(\"../Work/train_task2_compute.csv\",index=False)\n",
    "    dftest.to_csv (\"../Work/test_task2_compute.csv\",index=False)\n",
    "if 1 : \n",
    "    dftrain, dftest = pd.read_csv(\"../Work/train_task2_compute.csv\"), pd.read_csv(\"../Work/test_task2_compute.csv\")"
   ]
  },
  {
   "cell_type": "code",
   "execution_count": 265,
   "metadata": {
    "collapsed": false,
    "deletable": true,
    "editable": true,
    "scrolled": true
   },
   "outputs": [
    {
     "name": "stdout",
     "output_type": "stream",
     "text": [
      "(491449, 30) (728004, 31) Index([u'paragraph_id', u'question_id', u'paragraph', u'question', u'target',\n",
      "       u'paragraphL', u'questionL', u'paragraphLS', u'questionLS',\n",
      "       u'paragraphLX', u'questionLX', u'paragraphLSX', u'questionLSX',\n",
      "       u'len_paragraph', u'len_question', u'len_intersection', u'idf_question',\n",
      "       u'idf_paragraph', u'idf_intersection', u'len_intNorm', u'idf_intNorm',\n",
      "       u'w2v_pqf', u'len_paragraph0', u'len_question0', u'len_intersection0',\n",
      "       u'idf_question0', u'idf_paragraph0', u'idf_intersection0',\n",
      "       u'len_intNorm0', u'idf_intNorm0', u'w2v_wmd'],\n",
      "      dtype='object')\n"
     ]
    }
   ],
   "source": [
    "#row0,row1, \n",
    "print dftest.shape, dftrain.shape, dftrain.columns"
   ]
  },
  {
   "cell_type": "code",
   "execution_count": 266,
   "metadata": {
    "collapsed": false,
    "deletable": true,
    "editable": true
   },
   "outputs": [
    {
     "name": "stdout",
     "output_type": "stream",
     "text": [
      "(728004, 31)\n",
      "(116082, 32)\n"
     ]
    }
   ],
   "source": [
    "dff    = dftrain.copy()\n",
    "print  dftrain.shape\n",
    "\n",
    "# max only target==1\n",
    "##dfgroup=dff[dff.target==1][['paragraph_id','question_id','w2v_pqf']].groupby(['paragraph_id','question_id'])\n",
    "dfgroup=dff[dff.target==1][['paragraph_id','question_id','w2v_wmd']].groupby(['paragraph_id','question_id'])\n",
    "dfw2v  =dfgroup.max()\n",
    "##dff = dff.set_index(['paragraph_id','question_id','w2v_pqf'])\n",
    "dff = dff.set_index(['paragraph_id','question_id','w2v_wmd'])\n",
    "dff['ttarget']   = 0.0\n",
    "dfw2v['ttarget'] = 1.0\n",
    "##dfw2v = dfw2v.reset_index().set_index(['paragraph_id','question_id','w2v_pqf'])\n",
    "dfw2v = dfw2v.reset_index().set_index(['paragraph_id','question_id','w2v_wmd'])\n",
    "dff.ttarget = dfw2v.ttarget \n",
    "dff.loc[dff.target==0.0,'ttarget'] = 0.0 \n",
    "dff = dff.dropna()\n",
    "dff = dff.reset_index()\n",
    "\n",
    "# max only target==0\n",
    "##dfgroup=dff[dff.target==0][['paragraph_id','question_id','w2v_pqf']].groupby(['paragraph_id','question_id'])\n",
    "dfgroup=dff[dff.target==0][['paragraph_id','question_id','w2v_wmd']].groupby(['paragraph_id','question_id'])\n",
    "dfw2v  =dfgroup.max()\n",
    "##dff = dff.set_index(['paragraph_id','question_id','w2v_pqf'])\n",
    "dff = dff.set_index(['paragraph_id','question_id','w2v_wmd'])\n",
    "dff['ttarget']   = -1.0\n",
    "dfw2v['ttarget'] =  0.0\n",
    "##dfw2v = dfw2v.reset_index().set_index(['paragraph_id','question_id','w2v_pqf'])\n",
    "dfw2v = dfw2v.reset_index().set_index(['paragraph_id','question_id','w2v_wmd'])\n",
    "dff.ttarget = dfw2v.ttarget \n",
    "dff.loc[dff.target==1.0,'ttarget'] = 1.0 \n",
    "dff = dff.dropna()\n",
    "dff = dff.reset_index()\n",
    "\n",
    "dftrain = dff.copy()\n",
    "dftrain.target = dftrain.ttarget\n",
    "print  dftrain.shape\n",
    "#print dftrain.head()\n",
    "#plt.hist(dfw2v.w2v_pq1,bins=100); plt.show()"
   ]
  },
  {
   "cell_type": "code",
   "execution_count": 267,
   "metadata": {
    "collapsed": false
   },
   "outputs": [
    {
     "data": {
      "text/plain": [
       "(array([ 0.,  1.]),\n",
       " (116082, 32),\n",
       " 0.26752640374907394,\n",
       " (31055, 32),\n",
       " (491449, 30))"
      ]
     },
     "execution_count": 267,
     "metadata": {},
     "output_type": "execute_result"
    }
   ],
   "source": [
    "dftrain.loc[(np.isinf(dftrain.w2v_wmd)),'w2v_wmd']=-2\n",
    "dftrain[(np.isinf(dftrain.w2v_wmd))].head()\n",
    "dftrain.target.unique(), dftrain.shape, dftrain.target.mean(), dftrain[dftrain.target==1].shape, dftest.shape"
   ]
  },
  {
   "cell_type": "code",
   "execution_count": 268,
   "metadata": {
    "collapsed": false,
    "deletable": true,
    "editable": true,
    "scrolled": false
   },
   "outputs": [
    {
     "data": {
      "image/png": "[encoded data removed]",
      "text/plain": [
       "<matplotlib.figure.Figure at 0x7f4c92e8cc10>"
      ]
     },
     "metadata": {},
     "output_type": "display_data"
    },
    {
     "data": {
      "image/png": "[encoded data removed]",
      "text/plain": [
       "<matplotlib.figure.Figure at 0x7f4c93b513d0>"
      ]
     },
     "metadata": {},
     "output_type": "display_data"
    },
    {
     "data": {
      "image/png": "[encoded data removed]",
      "text/plain": [
       "<matplotlib.figure.Figure at 0x7f4d82009b90>"
      ]
     },
     "metadata": {},
     "output_type": "display_data"
    },
    {
     "data": {
      "image/png": "[encoded data removed]",
      "text/plain": [
       "<matplotlib.figure.Figure at 0x7f4c945651d0>"
      ]
     },
     "metadata": {},
     "output_type": "display_data"
    },
    {
     "data": {
      "text/plain": [
       "(-0.50046590793799994, 0.997751788862, 0.99926666352000015, 0, 6)"
      ]
     },
     "execution_count": 268,
     "metadata": {},
     "output_type": "execute_result"
    }
   ],
   "source": [
    "plt.hist(dftrain.w2v_wmd,bins=100); plt.show()\n",
    "plt.hist(dftrain.w2v_pqf,bins=100); plt.show()\n",
    "plt.figure(figsize=(15,5))\n",
    "plt.subplot(131);\n",
    "plt.hist(dftrain.w2v_pqf[dftrain.target==0],bins=100);\n",
    "plt.hist(dftrain.w2v_pqf[dftrain.target==1],bins=100);\n",
    "plt.subplot(132);\n",
    "plt.hist(dftrain.w2v_pqf[dftrain.target==0],bins=100);\n",
    "plt.subplot(133);\n",
    "plt.hist(dftrain.w2v_pqf[dftrain.target==1],bins=100); \n",
    "plt.show()\n",
    "plt.hist(dftest.w2v_pqf,bins=100); plt.show()\n",
    "dftrain.w2v_pqf.min(),dftrain.w2v_pqf.max(),dftest.w2v_pqf.max(), len(dftrain[dftrain.w2v_pqf==-2]), len(dftest[dftest.w2v_pqf==-2])"
   ]
  },
  {
   "cell_type": "code",
   "execution_count": 269,
   "metadata": {
    "collapsed": false,
    "deletable": true,
    "editable": true
   },
   "outputs": [
    {
     "name": "stderr",
     "output_type": "stream",
     "text": [
      "/home/boba/anaconda2/envs/tensorflow-gpu/lib/python2.7/site-packages/ipykernel/__main__.py:1: UserWarning: Boolean Series key will be reindexed to match DataFrame index.\n",
      "  if __name__ == '__main__':\n"
     ]
    }
   ],
   "source": [
    "xx = dftrain[dftrain.w2v_pqf==-2][dftrain.target==1]\n",
    "xx.shape\n",
    "for ii,row1 in xx[:5].iterrows() :\n",
    "        pp                    = row1.paragraphLSX.split()\n",
    "        qq                    = row1.questionLSX.split()\n",
    "        for ppx in pp :\n",
    "            for qqx in qq :\n",
    "                try : w2v_pqf = wv.similarity(unicode(ppx,'utf-8'),unicode(qqx,'utf-8'))\n",
    "                except : print ppx,qqx"
   ]
  },
  {
   "cell_type": "code",
   "execution_count": null,
   "metadata": {
    "collapsed": false,
    "deletable": true,
    "editable": true
   },
   "outputs": [],
   "source": []
  },
  {
   "cell_type": "code",
   "execution_count": 270,
   "metadata": {
    "collapsed": true,
    "deletable": true,
    "editable": true
   },
   "outputs": [],
   "source": [
    "dftrain['len_queNorm']  = dftrain.len_question/dftrain.len_paragraph\n",
    "dftrain['len_queNorm0'] = dftrain.len_question0/dftrain.len_paragraph0\n",
    "dftest['len_queNorm']   = dftest.len_question/dftest.len_paragraph\n",
    "dftest['len_queNorm0']  = dftest.len_question0/dftest.len_paragraph0\n",
    "\n",
    "dftrain['idf_queNorm']  = dftrain.idf_question/dftrain.idf_paragraph\n",
    "dftrain['idf_queNorm0'] = dftrain.idf_question0/dftrain.idf_paragraph0\n",
    "dftest['idf_queNorm']   = dftest.idf_question/dftest.idf_paragraph\n",
    "dftest['idf_queNorm0']  = dftest.idf_question0/dftest.idf_paragraph0\n",
    "\n",
    "dftrain['len_queIntNorm']  = dftrain.len_intNorm*dftrain.len_queNorm\n",
    "dftrain['len_queIntNorm0'] = dftrain.len_intNorm0*dftrain.len_queNorm0\n",
    "dftest ['len_queIntNorm']  = dftest.len_intNorm*dftest.len_queNorm\n",
    "dftest ['len_queIntNorm0'] = dftest.len_intNorm0*dftest.len_queNorm0\n",
    "\n",
    "dftrain['idf_queIntNorm']  = dftrain.idf_intNorm*dftrain.idf_queNorm\n",
    "dftrain['idf_queIntNorm0'] = dftrain.idf_intNorm0*dftrain.idf_queNorm0\n",
    "dftest ['idf_queIntNorm']  = dftest.idf_intNorm*dftest.idf_queNorm\n",
    "dftest ['idf_queIntNorm0'] = dftest.idf_intNorm0*dftest.idf_queNorm0\n",
    "\n",
    "dftrain['wmd_queNorm']     = dftrain.w2v_wmd/dftrain.len_question\n",
    "dftest ['wmd_queNorm']     = dftest.w2v_wmd/dftest.len_question\n",
    "\n",
    "dftrain['pqf_queNorm']     = dftrain.w2v_pqf/dftrain.len_question\n",
    "dftest ['pqf_queNorm']     = dftest.w2v_pqf/dftest.len_question"
   ]
  },
  {
   "cell_type": "code",
   "execution_count": 271,
   "metadata": {
    "collapsed": false,
    "deletable": true,
    "editable": true
   },
   "outputs": [
    {
     "data": {
      "image/png": "[encoded data removed]",
      "text/plain": [
       "<matplotlib.figure.Figure at 0x7f4c92693950>"
      ]
     },
     "metadata": {},
     "output_type": "display_data"
    },
    {
     "data": {
      "image/png": "[encoded data removed]",
      "text/plain": [
       "<matplotlib.figure.Figure at 0x7f4d91b8e450>"
      ]
     },
     "metadata": {},
     "output_type": "display_data"
    }
   ],
   "source": [
    "plt.hist(dftrain.pqf_queNorm,bins=100); plt.show()\n",
    "plt.hist(dftrain.wmd_queNorm,bins=100); plt.show()"
   ]
  },
  {
   "cell_type": "code",
   "execution_count": 272,
   "metadata": {
    "collapsed": false,
    "deletable": true,
    "editable": true
   },
   "outputs": [
    {
     "data": {
      "text/html": [
       "<div>\n",
       "<table border=\"1\" class=\"dataframe\">\n",
       "  <thead>\n",
       "    <tr style=\"text-align: right;\">\n",
       "      <th></th>\n",
       "      <th>paragraph_id</th>\n",
       "      <th>question_id</th>\n",
       "      <th>w2v_wmd</th>\n",
       "      <th>paragraph</th>\n",
       "      <th>question</th>\n",
       "      <th>target</th>\n",
       "      <th>paragraphL</th>\n",
       "      <th>questionL</th>\n",
       "      <th>paragraphLS</th>\n",
       "      <th>questionLS</th>\n",
       "      <th>...</th>\n",
       "      <th>len_queNorm</th>\n",
       "      <th>len_queNorm0</th>\n",
       "      <th>idf_queNorm</th>\n",
       "      <th>idf_queNorm0</th>\n",
       "      <th>len_queIntNorm</th>\n",
       "      <th>len_queIntNorm0</th>\n",
       "      <th>idf_queIntNorm</th>\n",
       "      <th>idf_queIntNorm0</th>\n",
       "      <th>wmd_queNorm</th>\n",
       "      <th>pqf_queNorm</th>\n",
       "    </tr>\n",
       "  </thead>\n",
       "  <tbody>\n",
       "    <tr>\n",
       "      <th>116077</th>\n",
       "      <td>3726</td>\n",
       "      <td>89623</td>\n",
       "      <td>28.250953</td>\n",
       "      <td>Хотя в истории оперы сочинение Руссо сколько-...</td>\n",
       "      <td>В каких магнитофонах нередко предусмотрено спе...</td>\n",
       "      <td>0.0</td>\n",
       "      <td>из война буффон родиться французский комически...</td>\n",
       "      <td>в какой магнитофон нередко предусмотреть специ...</td>\n",
       "      <td>война буффон родиться французский комический о...</td>\n",
       "      <td>магнитофон нередко предусмотреть специальный о...</td>\n",
       "      <td>...</td>\n",
       "      <td>0.588235</td>\n",
       "      <td>0.091463</td>\n",
       "      <td>0.677573</td>\n",
       "      <td>0.041405</td>\n",
       "      <td>0.0</td>\n",
       "      <td>0.018293</td>\n",
       "      <td>0.0</td>\n",
       "      <td>0.010657</td>\n",
       "      <td>2.825095</td>\n",
       "      <td>-0.004299</td>\n",
       "    </tr>\n",
       "    <tr>\n",
       "      <th>116078</th>\n",
       "      <td>787</td>\n",
       "      <td>78704</td>\n",
       "      <td>27.139568</td>\n",
       "      <td>Только в современном литературном немецком на...</td>\n",
       "      <td>Какие новые спортивные сооружения были построе...</td>\n",
       "      <td>0.0</td>\n",
       "      <td>с viii век , как для везер , так и для верра ,...</td>\n",
       "      <td>какой новое спортивный сооружение быть построи...</td>\n",
       "      <td>viii век , везер , верра , передаваться поколе...</td>\n",
       "      <td>новое спортивный сооружение построить универси...</td>\n",
       "      <td>...</td>\n",
       "      <td>0.466667</td>\n",
       "      <td>0.082090</td>\n",
       "      <td>0.475501</td>\n",
       "      <td>0.033937</td>\n",
       "      <td>0.0</td>\n",
       "      <td>0.022388</td>\n",
       "      <td>0.0</td>\n",
       "      <td>0.013541</td>\n",
       "      <td>3.877081</td>\n",
       "      <td>0.017941</td>\n",
       "    </tr>\n",
       "    <tr>\n",
       "      <th>116079</th>\n",
       "      <td>3845</td>\n",
       "      <td>2104</td>\n",
       "      <td>28.853471</td>\n",
       "      <td>Клиническая фармакология остаётся одним из на...</td>\n",
       "      <td>Когда на всемирном конгрессе немецких школ за ...</td>\n",
       "      <td>0.0</td>\n",
       "      <td>клинический фармакология изучать воздействие л...</td>\n",
       "      <td>когда на всемирный конгресс немецкий школа за ...</td>\n",
       "      <td>клинический фармакология изучать воздействие л...</td>\n",
       "      <td>всемирный конгресс немецкий школа рубеж предст...</td>\n",
       "      <td>...</td>\n",
       "      <td>0.900000</td>\n",
       "      <td>0.189189</td>\n",
       "      <td>0.845777</td>\n",
       "      <td>0.233382</td>\n",
       "      <td>0.0</td>\n",
       "      <td>0.040541</td>\n",
       "      <td>0.0</td>\n",
       "      <td>0.149962</td>\n",
       "      <td>3.205941</td>\n",
       "      <td>0.017341</td>\n",
       "    </tr>\n",
       "    <tr>\n",
       "      <th>116080</th>\n",
       "      <td>168</td>\n",
       "      <td>92509</td>\n",
       "      <td>24.176883</td>\n",
       "      <td>Сложность выделения чистых белков затрудняла и...</td>\n",
       "      <td>Что в конце 1940-х — начале 1950-х годов разра...</td>\n",
       "      <td>0.0</td>\n",
       "      <td>сложность выделение чистый белок затруднять он...</td>\n",
       "      <td>что в конец 1940-ха — начало 1950-ха год разра...</td>\n",
       "      <td>сложность выделение чистый белок затруднять из...</td>\n",
       "      <td>конец 1940-ха — начало 1950-ха год разработать...</td>\n",
       "      <td>...</td>\n",
       "      <td>1.000000</td>\n",
       "      <td>0.174603</td>\n",
       "      <td>0.895033</td>\n",
       "      <td>0.246512</td>\n",
       "      <td>0.0</td>\n",
       "      <td>0.079365</td>\n",
       "      <td>0.0</td>\n",
       "      <td>0.173905</td>\n",
       "      <td>4.029481</td>\n",
       "      <td>-0.042683</td>\n",
       "    </tr>\n",
       "    <tr>\n",
       "      <th>116081</th>\n",
       "      <td>2679</td>\n",
       "      <td>41770</td>\n",
       "      <td>26.513501</td>\n",
       "      <td>Тем актуальнее для него возможность сообщить ...</td>\n",
       "      <td>с каким персонажем происходит схватка Шерлока ...</td>\n",
       "      <td>0.0</td>\n",
       "      <td>у типичный свободный программа ( то есть , нек...</td>\n",
       "      <td>с какой персонаж происходить схватка шерлок хо...</td>\n",
       "      <td>типичный свободный программа ( , некоммерчески...</td>\n",
       "      <td>персонаж происходить схватка шерлок холмс филь...</td>\n",
       "      <td>...</td>\n",
       "      <td>1.500000</td>\n",
       "      <td>0.151163</td>\n",
       "      <td>1.825607</td>\n",
       "      <td>0.166646</td>\n",
       "      <td>0.0</td>\n",
       "      <td>0.034884</td>\n",
       "      <td>0.0</td>\n",
       "      <td>0.066639</td>\n",
       "      <td>2.945945</td>\n",
       "      <td>-0.014231</td>\n",
       "    </tr>\n",
       "  </tbody>\n",
       "</table>\n",
       "<p>5 rows × 42 columns</p>\n",
       "</div>"
      ],
      "text/plain": [
       "        paragraph_id  question_id    w2v_wmd  \\\n",
       "116077          3726        89623  28.250953   \n",
       "116078           787        78704  27.139568   \n",
       "116079          3845         2104  28.853471   \n",
       "116080           168        92509  24.176883   \n",
       "116081          2679        41770  26.513501   \n",
       "\n",
       "                                                paragraph  \\\n",
       "116077   Хотя в истории оперы сочинение Руссо сколько-...   \n",
       "116078   Только в современном литературном немецком на...   \n",
       "116079   Клиническая фармакология остаётся одним из на...   \n",
       "116080  Сложность выделения чистых белков затрудняла и...   \n",
       "116081   Тем актуальнее для него возможность сообщить ...   \n",
       "\n",
       "                                                 question  target  \\\n",
       "116077  В каких магнитофонах нередко предусмотрено спе...     0.0   \n",
       "116078  Какие новые спортивные сооружения были построе...     0.0   \n",
       "116079  Когда на всемирном конгрессе немецких школ за ...     0.0   \n",
       "116080  Что в конце 1940-х — начале 1950-х годов разра...     0.0   \n",
       "116081  с каким персонажем происходит схватка Шерлока ...     0.0   \n",
       "\n",
       "                                               paragraphL  \\\n",
       "116077  из война буффон родиться французский комически...   \n",
       "116078  с viii век , как для везер , так и для верра ,...   \n",
       "116079  клинический фармакология изучать воздействие л...   \n",
       "116080  сложность выделение чистый белок затруднять он...   \n",
       "116081  у типичный свободный программа ( то есть , нек...   \n",
       "\n",
       "                                                questionL  \\\n",
       "116077  в какой магнитофон нередко предусмотреть специ...   \n",
       "116078  какой новое спортивный сооружение быть построи...   \n",
       "116079  когда на всемирный конгресс немецкий школа за ...   \n",
       "116080  что в конец 1940-ха — начало 1950-ха год разра...   \n",
       "116081  с какой персонаж происходить схватка шерлок хо...   \n",
       "\n",
       "                                              paragraphLS  \\\n",
       "116077  война буффон родиться французский комический о...   \n",
       "116078  viii век , везер , верра , передаваться поколе...   \n",
       "116079  клинический фармакология изучать воздействие л...   \n",
       "116080  сложность выделение чистый белок затруднять из...   \n",
       "116081  типичный свободный программа ( , некоммерчески...   \n",
       "\n",
       "                                               questionLS     ...       \\\n",
       "116077  магнитофон нередко предусмотреть специальный о...     ...        \n",
       "116078  новое спортивный сооружение построить универси...     ...        \n",
       "116079  всемирный конгресс немецкий школа рубеж предст...     ...        \n",
       "116080  конец 1940-ха — начало 1950-ха год разработать...     ...        \n",
       "116081  персонаж происходить схватка шерлок холмс филь...     ...        \n",
       "\n",
       "       len_queNorm len_queNorm0 idf_queNorm idf_queNorm0  len_queIntNorm  \\\n",
       "116077    0.588235     0.091463    0.677573     0.041405             0.0   \n",
       "116078    0.466667     0.082090    0.475501     0.033937             0.0   \n",
       "116079    0.900000     0.189189    0.845777     0.233382             0.0   \n",
       "116080    1.000000     0.174603    0.895033     0.246512             0.0   \n",
       "116081    1.500000     0.151163    1.825607     0.166646             0.0   \n",
       "\n",
       "        len_queIntNorm0  idf_queIntNorm  idf_queIntNorm0  wmd_queNorm  \\\n",
       "116077         0.018293             0.0         0.010657     2.825095   \n",
       "116078         0.022388             0.0         0.013541     3.877081   \n",
       "116079         0.040541             0.0         0.149962     3.205941   \n",
       "116080         0.079365             0.0         0.173905     4.029481   \n",
       "116081         0.034884             0.0         0.066639     2.945945   \n",
       "\n",
       "        pqf_queNorm  \n",
       "116077    -0.004299  \n",
       "116078     0.017941  \n",
       "116079     0.017341  \n",
       "116080    -0.042683  \n",
       "116081    -0.014231  \n",
       "\n",
       "[5 rows x 42 columns]"
      ]
     },
     "execution_count": 272,
     "metadata": {},
     "output_type": "execute_result"
    }
   ],
   "source": [
    "dftrain.tail()"
   ]
  },
  {
   "cell_type": "code",
   "execution_count": 273,
   "metadata": {
    "collapsed": false,
    "deletable": true,
    "editable": true
   },
   "outputs": [
    {
     "data": {
      "text/plain": [
       "Index([u'paragraph_id', u'question_id', u'w2v_wmd', u'paragraph', u'question',\n",
       "       u'target', u'paragraphL', u'questionL', u'paragraphLS', u'questionLS',\n",
       "       u'paragraphLX', u'questionLX', u'paragraphLSX', u'questionLSX',\n",
       "       u'len_paragraph', u'len_question', u'len_intersection', u'idf_question',\n",
       "       u'idf_paragraph', u'idf_intersection', u'len_intNorm', u'idf_intNorm',\n",
       "       u'w2v_pqf', u'len_paragraph0', u'len_question0', u'len_intersection0',\n",
       "       u'idf_question0', u'idf_paragraph0', u'idf_intersection0',\n",
       "       u'len_intNorm0', u'idf_intNorm0', u'ttarget', u'len_queNorm',\n",
       "       u'len_queNorm0', u'idf_queNorm', u'idf_queNorm0', u'len_queIntNorm',\n",
       "       u'len_queIntNorm0', u'idf_queIntNorm', u'idf_queIntNorm0',\n",
       "       u'wmd_queNorm', u'pqf_queNorm'],\n",
       "      dtype='object')"
      ]
     },
     "execution_count": 273,
     "metadata": {},
     "output_type": "execute_result"
    }
   ],
   "source": [
    "dftrain.columns"
   ]
  },
  {
   "cell_type": "code",
   "execution_count": 274,
   "metadata": {
    "collapsed": false,
    "deletable": true,
    "editable": true
   },
   "outputs": [],
   "source": [
    "import xgboost as xgb\n",
    "columns  = []\n",
    "columns += ['len_paragraph', 'len_question', 'len_intersection', 'idf_question', 'idf_paragraph', 'idf_intersection'] + \\\n",
    "           ['len_intNorm', 'idf_intNorm']\n",
    "#columns += ['w2v_pq1', 'w2v_pqf', 'w2v_wmd'] + \\\n",
    "columns += ['w2v_wmd', 'w2v_pqf'] + \\\n",
    "           ['wmd_queNorm', 'pqf_queNorm'] + \\\n",
    "           ['len_queNorm', 'len_queIntNorm', 'idf_queNorm', 'idf_queIntNorm']\n",
    "        \n",
    "columns += ['len_paragraph0', 'len_question0', 'len_intersection0', 'idf_question0', 'idf_paragraph0', 'idf_intersection0'] + \\\n",
    "           ['len_intNorm0', 'idf_intNorm0'] + \\\n",
    "           ['len_queNorm0', 'len_queIntNorm0'] #, 'idf_queNorm0', 'idf_queIntNorm0']\n",
    "#model = GradientBoostingClassifier()\n",
    "#model = xgb.XGBClassifier(learning_rate=0.1, n_estimators=900, silent=True).fit(dftrain[columns], dftrain['target'])\n",
    "#model = xgb.XGBClassifier(learning_rate=0.1, n_estimators=600, silent=True).fit(dftrain[columns], dftrain['target'])\n",
    "#model = GradientBoostingClassifier().fit(dftrain[columns], dftrain['target'])\n",
    "#dftest['prediction']  = model.predict_proba(dftest[columns])[:, 1]\n",
    "#ddftrain = model.predict_proba(dftrain[columns])[:, 1]"
   ]
  },
  {
   "cell_type": "code",
   "execution_count": 275,
   "metadata": {
    "collapsed": false,
    "scrolled": true
   },
   "outputs": [
    {
     "name": "stdout",
     "output_type": "stream",
     "text": [
      "[0]\ttrain-auc:0.989728+0.000763678\ttest-auc:0.988826+0.000491179\n",
      "[25]\ttrain-auc:0.994381+4.90331e-05\ttest-auc:0.99351+0.000292105\n",
      "[50]\ttrain-auc:0.995566+3.24752e-05\ttest-auc:0.994263+0.000160244\n",
      "[75]\ttrain-auc:0.996233+4.48937e-05\ttest-auc:0.994718+0.000147726\n",
      "[100]\ttrain-auc:0.996733+5.37833e-05\ttest-auc:0.99499+0.000114161\n",
      "[125]\ttrain-auc:0.997181+5.17934e-05\ttest-auc:0.995189+0.000114139\n",
      "[150]\ttrain-auc:0.997534+3.91203e-05\ttest-auc:0.995326+0.000105393\n",
      "[175]\ttrain-auc:0.997849+4.83264e-05\ttest-auc:0.995444+0.000118722\n",
      "[200]\ttrain-auc:0.998125+4.06566e-05\ttest-auc:0.995522+0.000120523\n",
      "[225]\ttrain-auc:0.998355+2.13298e-05\ttest-auc:0.995614+0.000112569\n",
      "[250]\ttrain-auc:0.998567+5.17107e-05\ttest-auc:0.995677+0.000123565\n",
      "[275]\ttrain-auc:0.998759+5.55035e-05\ttest-auc:0.995733+0.000117848\n",
      "[300]\ttrain-auc:0.998926+6.3105e-05\ttest-auc:0.995787+0.000106885\n",
      "[325]\ttrain-auc:0.999079+6.54627e-05\ttest-auc:0.995837+0.000105522\n",
      "[350]\ttrain-auc:0.999202+5.68458e-05\ttest-auc:0.995871+0.000109962\n",
      "[375]\ttrain-auc:0.999321+4.35063e-05\ttest-auc:0.995897+0.000104867\n",
      "[400]\ttrain-auc:0.999417+3.2249e-05\ttest-auc:0.995929+0.000102531\n",
      "[425]\ttrain-auc:0.999505+3.38975e-05\ttest-auc:0.99595+0.000104295\n",
      "[450]\ttrain-auc:0.999582+4.17775e-05\ttest-auc:0.995965+0.000119201\n",
      "[475]\ttrain-auc:0.999649+3.48746e-05\ttest-auc:0.995979+0.000119976\n"
     ]
    }
   ],
   "source": [
    "'''\n",
    "def xgbtrain (param, train_x, train_y, num_round=1800, stopping=10, ratio=0.9) :\n",
    "    \n",
    "    split = int(round(ratio*len(train_y)))\n",
    "    dtrain = xgb.DMatrix(train_x[:split],label=train_y[:split])\n",
    "    dvalid = xgb.DMatrix(train_x[split:],label=train_y[split:])\n",
    "    watchlist  = [(dtrain,'train'),(dvalid,'valid')]\n",
    "    rvalid={}\n",
    "    bst = xgb.train(param, dtrain, num_round, watchlist, feval=rmsle,early_stopping_rounds=20,evals_result=rvalid)\n",
    "    return(bst,np.array(rvalid['valid']['rmsle']))\n",
    "\n",
    "def xgbCVtrain (param, train_x, train_y, num_round=1800, stopping=10, ratio=0.9) :\n",
    "    \n",
    "    split = int(round(ratio*len(train_y)))\n",
    "    dtrain = xgb.DMatrix(train_x[:split],label=train_y[:split])\n",
    "    dvalid = xgb.DMatrix(train_x[split:],label=train_y[split:])\n",
    "    watchlist  = [(dtrain,'train'),(dvalid,'valid')]\n",
    "    history = xgb.cv(param, dtrain, verbose_eval=10, \n",
    "                     metrics=['rmse'],feval=rmsle,\n",
    "                     num_boost_round=num_round,nfold=5,early_stopping_rounds=stopping) \n",
    "    rvalid={}\n",
    "    bst    = xgb.train(param, dtrain, history['test-rmsle-mean'].argmin()+2, watchlist, evals_result=rvalid, feval=rmsle)\n",
    "    #bst = xgb.train(param, dtrain, num_round, watchlist, evals_result=rvalid, early_stopping_rounds=stopping)\n",
    "    return(bst,np.array(rvalid['valid']['rmse']))\n",
    "'''\n",
    "\n",
    "param = {'silent':0, \n",
    "         'objective':'reg:logistic', \n",
    "         'eta':0.1, \n",
    "         #'max_depth':9, \n",
    "         #'subsample':0.85, 'colsample_bytree':0.8, \n",
    "         #'min_child_weight':12.0,\n",
    "         #'tree_method':'exact',\n",
    "         'eval_metric':'auc'}\n",
    "\n",
    "dtrain = xgb.DMatrix(dftrain[columns], label=dftrain['target'])\n",
    "\n",
    "if 1 :\n",
    "    history = xgb.cv(param, dtrain, verbose_eval=25, metrics=['auc'],\n",
    "                     num_boost_round=500,nfold=5,\n",
    "                     early_stopping_rounds=20) #,stratified=True,maximize=True)"
   ]
  },
  {
   "cell_type": "code",
   "execution_count": 276,
   "metadata": {
    "collapsed": false
   },
   "outputs": [
    {
     "data": {
      "image/png": "[encoded data removed]",
      "text/plain": [
       "<matplotlib.figure.Figure at 0x7f4d462cac50>"
      ]
     },
     "metadata": {},
     "output_type": "display_data"
    },
    {
     "data": {
      "text/html": [
       "<div>\n",
       "<table border=\"1\" class=\"dataframe\">\n",
       "  <thead>\n",
       "    <tr style=\"text-align: right;\">\n",
       "      <th></th>\n",
       "      <th>test-auc-mean</th>\n",
       "      <th>test-auc-std</th>\n",
       "      <th>train-auc-mean</th>\n",
       "      <th>train-auc-std</th>\n",
       "    </tr>\n",
       "  </thead>\n",
       "  <tbody>\n",
       "    <tr>\n",
       "      <th>480</th>\n",
       "      <td>0.995981</td>\n",
       "      <td>0.000121</td>\n",
       "      <td>0.999659</td>\n",
       "      <td>0.000034</td>\n",
       "    </tr>\n",
       "    <tr>\n",
       "      <th>481</th>\n",
       "      <td>0.995984</td>\n",
       "      <td>0.000122</td>\n",
       "      <td>0.999661</td>\n",
       "      <td>0.000034</td>\n",
       "    </tr>\n",
       "    <tr>\n",
       "      <th>482</th>\n",
       "      <td>0.995984</td>\n",
       "      <td>0.000120</td>\n",
       "      <td>0.999663</td>\n",
       "      <td>0.000033</td>\n",
       "    </tr>\n",
       "    <tr>\n",
       "      <th>483</th>\n",
       "      <td>0.995984</td>\n",
       "      <td>0.000123</td>\n",
       "      <td>0.999665</td>\n",
       "      <td>0.000034</td>\n",
       "    </tr>\n",
       "    <tr>\n",
       "      <th>484</th>\n",
       "      <td>0.995985</td>\n",
       "      <td>0.000124</td>\n",
       "      <td>0.999666</td>\n",
       "      <td>0.000033</td>\n",
       "    </tr>\n",
       "    <tr>\n",
       "      <th>485</th>\n",
       "      <td>0.995986</td>\n",
       "      <td>0.000126</td>\n",
       "      <td>0.999669</td>\n",
       "      <td>0.000033</td>\n",
       "    </tr>\n",
       "    <tr>\n",
       "      <th>486</th>\n",
       "      <td>0.995989</td>\n",
       "      <td>0.000125</td>\n",
       "      <td>0.999672</td>\n",
       "      <td>0.000033</td>\n",
       "    </tr>\n",
       "    <tr>\n",
       "      <th>487</th>\n",
       "      <td>0.995990</td>\n",
       "      <td>0.000125</td>\n",
       "      <td>0.999674</td>\n",
       "      <td>0.000033</td>\n",
       "    </tr>\n",
       "    <tr>\n",
       "      <th>488</th>\n",
       "      <td>0.995991</td>\n",
       "      <td>0.000124</td>\n",
       "      <td>0.999676</td>\n",
       "      <td>0.000033</td>\n",
       "    </tr>\n",
       "    <tr>\n",
       "      <th>489</th>\n",
       "      <td>0.995992</td>\n",
       "      <td>0.000124</td>\n",
       "      <td>0.999678</td>\n",
       "      <td>0.000033</td>\n",
       "    </tr>\n",
       "    <tr>\n",
       "      <th>490</th>\n",
       "      <td>0.995993</td>\n",
       "      <td>0.000122</td>\n",
       "      <td>0.999681</td>\n",
       "      <td>0.000033</td>\n",
       "    </tr>\n",
       "    <tr>\n",
       "      <th>491</th>\n",
       "      <td>0.995996</td>\n",
       "      <td>0.000122</td>\n",
       "      <td>0.999683</td>\n",
       "      <td>0.000033</td>\n",
       "    </tr>\n",
       "    <tr>\n",
       "      <th>492</th>\n",
       "      <td>0.995996</td>\n",
       "      <td>0.000121</td>\n",
       "      <td>0.999685</td>\n",
       "      <td>0.000033</td>\n",
       "    </tr>\n",
       "    <tr>\n",
       "      <th>493</th>\n",
       "      <td>0.995996</td>\n",
       "      <td>0.000121</td>\n",
       "      <td>0.999687</td>\n",
       "      <td>0.000034</td>\n",
       "    </tr>\n",
       "    <tr>\n",
       "      <th>494</th>\n",
       "      <td>0.995998</td>\n",
       "      <td>0.000121</td>\n",
       "      <td>0.999689</td>\n",
       "      <td>0.000033</td>\n",
       "    </tr>\n",
       "    <tr>\n",
       "      <th>495</th>\n",
       "      <td>0.996000</td>\n",
       "      <td>0.000119</td>\n",
       "      <td>0.999690</td>\n",
       "      <td>0.000033</td>\n",
       "    </tr>\n",
       "    <tr>\n",
       "      <th>496</th>\n",
       "      <td>0.996001</td>\n",
       "      <td>0.000120</td>\n",
       "      <td>0.999692</td>\n",
       "      <td>0.000033</td>\n",
       "    </tr>\n",
       "    <tr>\n",
       "      <th>497</th>\n",
       "      <td>0.996001</td>\n",
       "      <td>0.000120</td>\n",
       "      <td>0.999694</td>\n",
       "      <td>0.000032</td>\n",
       "    </tr>\n",
       "    <tr>\n",
       "      <th>498</th>\n",
       "      <td>0.996005</td>\n",
       "      <td>0.000120</td>\n",
       "      <td>0.999698</td>\n",
       "      <td>0.000030</td>\n",
       "    </tr>\n",
       "    <tr>\n",
       "      <th>499</th>\n",
       "      <td>0.996006</td>\n",
       "      <td>0.000120</td>\n",
       "      <td>0.999701</td>\n",
       "      <td>0.000030</td>\n",
       "    </tr>\n",
       "  </tbody>\n",
       "</table>\n",
       "</div>"
      ],
      "text/plain": [
       "     test-auc-mean  test-auc-std  train-auc-mean  train-auc-std\n",
       "480       0.995981      0.000121        0.999659       0.000034\n",
       "481       0.995984      0.000122        0.999661       0.000034\n",
       "482       0.995984      0.000120        0.999663       0.000033\n",
       "483       0.995984      0.000123        0.999665       0.000034\n",
       "484       0.995985      0.000124        0.999666       0.000033\n",
       "485       0.995986      0.000126        0.999669       0.000033\n",
       "486       0.995989      0.000125        0.999672       0.000033\n",
       "487       0.995990      0.000125        0.999674       0.000033\n",
       "488       0.995991      0.000124        0.999676       0.000033\n",
       "489       0.995992      0.000124        0.999678       0.000033\n",
       "490       0.995993      0.000122        0.999681       0.000033\n",
       "491       0.995996      0.000122        0.999683       0.000033\n",
       "492       0.995996      0.000121        0.999685       0.000033\n",
       "493       0.995996      0.000121        0.999687       0.000034\n",
       "494       0.995998      0.000121        0.999689       0.000033\n",
       "495       0.996000      0.000119        0.999690       0.000033\n",
       "496       0.996001      0.000120        0.999692       0.000033\n",
       "497       0.996001      0.000120        0.999694       0.000032\n",
       "498       0.996005      0.000120        0.999698       0.000030\n",
       "499       0.996006      0.000120        0.999701       0.000030"
      ]
     },
     "execution_count": 276,
     "metadata": {},
     "output_type": "execute_result"
    }
   ],
   "source": [
    "plt.figure(figsize=(12,5))\n",
    "plt.plot(history['test-auc-mean']); \n",
    "plt.plot(history['train-auc-mean']); \n",
    "plt.show();\n",
    "history.tail(20)"
   ]
  },
  {
   "cell_type": "code",
   "execution_count": 277,
   "metadata": {
    "collapsed": false
   },
   "outputs": [
    {
     "name": "stdout",
     "output_type": "stream",
     "text": [
      "[0]\ttrain-auc:0.989906\n",
      "Will train until train-auc hasn't improved in 20 rounds.\n",
      "[50]\ttrain-auc:0.995424\n",
      "[100]\ttrain-auc:0.996631\n",
      "[150]\ttrain-auc:0.997359\n",
      "[200]\ttrain-auc:0.997905\n",
      "[250]\ttrain-auc:0.998357\n",
      "[300]\ttrain-auc:0.998731\n",
      "[350]\ttrain-auc:0.998989\n"
     ]
    }
   ],
   "source": [
    "num_round = 400\n",
    "watchlist  = [(dtrain,'train')]\n",
    "\n",
    "bst = xgb.train(param, dtrain, num_round, watchlist, early_stopping_rounds=20,verbose_eval=50)"
   ]
  },
  {
   "cell_type": "code",
   "execution_count": 278,
   "metadata": {
    "collapsed": false
   },
   "outputs": [
    {
     "data": {
      "text/plain": [
       "((491449,), array([  3.07455688e-04,   9.44557425e-04,   1.41413370e-03,\n",
       "          6.14732765e-02,   5.76636754e-04,   1.58682244e-03,\n",
       "          1.89988455e-03,   2.20774469e-04,   1.42334274e-03,\n",
       "          4.51313481e-02,   2.95426836e-03,   1.42803567e-03,\n",
       "          5.07508218e-03,   6.45916036e-04,   7.75471032e-01,\n",
       "          2.34247789e-01,   9.93745327e-01,   7.45325267e-01,\n",
       "          7.78902888e-01,   7.26820409e-01], dtype=float32))"
      ]
     },
     "execution_count": 278,
     "metadata": {},
     "output_type": "execute_result"
    }
   ],
   "source": [
    "dtest    = xgb.DMatrix(dftest[columns])\n",
    "ddftest  = bst.predict(dtest)\n",
    "ddftrain = bst.predict(dtrain)\n",
    "dftest['prediction']=ddftest\n",
    "ddftest.shape, ddftest[:20]"
   ]
  },
  {
   "cell_type": "code",
   "execution_count": 256,
   "metadata": {
    "collapsed": false
   },
   "outputs": [
    {
     "data": {
      "text/plain": [
       "{'idf_intNorm': 352,\n",
       " 'idf_intNorm0': 191,\n",
       " 'idf_intersection': 306,\n",
       " 'idf_intersection0': 309,\n",
       " 'idf_paragraph': 317,\n",
       " 'idf_paragraph0': 514,\n",
       " 'idf_queIntNorm': 209,\n",
       " 'idf_queNorm': 230,\n",
       " 'idf_question': 319,\n",
       " 'idf_question0': 318,\n",
       " 'len_intNorm': 110,\n",
       " 'len_intNorm0': 494,\n",
       " 'len_intersection': 30,\n",
       " 'len_intersection0': 216,\n",
       " 'len_paragraph': 100,\n",
       " 'len_paragraph0': 350,\n",
       " 'len_queIntNorm': 169,\n",
       " 'len_queIntNorm0': 248,\n",
       " 'len_queNorm': 120,\n",
       " 'len_queNorm0': 250,\n",
       " 'len_question': 21,\n",
       " 'len_question0': 126,\n",
       " 'pqf_queNorm': 389,\n",
       " 'w2v_pqf': 400,\n",
       " 'w2v_wmd': 694,\n",
       " 'wmd_queNorm': 252}"
      ]
     },
     "execution_count": 256,
     "metadata": {},
     "output_type": "execute_result"
    }
   ],
   "source": [
    "bst.get_fscore()"
   ]
  },
  {
   "cell_type": "code",
   "execution_count": 279,
   "metadata": {
    "collapsed": false
   },
   "outputs": [
    {
     "data": {
      "text/plain": [
       "<matplotlib.figure.Figure at 0x7f4d931eee10>"
      ]
     },
     "metadata": {},
     "output_type": "display_data"
    },
    {
     "data": {
      "image/png": "[encoded data removed]",
      "text/plain": [
       "<matplotlib.figure.Figure at 0x7f4d909467d0>"
      ]
     },
     "metadata": {},
     "output_type": "display_data"
    }
   ],
   "source": [
    "plt.figure(figsize=(15,8))\n",
    "xgb.plot_importance(bst); plt.show()"
   ]
  },
  {
   "cell_type": "code",
   "execution_count": 280,
   "metadata": {
    "collapsed": false,
    "deletable": true,
    "editable": true
   },
   "outputs": [],
   "source": [
    "ddftest = dftest.groupby(by=['paragraph_id', 'question_id'])['prediction'].max().reset_index()"
   ]
  },
  {
   "cell_type": "code",
   "execution_count": 281,
   "metadata": {
    "collapsed": false,
    "deletable": true,
    "editable": true
   },
   "outputs": [
    {
     "data": {
      "text/html": [
       "<div>\n",
       "<table border=\"1\" class=\"dataframe\">\n",
       "  <thead>\n",
       "    <tr style=\"text-align: right;\">\n",
       "      <th></th>\n",
       "      <th>paragraph_id</th>\n",
       "      <th>question_id</th>\n",
       "      <th>prediction</th>\n",
       "    </tr>\n",
       "  </thead>\n",
       "  <tbody>\n",
       "    <tr>\n",
       "      <th>74285</th>\n",
       "      <td>1627</td>\n",
       "      <td>33917</td>\n",
       "      <td>0.999913</td>\n",
       "    </tr>\n",
       "    <tr>\n",
       "      <th>74286</th>\n",
       "      <td>1627</td>\n",
       "      <td>34164</td>\n",
       "      <td>0.999898</td>\n",
       "    </tr>\n",
       "    <tr>\n",
       "      <th>74287</th>\n",
       "      <td>1627</td>\n",
       "      <td>34899</td>\n",
       "      <td>0.999646</td>\n",
       "    </tr>\n",
       "    <tr>\n",
       "      <th>74288</th>\n",
       "      <td>1627</td>\n",
       "      <td>36819</td>\n",
       "      <td>0.998159</td>\n",
       "    </tr>\n",
       "    <tr>\n",
       "      <th>74289</th>\n",
       "      <td>1627</td>\n",
       "      <td>38856</td>\n",
       "      <td>0.999919</td>\n",
       "    </tr>\n",
       "  </tbody>\n",
       "</table>\n",
       "</div>"
      ],
      "text/plain": [
       "       paragraph_id  question_id  prediction\n",
       "74285          1627        33917    0.999913\n",
       "74286          1627        34164    0.999898\n",
       "74287          1627        34899    0.999646\n",
       "74288          1627        36819    0.998159\n",
       "74289          1627        38856    0.999919"
      ]
     },
     "execution_count": 281,
     "metadata": {},
     "output_type": "execute_result"
    }
   ],
   "source": [
    "ddftest.tail()\n",
    "#xx = dftest['paragraph_id'].unique()\n",
    "#xx.sort(); xx"
   ]
  },
  {
   "cell_type": "code",
   "execution_count": 282,
   "metadata": {
    "collapsed": false,
    "deletable": true,
    "editable": true
   },
   "outputs": [
    {
     "data": {
      "text/html": [
       "<div>\n",
       "<table border=\"1\" class=\"dataframe\">\n",
       "  <thead>\n",
       "    <tr style=\"text-align: right;\">\n",
       "      <th></th>\n",
       "      <th>paragraph_id</th>\n",
       "      <th>question_id</th>\n",
       "      <th>prediction</th>\n",
       "    </tr>\n",
       "  </thead>\n",
       "  <tbody>\n",
       "    <tr>\n",
       "      <th>0</th>\n",
       "      <td>1361</td>\n",
       "      <td>6463</td>\n",
       "      <td>0.000307</td>\n",
       "    </tr>\n",
       "    <tr>\n",
       "      <th>1</th>\n",
       "      <td>1361</td>\n",
       "      <td>6463</td>\n",
       "      <td>0.000945</td>\n",
       "    </tr>\n",
       "    <tr>\n",
       "      <th>2</th>\n",
       "      <td>1361</td>\n",
       "      <td>6463</td>\n",
       "      <td>0.001414</td>\n",
       "    </tr>\n",
       "    <tr>\n",
       "      <th>3</th>\n",
       "      <td>1361</td>\n",
       "      <td>6463</td>\n",
       "      <td>0.061473</td>\n",
       "    </tr>\n",
       "    <tr>\n",
       "      <th>4</th>\n",
       "      <td>1361</td>\n",
       "      <td>6463</td>\n",
       "      <td>0.000577</td>\n",
       "    </tr>\n",
       "  </tbody>\n",
       "</table>\n",
       "</div>"
      ],
      "text/plain": [
       "   paragraph_id  question_id  prediction\n",
       "0          1361         6463    0.000307\n",
       "1          1361         6463    0.000945\n",
       "2          1361         6463    0.001414\n",
       "3          1361         6463    0.061473\n",
       "4          1361         6463    0.000577"
      ]
     },
     "execution_count": 282,
     "metadata": {},
     "output_type": "execute_result"
    }
   ],
   "source": [
    "dftest[['paragraph_id', 'question_id', 'prediction']].head()"
   ]
  },
  {
   "cell_type": "code",
   "execution_count": 284,
   "metadata": {
    "collapsed": true,
    "deletable": true,
    "editable": true
   },
   "outputs": [],
   "source": [
    "# LB=0.8715618640276706\n",
    "ddftest[['paragraph_id', 'question_id', 'prediction']].to_csv(\"../Result/prediction-2017-10-30-03-30.csv\", index=False)"
   ]
  },
  {
   "cell_type": "code",
   "execution_count": null,
   "metadata": {
    "collapsed": false,
    "deletable": true,
    "editable": true
   },
   "outputs": [],
   "source": []
  },
  {
   "cell_type": "code",
   "execution_count": 283,
   "metadata": {
    "collapsed": false,
    "deletable": true,
    "editable": true
   },
   "outputs": [
    {
     "name": "stdout",
     "output_type": "stream",
     "text": [
      "accuracy=0.98789 roc_auc=0.98331\n"
     ]
    },
    {
     "data": {
      "image/png": "[encoded data removed]",
      "text/plain": [
       "<matplotlib.figure.Figure at 0x7f4d930a21d0>"
      ]
     },
     "metadata": {},
     "output_type": "display_data"
    },
    {
     "data": {
      "image/png": "[encoded data removed]",
      "text/plain": [
       "<matplotlib.figure.Figure at 0x7f4d63565c50>"
      ]
     },
     "metadata": {},
     "output_type": "display_data"
    },
    {
     "data": {
      "image/png": "[encoded data removed]",
      "text/plain": [
       "<matplotlib.figure.Figure at 0x7f4d82729bd0>"
      ]
     },
     "metadata": {},
     "output_type": "display_data"
    }
   ],
   "source": [
    "print 'accuracy={:.5f} roc_auc={:.5f}'.format(skm.accuracy_score(dftrain['target'].values,ddftrain>0.5),\n",
    "           skm.roc_auc_score(dftrain['target'].values,ddftrain>0.5))\n",
    "plt.hist(ddftrain,bins=50); plt.show()\n",
    "plt.hist(ddftest['prediction'],bins=50); plt.show()\n",
    "plt.hist(dftest['prediction'],bins=50); plt.show()"
   ]
  },
  {
   "cell_type": "code",
   "execution_count": 93,
   "metadata": {
    "collapsed": false,
    "deletable": true,
    "editable": true
   },
   "outputs": [
    {
     "name": "stdout",
     "output_type": "stream",
     "text": [
      "accuracy=0.98976 roc_auc=0.98807\n"
     ]
    },
    {
     "data": {
      "image/png": "[encoded data removed]",
      "text/plain": [
       "<matplotlib.figure.Figure at 0x7fdc6fbb4150>"
      ]
     },
     "metadata": {},
     "output_type": "display_data"
    },
    {
     "data": {
      "image/png": "[encoded data removed]",
      "text/plain": [
       "<matplotlib.figure.Figure at 0x7fdc70e5af10>"
      ]
     },
     "metadata": {},
     "output_type": "display_data"
    }
   ],
   "source": [
    "print 'accuracy={:.5f} roc_auc={:.5f}'.format(skm.accuracy_score(dftrain['target'].values,ddftrain>0.5),\n",
    "           skm.roc_auc_score(dftrain['target'].values,ddftrain>0.5))\n",
    "plt.hist(ddftrain,bins=50); plt.show()\n",
    "plt.hist(dftest['prediction'],bins=50); plt.show()"
   ]
  },
  {
   "cell_type": "code",
   "execution_count": 145,
   "metadata": {
    "collapsed": false,
    "deletable": true,
    "editable": true
   },
   "outputs": [
    {
     "name": "stdout",
     "output_type": "stream",
     "text": [
      "0.973935911824\n"
     ]
    },
    {
     "data": {
      "image/png": "[encoded data removed]",
      "text/plain": [
       "<matplotlib.figure.Figure at 0x7ff530ce46d0>"
      ]
     },
     "metadata": {},
     "output_type": "display_data"
    },
    {
     "data": {
      "image/png": "[encoded data removed]",
      "text/plain": [
       "<matplotlib.figure.Figure at 0x7ff530beef90>"
      ]
     },
     "metadata": {},
     "output_type": "display_data"
    }
   ],
   "source": [
    "print skm.accuracy_score(dftrain['target'].values,ddftrain>0.5)\n",
    "plt.hist(ddftrain); plt.show()\n",
    "plt.hist(dftest['prediction']); plt.show()"
   ]
  },
  {
   "cell_type": "code",
   "execution_count": null,
   "metadata": {
    "collapsed": true,
    "deletable": true,
    "editable": true
   },
   "outputs": [],
   "source": []
  },
  {
   "cell_type": "code",
   "execution_count": null,
   "metadata": {
    "collapsed": true,
    "deletable": true,
    "editable": true
   },
   "outputs": [],
   "source": []
  },
  {
   "cell_type": "code",
   "execution_count": 21,
   "metadata": {
    "collapsed": false,
    "deletable": true,
    "editable": true
   },
   "outputs": [
    {
     "name": "stderr",
     "output_type": "stream",
     "text": [
      "Using TensorFlow backend.\n"
     ]
    }
   ],
   "source": [
    "import gensim.models.word2vec"
   ]
  },
  {
   "cell_type": "code",
   "execution_count": 40,
   "metadata": {
    "collapsed": false,
    "deletable": true,
    "editable": true
   },
   "outputs": [
    {
     "name": "stdout",
     "output_type": "stream",
     "text": [
      "2109476\n"
     ]
    },
    {
     "data": {
      "text/plain": [
       "2109476"
      ]
     },
     "execution_count": 40,
     "metadata": {},
     "output_type": "execute_result"
    }
   ],
   "source": [
    "sentences  = dftrain['paragraphL'].tolist()+dftrain.questionL.tolist()\n",
    "sentences += dftest ['paragraphL'].tolist()+dftest.questionL.tolist()\n",
    "#sentences += dftest ['paragraph'].tolist()+dftest ['question'].tolist()\n",
    "sentences = [[ss.decode('utf-8') for ss in s.split(' ')] for s in sentences]\n",
    "print len(sentences) #, sentences[0]\n",
    "len(sentences)"
   ]
  },
  {
   "cell_type": "code",
   "execution_count": null,
   "metadata": {
    "collapsed": false,
    "deletable": true,
    "editable": true
   },
   "outputs": [],
   "source": []
  },
  {
   "cell_type": "code",
   "execution_count": 41,
   "metadata": {
    "collapsed": false,
    "deletable": true,
    "editable": true
   },
   "outputs": [
    {
     "name": "stdout",
     "output_type": "stream",
     "text": [
      "2017-10-28 19:58:44.384072\n",
      "2017-10-28 20:04:31.241479\n"
     ]
    }
   ],
   "source": [
    "print datetime.datetime.now()\n",
    "model = gensim.models.word2vec.Word2Vec(sentences, size=100, window=5, workers=4, min_count=1)\n",
    "print datetime.datetime.now()"
   ]
  },
  {
   "cell_type": "code",
   "execution_count": 43,
   "metadata": {
    "collapsed": false,
    "deletable": true,
    "editable": true
   },
   "outputs": [
    {
     "name": "stdout",
     "output_type": "stream",
     "text": [
      "земноводный\n"
     ]
    }
   ],
   "source": [
    "print sentences[0][5]"
   ]
  },
  {
   "cell_type": "code",
   "execution_count": 44,
   "metadata": {
    "collapsed": false,
    "deletable": true,
    "editable": true
   },
   "outputs": [
    {
     "data": {
      "text/plain": [
       "array([ -2.98387313e+00,   5.51913261e+00,   7.42003059e+00,\n",
       "         4.52600813e+00,   1.42700901e+01,  -3.03050518e+00,\n",
       "         2.59337997e+00,  -3.26727843e+00,  -1.52219963e+00,\n",
       "         5.91764545e+00,  -4.89653063e+00,   8.80865455e-01,\n",
       "        -6.35947466e-01,  -4.66090727e+00,   3.15288448e+00,\n",
       "        -3.46123910e+00,   1.19812751e+00,  -2.79872561e+00,\n",
       "        -2.66737413e+00,  -2.54326153e+00,   4.76887846e+00,\n",
       "        -4.23117161e+00,   8.84592831e-01,   1.07003033e+00,\n",
       "        -1.06999767e+00,   1.02019989e+00,   7.04411983e+00,\n",
       "         1.40653050e+00,  -2.67896438e+00,   1.14307380e+00,\n",
       "        -4.62081575e+00,  -9.75797117e-01,   2.75414991e+00,\n",
       "        -5.19478858e-01,  -9.16263294e+00,  -7.18607485e-01,\n",
       "         6.99500465e+00,   2.22612309e+00,  -5.58874083e+00,\n",
       "         6.27894831e+00,   6.10575342e+00,  -1.15751280e-02,\n",
       "        -8.38653946e+00,  -4.22843277e-01,   5.44648457e+00,\n",
       "        -5.09045267e+00,   4.85996532e+00,   3.59171939e+00,\n",
       "        -1.23300278e+00,   9.34731293e+00,  -2.16865325e+00,\n",
       "        -1.64826822e+00,   2.17185807e+00,  -8.42592657e-01,\n",
       "         8.92026043e+00,  -3.92207527e+00,   5.01767492e+00,\n",
       "         6.29040420e-01,  -6.67382860e+00,   7.27681160e-01,\n",
       "         2.98862433e+00,   9.68177021e-02,   4.80076122e+00,\n",
       "        -3.44857049e+00,  -7.01488924e+00,  -8.02513409e+00,\n",
       "         1.49281740e+00,   5.99842191e-01,   7.18671083e-01,\n",
       "        -4.00051403e+00,   1.86530143e-01,   4.58797663e-02,\n",
       "        -5.22883558e+00,  -1.41863394e+00,  -6.03884041e-01,\n",
       "         7.54941177e+00,  -2.15711474e-01,  -3.17399001e+00,\n",
       "         2.15563226e+00,   5.01104069e+00,  -1.91185009e-02,\n",
       "        -2.58362961e+00,  -4.59091812e-01,   2.65452838e+00,\n",
       "         2.08802581e+00,   3.12917352e+00,   1.11107135e+00,\n",
       "        -4.69830662e-01,   3.66307449e+00,   1.72632289e+00,\n",
       "        -4.60106516e+00,   1.39378858e+00,   1.57249242e-01,\n",
       "        -1.15687962e+01,  -3.63947213e-01,  -3.33961678e+00,\n",
       "        -4.36306667e+00,  -5.80088568e+00,   9.74162483e+00,\n",
       "        -3.39015698e+00], dtype=float32)"
      ]
     },
     "execution_count": 44,
     "metadata": {},
     "output_type": "execute_result"
    }
   ],
   "source": [
    "model.wv[sentences[1][1]]"
   ]
  },
  {
   "cell_type": "code",
   "execution_count": 47,
   "metadata": {
    "collapsed": false,
    "deletable": true,
    "editable": true
   },
   "outputs": [
    {
     "data": {
      "text/plain": [
       "0.0"
      ]
     },
     "execution_count": 47,
     "metadata": {},
     "output_type": "execute_result"
    }
   ],
   "source": [
    "model.get_latest_training_loss()\n",
    "#model.accuracy()"
   ]
  },
  {
   "cell_type": "code",
   "execution_count": 48,
   "metadata": {
    "collapsed": false,
    "deletable": true,
    "editable": true
   },
   "outputs": [
    {
     "name": "stdout",
     "output_type": "stream",
     "text": [
      "['syn0norm', 'vocab', 'index2word', 'vector_size', 'syn0']\n",
      "vector_size None\n",
      "syn0 (79809, 100)\n",
      "None\n",
      "vocab 79809 [u'', u'hcho', u'diy-\\u0438\\u0434\\u0435\\u043e\\u043b\\u043e\\u0433\\u0438\\u044f', u'\\u043a\\u043e\\u043b\\u0442\\u0443\\u043d', u'\\u0441\\u043e\\u0431\\u0440\\u0430\\u0442']\n",
      "\n",
      "hcho\n",
      "diy-идеология\n",
      "колтун\n",
      "собрат\n",
      "соr\n",
      "гольфстрим\n",
      "грызун\n",
      "деноминация\n",
      "гласный-согласный\n",
      "нормальный\n",
      "субсоциальность\n",
      "woods\n",
      "анкара\n",
      "spiders\n",
      "francesco\n",
      "francesca\n",
      "сахаромицет\n",
      "нуклид\n",
      "излиться\n",
      "бенефициарный\n",
      "имхотёпа\n",
      "ребровый\n",
      "слоговой\n",
      "районирование\n",
      "gentis\n",
      "лашко\n",
      "взмах\n",
      "гомозиготный\n",
      "отстоять\n",
      "евграф\n",
      "ядовитость\n",
      "псевдополовый\n",
      "пектиназа\n",
      "данаиды-монарх\n",
      "богословие\n",
      "hermann\n",
      "ногайский\n",
      "балаганчик\n",
      "пронский\n",
      "наготове\n",
      "восприимчивый\n",
      "четырёхстраничный\n",
      "40,8\n",
      "λεπίδος\n",
      "со2\n",
      "хабаровский\n",
      "40,4\n",
      "40,5\n",
      "властелин\n"
     ]
    }
   ],
   "source": [
    "wv = model.wv\n",
    "print wv.__dict__.keys()\n",
    "print 'vector_size',wv.__dict__['vector_size']\n",
    "print 'syn0',wv.__dict__['syn0'].shape #,wv.__dict__['syn0']\n",
    "print wv.__dict__['syn0norm']\n",
    "print 'vocab',len(wv.__dict__['vocab']),wv.__dict__['vocab'].keys()[:5]\n",
    "for word in wv.__dict__['vocab'].keys()[:50] :\n",
    "    print word\n",
    "#print 'index2word',wv.__dict__['index2word'],wv.__dict__['index2word'][0]\n"
   ]
  },
  {
   "cell_type": "code",
   "execution_count": 82,
   "metadata": {
    "collapsed": false,
    "deletable": true,
    "editable": true,
    "scrolled": false
   },
   "outputs": [
    {
     "name": "stdout",
     "output_type": "stream",
     "text": [
      "2017-10-28 20:31:51.943359\n",
      "2017-10-28 20:31:52.259137 train 0\n",
      "2017-10-28 20:31:54.273526 train 10000\n",
      "2017-10-28 20:31:56.342125 train 20000\n",
      "2017-10-28 20:31:58.330599 train 30000\n",
      "2017-10-28 20:32:00.310624 train 40000\n",
      "2017-10-28 20:32:02.301252 train 50000\n",
      "2017-10-28 20:32:04.300879 train 60000\n",
      "2017-10-28 20:32:06.305857 train 70000\n",
      "2017-10-28 20:32:08.428460 train 80000\n",
      "2017-10-28 20:32:10.505278 train 90000\n",
      "2017-10-28 20:32:12.509864 train 100000\n",
      "2017-10-28 20:32:14.676475 train 110000\n",
      "2017-10-28 20:32:16.694803 train 120000\n",
      "2017-10-28 20:32:18.741870 train 130000\n",
      "2017-10-28 20:32:20.749405 train 140000\n",
      "2017-10-28 20:32:22.744605 train 150000\n",
      "2017-10-28 20:32:24.716175 train 160000\n",
      "2017-10-28 20:32:26.698143 train 170000\n",
      "2017-10-28 20:32:28.800694 train 180000\n",
      "2017-10-28 20:32:30.768833 train 190000\n",
      "2017-10-28 20:32:32.714025 train 200000\n",
      "2017-10-28 20:32:34.687650 train 210000\n",
      "2017-10-28 20:32:36.632489 train 220000\n",
      "2017-10-28 20:32:38.590477 train 230000\n",
      "2017-10-28 20:32:40.556579 train 240000\n",
      "2017-10-28 20:32:42.511812 train 250000\n",
      "2017-10-28 20:32:44.463500 train 260000\n",
      "2017-10-28 20:32:46.524959 train 270000\n",
      "2017-10-28 20:32:48.478860 train 280000\n",
      "2017-10-28 20:32:50.467317 train 290000\n",
      "2017-10-28 20:32:52.424627 train 300000\n",
      "2017-10-28 20:32:54.488338 train 310000\n",
      "2017-10-28 20:32:56.494631 train 320000\n",
      "2017-10-28 20:32:58.481526 train 330000\n",
      "2017-10-28 20:33:00.461377 train 340000\n",
      "2017-10-28 20:33:02.423929 train 350000\n",
      "2017-10-28 20:33:04.367490 train 360000\n",
      "2017-10-28 20:33:06.332929 train 370000\n",
      "2017-10-28 20:33:08.293375 train 380000\n",
      "2017-10-28 20:33:10.263345 train 390000\n",
      "2017-10-28 20:33:12.244649 train 400000\n",
      "2017-10-28 20:33:14.206583 train 410000\n",
      "2017-10-28 20:33:16.187083 train 420000\n",
      "2017-10-28 20:33:18.184024 train 430000\n",
      "2017-10-28 20:33:20.132466 train 440000\n",
      "2017-10-28 20:33:22.104015 train 450000\n",
      "2017-10-28 20:33:24.050728 train 460000\n",
      "2017-10-28 20:33:28.589827 train 470000\n",
      "2017-10-28 20:33:30.541245 train 480000\n",
      "2017-10-28 20:33:32.528834 train 490000\n",
      "2017-10-28 20:33:34.617339 train 500000\n",
      "2017-10-28 20:33:36.573796 train 510000\n",
      "2017-10-28 20:33:38.683809 train 520000\n",
      "2017-10-28 20:33:40.620738 train 530000\n",
      "2017-10-28 20:33:42.563848 train 540000\n",
      "2017-10-28 20:33:44.500195 train 550000\n",
      "2017-10-28 20:33:46.452041 train 560000\n",
      "2017-10-28 20:33:47.622409 test 0\n",
      "2017-10-28 20:33:49.414736 test 10000\n",
      "2017-10-28 20:33:51.191146 test 20000\n",
      "2017-10-28 20:33:52.966309 test 30000\n",
      "2017-10-28 20:33:54.760018 test 40000\n",
      "2017-10-28 20:33:56.562477 test 50000\n",
      "2017-10-28 20:33:58.331387 test 60000\n",
      "2017-10-28 20:34:00.144930 test 70000\n",
      "2017-10-28 20:34:02.065061 test 80000\n",
      "2017-10-28 20:34:04.054569 test 90000\n",
      "2017-10-28 20:34:06.009819 test 100000\n",
      "2017-10-28 20:34:07.823227 test 110000\n",
      "2017-10-28 20:34:09.820043 test 120000\n",
      "2017-10-28 20:34:11.725236 test 130000\n",
      "2017-10-28 20:34:13.609797 test 140000\n",
      "2017-10-28 20:34:15.504233 test 150000\n",
      "2017-10-28 20:34:17.318650 test 160000\n",
      "2017-10-28 20:34:19.119942 test 170000\n",
      "2017-10-28 20:34:20.897561 test 180000\n",
      "2017-10-28 20:34:22.665739 test 190000\n",
      "2017-10-28 20:34:24.434316 test 200000\n",
      "2017-10-28 20:34:26.224010 test 210000\n",
      "2017-10-28 20:34:28.027503 test 220000\n",
      "2017-10-28 20:34:29.826084 test 230000\n",
      "2017-10-28 20:34:31.622709 test 240000\n",
      "2017-10-28 20:34:33.387496 test 250000\n",
      "2017-10-28 20:34:35.139598 test 260000\n",
      "2017-10-28 20:34:37.051061 test 270000\n",
      "2017-10-28 20:34:38.823277 test 280000\n",
      "2017-10-28 20:34:40.608667 test 290000\n",
      "2017-10-28 20:34:42.505306 test 300000\n",
      "2017-10-28 20:34:44.306852 test 310000\n",
      "2017-10-28 20:34:46.083994 test 320000\n",
      "2017-10-28 20:34:47.861527 test 330000\n",
      "2017-10-28 20:34:49.640350 test 340000\n",
      "2017-10-28 20:34:51.413880 test 350000\n",
      "2017-10-28 20:34:53.197495 test 360000\n",
      "2017-10-28 20:34:55.023960 test 370000\n",
      "2017-10-28 20:34:56.804328 test 380000\n",
      "2017-10-28 20:34:58.583783 test 390000\n",
      "2017-10-28 20:35:00.398952 test 400000\n",
      "2017-10-28 20:35:02.335930 test 410000\n",
      "2017-10-28 20:35:04.235094 test 420000\n",
      "2017-10-28 20:35:06.064700 test 430000\n",
      "2017-10-28 20:35:07.949743 test 440000\n",
      "2017-10-28 20:35:09.722927 test 450000\n",
      "2017-10-28 20:35:11.536102 test 460000\n",
      "2017-10-28 20:35:13.366575 test 470000\n",
      "2017-10-28 20:35:15.120081 test 480000\n",
      "2017-10-28 20:35:17.025182 test 490000\n",
      "2017-10-28 20:35:17.649618\n"
     ]
    }
   ],
   "source": [
    "#for index, row0 in df.iterrows() \n",
    "print datetime.datetime.now()\n",
    "#dftrain = dftrain.reset_index()\n",
    "#dftest  = dftest.reset_index()\n",
    "#print dftest.head()\n",
    "ilong, ibad, ilist = 0, 0, []\n",
    "for name, df in [('train',dftrain),('test',dftest)] :\n",
    "    for ii,row in df.iterrows() :\n",
    "        if ii%50000==0 : print datetime.datetime.now(), name, ii\n",
    "        if name=='train' and row.target==1 : ilong += 1\n",
    "        pp = row.paragraphLSX.split()\n",
    "        qq = row.questionLSX.split()\n",
    "        tt = row.target if name=='train' else 0.0\n",
    "        try :\n",
    "            ns = wv.n_similarity([unicode(ppx,'utf-8') for ppx in pp],[unicode(qqx,'utf-8') for qqx in qq])\n",
    "            ilist.append([tt,ns])\n",
    "            #print '\\t',ii,row.target,ns\n",
    "        except : ibad += 1; #print '\\t',ii,row.target,'--------------- bad bad'\n",
    "    if name=='train' : trainlist = np.array(ilist)\n",
    "    if name=='test'  : testlist  = np.array(ilist)\n",
    "print datetime.datetime.now()"
   ]
  },
  {
   "cell_type": "code",
   "execution_count": 89,
   "metadata": {
    "collapsed": false,
    "deletable": true,
    "editable": true
   },
   "outputs": [
    {
     "data": {
      "text/plain": [
       "(0.06791362870569104, 0.067913628705691037)"
      ]
     },
     "execution_count": 89,
     "metadata": {},
     "output_type": "execute_result"
    }
   ],
   "source": [
    "ilong/dftrain.shape[0], dftrain.target.mean()"
   ]
  },
  {
   "cell_type": "code",
   "execution_count": 92,
   "metadata": {
    "collapsed": false,
    "deletable": true,
    "editable": true
   },
   "outputs": [
    {
     "name": "stdout",
     "output_type": "stream",
     "text": [
      "537565 1009514 (537565, 2) 45224 38255\n"
     ]
    },
    {
     "data": {
      "image/png": "[encoded data removed]",
      "text/plain": [
       "<matplotlib.figure.Figure at 0x7fb82ebf2a90>"
      ]
     },
     "metadata": {},
     "output_type": "display_data"
    },
    {
     "data": {
      "image/png": "[encoded data removed]",
      "text/plain": [
       "<matplotlib.figure.Figure at 0x7fb8326e5650>"
      ]
     },
     "metadata": {},
     "output_type": "display_data"
    },
    {
     "data": {
      "image/png": "[encoded data removed]",
      "text/plain": [
       "<matplotlib.figure.Figure at 0x7fb8327cc410>"
      ]
     },
     "metadata": {},
     "output_type": "display_data"
    },
    {
     "data": {
      "image/png": "[encoded data removed]",
      "text/plain": [
       "<matplotlib.figure.Figure at 0x7fb83267f250>"
      ]
     },
     "metadata": {},
     "output_type": "display_data"
    },
    {
     "data": {
      "image/png": "[encoded data removed]",
      "text/plain": [
       "<matplotlib.figure.Figure at 0x7fb8325a4210>"
      ]
     },
     "metadata": {},
     "output_type": "display_data"
    }
   ],
   "source": [
    "print len(trainlist), len(testlist), trainlist.shape, ibad, ilong\n",
    "plt.hist(trainlist[trainlist[:,0]==0,1],bins=150); plt.show();\n",
    "plt.hist(trainlist[trainlist[:,0]==1,1],bins=150); plt.show();\n",
    "plt.hist(np.array(trainlist[:,1]),bins=150); plt.show();\n",
    "plt.hist(np.array(testlist[:,1]), bins=150); plt.show();\n",
    "\n",
    "plt.scatter(trainlist[:,0],trainlist[:,1]); plt.show();\n"
   ]
  },
  {
   "cell_type": "code",
   "execution_count": 65,
   "metadata": {
    "collapsed": false,
    "deletable": true,
    "editable": true
   },
   "outputs": [],
   "source": [
    "dff = dftrain.copy()\n",
    "dff.head()\n",
    "del dff"
   ]
  },
  {
   "cell_type": "code",
   "execution_count": 276,
   "metadata": {
    "collapsed": false,
    "deletable": true,
    "editable": true
   },
   "outputs": [
    {
     "data": {
      "image/png": "[encoded data removed]",
      "text/plain": [
       "<matplotlib.figure.Figure at 0x7f71e6b5a8d0>"
      ]
     },
     "metadata": {},
     "output_type": "display_data"
    }
   ],
   "source": [
    "lsx = []\n",
    "for pw in unicode(dftrain.paragraphLSX[0]).split()[:5] :\n",
    "    for qw in unicode(dftrain.questionLSX[0]).split()[:5] :\n",
    "        try : \n",
    "            #print pw,qw,wv.similarity(pw,qw); \n",
    "            lsx.append(abs(wv.similarity(pw,qw)))\n",
    "        except : continue\n",
    "plt.hist(np.array(lsx),bins=100); plt.show()"
   ]
  },
  {
   "cell_type": "code",
   "execution_count": 269,
   "metadata": {
    "collapsed": false,
    "deletable": true,
    "editable": true
   },
   "outputs": [
    {
     "data": {
      "text/plain": [
       "[u'0',\n",
       " u'\\u043e\\u0442\\u043b\\u0438\\u0447\\u0438\\u0435',\n",
       " u'\\u0440\\u044b\\u0431\\u0430',\n",
       " u',',\n",
       " u'\\u0437\\u0435\\u043c\\u043d\\u043e\\u0432\\u043e\\u0434\\u043d\\u044b\\u0439',\n",
       " u'(',\n",
       " u'\\u0430\\u043c\\u0444\\u0438\\u0431\\u0438\\u044f',\n",
       " u')',\n",
       " u'\\u043f\\u0440\\u0435\\u0441\\u043c\\u044b\\u043a...',\n",
       " u'0',\n",
       " u'\\u0435\\u0434\\u0438\\u043d\\u0441\\u0442\\u0432\\u0435\\u043d\\u043d\\u044b\\u0439',\n",
       " u'\\u0441\\u043e\\u0432\\u0440\\u0435\\u043c\\u0435\\u043d\\u043d\\u044b\\u0439',\n",
       " u'\\u0440\\u0435\\u043f\\u0442\\u0438\\u043b\\u0438\\u044f',\n",
       " u',',\n",
       " u'\\u0438\\u043c\\u0435\\u0442\\u044c',\n",
       " u'\\u043d\\u0435\\u043f...',\n",
       " u'0',\n",
       " u'\\u0441\\u0447\\u0438\\u0442\\u0430\\u0442\\u044c\\u0441\\u044f',\n",
       " u',',\n",
       " u'\\u0432\\u043f\\u0435\\u0440\\u0432\\u044b\\u0435',\n",
       " u'\\u0447\\u0435\\u0442\\u044b\\u0440\\u0451\\u0445\\u043a\\u0430\\u043c\\u0435\\u0440\\u043d\\u044b\\u0439',\n",
       " u'\\u0441\\u0435\\u0440\\u0434\\u0446\\u0435',\n",
       " u'\\u043f\\u043e...',\n",
       " u'0',\n",
       " u'\\u0434\\u0430\\u043b\\u044c\\u043d\\u0435\\u0439\\u0448\\u0438\\u0439',\n",
       " u'\\u0441\\u0442\\u0440\\u043e\\u0435\\u043d\\u0438\\u0435',\n",
       " u'\\u0441\\u0435\\u0440\\u0434\\u0446\\u0435',\n",
       " u'\\u0443\\u043d\\u0430\\u0441\\u043b\\u0435\\u0434\\u043e\\u0432\\u0430\\u0442\\u044c',\n",
       " u'\\u043f\\u0440\\u044f\\u043c\\u0430...',\n",
       " u'Name:',\n",
       " u'paragraphLSX,',\n",
       " u'dtype:',\n",
       " u'object']"
      ]
     },
     "execution_count": 269,
     "metadata": {},
     "output_type": "execute_result"
    }
   ],
   "source": [
    "unicode(dftrain.paragraphLSX[0]).split()"
   ]
  },
  {
   "cell_type": "code",
   "execution_count": null,
   "metadata": {
    "collapsed": true,
    "deletable": true,
    "editable": true
   },
   "outputs": [],
   "source": []
  },
  {
   "cell_type": "code",
   "execution_count": 28,
   "metadata": {
    "collapsed": false,
    "deletable": true,
    "editable": true
   },
   "outputs": [
    {
     "data": {
      "text/plain": [
       "Counter({' ': 1, 'a': 2, 'b': 3, 'c': 4})"
      ]
     },
     "execution_count": 28,
     "metadata": {},
     "output_type": "execute_result"
    }
   ],
   "source": [
    "aa=Counter('aabb bcccc'); aa\n",
    "#aa=Counter({'aa':6, 'b':7}); aa"
   ]
  },
  {
   "cell_type": "code",
   "execution_count": 85,
   "metadata": {
    "collapsed": false,
    "deletable": true,
    "editable": true
   },
   "outputs": [
    {
     "name": "stdout",
     "output_type": "stream",
     "text": [
      "вова\n"
     ]
    }
   ],
   "source": [
    "import pymorphy2\n",
    "morphy = pymorphy2.MorphAnalyzer()\n",
    "morphy.parse(u'вова')\n",
    "print morphy.parse(u'вову')[0].normal_form\n",
    "#str(morphy.parse(u'вовочка')[0].normal_form) #.encode('cp1251')"
   ]
  },
  {
   "cell_type": "code",
   "execution_count": 112,
   "metadata": {
    "collapsed": false,
    "deletable": true,
    "editable": true
   },
   "outputs": [
    {
     "name": "stdout",
     "output_type": "stream",
     "text": [
      "4 [Parse(word=u'\\u0447\\u0435\\u0442\\u0432\\u0435\\u0440\\u0442\\u044b\\u0439 \\u043f\\u0435\\u0440\\u0435\\u0441\\u0438\\u0434\\u0435\\u0432\\u0448\\u0438\\u0439', tag=OpencorporaTag('PRTF,perf,intr,past,actv masc,sing,nomn'), normal_form=u'\\u0447\\u0435\\u0442\\u0432\\u0435\\u0440\\u0442\\u044b\\u0439 \\u043f\\u0435\\u0440\\u0435\\u0441\\u0438\\u0434\\u0435\\u0442\\u044c', score=0.4831932773109244, methods_stack=((<FakeDictionary>, u'\\u0447\\u0435\\u0442\\u0432\\u0435\\u0440\\u0442\\u044b\\u0439 \\u043f\\u0435\\u0440\\u0435\\u0441\\u0438\\u0434\\u0435\\u0432\\u0448\\u0438\\u0439', 715, 15), (<KnownSuffixAnalyzer>, u'\\u0435\\u0432\\u0448\\u0438\\u0439'))), Parse(word=u'\\u0447\\u0435\\u0442\\u0432\\u0435\\u0440\\u0442\\u044b\\u0439 \\u043f\\u0435\\u0440\\u0435\\u0441\\u0438\\u0434\\u0435\\u0432\\u0448\\u0438\\u0439', tag=OpencorporaTag('PRTF,perf,intr,past,actv inan,masc,sing,accs'), normal_form=u'\\u0447\\u0435\\u0442\\u0432\\u0435\\u0440\\u0442\\u044b\\u0439 \\u043f\\u0435\\u0440\\u0435\\u0441\\u0438\\u0434\\u0435\\u0442\\u044c', score=0.4831932773109244, methods_stack=((<FakeDictionary>, u'\\u0447\\u0435\\u0442\\u0432\\u0435\\u0440\\u0442\\u044b\\u0439 \\u043f\\u0435\\u0440\\u0435\\u0441\\u0438\\u0434\\u0435\\u0432\\u0448\\u0438\\u0439', 715, 19), (<KnownSuffixAnalyzer>, u'\\u0435\\u0432\\u0448\\u0438\\u0439'))), Parse(word=u'\\u0447\\u0435\\u0442\\u0432\\u0435\\u0440\\u0442\\u044b\\u0439 \\u043f\\u0435\\u0440\\u0435\\u0441\\u0438\\u0434\\u0435\\u0432\\u0448\\u0438\\u0439', tag=OpencorporaTag('ADJF masc,sing,nomn'), normal_form=u'\\u0447\\u0435\\u0442\\u0432\\u0435\\u0440\\u0442\\u044b\\u0439 \\u043f\\u0435\\u0440\\u0435\\u0441\\u0438\\u0434\\u0435\\u0432\\u0448\\u0438\\u0439', score=0.01680672268907563, methods_stack=((<FakeDictionary>, u'\\u0447\\u0435\\u0442\\u0432\\u0435\\u0440\\u0442\\u044b\\u0439 \\u043f\\u0435\\u0440\\u0435\\u0441\\u0438\\u0434\\u0435\\u0432\\u0448\\u0438\\u0439', 100, 0), (<KnownSuffixAnalyzer>, u'\\u0435\\u0432\\u0448\\u0438\\u0439'))), Parse(word=u'\\u0447\\u0435\\u0442\\u0432\\u0435\\u0440\\u0442\\u044b\\u0439 \\u043f\\u0435\\u0440\\u0435\\u0441\\u0438\\u0434\\u0435\\u0432\\u0448\\u0438\\u0439', tag=OpencorporaTag('ADJF inan,masc,sing,accs'), normal_form=u'\\u0447\\u0435\\u0442\\u0432\\u0435\\u0440\\u0442\\u044b\\u0439 \\u043f\\u0435\\u0440\\u0435\\u0441\\u0438\\u0434\\u0435\\u0432\\u0448\\u0438\\u0439', score=0.01680672268907563, methods_stack=((<FakeDictionary>, u'\\u0447\\u0435\\u0442\\u0432\\u0435\\u0440\\u0442\\u044b\\u0439 \\u043f\\u0435\\u0440\\u0435\\u0441\\u0438\\u0434\\u0435\\u0432\\u0448\\u0438\\u0439', 100, 4), (<KnownSuffixAnalyzer>, u'\\u0435\\u0432\\u0448\\u0438\\u0439')))]\n",
      "четвертый пересидеть\n",
      "четвертый пересидеть 0.483193277311 PRTF,perf,intr,past,actv masc,sing,nomn\n",
      "четвертый пересидеть 0.483193277311 PRTF,perf,intr,past,actv inan,masc,sing,accs\n",
      "четвертый пересидевший 0.0168067226891 ADJF masc,sing,nomn\n",
      "четвертый пересидевший 0.0168067226891 ADJF inan,masc,sing,accs\n"
     ]
    }
   ],
   "source": [
    "wword = u'четвертый пересидевший'\n",
    "print len(morphy.parse(wword)),morphy.parse(wword)\n",
    "print morphy.parse(wword)[0].normal_form\n",
    "for pp in morphy.parse(wword) : print pp.normal_form, pp.score, pp.tag"
   ]
  },
  {
   "cell_type": "code",
   "execution_count": 75,
   "metadata": {
    "collapsed": false,
    "deletable": true,
    "editable": true
   },
   "outputs": [
    {
     "name": "stdout",
     "output_type": "stream",
     "text": [
      "вщвщчка\n"
     ]
    }
   ],
   "source": [
    "print unicode(u'вщвщчка')\n",
    "#str(u'вщвщчка'.decode('utf_8'))"
   ]
  },
  {
   "cell_type": "code",
   "execution_count": 74,
   "metadata": {
    "collapsed": false,
    "deletable": true,
    "editable": true
   },
   "outputs": [
    {
     "name": "stdout",
     "output_type": "stream",
     "text": [
      "вовочка\n"
     ]
    }
   ],
   "source": [
    "print 'вовочка'.decode('utf-8')"
   ]
  },
  {
   "cell_type": "code",
   "execution_count": 200,
   "metadata": {
    "collapsed": true,
    "deletable": true,
    "editable": true
   },
   "outputs": [],
   "source": [
    "import nltk"
   ]
  },
  {
   "cell_type": "code",
   "execution_count": 217,
   "metadata": {
    "collapsed": false,
    "deletable": true,
    "editable": true
   },
   "outputs": [
    {
     "data": {
      "text/plain": [
       "Index([u'paragraph_id', u'question_id', u'paragraph', u'question', u'target',\n",
       "       u'len_paragraph', u'len_question', u'len_intersection', u'idf_question',\n",
       "       u'idf_paragraph', u'idf_intersection', u'len_paragraph0',\n",
       "       u'len_question0', u'len_intersection0', u'idf_question0',\n",
       "       u'idf_paragraph0', u'idf_intersection0'],\n",
       "      dtype='object')"
      ]
     },
     "execution_count": 217,
     "metadata": {},
     "output_type": "execute_result"
    }
   ],
   "source": [
    "dftrain.columns"
   ]
  },
  {
   "cell_type": "code",
   "execution_count": 253,
   "metadata": {
    "collapsed": false,
    "deletable": true,
    "editable": true
   },
   "outputs": [
    {
     "data": {
      "image/png": "[encoded data removed]",
      "text/plain": [
       "<matplotlib.figure.Figure at 0x7ff5079b2350>"
      ]
     },
     "metadata": {},
     "output_type": "display_data"
    }
   ],
   "source": [
    "plt.figure(figsize=(15,20))\n",
    "bbins = [xx for xx in range(0,1000,10)]\n",
    "plt.subplot(621); plt.hist(dftrain.idf_paragraph,bins=bbins); plt.title('train idf paragraph')\n",
    "plt.subplot(622);plt.hist(dftest.idf_paragraph,bins=bbins);   plt.title('test  idf paragraph') \n",
    "plt.subplot(623); plt.hist(dftrain.idf_question,bins=75);     plt.title('train idf question')\n",
    "plt.subplot(624);plt.hist(dftest.idf_question,bins=75);       plt.title('test  idf question')\n",
    "plt.subplot(625);plt.hist(dftrain.idf_intersection,bins=75);       plt.title('train  idf intersection')\n",
    "plt.subplot(626);plt.hist(dftest.idf_intersection,bins=75);       plt.title('test  idf intersection')\n",
    "\n",
    "plt.subplot(627); plt.hist(dftrain.idf_paragraph0,bins=bbins);plt.title('train idf paragraph0')\n",
    "plt.subplot(628);plt.hist(dftest.idf_paragraph0,bins=bbins);  plt.title('test  idf paragraph0')\n",
    "plt.subplot(629); plt.hist(dftrain.idf_question0,bins=75);    plt.title('train idf question0')\n",
    "plt.subplot(6,2,10);plt.hist(dftest.idf_question0,bins=75);      plt.title('test  idf question0')\n",
    "plt.subplot(6,2,11);plt.hist(dftrain.idf_intersection0,bins=75);      plt.title('train  idf intersection0')\n",
    "plt.subplot(6,2,12);plt.hist(dftest.idf_intersection0,bins=75);      plt.title('test  idf intersection0')\n",
    "\n",
    "plt.show()"
   ]
  },
  {
   "cell_type": "code",
   "execution_count": 252,
   "metadata": {
    "collapsed": false,
    "deletable": true,
    "editable": true
   },
   "outputs": [
    {
     "data": {
      "image/png": "[encoded data removed]",
      "text/plain": [
       "<matplotlib.figure.Figure at 0x7ff4fd716310>"
      ]
     },
     "metadata": {},
     "output_type": "display_data"
    }
   ],
   "source": [
    "plt.figure(figsize=(15,20))\n",
    "bbins = [xx for xx in range(0,500,5)]\n",
    "plt.subplot(621); plt.hist(dftrain.len_paragraph,bins=bbins); plt.title('train len paragraph')\n",
    "plt.subplot(622);plt.hist(dftest.len_paragraph,bins=bbins);   plt.title('test  len paragraph') \n",
    "plt.subplot(623); plt.hist(dftrain.len_question,bins=50);     plt.title('train len question')\n",
    "plt.subplot(624);plt.hist(dftest.len_question,bins=50);       plt.title('test  len question')\n",
    "plt.subplot(625);plt.hist(dftrain.len_intersection,bins=75);       plt.title('train  len intersection')\n",
    "plt.subplot(626);plt.hist(dftest.len_intersection,bins=75);       plt.title('test  len intersection')\n",
    "\n",
    "plt.subplot(627); plt.hist(dftrain.len_paragraph0,bins=bbins);plt.title('train len paragraph0')\n",
    "plt.subplot(628);plt.hist(dftest.len_paragraph0,bins=bbins);  plt.title('test  len paragraph0')\n",
    "plt.subplot(629); plt.hist(dftrain.len_question0,bins=50);    plt.title('train len question0')\n",
    "plt.subplot(6,2,10);plt.hist(dftest.len_question0,bins=50);      plt.title('test  len question0')\n",
    "plt.subplot(6,2,11);plt.hist(dftrain.len_intersection0,bins=75);      plt.title('train  len intersection0')\n",
    "plt.subplot(6,2,12);plt.hist(dftest.len_intersection0,bins=75);      plt.title('test  len intersection0')\n",
    "\n",
    "plt.show()"
   ]
  },
  {
   "cell_type": "code",
   "execution_count": 274,
   "metadata": {
    "collapsed": false,
    "deletable": true,
    "editable": true,
    "scrolled": true
   },
   "outputs": [
    {
     "name": "stdout",
     "output_type": "stream",
     "text": [
      "[11, 22, 33, 44, 55, 66, 77, 88, 99, 10]\n",
      "train=[2 3 4 7 8 9] test=[0 1 5 6]\n",
      "[33 44 55 88 99 10]\n",
      "[11 22 66 77]\n",
      "train=[0 1 4 5 6 9] test=[2 3 7 8]\n",
      "[11 22 55 66 77 10]\n",
      "[33 44 88 99]\n",
      "train=[0 1 2 3 5 6 7 8] test=[4 9]\n",
      "[11 22 33 44 66 77 88 99]\n",
      "[55 10]\n"
     ]
    }
   ],
   "source": [
    "skf = skms.StratifiedKFold(n_splits=3)\n",
    "X = [11,22,33,44,55,66,77,88,99,10]; \n",
    "y = [11,11,11,11,11,22,22,22,22,22]; \n",
    "print(X)\n",
    "for train_index, test_index in skf.split(X,y) :\n",
    "    print 'train={} test={}'.format(train_index,test_index)\n",
    "    print np.array(X)[train_index]\n",
    "    print np.array(X)[test_index]\n"
   ]
  },
  {
   "cell_type": "code",
   "execution_count": 336,
   "metadata": {
    "collapsed": false,
    "deletable": true,
    "editable": true
   },
   "outputs": [
    {
     "data": {
      "text/plain": [
       "(0.99839152723779545,\n",
       " 0.00012748411913640487,\n",
       " array([ 0.99834759,  0.99852797,  0.99835356,  0.99835328,  0.99859732,\n",
       "         0.99834908,  0.99856697,  0.99815247,  0.99832212,  0.99834491]))"
      ]
     },
     "execution_count": 336,
     "metadata": {},
     "output_type": "execute_result"
    }
   ],
   "source": [
    "skf = skms.StratifiedKFold(n_splits=10)\n",
    "import xgboost as xgb\n",
    "columns  = []\n",
    "columns += ['len_paragraph', 'len_question', 'len_intersection', 'idf_question', 'idf_paragraph', 'idf_intersection']\n",
    "columns += ['len_paragraph0', 'len_question0', 'len_intersection0', 'idf_question0', 'idf_paragraph0', 'idf_intersection0']\n",
    "#model = GradientBoostingClassifier()\n",
    "model = xgb.XGBClassifier(learning_rate=0.1, n_estimators=300, silent=True)\n",
    "scores = skms.cross_val_score(model, dftrain[columns], dftrain['target'], cv=skf, scoring='roc_auc');\n",
    "#dftest['prediction']  = model.predict_proba(dftest[columns])[:, 1]\n",
    "#ddftrain = model.predict_proba(dftrain[columns])[:, 1]\n",
    "np.array(scores).mean(), np.array(scores).std(), scores"
   ]
  },
  {
   "cell_type": "code",
   "execution_count": 335,
   "metadata": {
    "collapsed": false,
    "deletable": true,
    "editable": true
   },
   "outputs": [
    {
     "data": {
      "text/plain": [
       "(0.99835128988464183,\n",
       " 0.00013363048368364195,\n",
       " array([ 0.99830495,  0.99850091,  0.99830191,  0.99829347,  0.99856759,\n",
       "         0.99828593,  0.99852408,  0.99809739,  0.99833713,  0.99829954]))"
      ]
     },
     "execution_count": 335,
     "metadata": {},
     "output_type": "execute_result"
    }
   ],
   "source": [
    "np.array(scores).mean(), np.array(scores).std(), scores"
   ]
  }
 ],
 "metadata": {
  "kernelspec": {
   "display_name": "Python 2",
   "language": "python",
   "name": "python2"
  },
  "language_info": {
   "codemirror_mode": {
    "name": "ipython",
    "version": 2
   },
   "file_extension": ".py",
   "mimetype": "text/x-python",
   "name": "python",
   "nbconvert_exporter": "python",
   "pygments_lexer": "ipython2",
   "version": "2.7.13"
  }
 },
 "nbformat": 4,
 "nbformat_minor": 2
}
