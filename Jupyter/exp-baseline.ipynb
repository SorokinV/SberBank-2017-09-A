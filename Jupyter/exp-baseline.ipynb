{
 "cells": [
  {
   "cell_type": "code",
   "execution_count": 1,
   "metadata": {
    "collapsed": true,
    "deletable": true,
    "editable": true
   },
   "outputs": [],
   "source": [
    "# 2017-10-03 baseline (only)                         --> LB=0.78\n",
    "# 2017-10-03 baseline with lemmarization (pymorphy2) --> LB=0.83991\n",
    "# 2017-10-03 baseline + lemmarization (pymorphy2)\n",
    "# 2017-10-04 baseline + lemmarization (pymorphy2) + base\n",
    "# 2017-10-05 baseline + lemmarization (pymorphy2) + base + XGB(natural) --> LB=0.8688\n",
    "# 2017-10-07 baseline + lemmarization (pymorphy2) + base - stopWords XGB(natural) -> 0.8755666207002808\n",
    "#\n",
    "#2017-10-13 + test.paragraph on sentences -> 0.9164478890738156\n",
    "#\n",
    "#"
   ]
  },
  {
   "cell_type": "code",
   "execution_count": 2,
   "metadata": {
    "collapsed": false,
    "deletable": true,
    "editable": true
   },
   "outputs": [],
   "source": [
    "from __future__ import division\n",
    "import sys, os, datetime\n",
    "import pandas as pd\n",
    "from collections import Counter\n",
    "import functools\n",
    "#import tqdm\n",
    "import re\n",
    "import numpy as np\n",
    "import matplotlib.pyplot as plt\n",
    "from sklearn.ensemble import GradientBoostingClassifier\n",
    "import sklearn.metrics as skm\n",
    "import sklearn.model_selection as skms\n",
    "import pymorphy2"
   ]
  },
  {
   "cell_type": "code",
   "execution_count": 3,
   "metadata": {
    "collapsed": false,
    "deletable": true,
    "editable": true
   },
   "outputs": [
    {
     "name": "stderr",
     "output_type": "stream",
     "text": [
      "Using TensorFlow backend.\n"
     ]
    }
   ],
   "source": [
    "import gensim.models.word2vec"
   ]
  },
  {
   "cell_type": "code",
   "execution_count": 4,
   "metadata": {
    "collapsed": false,
    "deletable": true,
    "editable": true
   },
   "outputs": [],
   "source": [
    "#dftrain, dftest = pd.read_csv(\"../Data/train_task1_latest.csv\"), pd.read_csv(\"../Data/test_task1_latest.csv\")\n",
    "dftrain, dftest = pd.read_csv(\"../Work/train_task1_lemma.csv\"), pd.read_csv(\"../Work/test_task1_lemma.csv\")"
   ]
  },
  {
   "cell_type": "code",
   "execution_count": 5,
   "metadata": {
    "collapsed": false,
    "deletable": true,
    "editable": true
   },
   "outputs": [
    {
     "data": {
      "text/plain": [
       "((119398, 13),\n",
       " (74294, 12),\n",
       " ['paragraph_id',\n",
       "  'question_id',\n",
       "  'paragraph',\n",
       "  'question',\n",
       "  'target',\n",
       "  'paragraphL',\n",
       "  'questionL',\n",
       "  'paragraphLS',\n",
       "  'questionLS',\n",
       "  'paragraphLX',\n",
       "  'questionLX',\n",
       "  'paragraphLSX',\n",
       "  'questionLSX'])"
      ]
     },
     "execution_count": 5,
     "metadata": {},
     "output_type": "execute_result"
    }
   ],
   "source": [
    "dftrain.shape, dftest.shape, dftrain.columns.tolist()"
   ]
  },
  {
   "cell_type": "code",
   "execution_count": null,
   "metadata": {
    "collapsed": false,
    "deletable": true,
    "editable": true,
    "scrolled": true
   },
   "outputs": [],
   "source": []
  },
  {
   "cell_type": "code",
   "execution_count": 6,
   "metadata": {
    "collapsed": false,
    "deletable": true,
    "editable": true
   },
   "outputs": [],
   "source": [
    "#@functools.lru_cache(maxsize=2 ** 19)\n",
    "def uniq_words_old_baseline(text):\n",
    "    return set(re.findall(\"\\w+\", text.decode('utf-8'),re.UNICODE))\n",
    "\n",
    "def calculate_idfs_old_baseline(data):\n",
    "    counter_paragraph = Counter()\n",
    "    uniq_paragraphs = data['paragraph'].unique()\n",
    "    for paragraph in uniq_paragraphs : #tqdm.tqdm(uniq_paragraphs, desc=\"calc idf\"):\n",
    "        set_words = uniq_words_old_baseline(paragraph)\n",
    "        counter_paragraph.update(set_words)\n",
    "        \n",
    "    num_docs = uniq_paragraphs.shape[0]\n",
    "    idfs = {}\n",
    "    for word in counter_paragraph:\n",
    "        idfs[word] = np.log(float(num_docs) // counter_paragraph[word])\n",
    "    return idfs"
   ]
  },
  {
   "cell_type": "code",
   "execution_count": 7,
   "metadata": {
    "collapsed": true,
    "deletable": true,
    "editable": true
   },
   "outputs": [],
   "source": [
    "#@functools.lru_cache(maxsize=2 ** 19)\n",
    "def uniq_words(text):\n",
    "    ttext = [mm2.parse(xx)[0].normal_form for xx in re.findall(\"\\w+\", text.decode('utf-8'),re.UNICODE) \n",
    "             if mm2.parse(xx)[0].tag.POS not in {'PREP','CONJ','PRCL','INTJ'}]\n",
    "    return  set(ttext)\n",
    "    #return set(re.findall(\"\\w+\", text.decode('utf-8'),re.UNICODE))\n",
    "\n",
    "def calculate_idfs(data):\n",
    "    counter_paragraph = Counter()\n",
    "    uniq_paragraphs = data['paragraph'].unique()\n",
    "    for paragraph in uniq_paragraphs : #tqdm.tqdm(uniq_paragraphs, desc=\"calc idf\"):\n",
    "        set_words = uniq_words(paragraph)\n",
    "        counter_paragraph.update(set_words)\n",
    "        \n",
    "    num_docs = uniq_paragraphs.shape[0]\n",
    "    idfs = {}\n",
    "    for word in counter_paragraph:\n",
    "        idfs[word] = np.log(float(num_docs) // counter_paragraph[word])\n",
    "    return idfs"
   ]
  },
  {
   "cell_type": "code",
   "execution_count": 8,
   "metadata": {
    "collapsed": true,
    "deletable": true,
    "editable": true
   },
   "outputs": [],
   "source": [
    "#@functools.lru_cache(maxsize=2 ** 19)\n",
    "# add truncate 3 word\n",
    "def uniq_wordsX(text, minLen=3):\n",
    "    ttext = [xx for xx in re.findall(\"\\w+\", text.decode('utf-8'),re.UNICODE) if len(xx)>=minLen]\n",
    "    return set(re.findall(\"\\w+\", text.decode('utf-8'),re.UNICODE))\n",
    "\n",
    "def calculate_idfsX(data, column='paragraph'):\n",
    "    counter_paragraph = Counter()\n",
    "    uniq_paragraphs = data[column].unique()\n",
    "    for paragraph in uniq_paragraphs : #tqdm.tqdm(uniq_paragraphs, desc=\"calc idf\"):\n",
    "        set_words = uniq_wordsX(paragraph)\n",
    "        counter_paragraph.update(set_words)\n",
    "        \n",
    "    num_docs = uniq_paragraphs.shape[0]\n",
    "    idfs = {}\n",
    "    for word in counter_paragraph:\n",
    "        idfs[word] = np.log(float(num_docs) // counter_paragraph[word])\n",
    "    return idfs"
   ]
  },
  {
   "cell_type": "code",
   "execution_count": null,
   "metadata": {
    "collapsed": true,
    "deletable": true,
    "editable": true
   },
   "outputs": [],
   "source": []
  },
  {
   "cell_type": "code",
   "execution_count": 9,
   "metadata": {
    "collapsed": false,
    "deletable": true,
    "editable": true
   },
   "outputs": [],
   "source": [
    "idfs  = calculate_idfsX(dftrain,'paragraphLSX')\n",
    "idfs0 = calculate_idfsX(dftrain,'paragraph')"
   ]
  },
  {
   "cell_type": "code",
   "execution_count": 10,
   "metadata": {
    "collapsed": false,
    "deletable": true,
    "editable": true
   },
   "outputs": [
    {
     "data": {
      "text/html": [
       "<div>\n",
       "<table border=\"1\" class=\"dataframe\">\n",
       "  <thead>\n",
       "    <tr style=\"text-align: right;\">\n",
       "      <th></th>\n",
       "      <th>paragraph_id</th>\n",
       "      <th>question_id</th>\n",
       "      <th>paragraph</th>\n",
       "      <th>question</th>\n",
       "      <th>target</th>\n",
       "      <th>paragraphL</th>\n",
       "      <th>questionL</th>\n",
       "      <th>paragraphLS</th>\n",
       "      <th>questionLS</th>\n",
       "      <th>paragraphLX</th>\n",
       "      <th>questionLX</th>\n",
       "      <th>paragraphLSX</th>\n",
       "      <th>questionLSX</th>\n",
       "    </tr>\n",
       "  </thead>\n",
       "  <tbody>\n",
       "    <tr>\n",
       "      <th>0</th>\n",
       "      <td>1094</td>\n",
       "      <td>46273</td>\n",
       "      <td>В отличие от рыб, земноводные (амфибии) и прес...</td>\n",
       "      <td>С какого года Русское Царство перешло на летои...</td>\n",
       "      <td>0.0</td>\n",
       "      <td>в отличие от рыба , земноводный ( амфибия ) и ...</td>\n",
       "      <td>с какой год русский царство перейти на летоисч...</td>\n",
       "      <td>отличие рыба , земноводный ( амфибия ) пресмык...</td>\n",
       "      <td>год русский царство перейти летоисчисление рож...</td>\n",
       "      <td>отличие рыба , земноводный ( амфибия ) пресмык...</td>\n",
       "      <td>какой год русский царство перейти летоисчислен...</td>\n",
       "      <td>отличие рыба , земноводный ( амфибия ) пресмык...</td>\n",
       "      <td>год русский царство перейти летоисчисление рож...</td>\n",
       "    </tr>\n",
       "  </tbody>\n",
       "</table>\n",
       "</div>"
      ],
      "text/plain": [
       "   paragraph_id  question_id  \\\n",
       "0          1094        46273   \n",
       "\n",
       "                                           paragraph  \\\n",
       "0  В отличие от рыб, земноводные (амфибии) и прес...   \n",
       "\n",
       "                                            question  target  \\\n",
       "0  С какого года Русское Царство перешло на летои...     0.0   \n",
       "\n",
       "                                          paragraphL  \\\n",
       "0  в отличие от рыба , земноводный ( амфибия ) и ...   \n",
       "\n",
       "                                           questionL  \\\n",
       "0  с какой год русский царство перейти на летоисч...   \n",
       "\n",
       "                                         paragraphLS  \\\n",
       "0  отличие рыба , земноводный ( амфибия ) пресмык...   \n",
       "\n",
       "                                          questionLS  \\\n",
       "0  год русский царство перейти летоисчисление рож...   \n",
       "\n",
       "                                         paragraphLX  \\\n",
       "0  отличие рыба , земноводный ( амфибия ) пресмык...   \n",
       "\n",
       "                                          questionLX  \\\n",
       "0  какой год русский царство перейти летоисчислен...   \n",
       "\n",
       "                                        paragraphLSX  \\\n",
       "0  отличие рыба , земноводный ( амфибия ) пресмык...   \n",
       "\n",
       "                                         questionLSX  \n",
       "0  год русский царство перейти летоисчисление рож...  "
      ]
     },
     "execution_count": 10,
     "metadata": {},
     "output_type": "execute_result"
    }
   ],
   "source": [
    "dftrain[:1]"
   ]
  },
  {
   "cell_type": "code",
   "execution_count": 11,
   "metadata": {
    "collapsed": false,
    "deletable": true,
    "editable": true
   },
   "outputs": [],
   "source": [
    "#print(dftrain.paragraph[0])"
   ]
  },
  {
   "cell_type": "code",
   "execution_count": 12,
   "metadata": {
    "collapsed": false,
    "deletable": true,
    "editable": true
   },
   "outputs": [],
   "source": [
    "#paragraph = uniq_words(str(dftrain.paragraph[0]));\n",
    "#print len(paragraph)\n",
    "#for xx in paragraph : print xx"
   ]
  },
  {
   "cell_type": "code",
   "execution_count": 13,
   "metadata": {
    "collapsed": true,
    "deletable": true,
    "editable": true
   },
   "outputs": [],
   "source": [
    "def newFields (paragraph, question) :\n",
    "    return(len(paragraph), \\\n",
    "           len(question), \\\n",
    "           len(paragraph & question), \\\n",
    "           np.sum([idfs.get(word, 0.0) for word in question]), \\\n",
    "           np.sum([idfs.get(word, 0.0) for word in paragraph]), \\\n",
    "           np.sum([idfs.get(word, 0.0) for word in paragraph & question]), \\\n",
    "           float(len(paragraph & question))/len(question), \\\n",
    "           np.sum([idfs.get(word, 0.0) for word in paragraph & question])/(np.sum([idfs.get(word, 0.0) for word in question]))\n",
    "          )"
   ]
  },
  {
   "cell_type": "code",
   "execution_count": null,
   "metadata": {
    "collapsed": true,
    "deletable": true,
    "editable": true
   },
   "outputs": [],
   "source": []
  },
  {
   "cell_type": "code",
   "execution_count": 70,
   "metadata": {
    "collapsed": false,
    "deletable": true,
    "editable": true
   },
   "outputs": [
    {
     "name": "stdout",
     "output_type": "stream",
     "text": [
      "387384\n"
     ]
    }
   ],
   "source": [
    "sentences  = dftrain['paragraphL'].tolist()+dftrain.questionL.tolist()\n",
    "sentences += dftest ['paragraphL'].tolist()+dftest.questionL.tolist()\n",
    "sentences = [[ss.decode('utf-8') for ss in s.split(' ')] for s in sentences]\n",
    "print len(sentences) #, sentences[0]"
   ]
  },
  {
   "cell_type": "code",
   "execution_count": 71,
   "metadata": {
    "collapsed": false,
    "deletable": true,
    "editable": true,
    "scrolled": true
   },
   "outputs": [
    {
     "name": "stdout",
     "output_type": "stream",
     "text": [
      "2017-10-28 22:36:32.687718\n",
      "2017-10-28 22:38:03.090958\n"
     ]
    }
   ],
   "source": [
    "print datetime.datetime.now()\n",
    "model = gensim.models.word2vec.Word2Vec(sentences, size=100, window=5, workers=4, min_count=1)\n",
    "wv    = model.wv\n",
    "print datetime.datetime.now()"
   ]
  },
  {
   "cell_type": "code",
   "execution_count": 14,
   "metadata": {
    "collapsed": false,
    "deletable": true,
    "editable": true
   },
   "outputs": [],
   "source": [
    "if 0 : model.save(\"../Work/model_word2vec1\"); wv=model.wv\n",
    "if 1 : model = gensim.models.Word2Vec.load(\"../Work/model_word2vec1\"); wv=model.wv"
   ]
  },
  {
   "cell_type": "code",
   "execution_count": 89,
   "metadata": {
    "collapsed": true,
    "deletable": true,
    "editable": true
   },
   "outputs": [],
   "source": [
    "#dftrain, dftest = dftrain[:10], dftest[:10]"
   ]
  },
  {
   "cell_type": "code",
   "execution_count": 90,
   "metadata": {
    "collapsed": false,
    "deletable": true,
    "editable": true
   },
   "outputs": [
    {
     "name": "stdout",
     "output_type": "stream",
     "text": [
      "2017-10-28 22:42:53.013701 train 0\n"
     ]
    },
    {
     "name": "stderr",
     "output_type": "stream",
     "text": [
      "/home/boba/anaconda2/envs/tensorflow-gpu/lib/python2.7/site-packages/ipykernel/__main__.py:2: RuntimeWarning: invalid value encountered in double_scalars\n",
      "  from ipykernel import kernelapp as app\n"
     ]
    },
    {
     "name": "stdout",
     "output_type": "stream",
     "text": [
      "2017-10-28 22:44:19.221139 train 10000\n",
      "2017-10-28 22:45:44.047272 train 20000\n",
      "2017-10-28 22:47:08.835014 train 30000\n",
      "2017-10-28 22:48:33.525922 train 40000\n",
      "2017-10-28 22:49:58.334802 train 50000\n",
      "2017-10-28 22:51:23.094230 train 60000\n",
      "2017-10-28 22:52:48.533665 train 70000\n",
      "2017-10-28 22:54:13.613604 train 80000\n",
      "2017-10-28 22:55:39.304092 train 90000\n",
      "2017-10-28 22:57:05.651603 train 100000\n",
      "2017-10-28 22:58:32.980087 train 110000\n",
      "2017-10-28 22:59:52.808988 test 0\n",
      "2017-10-28 23:01:03.190880 test 10000\n",
      "2017-10-28 23:02:13.163503 test 20000\n",
      "2017-10-28 23:03:24.513366 test 30000\n",
      "2017-10-28 23:04:36.479233 test 40000\n",
      "2017-10-28 23:05:47.459065 test 50000\n",
      "2017-10-28 23:06:57.841059 test 60000\n",
      "2017-10-28 23:08:08.358619 test 70000\n"
     ]
    }
   ],
   "source": [
    "for name, df in [('train', dftrain), ('test', dftest)]:\n",
    "    for index, row in df.iterrows() : #tqdm.tqdm(df.iterrows(), total=df.shape[0], desc=\"build features for \" + name):\n",
    "        \n",
    "        if index%10000==0 : print datetime.datetime.now(), name, index\n",
    "        \n",
    "        question  = uniq_wordsX(row.questionLSX)\n",
    "        paragraph = uniq_wordsX(row.paragraphLSX)\n",
    "        PQ        = newFields (paragraph, question) \n",
    "        ##print index,PQ\n",
    "        df.loc[index, 'len_paragraph']    = PQ[0]\n",
    "        df.loc[index, 'len_question']     = PQ[1]\n",
    "        df.loc[index, 'len_intersection'] = PQ[2]\n",
    "        df.loc[index, 'idf_question']     = PQ[3]\n",
    "        df.loc[index, 'idf_paragraph']    = PQ[4]\n",
    "        df.loc[index, 'idf_intersection'] = PQ[5]\n",
    "        \n",
    "        df.loc[index, 'len_intNorm']      = PQ[6]\n",
    "        df.loc[index, 'idf_intNorm']      = PQ[7]\n",
    "        \n",
    "        pp                    = [unicode(ppx,'utf-8') for ppx in row.paragraphLSX.split()]\n",
    "        qq                    = [unicode(qqx,'utf-8') for qqx in row.questionLSX.split()]\n",
    "        try    : w2v = wv.n_similarity(pp,qq)\n",
    "        except : w2v = -2.0\n",
    "            \n",
    "        #for ppx in pp : print ppx, wv[ppx].shape\n",
    "            \n",
    "        df.loc[index, 'w2v_pqf'] = w2v\n",
    "            \n",
    "        #print w2v,pp,qq\n",
    "\n",
    "        \n",
    "        question  = uniq_wordsX(row.question)\n",
    "        paragraph = uniq_wordsX(row.paragraph)\n",
    "        PQ        = newFields (paragraph, question) \n",
    "        df.loc[index, 'len_paragraph0']    = PQ[0]\n",
    "        df.loc[index, 'len_question0']     = PQ[1]\n",
    "        df.loc[index, 'len_intersection0'] = PQ[2]\n",
    "        df.loc[index, 'idf_question0']     = PQ[3]\n",
    "        df.loc[index, 'idf_paragraph0']    = PQ[4]\n",
    "        df.loc[index, 'idf_intersection0'] = PQ[5]\n",
    "        \n",
    "        df.loc[index, 'len_intNorm0']      = PQ[6]\n",
    "        df.loc[index, 'idf_intNorm0']      = PQ[7]\n"
   ]
  },
  {
   "cell_type": "code",
   "execution_count": 91,
   "metadata": {
    "collapsed": false,
    "deletable": true,
    "editable": true
   },
   "outputs": [
    {
     "data": {
      "text/plain": [
       "(Index([u'paragraph_id', u'question_id', u'paragraph', u'question', u'target',\n",
       "        u'paragraphL', u'questionL', u'paragraphLS', u'questionLS',\n",
       "        u'paragraphLX', u'questionLX', u'paragraphLSX', u'questionLSX',\n",
       "        u'len_paragraph', u'len_question', u'len_intersection', u'idf_question',\n",
       "        u'idf_paragraph', u'idf_intersection', u'len_intNorm', u'idf_intNorm',\n",
       "        u'w2v_pqf', u'len_paragraph0', u'len_question0', u'len_intersection0',\n",
       "        u'idf_question0', u'idf_paragraph0', u'idf_intersection0',\n",
       "        u'len_intNorm0', u'idf_intNorm0'],\n",
       "       dtype='object'),\n",
       " Index([u'paragraph_id', u'question_id', u'paragraph', u'question',\n",
       "        u'paragraphL', u'questionL', u'paragraphLS', u'questionLS',\n",
       "        u'paragraphLX', u'questionLX', u'paragraphLSX', u'questionLSX',\n",
       "        u'len_paragraph', u'len_question', u'len_intersection', u'idf_question',\n",
       "        u'idf_paragraph', u'idf_intersection', u'len_intNorm', u'idf_intNorm',\n",
       "        u'w2v_pqf', u'len_paragraph0', u'len_question0', u'len_intersection0',\n",
       "        u'idf_question0', u'idf_paragraph0', u'idf_intersection0',\n",
       "        u'len_intNorm0', u'idf_intNorm0'],\n",
       "       dtype='object'))"
      ]
     },
     "execution_count": 91,
     "metadata": {},
     "output_type": "execute_result"
    }
   ],
   "source": [
    "dftrain.columns, dftest.columns"
   ]
  },
  {
   "cell_type": "code",
   "execution_count": 206,
   "metadata": {
    "collapsed": true,
    "deletable": true,
    "editable": true
   },
   "outputs": [],
   "source": [
    "if 0 : \n",
    "    dftrain.to_csv(\"../Work/train_task1_compute.csv\",index=False)\n",
    "    dftest.to_csv (\"../Work/test_task1_compute.csv\",index=False)\n",
    "if 1 : \n",
    "    dftrain, dftest = pd.read_csv(\"../Work/train_task1_compute.csv\"), pd.read_csv(\"../Work/test_task1_compute.csv\")"
   ]
  },
  {
   "cell_type": "code",
   "execution_count": null,
   "metadata": {
    "collapsed": false,
    "deletable": true,
    "editable": true
   },
   "outputs": [],
   "source": []
  },
  {
   "cell_type": "code",
   "execution_count": 198,
   "metadata": {
    "collapsed": false,
    "deletable": true,
    "editable": true
   },
   "outputs": [
    {
     "data": {
      "image/png": "[encoded data removed]",
      "text/plain": [
       "<matplotlib.figure.Figure at 0x7f4d4368bbd0>"
      ]
     },
     "metadata": {},
     "output_type": "display_data"
    },
    {
     "data": {
      "image/png": "[encoded data removed]",
      "text/plain": [
       "<matplotlib.figure.Figure at 0x7f4d43c1f2d0>"
      ]
     },
     "metadata": {},
     "output_type": "display_data"
    },
    {
     "data": {
      "image/png": "[encoded data removed]",
      "text/plain": [
       "<matplotlib.figure.Figure at 0x7f4d443e29d0>"
      ]
     },
     "metadata": {},
     "output_type": "display_data"
    },
    {
     "data": {
      "text/plain": [
       "(-2.0, 0.99939991842700004, 0.99929059724900005, 3087, 803)"
      ]
     },
     "execution_count": 198,
     "metadata": {},
     "output_type": "execute_result"
    }
   ],
   "source": [
    "plt.hist(dftrain.w2v_pqf,bins=100); plt.show()\n",
    "plt.figure(figsize=(15,5))\n",
    "plt.subplot(131);\n",
    "plt.hist(dftrain.w2v_pqf[dftrain.target==0],bins=100);\n",
    "plt.hist(dftrain.w2v_pqf[dftrain.target==1],bins=100);\n",
    "plt.subplot(132);\n",
    "plt.hist(dftrain.w2v_pqf[dftrain.target==0],bins=100);\n",
    "plt.subplot(133);\n",
    "plt.hist(dftrain.w2v_pqf[dftrain.target==1],bins=100); \n",
    "plt.show()\n",
    "plt.hist(dftest.w2v_pqf,bins=100); plt.show()\n",
    "dftrain.w2v_pqf.min(),dftrain.w2v_pqf.max(),dftest.w2v_pqf.max(), len(dftrain[dftrain.w2v_pqf==-2]), len(dftest[dftest.w2v_pqf==-2])"
   ]
  },
  {
   "cell_type": "code",
   "execution_count": 199,
   "metadata": {
    "collapsed": false,
    "deletable": true,
    "editable": true
   },
   "outputs": [
    {
     "data": {
      "text/plain": [
       "((119398, 30), (74294, 29))"
      ]
     },
     "execution_count": 199,
     "metadata": {},
     "output_type": "execute_result"
    }
   ],
   "source": [
    "dftrain.shape,dftest.shape"
   ]
  },
  {
   "cell_type": "code",
   "execution_count": 200,
   "metadata": {
    "collapsed": false,
    "deletable": true,
    "editable": true
   },
   "outputs": [],
   "source": [
    "# Build word2vec model 2"
   ]
  },
  {
   "cell_type": "code",
   "execution_count": 201,
   "metadata": {
    "collapsed": false,
    "deletable": true,
    "editable": true
   },
   "outputs": [
    {
     "name": "stdout",
     "output_type": "stream",
     "text": [
      "1610230\n"
     ]
    }
   ],
   "source": [
    "sentences  = dftrain['paragraphL'].tolist()\n",
    "sentences += dftest ['paragraphL'].tolist()\n",
    "\n",
    "ps = []\n",
    "for ps1 in sentences : ps.extend(ps1.split('.'))\n",
    "sentences = ps; del ps, ps1\n",
    "\n",
    "sentences += dftrain.questionL.tolist()\n",
    "sentences += dftest.questionL.tolist()\n",
    "sentences = [[ss.decode('utf-8') for ss in s.split(' ')] for s in sentences]\n",
    "print len(sentences) #, sentences[0]"
   ]
  },
  {
   "cell_type": "code",
   "execution_count": null,
   "metadata": {
    "collapsed": false,
    "deletable": true,
    "editable": true
   },
   "outputs": [],
   "source": []
  },
  {
   "cell_type": "code",
   "execution_count": 202,
   "metadata": {
    "collapsed": false,
    "deletable": true,
    "editable": true,
    "scrolled": true
   },
   "outputs": [
    {
     "name": "stdout",
     "output_type": "stream",
     "text": [
      "2017-10-30 00:50:35.199235\n",
      "2017-10-30 00:52:12.528671\n"
     ]
    }
   ],
   "source": [
    "print datetime.datetime.now()\n",
    "model2 = gensim.models.word2vec.Word2Vec(sentences, size=100, window=5, workers=4, min_count=1)\n",
    "wv    = model2.wv\n",
    "print datetime.datetime.now()"
   ]
  },
  {
   "cell_type": "code",
   "execution_count": 203,
   "metadata": {
    "collapsed": false,
    "deletable": true,
    "editable": true
   },
   "outputs": [],
   "source": [
    "if 0: model2.save(\"../Work/model_word2vec2\"); wv=model2.wv\n",
    "if 1: model2 = gensim.models.Word2Vec.load(\"../Work/model_word2vec2\"); wv=model2.wv"
   ]
  },
  {
   "cell_type": "code",
   "execution_count": null,
   "metadata": {
    "collapsed": false,
    "deletable": true,
    "editable": true
   },
   "outputs": [],
   "source": []
  },
  {
   "cell_type": "code",
   "execution_count": null,
   "metadata": {
    "collapsed": true,
    "deletable": true,
    "editable": true
   },
   "outputs": [],
   "source": []
  },
  {
   "cell_type": "code",
   "execution_count": 207,
   "metadata": {
    "collapsed": false,
    "deletable": true,
    "editable": true
   },
   "outputs": [
    {
     "name": "stdout",
     "output_type": "stream",
     "text": [
      "2017-10-30 01:24:57.352832 train 0\n"
     ]
    },
    {
     "name": "stderr",
     "output_type": "stream",
     "text": [
      "/home/boba/anaconda2/envs/tensorflow-gpu/lib/python2.7/site-packages/ipykernel/__main__.py:2: RuntimeWarning: invalid value encountered in double_scalars\n",
      "  from ipykernel import kernelapp as app\n"
     ]
    },
    {
     "name": "stdout",
     "output_type": "stream",
     "text": [
      "2017-10-30 01:27:48.338335 train 10000\n",
      "2017-10-30 01:30:35.429057 train 20000\n",
      "2017-10-30 01:33:26.456201 train 30000\n",
      "2017-10-30 01:36:12.521536 train 40000\n",
      "2017-10-30 01:38:55.775586 train 50000\n",
      "2017-10-30 01:41:31.818297 train 60000\n",
      "2017-10-30 01:44:08.862569 train 70000\n",
      "2017-10-30 01:46:44.233350 train 80000\n",
      "2017-10-30 01:49:21.983056 train 90000\n",
      "2017-10-30 01:51:53.975328 train 100000\n",
      "2017-10-30 01:54:26.305317 train 110000\n",
      "2017-10-30 01:57:38.155922 test 0\n",
      "2017-10-30 02:00:49.149095 test 10000\n",
      "2017-10-30 02:04:03.961630 test 20000\n",
      "2017-10-30 02:07:15.467097 test 30000\n",
      "2017-10-30 02:10:19.956473 test 40000\n",
      "2017-10-30 02:13:20.062260 test 50000\n",
      "2017-10-30 02:16:19.606852 test 60000\n",
      "2017-10-30 02:19:18.993211 test 70000\n"
     ]
    }
   ],
   "source": [
    "dftrain['w2v_wmd'] = -2.0\n",
    "dftest ['w2v_wmd'] = -2.0\n",
    "\n",
    "for name, df in [('train', dftrain), ('test', dftest)]:\n",
    "    df1 = []; \n",
    "    for index, row0 in df.iterrows() : #tqdm.tqdm(df.iterrows(), total=df.shape[0], desc=\"build features for \" + name):\n",
    "        \n",
    "        if index%10000==0 : print datetime.datetime.now(), name, index\n",
    "            \n",
    "        pars  = row0.paragraphLSX.split('.')\n",
    "        pars0 = row0.paragraph.split('.')\n",
    "        if len(pars)<1 : continue;\n",
    "        \n",
    "        for par0,par1 in zip(pars0,pars) :\n",
    "            if len(par1)<=1 : continue\n",
    "            row1 = row0.copy(); \n",
    "            \n",
    "            row1.paragraph    = par0\n",
    "            row1.paragraphLSX = par1\n",
    "            \n",
    "            #print(row1.paragraph)\n",
    "            #print(row1.question)\n",
    "            \n",
    "            question  = uniq_wordsX(row1.questionLSX)\n",
    "            paragraph = uniq_wordsX(row1.paragraphLSX)\n",
    "            PQ        = newFields (paragraph, question) \n",
    "            row1.len_paragraph    = PQ[0]\n",
    "            row1.len_question     = PQ[1]\n",
    "            row1.len_intersection = PQ[2]\n",
    "            row1.idf_question     = PQ[3]\n",
    "            row1.idf_paragraph    = PQ[4]\n",
    "            row1.idf_intersection = PQ[5]\n",
    "\n",
    "            row1.len_intNorm      = PQ[6]\n",
    "            row1.idf_intNorm      = PQ[7]\n",
    "            \n",
    "            '''\n",
    "            pp                    = row1.paragraphLSX.split()\n",
    "            qq                    = row1.questionLSX.split()\n",
    "            '''\n",
    "            pp                    = [unicode(ppx,'utf-8') for ppx in row1.paragraphLSX.split()]\n",
    "            qq                    = [unicode(qqx,'utf-8') for qqx in row1.questionLSX.split()]\n",
    "            try    : row1.w2v_pqf = wv.n_similarity(pp,qq)\n",
    "            except : row1.w2v_pqf = -2.0\n",
    "            \n",
    "            row1.w2v_wmd = model2.wmdistance(pp,qq)\n",
    "            \n",
    "            '''\n",
    "            question  = uniq_wordsX(row1.question)\n",
    "            paragraph = uniq_wordsX(row1.paragraph)\n",
    "            PQ        = newFields (paragraph, question) \n",
    "            row1.len_paragraph0   = PQ[0]\n",
    "            row1.len_question0    = PQ[1]\n",
    "            row1.len_intersection0= PQ[2]\n",
    "            row1.idf_question0    = PQ[3]\n",
    "            row1.idf_paragraph0   = PQ[4]\n",
    "            row1.idf_intersection0= PQ[5]\n",
    "\n",
    "            row1.len_intNorm0     = PQ[6]\n",
    "            '''\n",
    "            \n",
    "            df1.append(row1)\n",
    "        \n",
    "    df1 = pd.DataFrame.from_dict(df1)\n",
    "    if name=='train' :    dftrain  = df1; #dftrain.append(df1)\n",
    "    if name=='test'  :    dftest   = df1; #dftest.append(df1)"
   ]
  },
  {
   "cell_type": "code",
   "execution_count": 210,
   "metadata": {
    "collapsed": false,
    "deletable": true,
    "editable": true
   },
   "outputs": [],
   "source": [
    "if 0 : \n",
    "    dftrain.to_csv(\"../Work/train_task2_compute.csv\",index=False)\n",
    "    dftest.to_csv (\"../Work/test_task2_compute.csv\",index=False)\n",
    "if 0 : \n",
    "    dftrain, dftest = pd.read_csv(\"../Work/train_task2_compute.csv\"), pd.read_csv(\"../Work/test_task2_compute.csv\")"
   ]
  },
  {
   "cell_type": "code",
   "execution_count": 211,
   "metadata": {
    "collapsed": false,
    "deletable": true,
    "editable": true,
    "scrolled": true
   },
   "outputs": [
    {
     "name": "stdout",
     "output_type": "stream",
     "text": [
      "(491449, 30) (728004, 31) Index([u'paragraph_id', u'question_id', u'paragraph', u'question', u'target',\n",
      "       u'paragraphL', u'questionL', u'paragraphLS', u'questionLS',\n",
      "       u'paragraphLX', u'questionLX', u'paragraphLSX', u'questionLSX',\n",
      "       u'len_paragraph', u'len_question', u'len_intersection', u'idf_question',\n",
      "       u'idf_paragraph', u'idf_intersection', u'len_intNorm', u'idf_intNorm',\n",
      "       u'w2v_pqf', u'len_paragraph0', u'len_question0', u'len_intersection0',\n",
      "       u'idf_question0', u'idf_paragraph0', u'idf_intersection0',\n",
      "       u'len_intNorm0', u'idf_intNorm0', u'w2v_wmd'],\n",
      "      dtype='object')\n"
     ]
    }
   ],
   "source": [
    "#row0,row1, \n",
    "print dftest.shape, dftrain.shape, dftrain.columns"
   ]
  },
  {
   "cell_type": "code",
   "execution_count": 213,
   "metadata": {
    "collapsed": false,
    "deletable": true,
    "editable": true
   },
   "outputs": [
    {
     "name": "stdout",
     "output_type": "stream",
     "text": [
      "   paragraph_id  question_id   w2v_pqf  \\\n",
      "0          1094        46273 -0.118476   \n",
      "1          1094        46273 -0.146894   \n",
      "2          1094        46273 -0.012285   \n",
      "3          1094        46273 -0.207394   \n",
      "4          7414        19164  0.053771   \n",
      "\n",
      "                                           paragraph  \\\n",
      "0  В отличие от рыб, земноводные (амфибии) и прес...   \n",
      "1   Единственные современные рептилии, имеющие хо...   \n",
      "2   Считается, что впервые четырёхкамерное сердце...   \n",
      "3   В дальнейшем такое строение сердца унаследова...   \n",
      "4  В 1049 году Балдуину V удалось отнять у Герман...   \n",
      "\n",
      "                                            question  target  \\\n",
      "0  С какого года Русское Царство перешло на летои...     0.0   \n",
      "1  С какого года Русское Царство перешло на летои...     0.0   \n",
      "2  С какого года Русское Царство перешло на летои...     0.0   \n",
      "3  С какого года Русское Царство перешло на летои...     0.0   \n",
      "4  Кто упомянул о его первых разногласиях со Штей...     0.0   \n",
      "\n",
      "                                          paragraphL  \\\n",
      "0  в отличие от рыба , земноводный ( амфибия ) и ...   \n",
      "1  в отличие от рыба , земноводный ( амфибия ) и ...   \n",
      "2  в отличие от рыба , земноводный ( амфибия ) и ...   \n",
      "3  в отличие от рыба , земноводный ( амфибия ) и ...   \n",
      "4  в 1049 год балдуин v удаться отнять у германия...   \n",
      "\n",
      "                                           questionL  \\\n",
      "0  с какой год русский царство перейти на летоисч...   \n",
      "1  с какой год русский царство перейти на летоисч...   \n",
      "2  с какой год русский царство перейти на летоисч...   \n",
      "3  с какой год русский царство перейти на летоисч...   \n",
      "4  кто упомянуть о он один разногласие с штейнбер...   \n",
      "\n",
      "                                         paragraphLS  \\\n",
      "0  отличие рыба , земноводный ( амфибия ) пресмык...   \n",
      "1  отличие рыба , земноводный ( амфибия ) пресмык...   \n",
      "2  отличие рыба , земноводный ( амфибия ) пресмык...   \n",
      "3  отличие рыба , земноводный ( амфибия ) пресмык...   \n",
      "4  1049 год балдуин v удаться отнять германия час...   \n",
      "\n",
      "                                          questionLS   ...    len_paragraph0  \\\n",
      "0  год русский царство перейти летоисчисление рож...   ...              67.0   \n",
      "1  год русский царство перейти летоисчисление рож...   ...              67.0   \n",
      "2  год русский царство перейти летоисчисление рож...   ...              67.0   \n",
      "3  год русский царство перейти летоисчисление рож...   ...              67.0   \n",
      "4  упомянуть разногласие штейнберг : педагог хоте...   ...              89.0   \n",
      "\n",
      "  len_question0 len_intersection0 idf_question0  idf_paragraph0  \\\n",
      "0          19.0               3.0     64.468480       96.719371   \n",
      "1          19.0               3.0     64.468480       96.719371   \n",
      "2          19.0               3.0     64.468480       96.719371   \n",
      "3          19.0               3.0     64.468480       96.719371   \n",
      "4          31.0               3.0     55.066761      138.228800   \n",
      "\n",
      "   idf_intersection0  len_intNorm0  idf_intNorm0    w2v_wmd  ttarget  \n",
      "0          18.737052      0.157895      0.290639  22.481668      0.0  \n",
      "1          18.737052      0.157895      0.290639  22.801886      0.0  \n",
      "2          18.737052      0.157895      0.290639  22.082133      0.0  \n",
      "3          18.737052      0.157895      0.290639  24.243703      0.0  \n",
      "4          12.668737      0.096774      0.230061  20.734930      0.0  \n",
      "\n",
      "[5 rows x 32 columns]\n"
     ]
    }
   ],
   "source": [
    "dfgroup=dftrain[dftrain.target==1][['paragraph_id','question_id','w2v_pqf']].groupby(['paragraph_id','question_id'])\n",
    "dfw2v  =dfgroup.max()\n",
    "dff    =dftrain.copy()\n",
    "#print dff.shape\n",
    "dff = dff.set_index(['paragraph_id','question_id','w2v_pqf'])\n",
    "#print dff.head()\n",
    "dff['ttarget']   = 0.0\n",
    "dfw2v['ttarget'] = 1.0\n",
    "dfw2v = dfw2v.reset_index().set_index(['paragraph_id','question_id','w2v_pqf'])\n",
    "dff.ttarget = dfw2v.ttarget \n",
    "########### ????????????????????? dff = dff.fillna(0.0)\n",
    "dff.loc[dff.target==0.0,'ttarget'] = 0.0 \n",
    "dff = dff.dropna()\n",
    "#print dfw2v.head(30)\n",
    "#print dff.ttarget.mean()\n",
    "dff = dff.reset_index()\n",
    "print dff.head()\n",
    "dftrain = dff.copy()\n",
    "dftrain.target = dftrain.ttarget\n",
    "#print dftrain.head()\n",
    "#plt.hist(dfw2v.w2v_pq1,bins=100); plt.show()"
   ]
  },
  {
   "cell_type": "code",
   "execution_count": 214,
   "metadata": {
    "collapsed": false
   },
   "outputs": [
    {
     "data": {
      "text/plain": [
       "(array([ 0.,  1.]), (552813, 32), 0.05563183210235649)"
      ]
     },
     "execution_count": 214,
     "metadata": {},
     "output_type": "execute_result"
    }
   ],
   "source": [
    "dftrain.loc[(np.isinf(dftrain.w2v_wmd)),'w2v_wmd']=-2\n",
    "dftrain[(np.isinf(dftrain.w2v_wmd))].head()\n",
    "dftrain.target.unique(), dftrain.shape, dftrain.target.mean()"
   ]
  },
  {
   "cell_type": "code",
   "execution_count": 215,
   "metadata": {
    "collapsed": false,
    "deletable": true,
    "editable": true,
    "scrolled": false
   },
   "outputs": [
    {
     "data": {
      "image/png": "[encoded data removed]",
      "text/plain": [
       "<matplotlib.figure.Figure at 0x7f4d902adad0>"
      ]
     },
     "metadata": {},
     "output_type": "display_data"
    },
    {
     "data": {
      "image/png": "[encoded data removed]",
      "text/plain": [
       "<matplotlib.figure.Figure at 0x7f4d90bd6110>"
      ]
     },
     "metadata": {},
     "output_type": "display_data"
    },
    {
     "data": {
      "image/png": "[encoded data removed]",
      "text/plain": [
       "<matplotlib.figure.Figure at 0x7f4d902adc10>"
      ]
     },
     "metadata": {},
     "output_type": "display_data"
    },
    {
     "data": {
      "image/png": "[encoded data removed]",
      "text/plain": [
       "<matplotlib.figure.Figure at 0x7f4d6254d0d0>"
      ]
     },
     "metadata": {},
     "output_type": "display_data"
    },
    {
     "data": {
      "text/plain": [
       "(-0.52334370769589167, 1.0, 0.99926666352040761, 0, 6)"
      ]
     },
     "execution_count": 215,
     "metadata": {},
     "output_type": "execute_result"
    }
   ],
   "source": [
    "plt.hist(dftrain.w2v_wmd,bins=100); plt.show()\n",
    "plt.hist(dftrain.w2v_pqf,bins=100); plt.show()\n",
    "plt.figure(figsize=(15,5))\n",
    "plt.subplot(131);\n",
    "plt.hist(dftrain.w2v_pqf[dftrain.target==0],bins=100);\n",
    "plt.hist(dftrain.w2v_pqf[dftrain.target==1],bins=100);\n",
    "plt.subplot(132);\n",
    "plt.hist(dftrain.w2v_pqf[dftrain.target==0],bins=100);\n",
    "plt.subplot(133);\n",
    "plt.hist(dftrain.w2v_pqf[dftrain.target==1],bins=100); \n",
    "plt.show()\n",
    "plt.hist(dftest.w2v_pqf,bins=100); plt.show()\n",
    "dftrain.w2v_pqf.min(),dftrain.w2v_pqf.max(),dftest.w2v_pqf.max(), len(dftrain[dftrain.w2v_pqf==-2]), len(dftest[dftest.w2v_pqf==-2])"
   ]
  },
  {
   "cell_type": "code",
   "execution_count": 219,
   "metadata": {
    "collapsed": false,
    "deletable": true,
    "editable": true
   },
   "outputs": [
    {
     "name": "stderr",
     "output_type": "stream",
     "text": [
      "/home/boba/anaconda2/envs/tensorflow-gpu/lib/python2.7/site-packages/ipykernel/__main__.py:1: UserWarning: Boolean Series key will be reindexed to match DataFrame index.\n",
      "  if __name__ == '__main__':\n"
     ]
    }
   ],
   "source": [
    "xx = dftrain[dftrain.w2v_pqf==-2][dftrain.target==1]\n",
    "xx.shape\n",
    "for ii,row1 in xx[:5].iterrows() :\n",
    "        pp                    = row1.paragraphLSX.split()\n",
    "        qq                    = row1.questionLSX.split()\n",
    "        for ppx in pp :\n",
    "            for qqx in qq :\n",
    "                try : w2v_pqf = wv.similarity(unicode(ppx,'utf-8'),unicode(qqx,'utf-8'))\n",
    "                except : print ppx,qqx"
   ]
  },
  {
   "cell_type": "code",
   "execution_count": null,
   "metadata": {
    "collapsed": true,
    "deletable": true,
    "editable": true
   },
   "outputs": [],
   "source": []
  },
  {
   "cell_type": "code",
   "execution_count": 220,
   "metadata": {
    "collapsed": true,
    "deletable": true,
    "editable": true
   },
   "outputs": [],
   "source": [
    "dftrain['len_queNorm']  = dftrain.len_question/dftrain.len_paragraph\n",
    "dftrain['len_queNorm0'] = dftrain.len_question0/dftrain.len_paragraph0\n",
    "dftest['len_queNorm']   = dftest.len_question/dftest.len_paragraph\n",
    "dftest['len_queNorm0']  = dftest.len_question0/dftest.len_paragraph0\n",
    "\n",
    "dftrain['idf_queNorm']  = dftrain.idf_question/dftrain.idf_paragraph\n",
    "dftrain['idf_queNorm0'] = dftrain.idf_question0/dftrain.idf_paragraph0\n",
    "dftest['idf_queNorm']   = dftest.idf_question/dftest.idf_paragraph\n",
    "dftest['idf_queNorm0']  = dftest.idf_question0/dftest.idf_paragraph0\n",
    "\n",
    "dftrain['len_queIntNorm']  = dftrain.len_intNorm*dftrain.len_queNorm\n",
    "dftrain['len_queIntNorm0'] = dftrain.len_intNorm0*dftrain.len_queNorm0\n",
    "dftest ['len_queIntNorm']  = dftest.len_intNorm*dftest.len_queNorm\n",
    "dftest ['len_queIntNorm0'] = dftest.len_intNorm0*dftest.len_queNorm0\n",
    "\n",
    "dftrain['idf_queIntNorm']  = dftrain.idf_intNorm*dftrain.idf_queNorm\n",
    "dftrain['idf_queIntNorm0'] = dftrain.idf_intNorm0*dftrain.idf_queNorm0\n",
    "dftest ['idf_queIntNorm']  = dftest.idf_intNorm*dftest.idf_queNorm\n",
    "dftest ['idf_queIntNorm0'] = dftest.idf_intNorm0*dftest.idf_queNorm0\n",
    "\n",
    "dftrain['wmd_queNorm']     = dftrain.w2v_wmd/dftrain.len_question\n",
    "dftest ['wmd_queNorm']     = dftest.w2v_wmd/dftest.len_question\n",
    "\n",
    "dftrain['pqf_queNorm']     = dftrain.w2v_pqf/dftrain.len_question\n",
    "dftest ['pqf_queNorm']     = dftest.w2v_pqf/dftest.len_question"
   ]
  },
  {
   "cell_type": "code",
   "execution_count": 222,
   "metadata": {
    "collapsed": false,
    "deletable": true,
    "editable": true
   },
   "outputs": [
    {
     "data": {
      "image/png": "[encoded data removed]",
      "text/plain": [
       "<matplotlib.figure.Figure at 0x7f4d5f0a5110>"
      ]
     },
     "metadata": {},
     "output_type": "display_data"
    },
    {
     "data": {
      "image/png": "[encoded data removed]",
      "text/plain": [
       "<matplotlib.figure.Figure at 0x7f4d92b5a790>"
      ]
     },
     "metadata": {},
     "output_type": "display_data"
    }
   ],
   "source": [
    "plt.hist(dftrain.pqf_queNorm,bins=100); plt.show()\n",
    "plt.hist(dftrain.wmd_queNorm,bins=100); plt.show()"
   ]
  },
  {
   "cell_type": "code",
   "execution_count": 223,
   "metadata": {
    "collapsed": false,
    "deletable": true,
    "editable": true
   },
   "outputs": [
    {
     "data": {
      "text/html": [
       "<div>\n",
       "<table border=\"1\" class=\"dataframe\">\n",
       "  <thead>\n",
       "    <tr style=\"text-align: right;\">\n",
       "      <th></th>\n",
       "      <th>paragraph_id</th>\n",
       "      <th>question_id</th>\n",
       "      <th>w2v_pqf</th>\n",
       "      <th>paragraph</th>\n",
       "      <th>question</th>\n",
       "      <th>target</th>\n",
       "      <th>paragraphL</th>\n",
       "      <th>questionL</th>\n",
       "      <th>paragraphLS</th>\n",
       "      <th>questionLS</th>\n",
       "      <th>...</th>\n",
       "      <th>len_queNorm</th>\n",
       "      <th>len_queNorm0</th>\n",
       "      <th>idf_queNorm</th>\n",
       "      <th>idf_queNorm0</th>\n",
       "      <th>len_queIntNorm</th>\n",
       "      <th>len_queIntNorm0</th>\n",
       "      <th>idf_queIntNorm</th>\n",
       "      <th>idf_queIntNorm0</th>\n",
       "      <th>wmd_queNorm</th>\n",
       "      <th>pqf_queNorm</th>\n",
       "    </tr>\n",
       "  </thead>\n",
       "  <tbody>\n",
       "    <tr>\n",
       "      <th>552808</th>\n",
       "      <td>2679</td>\n",
       "      <td>41770</td>\n",
       "      <td>-0.293045</td>\n",
       "      <td>Значит, пользователь может столкнуться с ещё ...</td>\n",
       "      <td>с каким персонажем происходит схватка Шерлока ...</td>\n",
       "      <td>0.0</td>\n",
       "      <td>у типичный свободный программа ( то есть , нек...</td>\n",
       "      <td>с какой персонаж происходить схватка шерлок хо...</td>\n",
       "      <td>типичный свободный программа ( , некоммерчески...</td>\n",
       "      <td>персонаж происходить схватка шерлок холмс филь...</td>\n",
       "      <td>...</td>\n",
       "      <td>0.818182</td>\n",
       "      <td>0.151163</td>\n",
       "      <td>1.174866</td>\n",
       "      <td>0.166646</td>\n",
       "      <td>0.0</td>\n",
       "      <td>0.034884</td>\n",
       "      <td>0.0</td>\n",
       "      <td>0.066639</td>\n",
       "      <td>2.768107</td>\n",
       "      <td>-0.032561</td>\n",
       "    </tr>\n",
       "    <tr>\n",
       "      <th>552809</th>\n",
       "      <td>2679</td>\n",
       "      <td>41770</td>\n",
       "      <td>-0.128076</td>\n",
       "      <td>Тем актуальнее для него возможность сообщить ...</td>\n",
       "      <td>с каким персонажем происходит схватка Шерлока ...</td>\n",
       "      <td>0.0</td>\n",
       "      <td>у типичный свободный программа ( то есть , нек...</td>\n",
       "      <td>с какой персонаж происходить схватка шерлок хо...</td>\n",
       "      <td>типичный свободный программа ( , некоммерчески...</td>\n",
       "      <td>персонаж происходить схватка шерлок холмс филь...</td>\n",
       "      <td>...</td>\n",
       "      <td>1.500000</td>\n",
       "      <td>0.151163</td>\n",
       "      <td>1.825607</td>\n",
       "      <td>0.166646</td>\n",
       "      <td>0.0</td>\n",
       "      <td>0.034884</td>\n",
       "      <td>0.0</td>\n",
       "      <td>0.066639</td>\n",
       "      <td>2.945945</td>\n",
       "      <td>-0.014231</td>\n",
       "    </tr>\n",
       "    <tr>\n",
       "      <th>552810</th>\n",
       "      <td>2679</td>\n",
       "      <td>41770</td>\n",
       "      <td>-0.048523</td>\n",
       "      <td>Раньше в сопровождающей программу документаци...</td>\n",
       "      <td>с каким персонажем происходит схватка Шерлока ...</td>\n",
       "      <td>0.0</td>\n",
       "      <td>у типичный свободный программа ( то есть , нек...</td>\n",
       "      <td>с какой персонаж происходить схватка шерлок хо...</td>\n",
       "      <td>типичный свободный программа ( , некоммерчески...</td>\n",
       "      <td>персонаж происходить схватка шерлок холмс филь...</td>\n",
       "      <td>...</td>\n",
       "      <td>0.600000</td>\n",
       "      <td>0.151163</td>\n",
       "      <td>0.717187</td>\n",
       "      <td>0.166646</td>\n",
       "      <td>0.0</td>\n",
       "      <td>0.034884</td>\n",
       "      <td>0.0</td>\n",
       "      <td>0.066639</td>\n",
       "      <td>2.499363</td>\n",
       "      <td>-0.005391</td>\n",
       "    </tr>\n",
       "    <tr>\n",
       "      <th>552811</th>\n",
       "      <td>2679</td>\n",
       "      <td>41770</td>\n",
       "      <td>-0.091998</td>\n",
       "      <td>Некоторые вводили стереотипную форму для таки...</td>\n",
       "      <td>с каким персонажем происходит схватка Шерлока ...</td>\n",
       "      <td>0.0</td>\n",
       "      <td>у типичный свободный программа ( то есть , нек...</td>\n",
       "      <td>с какой персонаж происходить схватка шерлок хо...</td>\n",
       "      <td>типичный свободный программа ( , некоммерчески...</td>\n",
       "      <td>персонаж происходить схватка шерлок холмс филь...</td>\n",
       "      <td>...</td>\n",
       "      <td>1.125000</td>\n",
       "      <td>0.151163</td>\n",
       "      <td>1.272799</td>\n",
       "      <td>0.166646</td>\n",
       "      <td>0.0</td>\n",
       "      <td>0.034884</td>\n",
       "      <td>0.0</td>\n",
       "      <td>0.066639</td>\n",
       "      <td>2.457680</td>\n",
       "      <td>-0.010222</td>\n",
       "    </tr>\n",
       "    <tr>\n",
       "      <th>552812</th>\n",
       "      <td>2679</td>\n",
       "      <td>41770</td>\n",
       "      <td>-0.216833</td>\n",
       "      <td>Уже это требует существенно более высокой свя...</td>\n",
       "      <td>с каким персонажем происходит схватка Шерлока ...</td>\n",
       "      <td>0.0</td>\n",
       "      <td>у типичный свободный программа ( то есть , нек...</td>\n",
       "      <td>с какой персонаж происходить схватка шерлок хо...</td>\n",
       "      <td>типичный свободный программа ( , некоммерчески...</td>\n",
       "      <td>персонаж происходить схватка шерлок холмс филь...</td>\n",
       "      <td>...</td>\n",
       "      <td>0.818182</td>\n",
       "      <td>0.151163</td>\n",
       "      <td>1.195844</td>\n",
       "      <td>0.166646</td>\n",
       "      <td>0.0</td>\n",
       "      <td>0.034884</td>\n",
       "      <td>0.0</td>\n",
       "      <td>0.066639</td>\n",
       "      <td>2.666762</td>\n",
       "      <td>-0.024093</td>\n",
       "    </tr>\n",
       "  </tbody>\n",
       "</table>\n",
       "<p>5 rows × 42 columns</p>\n",
       "</div>"
      ],
      "text/plain": [
       "        paragraph_id  question_id   w2v_pqf  \\\n",
       "552808          2679        41770 -0.293045   \n",
       "552809          2679        41770 -0.128076   \n",
       "552810          2679        41770 -0.048523   \n",
       "552811          2679        41770 -0.091998   \n",
       "552812          2679        41770 -0.216833   \n",
       "\n",
       "                                                paragraph  \\\n",
       "552808   Значит, пользователь может столкнуться с ещё ...   \n",
       "552809   Тем актуальнее для него возможность сообщить ...   \n",
       "552810   Раньше в сопровождающей программу документаци...   \n",
       "552811   Некоторые вводили стереотипную форму для таки...   \n",
       "552812   Уже это требует существенно более высокой свя...   \n",
       "\n",
       "                                                 question  target  \\\n",
       "552808  с каким персонажем происходит схватка Шерлока ...     0.0   \n",
       "552809  с каким персонажем происходит схватка Шерлока ...     0.0   \n",
       "552810  с каким персонажем происходит схватка Шерлока ...     0.0   \n",
       "552811  с каким персонажем происходит схватка Шерлока ...     0.0   \n",
       "552812  с каким персонажем происходит схватка Шерлока ...     0.0   \n",
       "\n",
       "                                               paragraphL  \\\n",
       "552808  у типичный свободный программа ( то есть , нек...   \n",
       "552809  у типичный свободный программа ( то есть , нек...   \n",
       "552810  у типичный свободный программа ( то есть , нек...   \n",
       "552811  у типичный свободный программа ( то есть , нек...   \n",
       "552812  у типичный свободный программа ( то есть , нек...   \n",
       "\n",
       "                                                questionL  \\\n",
       "552808  с какой персонаж происходить схватка шерлок хо...   \n",
       "552809  с какой персонаж происходить схватка шерлок хо...   \n",
       "552810  с какой персонаж происходить схватка шерлок хо...   \n",
       "552811  с какой персонаж происходить схватка шерлок хо...   \n",
       "552812  с какой персонаж происходить схватка шерлок хо...   \n",
       "\n",
       "                                              paragraphLS  \\\n",
       "552808  типичный свободный программа ( , некоммерчески...   \n",
       "552809  типичный свободный программа ( , некоммерчески...   \n",
       "552810  типичный свободный программа ( , некоммерчески...   \n",
       "552811  типичный свободный программа ( , некоммерчески...   \n",
       "552812  типичный свободный программа ( , некоммерчески...   \n",
       "\n",
       "                                               questionLS     ...       \\\n",
       "552808  персонаж происходить схватка шерлок холмс филь...     ...        \n",
       "552809  персонаж происходить схватка шерлок холмс филь...     ...        \n",
       "552810  персонаж происходить схватка шерлок холмс филь...     ...        \n",
       "552811  персонаж происходить схватка шерлок холмс филь...     ...        \n",
       "552812  персонаж происходить схватка шерлок холмс филь...     ...        \n",
       "\n",
       "       len_queNorm len_queNorm0 idf_queNorm idf_queNorm0  len_queIntNorm  \\\n",
       "552808    0.818182     0.151163    1.174866     0.166646             0.0   \n",
       "552809    1.500000     0.151163    1.825607     0.166646             0.0   \n",
       "552810    0.600000     0.151163    0.717187     0.166646             0.0   \n",
       "552811    1.125000     0.151163    1.272799     0.166646             0.0   \n",
       "552812    0.818182     0.151163    1.195844     0.166646             0.0   \n",
       "\n",
       "        len_queIntNorm0  idf_queIntNorm  idf_queIntNorm0  wmd_queNorm  \\\n",
       "552808         0.034884             0.0         0.066639     2.768107   \n",
       "552809         0.034884             0.0         0.066639     2.945945   \n",
       "552810         0.034884             0.0         0.066639     2.499363   \n",
       "552811         0.034884             0.0         0.066639     2.457680   \n",
       "552812         0.034884             0.0         0.066639     2.666762   \n",
       "\n",
       "        pqf_queNorm  \n",
       "552808    -0.032561  \n",
       "552809    -0.014231  \n",
       "552810    -0.005391  \n",
       "552811    -0.010222  \n",
       "552812    -0.024093  \n",
       "\n",
       "[5 rows x 42 columns]"
      ]
     },
     "execution_count": 223,
     "metadata": {},
     "output_type": "execute_result"
    }
   ],
   "source": [
    "dftrain.tail()"
   ]
  },
  {
   "cell_type": "code",
   "execution_count": 224,
   "metadata": {
    "collapsed": false,
    "deletable": true,
    "editable": true
   },
   "outputs": [
    {
     "data": {
      "text/plain": [
       "Index([u'paragraph_id', u'question_id', u'w2v_pqf', u'paragraph', u'question',\n",
       "       u'target', u'paragraphL', u'questionL', u'paragraphLS', u'questionLS',\n",
       "       u'paragraphLX', u'questionLX', u'paragraphLSX', u'questionLSX',\n",
       "       u'len_paragraph', u'len_question', u'len_intersection', u'idf_question',\n",
       "       u'idf_paragraph', u'idf_intersection', u'len_intNorm', u'idf_intNorm',\n",
       "       u'len_paragraph0', u'len_question0', u'len_intersection0',\n",
       "       u'idf_question0', u'idf_paragraph0', u'idf_intersection0',\n",
       "       u'len_intNorm0', u'idf_intNorm0', u'w2v_wmd', u'ttarget',\n",
       "       u'len_queNorm', u'len_queNorm0', u'idf_queNorm', u'idf_queNorm0',\n",
       "       u'len_queIntNorm', u'len_queIntNorm0', u'idf_queIntNorm',\n",
       "       u'idf_queIntNorm0', u'wmd_queNorm', u'pqf_queNorm'],\n",
       "      dtype='object')"
      ]
     },
     "execution_count": 224,
     "metadata": {},
     "output_type": "execute_result"
    }
   ],
   "source": [
    "dftrain.columns"
   ]
  },
  {
   "cell_type": "code",
   "execution_count": 225,
   "metadata": {
    "collapsed": false,
    "deletable": true,
    "editable": true
   },
   "outputs": [],
   "source": [
    "import xgboost as xgb\n",
    "columns  = []\n",
    "columns += ['len_paragraph', 'len_question', 'len_intersection', 'idf_question', 'idf_paragraph', 'idf_intersection'] + \\\n",
    "           ['len_intNorm', 'idf_intNorm']\n",
    "#columns += ['w2v_pq1', 'w2v_pqf', 'w2v_wmd'] + \\\n",
    "columns += ['w2v_wmd', 'w2v_pqf'] + \\\n",
    "           ['wmd_queNorm', 'pqf_queNorm'] + \\\n",
    "           ['len_queNorm', 'len_queIntNorm', 'idf_queNorm', 'idf_queIntNorm']\n",
    "        \n",
    "columns += ['len_paragraph0', 'len_question0', 'len_intersection0', 'idf_question0', 'idf_paragraph0', 'idf_intersection0'] + \\\n",
    "           ['len_intNorm0', 'idf_intNorm0'] + \\\n",
    "           ['len_queNorm0', 'len_queIntNorm0'] #, 'idf_queNorm0', 'idf_queIntNorm0']\n",
    "#model = GradientBoostingClassifier()\n",
    "#model = xgb.XGBClassifier(learning_rate=0.1, n_estimators=900, silent=True).fit(dftrain[columns], dftrain['target'])\n",
    "#model = xgb.XGBClassifier(learning_rate=0.1, n_estimators=600, silent=True).fit(dftrain[columns], dftrain['target'])\n",
    "#model = GradientBoostingClassifier().fit(dftrain[columns], dftrain['target'])\n",
    "#dftest['prediction']  = model.predict_proba(dftest[columns])[:, 1]\n",
    "#ddftrain = model.predict_proba(dftrain[columns])[:, 1]"
   ]
  },
  {
   "cell_type": "code",
   "execution_count": 226,
   "metadata": {
    "collapsed": false,
    "scrolled": true
   },
   "outputs": [],
   "source": [
    "'''\n",
    "def xgbtrain (param, train_x, train_y, num_round=1800, stopping=10, ratio=0.9) :\n",
    "    \n",
    "    split = int(round(ratio*len(train_y)))\n",
    "    dtrain = xgb.DMatrix(train_x[:split],label=train_y[:split])\n",
    "    dvalid = xgb.DMatrix(train_x[split:],label=train_y[split:])\n",
    "    watchlist  = [(dtrain,'train'),(dvalid,'valid')]\n",
    "    rvalid={}\n",
    "    bst = xgb.train(param, dtrain, num_round, watchlist, feval=rmsle,early_stopping_rounds=20,evals_result=rvalid)\n",
    "    return(bst,np.array(rvalid['valid']['rmsle']))\n",
    "\n",
    "def xgbCVtrain (param, train_x, train_y, num_round=1800, stopping=10, ratio=0.9) :\n",
    "    \n",
    "    split = int(round(ratio*len(train_y)))\n",
    "    dtrain = xgb.DMatrix(train_x[:split],label=train_y[:split])\n",
    "    dvalid = xgb.DMatrix(train_x[split:],label=train_y[split:])\n",
    "    watchlist  = [(dtrain,'train'),(dvalid,'valid')]\n",
    "    history = xgb.cv(param, dtrain, verbose_eval=10, \n",
    "                     metrics=['rmse'],feval=rmsle,\n",
    "                     num_boost_round=num_round,nfold=5,early_stopping_rounds=stopping) \n",
    "    rvalid={}\n",
    "    bst    = xgb.train(param, dtrain, history['test-rmsle-mean'].argmin()+2, watchlist, evals_result=rvalid, feval=rmsle)\n",
    "    #bst = xgb.train(param, dtrain, num_round, watchlist, evals_result=rvalid, early_stopping_rounds=stopping)\n",
    "    return(bst,np.array(rvalid['valid']['rmse']))\n",
    "'''\n",
    "\n",
    "param = {'silent':0, \n",
    "         'objective':'reg:logistic', \n",
    "         'eta':0.1, \n",
    "         #'max_depth':9, \n",
    "         #'subsample':0.85, 'colsample_bytree':0.8, \n",
    "         #'min_child_weight':12.0,\n",
    "         #'tree_method':'exact',\n",
    "         'eval_metric':'auc'}\n",
    "\n",
    "dtrain = xgb.DMatrix(dftrain[columns], label=dftrain['target'])\n",
    "\n",
    "if 0 :\n",
    "    history = xgb.cv(param, dtrain, verbose_eval=25, metrics=['auc'],\n",
    "                     num_boost_round=500,nfold=5,\n",
    "                     early_stopping_rounds=20) #,stratified=True,maximize=True)"
   ]
  },
  {
   "cell_type": "code",
   "execution_count": 181,
   "metadata": {
    "collapsed": false
   },
   "outputs": [
    {
     "data": {
      "image/png": "[encoded data removed]",
      "text/plain": [
       "<matplotlib.figure.Figure at 0x7f4d433e5e10>"
      ]
     },
     "metadata": {},
     "output_type": "display_data"
    },
    {
     "data": {
      "text/html": [
       "<div>\n",
       "<table border=\"1\" class=\"dataframe\">\n",
       "  <thead>\n",
       "    <tr style=\"text-align: right;\">\n",
       "      <th></th>\n",
       "      <th>test-auc-mean</th>\n",
       "      <th>test-auc-std</th>\n",
       "      <th>train-auc-mean</th>\n",
       "      <th>train-auc-std</th>\n",
       "    </tr>\n",
       "  </thead>\n",
       "  <tbody>\n",
       "    <tr>\n",
       "      <th>351</th>\n",
       "      <td>0.992969</td>\n",
       "      <td>0.000153</td>\n",
       "      <td>0.996735</td>\n",
       "      <td>0.000075</td>\n",
       "    </tr>\n",
       "    <tr>\n",
       "      <th>352</th>\n",
       "      <td>0.992969</td>\n",
       "      <td>0.000153</td>\n",
       "      <td>0.996741</td>\n",
       "      <td>0.000076</td>\n",
       "    </tr>\n",
       "    <tr>\n",
       "      <th>353</th>\n",
       "      <td>0.992969</td>\n",
       "      <td>0.000152</td>\n",
       "      <td>0.996745</td>\n",
       "      <td>0.000078</td>\n",
       "    </tr>\n",
       "    <tr>\n",
       "      <th>354</th>\n",
       "      <td>0.992969</td>\n",
       "      <td>0.000153</td>\n",
       "      <td>0.996750</td>\n",
       "      <td>0.000077</td>\n",
       "    </tr>\n",
       "    <tr>\n",
       "      <th>355</th>\n",
       "      <td>0.992969</td>\n",
       "      <td>0.000154</td>\n",
       "      <td>0.996756</td>\n",
       "      <td>0.000074</td>\n",
       "    </tr>\n",
       "    <tr>\n",
       "      <th>356</th>\n",
       "      <td>0.992969</td>\n",
       "      <td>0.000153</td>\n",
       "      <td>0.996761</td>\n",
       "      <td>0.000073</td>\n",
       "    </tr>\n",
       "    <tr>\n",
       "      <th>357</th>\n",
       "      <td>0.992969</td>\n",
       "      <td>0.000153</td>\n",
       "      <td>0.996766</td>\n",
       "      <td>0.000073</td>\n",
       "    </tr>\n",
       "    <tr>\n",
       "      <th>358</th>\n",
       "      <td>0.992968</td>\n",
       "      <td>0.000152</td>\n",
       "      <td>0.996770</td>\n",
       "      <td>0.000072</td>\n",
       "    </tr>\n",
       "    <tr>\n",
       "      <th>359</th>\n",
       "      <td>0.992968</td>\n",
       "      <td>0.000151</td>\n",
       "      <td>0.996775</td>\n",
       "      <td>0.000071</td>\n",
       "    </tr>\n",
       "    <tr>\n",
       "      <th>360</th>\n",
       "      <td>0.992968</td>\n",
       "      <td>0.000152</td>\n",
       "      <td>0.996780</td>\n",
       "      <td>0.000072</td>\n",
       "    </tr>\n",
       "    <tr>\n",
       "      <th>361</th>\n",
       "      <td>0.992969</td>\n",
       "      <td>0.000150</td>\n",
       "      <td>0.996786</td>\n",
       "      <td>0.000072</td>\n",
       "    </tr>\n",
       "    <tr>\n",
       "      <th>362</th>\n",
       "      <td>0.992971</td>\n",
       "      <td>0.000148</td>\n",
       "      <td>0.996795</td>\n",
       "      <td>0.000071</td>\n",
       "    </tr>\n",
       "    <tr>\n",
       "      <th>363</th>\n",
       "      <td>0.992971</td>\n",
       "      <td>0.000148</td>\n",
       "      <td>0.996800</td>\n",
       "      <td>0.000071</td>\n",
       "    </tr>\n",
       "    <tr>\n",
       "      <th>364</th>\n",
       "      <td>0.992972</td>\n",
       "      <td>0.000147</td>\n",
       "      <td>0.996805</td>\n",
       "      <td>0.000073</td>\n",
       "    </tr>\n",
       "    <tr>\n",
       "      <th>365</th>\n",
       "      <td>0.992973</td>\n",
       "      <td>0.000147</td>\n",
       "      <td>0.996808</td>\n",
       "      <td>0.000074</td>\n",
       "    </tr>\n",
       "    <tr>\n",
       "      <th>366</th>\n",
       "      <td>0.992973</td>\n",
       "      <td>0.000147</td>\n",
       "      <td>0.996814</td>\n",
       "      <td>0.000073</td>\n",
       "    </tr>\n",
       "    <tr>\n",
       "      <th>367</th>\n",
       "      <td>0.992975</td>\n",
       "      <td>0.000146</td>\n",
       "      <td>0.996818</td>\n",
       "      <td>0.000074</td>\n",
       "    </tr>\n",
       "    <tr>\n",
       "      <th>368</th>\n",
       "      <td>0.992974</td>\n",
       "      <td>0.000147</td>\n",
       "      <td>0.996826</td>\n",
       "      <td>0.000073</td>\n",
       "    </tr>\n",
       "    <tr>\n",
       "      <th>369</th>\n",
       "      <td>0.992975</td>\n",
       "      <td>0.000146</td>\n",
       "      <td>0.996834</td>\n",
       "      <td>0.000073</td>\n",
       "    </tr>\n",
       "    <tr>\n",
       "      <th>370</th>\n",
       "      <td>0.992975</td>\n",
       "      <td>0.000148</td>\n",
       "      <td>0.996840</td>\n",
       "      <td>0.000070</td>\n",
       "    </tr>\n",
       "  </tbody>\n",
       "</table>\n",
       "</div>"
      ],
      "text/plain": [
       "     test-auc-mean  test-auc-std  train-auc-mean  train-auc-std\n",
       "351       0.992969      0.000153        0.996735       0.000075\n",
       "352       0.992969      0.000153        0.996741       0.000076\n",
       "353       0.992969      0.000152        0.996745       0.000078\n",
       "354       0.992969      0.000153        0.996750       0.000077\n",
       "355       0.992969      0.000154        0.996756       0.000074\n",
       "356       0.992969      0.000153        0.996761       0.000073\n",
       "357       0.992969      0.000153        0.996766       0.000073\n",
       "358       0.992968      0.000152        0.996770       0.000072\n",
       "359       0.992968      0.000151        0.996775       0.000071\n",
       "360       0.992968      0.000152        0.996780       0.000072\n",
       "361       0.992969      0.000150        0.996786       0.000072\n",
       "362       0.992971      0.000148        0.996795       0.000071\n",
       "363       0.992971      0.000148        0.996800       0.000071\n",
       "364       0.992972      0.000147        0.996805       0.000073\n",
       "365       0.992973      0.000147        0.996808       0.000074\n",
       "366       0.992973      0.000147        0.996814       0.000073\n",
       "367       0.992975      0.000146        0.996818       0.000074\n",
       "368       0.992974      0.000147        0.996826       0.000073\n",
       "369       0.992975      0.000146        0.996834       0.000073\n",
       "370       0.992975      0.000148        0.996840       0.000070"
      ]
     },
     "execution_count": 181,
     "metadata": {},
     "output_type": "execute_result"
    }
   ],
   "source": [
    "plt.plot(history['test-auc-mean']); \n",
    "plt.plot(history['train-auc-mean']); \n",
    "plt.show();\n",
    "history.tail(20)"
   ]
  },
  {
   "cell_type": "code",
   "execution_count": 227,
   "metadata": {
    "collapsed": false
   },
   "outputs": [
    {
     "name": "stdout",
     "output_type": "stream",
     "text": [
      "[0]\ttrain-auc:0.993774\n",
      "Will train until train-auc hasn't improved in 20 rounds.\n",
      "[20]\ttrain-auc:0.998384\n",
      "[40]\ttrain-auc:0.998791\n",
      "[60]\ttrain-auc:0.999077\n",
      "[80]\ttrain-auc:0.999202\n",
      "[100]\ttrain-auc:0.999291\n",
      "[120]\ttrain-auc:0.999382\n",
      "[140]\ttrain-auc:0.999461\n",
      "[160]\ttrain-auc:0.999516\n",
      "[180]\ttrain-auc:0.999569\n"
     ]
    }
   ],
   "source": [
    "num_round = 200\n",
    "watchlist  = [(dtrain,'train')]\n",
    "\n",
    "bst = xgb.train(param, dtrain, num_round, watchlist, early_stopping_rounds=20,verbose_eval=20)"
   ]
  },
  {
   "cell_type": "code",
   "execution_count": 228,
   "metadata": {
    "collapsed": false
   },
   "outputs": [
    {
     "data": {
      "text/plain": [
       "((491449,), array([  4.38999587e-06,   7.93888648e-06,   1.07160113e-05,\n",
       "          1.14968119e-04,   8.74687157e-06,   6.30046907e-06,\n",
       "          6.70512964e-06,   7.44806766e-06,   8.64596586e-06,\n",
       "          2.96547223e-05,   9.50596586e-06,   9.60741090e-06,\n",
       "          6.88558839e-06,   1.95085363e-06,   2.48058088e-04,\n",
       "          6.11046853e-05,   9.49378550e-01,   4.91412124e-04,\n",
       "          2.36247643e-03,   4.77437978e-04], dtype=float32))"
      ]
     },
     "execution_count": 228,
     "metadata": {},
     "output_type": "execute_result"
    }
   ],
   "source": [
    "dtest    = xgb.DMatrix(dftest[columns])\n",
    "ddftest  = bst.predict(dtest)\n",
    "ddftrain = bst.predict(dtrain)\n",
    "dftest['prediction']=ddftest\n",
    "ddftest.shape, ddftest[:20]"
   ]
  },
  {
   "cell_type": "code",
   "execution_count": 230,
   "metadata": {
    "collapsed": false
   },
   "outputs": [
    {
     "data": {
      "text/plain": [
       "{'idf_intNorm': 361,\n",
       " 'idf_intNorm0': 209,\n",
       " 'idf_intersection': 322,\n",
       " 'idf_intersection0': 346,\n",
       " 'idf_paragraph': 247,\n",
       " 'idf_paragraph0': 611,\n",
       " 'idf_queIntNorm': 155,\n",
       " 'idf_queNorm': 192,\n",
       " 'idf_question': 384,\n",
       " 'idf_question0': 393,\n",
       " 'len_intNorm': 128,\n",
       " 'len_intNorm0': 588,\n",
       " 'len_intersection': 35,\n",
       " 'len_intersection0': 273,\n",
       " 'len_paragraph': 121,\n",
       " 'len_paragraph0': 514,\n",
       " 'len_queIntNorm': 156,\n",
       " 'len_queIntNorm0': 358,\n",
       " 'len_queNorm': 147,\n",
       " 'len_queNorm0': 245,\n",
       " 'len_question': 24,\n",
       " 'len_question0': 154,\n",
       " 'pqf_queNorm': 404,\n",
       " 'w2v_pqf': 337,\n",
       " 'w2v_wmd': 777,\n",
       " 'wmd_queNorm': 199}"
      ]
     },
     "execution_count": 230,
     "metadata": {},
     "output_type": "execute_result"
    }
   ],
   "source": [
    "bst.get_fscore()"
   ]
  },
  {
   "cell_type": "code",
   "execution_count": 229,
   "metadata": {
    "collapsed": false
   },
   "outputs": [
    {
     "data": {
      "text/plain": [
       "<matplotlib.figure.Figure at 0x7f4d930c7050>"
      ]
     },
     "metadata": {},
     "output_type": "display_data"
    },
    {
     "data": {
      "image/png": "[encoded data removed]",
      "text/plain": [
       "<matplotlib.figure.Figure at 0x7f4d92a80e10>"
      ]
     },
     "metadata": {},
     "output_type": "display_data"
    }
   ],
   "source": [
    "plt.figure(figsize=(15,8))\n",
    "xgb.plot_importance(bst); plt.show()"
   ]
  },
  {
   "cell_type": "code",
   "execution_count": 231,
   "metadata": {
    "collapsed": false,
    "deletable": true,
    "editable": true
   },
   "outputs": [],
   "source": [
    "ddftest = dftest.groupby(by=['paragraph_id', 'question_id'])['prediction'].max().reset_index()"
   ]
  },
  {
   "cell_type": "code",
   "execution_count": 232,
   "metadata": {
    "collapsed": false,
    "deletable": true,
    "editable": true
   },
   "outputs": [
    {
     "data": {
      "text/html": [
       "<div>\n",
       "<table border=\"1\" class=\"dataframe\">\n",
       "  <thead>\n",
       "    <tr style=\"text-align: right;\">\n",
       "      <th></th>\n",
       "      <th>paragraph_id</th>\n",
       "      <th>question_id</th>\n",
       "      <th>prediction</th>\n",
       "    </tr>\n",
       "  </thead>\n",
       "  <tbody>\n",
       "    <tr>\n",
       "      <th>74285</th>\n",
       "      <td>1627</td>\n",
       "      <td>33917</td>\n",
       "      <td>0.994338</td>\n",
       "    </tr>\n",
       "    <tr>\n",
       "      <th>74286</th>\n",
       "      <td>1627</td>\n",
       "      <td>34164</td>\n",
       "      <td>0.998178</td>\n",
       "    </tr>\n",
       "    <tr>\n",
       "      <th>74287</th>\n",
       "      <td>1627</td>\n",
       "      <td>34899</td>\n",
       "      <td>0.993002</td>\n",
       "    </tr>\n",
       "    <tr>\n",
       "      <th>74288</th>\n",
       "      <td>1627</td>\n",
       "      <td>36819</td>\n",
       "      <td>0.912943</td>\n",
       "    </tr>\n",
       "    <tr>\n",
       "      <th>74289</th>\n",
       "      <td>1627</td>\n",
       "      <td>38856</td>\n",
       "      <td>0.999834</td>\n",
       "    </tr>\n",
       "  </tbody>\n",
       "</table>\n",
       "</div>"
      ],
      "text/plain": [
       "       paragraph_id  question_id  prediction\n",
       "74285          1627        33917    0.994338\n",
       "74286          1627        34164    0.998178\n",
       "74287          1627        34899    0.993002\n",
       "74288          1627        36819    0.912943\n",
       "74289          1627        38856    0.999834"
      ]
     },
     "execution_count": 232,
     "metadata": {},
     "output_type": "execute_result"
    }
   ],
   "source": [
    "ddftest.tail()\n",
    "#xx = dftest['paragraph_id'].unique()\n",
    "#xx.sort(); xx"
   ]
  },
  {
   "cell_type": "code",
   "execution_count": 233,
   "metadata": {
    "collapsed": false,
    "deletable": true,
    "editable": true
   },
   "outputs": [
    {
     "data": {
      "text/html": [
       "<div>\n",
       "<table border=\"1\" class=\"dataframe\">\n",
       "  <thead>\n",
       "    <tr style=\"text-align: right;\">\n",
       "      <th></th>\n",
       "      <th>paragraph_id</th>\n",
       "      <th>question_id</th>\n",
       "      <th>prediction</th>\n",
       "    </tr>\n",
       "  </thead>\n",
       "  <tbody>\n",
       "    <tr>\n",
       "      <th>0</th>\n",
       "      <td>1361</td>\n",
       "      <td>6463</td>\n",
       "      <td>0.000004</td>\n",
       "    </tr>\n",
       "    <tr>\n",
       "      <th>0</th>\n",
       "      <td>1361</td>\n",
       "      <td>6463</td>\n",
       "      <td>0.000008</td>\n",
       "    </tr>\n",
       "    <tr>\n",
       "      <th>0</th>\n",
       "      <td>1361</td>\n",
       "      <td>6463</td>\n",
       "      <td>0.000011</td>\n",
       "    </tr>\n",
       "    <tr>\n",
       "      <th>0</th>\n",
       "      <td>1361</td>\n",
       "      <td>6463</td>\n",
       "      <td>0.000115</td>\n",
       "    </tr>\n",
       "    <tr>\n",
       "      <th>0</th>\n",
       "      <td>1361</td>\n",
       "      <td>6463</td>\n",
       "      <td>0.000009</td>\n",
       "    </tr>\n",
       "  </tbody>\n",
       "</table>\n",
       "</div>"
      ],
      "text/plain": [
       "   paragraph_id  question_id  prediction\n",
       "0          1361         6463    0.000004\n",
       "0          1361         6463    0.000008\n",
       "0          1361         6463    0.000011\n",
       "0          1361         6463    0.000115\n",
       "0          1361         6463    0.000009"
      ]
     },
     "execution_count": 233,
     "metadata": {},
     "output_type": "execute_result"
    }
   ],
   "source": [
    "dftest[['paragraph_id', 'question_id', 'prediction']].head()"
   ]
  },
  {
   "cell_type": "code",
   "execution_count": 235,
   "metadata": {
    "collapsed": true,
    "deletable": true,
    "editable": true
   },
   "outputs": [],
   "source": [
    "# LB=0.9114948832671941\n",
    "ddftest[['paragraph_id', 'question_id', 'prediction']].to_csv(\"../Result/prediction-2017-10-30-02-30.csv\", index=False)"
   ]
  },
  {
   "cell_type": "code",
   "execution_count": null,
   "metadata": {
    "collapsed": false,
    "deletable": true,
    "editable": true
   },
   "outputs": [],
   "source": []
  },
  {
   "cell_type": "code",
   "execution_count": 234,
   "metadata": {
    "collapsed": false,
    "deletable": true,
    "editable": true
   },
   "outputs": [
    {
     "name": "stdout",
     "output_type": "stream",
     "text": [
      "accuracy=0.99623 roc_auc=0.97634\n"
     ]
    },
    {
     "data": {
      "image/png": "[encoded data removed]",
      "text/plain": [
       "<matplotlib.figure.Figure at 0x7f4d92957150>"
      ]
     },
     "metadata": {},
     "output_type": "display_data"
    },
    {
     "data": {
      "image/png": "[encoded data removed]",
      "text/plain": [
       "<matplotlib.figure.Figure at 0x7f4d92158d50>"
      ]
     },
     "metadata": {},
     "output_type": "display_data"
    },
    {
     "data": {
      "image/png": "[encoded data removed]",
      "text/plain": [
       "<matplotlib.figure.Figure at 0x7f4d91e87090>"
      ]
     },
     "metadata": {},
     "output_type": "display_data"
    }
   ],
   "source": [
    "print 'accuracy={:.5f} roc_auc={:.5f}'.format(skm.accuracy_score(dftrain['target'].values,ddftrain>0.5),\n",
    "           skm.roc_auc_score(dftrain['target'].values,ddftrain>0.5))\n",
    "plt.hist(ddftrain,bins=50); plt.show()\n",
    "plt.hist(ddftest['prediction'],bins=50); plt.show()\n",
    "plt.hist(dftest['prediction'],bins=50); plt.show()"
   ]
  },
  {
   "cell_type": "code",
   "execution_count": 93,
   "metadata": {
    "collapsed": false,
    "deletable": true,
    "editable": true
   },
   "outputs": [
    {
     "name": "stdout",
     "output_type": "stream",
     "text": [
      "accuracy=0.98976 roc_auc=0.98807\n"
     ]
    },
    {
     "data": {
      "image/png": "[encoded data removed]",
      "text/plain": [
       "<matplotlib.figure.Figure at 0x7fdc6fbb4150>"
      ]
     },
     "metadata": {},
     "output_type": "display_data"
    },
    {
     "data": {
      "image/png": "[encoded data removed]",
      "text/plain": [
       "<matplotlib.figure.Figure at 0x7fdc70e5af10>"
      ]
     },
     "metadata": {},
     "output_type": "display_data"
    }
   ],
   "source": [
    "print 'accuracy={:.5f} roc_auc={:.5f}'.format(skm.accuracy_score(dftrain['target'].values,ddftrain>0.5),\n",
    "           skm.roc_auc_score(dftrain['target'].values,ddftrain>0.5))\n",
    "plt.hist(ddftrain,bins=50); plt.show()\n",
    "plt.hist(dftest['prediction'],bins=50); plt.show()"
   ]
  },
  {
   "cell_type": "code",
   "execution_count": 145,
   "metadata": {
    "collapsed": false,
    "deletable": true,
    "editable": true
   },
   "outputs": [
    {
     "name": "stdout",
     "output_type": "stream",
     "text": [
      "0.973935911824\n"
     ]
    },
    {
     "data": {
      "image/png": "[encoded data removed]",
      "text/plain": [
       "<matplotlib.figure.Figure at 0x7ff530ce46d0>"
      ]
     },
     "metadata": {},
     "output_type": "display_data"
    },
    {
     "data": {
      "image/png": "[encoded data removed]",
      "text/plain": [
       "<matplotlib.figure.Figure at 0x7ff530beef90>"
      ]
     },
     "metadata": {},
     "output_type": "display_data"
    }
   ],
   "source": [
    "print skm.accuracy_score(dftrain['target'].values,ddftrain>0.5)\n",
    "plt.hist(ddftrain); plt.show()\n",
    "plt.hist(dftest['prediction']); plt.show()"
   ]
  },
  {
   "cell_type": "code",
   "execution_count": null,
   "metadata": {
    "collapsed": true,
    "deletable": true,
    "editable": true
   },
   "outputs": [],
   "source": []
  },
  {
   "cell_type": "code",
   "execution_count": null,
   "metadata": {
    "collapsed": true,
    "deletable": true,
    "editable": true
   },
   "outputs": [],
   "source": []
  },
  {
   "cell_type": "code",
   "execution_count": 21,
   "metadata": {
    "collapsed": false,
    "deletable": true,
    "editable": true
   },
   "outputs": [
    {
     "name": "stderr",
     "output_type": "stream",
     "text": [
      "Using TensorFlow backend.\n"
     ]
    }
   ],
   "source": [
    "import gensim.models.word2vec"
   ]
  },
  {
   "cell_type": "code",
   "execution_count": 40,
   "metadata": {
    "collapsed": false,
    "deletable": true,
    "editable": true
   },
   "outputs": [
    {
     "name": "stdout",
     "output_type": "stream",
     "text": [
      "2109476\n"
     ]
    },
    {
     "data": {
      "text/plain": [
       "2109476"
      ]
     },
     "execution_count": 40,
     "metadata": {},
     "output_type": "execute_result"
    }
   ],
   "source": [
    "sentences  = dftrain['paragraphL'].tolist()+dftrain.questionL.tolist()\n",
    "sentences += dftest ['paragraphL'].tolist()+dftest.questionL.tolist()\n",
    "#sentences += dftest ['paragraph'].tolist()+dftest ['question'].tolist()\n",
    "sentences = [[ss.decode('utf-8') for ss in s.split(' ')] for s in sentences]\n",
    "print len(sentences) #, sentences[0]\n",
    "len(sentences)"
   ]
  },
  {
   "cell_type": "code",
   "execution_count": null,
   "metadata": {
    "collapsed": false,
    "deletable": true,
    "editable": true
   },
   "outputs": [],
   "source": []
  },
  {
   "cell_type": "code",
   "execution_count": 41,
   "metadata": {
    "collapsed": false,
    "deletable": true,
    "editable": true
   },
   "outputs": [
    {
     "name": "stdout",
     "output_type": "stream",
     "text": [
      "2017-10-28 19:58:44.384072\n",
      "2017-10-28 20:04:31.241479\n"
     ]
    }
   ],
   "source": [
    "print datetime.datetime.now()\n",
    "model = gensim.models.word2vec.Word2Vec(sentences, size=100, window=5, workers=4, min_count=1)\n",
    "print datetime.datetime.now()"
   ]
  },
  {
   "cell_type": "code",
   "execution_count": 43,
   "metadata": {
    "collapsed": false,
    "deletable": true,
    "editable": true
   },
   "outputs": [
    {
     "name": "stdout",
     "output_type": "stream",
     "text": [
      "земноводный\n"
     ]
    }
   ],
   "source": [
    "print sentences[0][5]"
   ]
  },
  {
   "cell_type": "code",
   "execution_count": 44,
   "metadata": {
    "collapsed": false,
    "deletable": true,
    "editable": true
   },
   "outputs": [
    {
     "data": {
      "text/plain": [
       "array([ -2.98387313e+00,   5.51913261e+00,   7.42003059e+00,\n",
       "         4.52600813e+00,   1.42700901e+01,  -3.03050518e+00,\n",
       "         2.59337997e+00,  -3.26727843e+00,  -1.52219963e+00,\n",
       "         5.91764545e+00,  -4.89653063e+00,   8.80865455e-01,\n",
       "        -6.35947466e-01,  -4.66090727e+00,   3.15288448e+00,\n",
       "        -3.46123910e+00,   1.19812751e+00,  -2.79872561e+00,\n",
       "        -2.66737413e+00,  -2.54326153e+00,   4.76887846e+00,\n",
       "        -4.23117161e+00,   8.84592831e-01,   1.07003033e+00,\n",
       "        -1.06999767e+00,   1.02019989e+00,   7.04411983e+00,\n",
       "         1.40653050e+00,  -2.67896438e+00,   1.14307380e+00,\n",
       "        -4.62081575e+00,  -9.75797117e-01,   2.75414991e+00,\n",
       "        -5.19478858e-01,  -9.16263294e+00,  -7.18607485e-01,\n",
       "         6.99500465e+00,   2.22612309e+00,  -5.58874083e+00,\n",
       "         6.27894831e+00,   6.10575342e+00,  -1.15751280e-02,\n",
       "        -8.38653946e+00,  -4.22843277e-01,   5.44648457e+00,\n",
       "        -5.09045267e+00,   4.85996532e+00,   3.59171939e+00,\n",
       "        -1.23300278e+00,   9.34731293e+00,  -2.16865325e+00,\n",
       "        -1.64826822e+00,   2.17185807e+00,  -8.42592657e-01,\n",
       "         8.92026043e+00,  -3.92207527e+00,   5.01767492e+00,\n",
       "         6.29040420e-01,  -6.67382860e+00,   7.27681160e-01,\n",
       "         2.98862433e+00,   9.68177021e-02,   4.80076122e+00,\n",
       "        -3.44857049e+00,  -7.01488924e+00,  -8.02513409e+00,\n",
       "         1.49281740e+00,   5.99842191e-01,   7.18671083e-01,\n",
       "        -4.00051403e+00,   1.86530143e-01,   4.58797663e-02,\n",
       "        -5.22883558e+00,  -1.41863394e+00,  -6.03884041e-01,\n",
       "         7.54941177e+00,  -2.15711474e-01,  -3.17399001e+00,\n",
       "         2.15563226e+00,   5.01104069e+00,  -1.91185009e-02,\n",
       "        -2.58362961e+00,  -4.59091812e-01,   2.65452838e+00,\n",
       "         2.08802581e+00,   3.12917352e+00,   1.11107135e+00,\n",
       "        -4.69830662e-01,   3.66307449e+00,   1.72632289e+00,\n",
       "        -4.60106516e+00,   1.39378858e+00,   1.57249242e-01,\n",
       "        -1.15687962e+01,  -3.63947213e-01,  -3.33961678e+00,\n",
       "        -4.36306667e+00,  -5.80088568e+00,   9.74162483e+00,\n",
       "        -3.39015698e+00], dtype=float32)"
      ]
     },
     "execution_count": 44,
     "metadata": {},
     "output_type": "execute_result"
    }
   ],
   "source": [
    "model.wv[sentences[1][1]]"
   ]
  },
  {
   "cell_type": "code",
   "execution_count": 47,
   "metadata": {
    "collapsed": false,
    "deletable": true,
    "editable": true
   },
   "outputs": [
    {
     "data": {
      "text/plain": [
       "0.0"
      ]
     },
     "execution_count": 47,
     "metadata": {},
     "output_type": "execute_result"
    }
   ],
   "source": [
    "model.get_latest_training_loss()\n",
    "#model.accuracy()"
   ]
  },
  {
   "cell_type": "code",
   "execution_count": 48,
   "metadata": {
    "collapsed": false,
    "deletable": true,
    "editable": true
   },
   "outputs": [
    {
     "name": "stdout",
     "output_type": "stream",
     "text": [
      "['syn0norm', 'vocab', 'index2word', 'vector_size', 'syn0']\n",
      "vector_size None\n",
      "syn0 (79809, 100)\n",
      "None\n",
      "vocab 79809 [u'', u'hcho', u'diy-\\u0438\\u0434\\u0435\\u043e\\u043b\\u043e\\u0433\\u0438\\u044f', u'\\u043a\\u043e\\u043b\\u0442\\u0443\\u043d', u'\\u0441\\u043e\\u0431\\u0440\\u0430\\u0442']\n",
      "\n",
      "hcho\n",
      "diy-идеология\n",
      "колтун\n",
      "собрат\n",
      "соr\n",
      "гольфстрим\n",
      "грызун\n",
      "деноминация\n",
      "гласный-согласный\n",
      "нормальный\n",
      "субсоциальность\n",
      "woods\n",
      "анкара\n",
      "spiders\n",
      "francesco\n",
      "francesca\n",
      "сахаромицет\n",
      "нуклид\n",
      "излиться\n",
      "бенефициарный\n",
      "имхотёпа\n",
      "ребровый\n",
      "слоговой\n",
      "районирование\n",
      "gentis\n",
      "лашко\n",
      "взмах\n",
      "гомозиготный\n",
      "отстоять\n",
      "евграф\n",
      "ядовитость\n",
      "псевдополовый\n",
      "пектиназа\n",
      "данаиды-монарх\n",
      "богословие\n",
      "hermann\n",
      "ногайский\n",
      "балаганчик\n",
      "пронский\n",
      "наготове\n",
      "восприимчивый\n",
      "четырёхстраничный\n",
      "40,8\n",
      "λεπίδος\n",
      "со2\n",
      "хабаровский\n",
      "40,4\n",
      "40,5\n",
      "властелин\n"
     ]
    }
   ],
   "source": [
    "wv = model.wv\n",
    "print wv.__dict__.keys()\n",
    "print 'vector_size',wv.__dict__['vector_size']\n",
    "print 'syn0',wv.__dict__['syn0'].shape #,wv.__dict__['syn0']\n",
    "print wv.__dict__['syn0norm']\n",
    "print 'vocab',len(wv.__dict__['vocab']),wv.__dict__['vocab'].keys()[:5]\n",
    "for word in wv.__dict__['vocab'].keys()[:50] :\n",
    "    print word\n",
    "#print 'index2word',wv.__dict__['index2word'],wv.__dict__['index2word'][0]\n"
   ]
  },
  {
   "cell_type": "code",
   "execution_count": 82,
   "metadata": {
    "collapsed": false,
    "deletable": true,
    "editable": true,
    "scrolled": false
   },
   "outputs": [
    {
     "name": "stdout",
     "output_type": "stream",
     "text": [
      "2017-10-28 20:31:51.943359\n",
      "2017-10-28 20:31:52.259137 train 0\n",
      "2017-10-28 20:31:54.273526 train 10000\n",
      "2017-10-28 20:31:56.342125 train 20000\n",
      "2017-10-28 20:31:58.330599 train 30000\n",
      "2017-10-28 20:32:00.310624 train 40000\n",
      "2017-10-28 20:32:02.301252 train 50000\n",
      "2017-10-28 20:32:04.300879 train 60000\n",
      "2017-10-28 20:32:06.305857 train 70000\n",
      "2017-10-28 20:32:08.428460 train 80000\n",
      "2017-10-28 20:32:10.505278 train 90000\n",
      "2017-10-28 20:32:12.509864 train 100000\n",
      "2017-10-28 20:32:14.676475 train 110000\n",
      "2017-10-28 20:32:16.694803 train 120000\n",
      "2017-10-28 20:32:18.741870 train 130000\n",
      "2017-10-28 20:32:20.749405 train 140000\n",
      "2017-10-28 20:32:22.744605 train 150000\n",
      "2017-10-28 20:32:24.716175 train 160000\n",
      "2017-10-28 20:32:26.698143 train 170000\n",
      "2017-10-28 20:32:28.800694 train 180000\n",
      "2017-10-28 20:32:30.768833 train 190000\n",
      "2017-10-28 20:32:32.714025 train 200000\n",
      "2017-10-28 20:32:34.687650 train 210000\n",
      "2017-10-28 20:32:36.632489 train 220000\n",
      "2017-10-28 20:32:38.590477 train 230000\n",
      "2017-10-28 20:32:40.556579 train 240000\n",
      "2017-10-28 20:32:42.511812 train 250000\n",
      "2017-10-28 20:32:44.463500 train 260000\n",
      "2017-10-28 20:32:46.524959 train 270000\n",
      "2017-10-28 20:32:48.478860 train 280000\n",
      "2017-10-28 20:32:50.467317 train 290000\n",
      "2017-10-28 20:32:52.424627 train 300000\n",
      "2017-10-28 20:32:54.488338 train 310000\n",
      "2017-10-28 20:32:56.494631 train 320000\n",
      "2017-10-28 20:32:58.481526 train 330000\n",
      "2017-10-28 20:33:00.461377 train 340000\n",
      "2017-10-28 20:33:02.423929 train 350000\n",
      "2017-10-28 20:33:04.367490 train 360000\n",
      "2017-10-28 20:33:06.332929 train 370000\n",
      "2017-10-28 20:33:08.293375 train 380000\n",
      "2017-10-28 20:33:10.263345 train 390000\n",
      "2017-10-28 20:33:12.244649 train 400000\n",
      "2017-10-28 20:33:14.206583 train 410000\n",
      "2017-10-28 20:33:16.187083 train 420000\n",
      "2017-10-28 20:33:18.184024 train 430000\n",
      "2017-10-28 20:33:20.132466 train 440000\n",
      "2017-10-28 20:33:22.104015 train 450000\n",
      "2017-10-28 20:33:24.050728 train 460000\n",
      "2017-10-28 20:33:28.589827 train 470000\n",
      "2017-10-28 20:33:30.541245 train 480000\n",
      "2017-10-28 20:33:32.528834 train 490000\n",
      "2017-10-28 20:33:34.617339 train 500000\n",
      "2017-10-28 20:33:36.573796 train 510000\n",
      "2017-10-28 20:33:38.683809 train 520000\n",
      "2017-10-28 20:33:40.620738 train 530000\n",
      "2017-10-28 20:33:42.563848 train 540000\n",
      "2017-10-28 20:33:44.500195 train 550000\n",
      "2017-10-28 20:33:46.452041 train 560000\n",
      "2017-10-28 20:33:47.622409 test 0\n",
      "2017-10-28 20:33:49.414736 test 10000\n",
      "2017-10-28 20:33:51.191146 test 20000\n",
      "2017-10-28 20:33:52.966309 test 30000\n",
      "2017-10-28 20:33:54.760018 test 40000\n",
      "2017-10-28 20:33:56.562477 test 50000\n",
      "2017-10-28 20:33:58.331387 test 60000\n",
      "2017-10-28 20:34:00.144930 test 70000\n",
      "2017-10-28 20:34:02.065061 test 80000\n",
      "2017-10-28 20:34:04.054569 test 90000\n",
      "2017-10-28 20:34:06.009819 test 100000\n",
      "2017-10-28 20:34:07.823227 test 110000\n",
      "2017-10-28 20:34:09.820043 test 120000\n",
      "2017-10-28 20:34:11.725236 test 130000\n",
      "2017-10-28 20:34:13.609797 test 140000\n",
      "2017-10-28 20:34:15.504233 test 150000\n",
      "2017-10-28 20:34:17.318650 test 160000\n",
      "2017-10-28 20:34:19.119942 test 170000\n",
      "2017-10-28 20:34:20.897561 test 180000\n",
      "2017-10-28 20:34:22.665739 test 190000\n",
      "2017-10-28 20:34:24.434316 test 200000\n",
      "2017-10-28 20:34:26.224010 test 210000\n",
      "2017-10-28 20:34:28.027503 test 220000\n",
      "2017-10-28 20:34:29.826084 test 230000\n",
      "2017-10-28 20:34:31.622709 test 240000\n",
      "2017-10-28 20:34:33.387496 test 250000\n",
      "2017-10-28 20:34:35.139598 test 260000\n",
      "2017-10-28 20:34:37.051061 test 270000\n",
      "2017-10-28 20:34:38.823277 test 280000\n",
      "2017-10-28 20:34:40.608667 test 290000\n",
      "2017-10-28 20:34:42.505306 test 300000\n",
      "2017-10-28 20:34:44.306852 test 310000\n",
      "2017-10-28 20:34:46.083994 test 320000\n",
      "2017-10-28 20:34:47.861527 test 330000\n",
      "2017-10-28 20:34:49.640350 test 340000\n",
      "2017-10-28 20:34:51.413880 test 350000\n",
      "2017-10-28 20:34:53.197495 test 360000\n",
      "2017-10-28 20:34:55.023960 test 370000\n",
      "2017-10-28 20:34:56.804328 test 380000\n",
      "2017-10-28 20:34:58.583783 test 390000\n",
      "2017-10-28 20:35:00.398952 test 400000\n",
      "2017-10-28 20:35:02.335930 test 410000\n",
      "2017-10-28 20:35:04.235094 test 420000\n",
      "2017-10-28 20:35:06.064700 test 430000\n",
      "2017-10-28 20:35:07.949743 test 440000\n",
      "2017-10-28 20:35:09.722927 test 450000\n",
      "2017-10-28 20:35:11.536102 test 460000\n",
      "2017-10-28 20:35:13.366575 test 470000\n",
      "2017-10-28 20:35:15.120081 test 480000\n",
      "2017-10-28 20:35:17.025182 test 490000\n",
      "2017-10-28 20:35:17.649618\n"
     ]
    }
   ],
   "source": [
    "#for index, row0 in df.iterrows() \n",
    "print datetime.datetime.now()\n",
    "#dftrain = dftrain.reset_index()\n",
    "#dftest  = dftest.reset_index()\n",
    "#print dftest.head()\n",
    "ilong, ibad, ilist = 0, 0, []\n",
    "for name, df in [('train',dftrain),('test',dftest)] :\n",
    "    for ii,row in df.iterrows() :\n",
    "        if ii%50000==0 : print datetime.datetime.now(), name, ii\n",
    "        if name=='train' and row.target==1 : ilong += 1\n",
    "        pp = row.paragraphLSX.split()\n",
    "        qq = row.questionLSX.split()\n",
    "        tt = row.target if name=='train' else 0.0\n",
    "        try :\n",
    "            ns = wv.n_similarity([unicode(ppx,'utf-8') for ppx in pp],[unicode(qqx,'utf-8') for qqx in qq])\n",
    "            ilist.append([tt,ns])\n",
    "            #print '\\t',ii,row.target,ns\n",
    "        except : ibad += 1; #print '\\t',ii,row.target,'--------------- bad bad'\n",
    "    if name=='train' : trainlist = np.array(ilist)\n",
    "    if name=='test'  : testlist  = np.array(ilist)\n",
    "print datetime.datetime.now()"
   ]
  },
  {
   "cell_type": "code",
   "execution_count": 89,
   "metadata": {
    "collapsed": false,
    "deletable": true,
    "editable": true
   },
   "outputs": [
    {
     "data": {
      "text/plain": [
       "(0.06791362870569104, 0.067913628705691037)"
      ]
     },
     "execution_count": 89,
     "metadata": {},
     "output_type": "execute_result"
    }
   ],
   "source": [
    "ilong/dftrain.shape[0], dftrain.target.mean()"
   ]
  },
  {
   "cell_type": "code",
   "execution_count": 92,
   "metadata": {
    "collapsed": false,
    "deletable": true,
    "editable": true
   },
   "outputs": [
    {
     "name": "stdout",
     "output_type": "stream",
     "text": [
      "537565 1009514 (537565, 2) 45224 38255\n"
     ]
    },
    {
     "data": {
      "image/png": "[encoded data removed]",
      "text/plain": [
       "<matplotlib.figure.Figure at 0x7fb82ebf2a90>"
      ]
     },
     "metadata": {},
     "output_type": "display_data"
    },
    {
     "data": {
      "image/png": "[encoded data removed]",
      "text/plain": [
       "<matplotlib.figure.Figure at 0x7fb8326e5650>"
      ]
     },
     "metadata": {},
     "output_type": "display_data"
    },
    {
     "data": {
      "image/png": "[encoded data removed]",
      "text/plain": [
       "<matplotlib.figure.Figure at 0x7fb8327cc410>"
      ]
     },
     "metadata": {},
     "output_type": "display_data"
    },
    {
     "data": {
      "image/png": "[encoded data removed]",
      "text/plain": [
       "<matplotlib.figure.Figure at 0x7fb83267f250>"
      ]
     },
     "metadata": {},
     "output_type": "display_data"
    },
    {
     "data": {
      "image/png": "[encoded data removed]",
      "text/plain": [
       "<matplotlib.figure.Figure at 0x7fb8325a4210>"
      ]
     },
     "metadata": {},
     "output_type": "display_data"
    }
   ],
   "source": [
    "print len(trainlist), len(testlist), trainlist.shape, ibad, ilong\n",
    "plt.hist(trainlist[trainlist[:,0]==0,1],bins=150); plt.show();\n",
    "plt.hist(trainlist[trainlist[:,0]==1,1],bins=150); plt.show();\n",
    "plt.hist(np.array(trainlist[:,1]),bins=150); plt.show();\n",
    "plt.hist(np.array(testlist[:,1]), bins=150); plt.show();\n",
    "\n",
    "plt.scatter(trainlist[:,0],trainlist[:,1]); plt.show();\n"
   ]
  },
  {
   "cell_type": "code",
   "execution_count": 65,
   "metadata": {
    "collapsed": false,
    "deletable": true,
    "editable": true
   },
   "outputs": [],
   "source": [
    "dff = dftrain.copy()\n",
    "dff.head()\n",
    "del dff"
   ]
  },
  {
   "cell_type": "code",
   "execution_count": 276,
   "metadata": {
    "collapsed": false,
    "deletable": true,
    "editable": true
   },
   "outputs": [
    {
     "data": {
      "image/png": "[encoded data removed]",
      "text/plain": [
       "<matplotlib.figure.Figure at 0x7f71e6b5a8d0>"
      ]
     },
     "metadata": {},
     "output_type": "display_data"
    }
   ],
   "source": [
    "lsx = []\n",
    "for pw in unicode(dftrain.paragraphLSX[0]).split()[:5] :\n",
    "    for qw in unicode(dftrain.questionLSX[0]).split()[:5] :\n",
    "        try : \n",
    "            #print pw,qw,wv.similarity(pw,qw); \n",
    "            lsx.append(abs(wv.similarity(pw,qw)))\n",
    "        except : continue\n",
    "plt.hist(np.array(lsx),bins=100); plt.show()"
   ]
  },
  {
   "cell_type": "code",
   "execution_count": 269,
   "metadata": {
    "collapsed": false,
    "deletable": true,
    "editable": true
   },
   "outputs": [
    {
     "data": {
      "text/plain": [
       "[u'0',\n",
       " u'\\u043e\\u0442\\u043b\\u0438\\u0447\\u0438\\u0435',\n",
       " u'\\u0440\\u044b\\u0431\\u0430',\n",
       " u',',\n",
       " u'\\u0437\\u0435\\u043c\\u043d\\u043e\\u0432\\u043e\\u0434\\u043d\\u044b\\u0439',\n",
       " u'(',\n",
       " u'\\u0430\\u043c\\u0444\\u0438\\u0431\\u0438\\u044f',\n",
       " u')',\n",
       " u'\\u043f\\u0440\\u0435\\u0441\\u043c\\u044b\\u043a...',\n",
       " u'0',\n",
       " u'\\u0435\\u0434\\u0438\\u043d\\u0441\\u0442\\u0432\\u0435\\u043d\\u043d\\u044b\\u0439',\n",
       " u'\\u0441\\u043e\\u0432\\u0440\\u0435\\u043c\\u0435\\u043d\\u043d\\u044b\\u0439',\n",
       " u'\\u0440\\u0435\\u043f\\u0442\\u0438\\u043b\\u0438\\u044f',\n",
       " u',',\n",
       " u'\\u0438\\u043c\\u0435\\u0442\\u044c',\n",
       " u'\\u043d\\u0435\\u043f...',\n",
       " u'0',\n",
       " u'\\u0441\\u0447\\u0438\\u0442\\u0430\\u0442\\u044c\\u0441\\u044f',\n",
       " u',',\n",
       " u'\\u0432\\u043f\\u0435\\u0440\\u0432\\u044b\\u0435',\n",
       " u'\\u0447\\u0435\\u0442\\u044b\\u0440\\u0451\\u0445\\u043a\\u0430\\u043c\\u0435\\u0440\\u043d\\u044b\\u0439',\n",
       " u'\\u0441\\u0435\\u0440\\u0434\\u0446\\u0435',\n",
       " u'\\u043f\\u043e...',\n",
       " u'0',\n",
       " u'\\u0434\\u0430\\u043b\\u044c\\u043d\\u0435\\u0439\\u0448\\u0438\\u0439',\n",
       " u'\\u0441\\u0442\\u0440\\u043e\\u0435\\u043d\\u0438\\u0435',\n",
       " u'\\u0441\\u0435\\u0440\\u0434\\u0446\\u0435',\n",
       " u'\\u0443\\u043d\\u0430\\u0441\\u043b\\u0435\\u0434\\u043e\\u0432\\u0430\\u0442\\u044c',\n",
       " u'\\u043f\\u0440\\u044f\\u043c\\u0430...',\n",
       " u'Name:',\n",
       " u'paragraphLSX,',\n",
       " u'dtype:',\n",
       " u'object']"
      ]
     },
     "execution_count": 269,
     "metadata": {},
     "output_type": "execute_result"
    }
   ],
   "source": [
    "unicode(dftrain.paragraphLSX[0]).split()"
   ]
  },
  {
   "cell_type": "code",
   "execution_count": null,
   "metadata": {
    "collapsed": true,
    "deletable": true,
    "editable": true
   },
   "outputs": [],
   "source": []
  },
  {
   "cell_type": "code",
   "execution_count": 28,
   "metadata": {
    "collapsed": false,
    "deletable": true,
    "editable": true
   },
   "outputs": [
    {
     "data": {
      "text/plain": [
       "Counter({' ': 1, 'a': 2, 'b': 3, 'c': 4})"
      ]
     },
     "execution_count": 28,
     "metadata": {},
     "output_type": "execute_result"
    }
   ],
   "source": [
    "aa=Counter('aabb bcccc'); aa\n",
    "#aa=Counter({'aa':6, 'b':7}); aa"
   ]
  },
  {
   "cell_type": "code",
   "execution_count": 85,
   "metadata": {
    "collapsed": false,
    "deletable": true,
    "editable": true
   },
   "outputs": [
    {
     "name": "stdout",
     "output_type": "stream",
     "text": [
      "вова\n"
     ]
    }
   ],
   "source": [
    "import pymorphy2\n",
    "morphy = pymorphy2.MorphAnalyzer()\n",
    "morphy.parse(u'вова')\n",
    "print morphy.parse(u'вову')[0].normal_form\n",
    "#str(morphy.parse(u'вовочка')[0].normal_form) #.encode('cp1251')"
   ]
  },
  {
   "cell_type": "code",
   "execution_count": 112,
   "metadata": {
    "collapsed": false,
    "deletable": true,
    "editable": true
   },
   "outputs": [
    {
     "name": "stdout",
     "output_type": "stream",
     "text": [
      "4 [Parse(word=u'\\u0447\\u0435\\u0442\\u0432\\u0435\\u0440\\u0442\\u044b\\u0439 \\u043f\\u0435\\u0440\\u0435\\u0441\\u0438\\u0434\\u0435\\u0432\\u0448\\u0438\\u0439', tag=OpencorporaTag('PRTF,perf,intr,past,actv masc,sing,nomn'), normal_form=u'\\u0447\\u0435\\u0442\\u0432\\u0435\\u0440\\u0442\\u044b\\u0439 \\u043f\\u0435\\u0440\\u0435\\u0441\\u0438\\u0434\\u0435\\u0442\\u044c', score=0.4831932773109244, methods_stack=((<FakeDictionary>, u'\\u0447\\u0435\\u0442\\u0432\\u0435\\u0440\\u0442\\u044b\\u0439 \\u043f\\u0435\\u0440\\u0435\\u0441\\u0438\\u0434\\u0435\\u0432\\u0448\\u0438\\u0439', 715, 15), (<KnownSuffixAnalyzer>, u'\\u0435\\u0432\\u0448\\u0438\\u0439'))), Parse(word=u'\\u0447\\u0435\\u0442\\u0432\\u0435\\u0440\\u0442\\u044b\\u0439 \\u043f\\u0435\\u0440\\u0435\\u0441\\u0438\\u0434\\u0435\\u0432\\u0448\\u0438\\u0439', tag=OpencorporaTag('PRTF,perf,intr,past,actv inan,masc,sing,accs'), normal_form=u'\\u0447\\u0435\\u0442\\u0432\\u0435\\u0440\\u0442\\u044b\\u0439 \\u043f\\u0435\\u0440\\u0435\\u0441\\u0438\\u0434\\u0435\\u0442\\u044c', score=0.4831932773109244, methods_stack=((<FakeDictionary>, u'\\u0447\\u0435\\u0442\\u0432\\u0435\\u0440\\u0442\\u044b\\u0439 \\u043f\\u0435\\u0440\\u0435\\u0441\\u0438\\u0434\\u0435\\u0432\\u0448\\u0438\\u0439', 715, 19), (<KnownSuffixAnalyzer>, u'\\u0435\\u0432\\u0448\\u0438\\u0439'))), Parse(word=u'\\u0447\\u0435\\u0442\\u0432\\u0435\\u0440\\u0442\\u044b\\u0439 \\u043f\\u0435\\u0440\\u0435\\u0441\\u0438\\u0434\\u0435\\u0432\\u0448\\u0438\\u0439', tag=OpencorporaTag('ADJF masc,sing,nomn'), normal_form=u'\\u0447\\u0435\\u0442\\u0432\\u0435\\u0440\\u0442\\u044b\\u0439 \\u043f\\u0435\\u0440\\u0435\\u0441\\u0438\\u0434\\u0435\\u0432\\u0448\\u0438\\u0439', score=0.01680672268907563, methods_stack=((<FakeDictionary>, u'\\u0447\\u0435\\u0442\\u0432\\u0435\\u0440\\u0442\\u044b\\u0439 \\u043f\\u0435\\u0440\\u0435\\u0441\\u0438\\u0434\\u0435\\u0432\\u0448\\u0438\\u0439', 100, 0), (<KnownSuffixAnalyzer>, u'\\u0435\\u0432\\u0448\\u0438\\u0439'))), Parse(word=u'\\u0447\\u0435\\u0442\\u0432\\u0435\\u0440\\u0442\\u044b\\u0439 \\u043f\\u0435\\u0440\\u0435\\u0441\\u0438\\u0434\\u0435\\u0432\\u0448\\u0438\\u0439', tag=OpencorporaTag('ADJF inan,masc,sing,accs'), normal_form=u'\\u0447\\u0435\\u0442\\u0432\\u0435\\u0440\\u0442\\u044b\\u0439 \\u043f\\u0435\\u0440\\u0435\\u0441\\u0438\\u0434\\u0435\\u0432\\u0448\\u0438\\u0439', score=0.01680672268907563, methods_stack=((<FakeDictionary>, u'\\u0447\\u0435\\u0442\\u0432\\u0435\\u0440\\u0442\\u044b\\u0439 \\u043f\\u0435\\u0440\\u0435\\u0441\\u0438\\u0434\\u0435\\u0432\\u0448\\u0438\\u0439', 100, 4), (<KnownSuffixAnalyzer>, u'\\u0435\\u0432\\u0448\\u0438\\u0439')))]\n",
      "четвертый пересидеть\n",
      "четвертый пересидеть 0.483193277311 PRTF,perf,intr,past,actv masc,sing,nomn\n",
      "четвертый пересидеть 0.483193277311 PRTF,perf,intr,past,actv inan,masc,sing,accs\n",
      "четвертый пересидевший 0.0168067226891 ADJF masc,sing,nomn\n",
      "четвертый пересидевший 0.0168067226891 ADJF inan,masc,sing,accs\n"
     ]
    }
   ],
   "source": [
    "wword = u'четвертый пересидевший'\n",
    "print len(morphy.parse(wword)),morphy.parse(wword)\n",
    "print morphy.parse(wword)[0].normal_form\n",
    "for pp in morphy.parse(wword) : print pp.normal_form, pp.score, pp.tag"
   ]
  },
  {
   "cell_type": "code",
   "execution_count": 75,
   "metadata": {
    "collapsed": false,
    "deletable": true,
    "editable": true
   },
   "outputs": [
    {
     "name": "stdout",
     "output_type": "stream",
     "text": [
      "вщвщчка\n"
     ]
    }
   ],
   "source": [
    "print unicode(u'вщвщчка')\n",
    "#str(u'вщвщчка'.decode('utf_8'))"
   ]
  },
  {
   "cell_type": "code",
   "execution_count": 74,
   "metadata": {
    "collapsed": false,
    "deletable": true,
    "editable": true
   },
   "outputs": [
    {
     "name": "stdout",
     "output_type": "stream",
     "text": [
      "вовочка\n"
     ]
    }
   ],
   "source": [
    "print 'вовочка'.decode('utf-8')"
   ]
  },
  {
   "cell_type": "code",
   "execution_count": 200,
   "metadata": {
    "collapsed": true,
    "deletable": true,
    "editable": true
   },
   "outputs": [],
   "source": [
    "import nltk"
   ]
  },
  {
   "cell_type": "code",
   "execution_count": 217,
   "metadata": {
    "collapsed": false,
    "deletable": true,
    "editable": true
   },
   "outputs": [
    {
     "data": {
      "text/plain": [
       "Index([u'paragraph_id', u'question_id', u'paragraph', u'question', u'target',\n",
       "       u'len_paragraph', u'len_question', u'len_intersection', u'idf_question',\n",
       "       u'idf_paragraph', u'idf_intersection', u'len_paragraph0',\n",
       "       u'len_question0', u'len_intersection0', u'idf_question0',\n",
       "       u'idf_paragraph0', u'idf_intersection0'],\n",
       "      dtype='object')"
      ]
     },
     "execution_count": 217,
     "metadata": {},
     "output_type": "execute_result"
    }
   ],
   "source": [
    "dftrain.columns"
   ]
  },
  {
   "cell_type": "code",
   "execution_count": 253,
   "metadata": {
    "collapsed": false,
    "deletable": true,
    "editable": true
   },
   "outputs": [
    {
     "data": {
      "image/png": "[encoded data removed]",
      "text/plain": [
       "<matplotlib.figure.Figure at 0x7ff5079b2350>"
      ]
     },
     "metadata": {},
     "output_type": "display_data"
    }
   ],
   "source": [
    "plt.figure(figsize=(15,20))\n",
    "bbins = [xx for xx in range(0,1000,10)]\n",
    "plt.subplot(621); plt.hist(dftrain.idf_paragraph,bins=bbins); plt.title('train idf paragraph')\n",
    "plt.subplot(622);plt.hist(dftest.idf_paragraph,bins=bbins);   plt.title('test  idf paragraph') \n",
    "plt.subplot(623); plt.hist(dftrain.idf_question,bins=75);     plt.title('train idf question')\n",
    "plt.subplot(624);plt.hist(dftest.idf_question,bins=75);       plt.title('test  idf question')\n",
    "plt.subplot(625);plt.hist(dftrain.idf_intersection,bins=75);       plt.title('train  idf intersection')\n",
    "plt.subplot(626);plt.hist(dftest.idf_intersection,bins=75);       plt.title('test  idf intersection')\n",
    "\n",
    "plt.subplot(627); plt.hist(dftrain.idf_paragraph0,bins=bbins);plt.title('train idf paragraph0')\n",
    "plt.subplot(628);plt.hist(dftest.idf_paragraph0,bins=bbins);  plt.title('test  idf paragraph0')\n",
    "plt.subplot(629); plt.hist(dftrain.idf_question0,bins=75);    plt.title('train idf question0')\n",
    "plt.subplot(6,2,10);plt.hist(dftest.idf_question0,bins=75);      plt.title('test  idf question0')\n",
    "plt.subplot(6,2,11);plt.hist(dftrain.idf_intersection0,bins=75);      plt.title('train  idf intersection0')\n",
    "plt.subplot(6,2,12);plt.hist(dftest.idf_intersection0,bins=75);      plt.title('test  idf intersection0')\n",
    "\n",
    "plt.show()"
   ]
  },
  {
   "cell_type": "code",
   "execution_count": 252,
   "metadata": {
    "collapsed": false,
    "deletable": true,
    "editable": true
   },
   "outputs": [
    {
     "data": {
      "image/png": "[encoded data removed]",
      "text/plain": [
       "<matplotlib.figure.Figure at 0x7ff4fd716310>"
      ]
     },
     "metadata": {},
     "output_type": "display_data"
    }
   ],
   "source": [
    "plt.figure(figsize=(15,20))\n",
    "bbins = [xx for xx in range(0,500,5)]\n",
    "plt.subplot(621); plt.hist(dftrain.len_paragraph,bins=bbins); plt.title('train len paragraph')\n",
    "plt.subplot(622);plt.hist(dftest.len_paragraph,bins=bbins);   plt.title('test  len paragraph') \n",
    "plt.subplot(623); plt.hist(dftrain.len_question,bins=50);     plt.title('train len question')\n",
    "plt.subplot(624);plt.hist(dftest.len_question,bins=50);       plt.title('test  len question')\n",
    "plt.subplot(625);plt.hist(dftrain.len_intersection,bins=75);       plt.title('train  len intersection')\n",
    "plt.subplot(626);plt.hist(dftest.len_intersection,bins=75);       plt.title('test  len intersection')\n",
    "\n",
    "plt.subplot(627); plt.hist(dftrain.len_paragraph0,bins=bbins);plt.title('train len paragraph0')\n",
    "plt.subplot(628);plt.hist(dftest.len_paragraph0,bins=bbins);  plt.title('test  len paragraph0')\n",
    "plt.subplot(629); plt.hist(dftrain.len_question0,bins=50);    plt.title('train len question0')\n",
    "plt.subplot(6,2,10);plt.hist(dftest.len_question0,bins=50);      plt.title('test  len question0')\n",
    "plt.subplot(6,2,11);plt.hist(dftrain.len_intersection0,bins=75);      plt.title('train  len intersection0')\n",
    "plt.subplot(6,2,12);plt.hist(dftest.len_intersection0,bins=75);      plt.title('test  len intersection0')\n",
    "\n",
    "plt.show()"
   ]
  },
  {
   "cell_type": "code",
   "execution_count": 274,
   "metadata": {
    "collapsed": false,
    "deletable": true,
    "editable": true,
    "scrolled": true
   },
   "outputs": [
    {
     "name": "stdout",
     "output_type": "stream",
     "text": [
      "[11, 22, 33, 44, 55, 66, 77, 88, 99, 10]\n",
      "train=[2 3 4 7 8 9] test=[0 1 5 6]\n",
      "[33 44 55 88 99 10]\n",
      "[11 22 66 77]\n",
      "train=[0 1 4 5 6 9] test=[2 3 7 8]\n",
      "[11 22 55 66 77 10]\n",
      "[33 44 88 99]\n",
      "train=[0 1 2 3 5 6 7 8] test=[4 9]\n",
      "[11 22 33 44 66 77 88 99]\n",
      "[55 10]\n"
     ]
    }
   ],
   "source": [
    "skf = skms.StratifiedKFold(n_splits=3)\n",
    "X = [11,22,33,44,55,66,77,88,99,10]; \n",
    "y = [11,11,11,11,11,22,22,22,22,22]; \n",
    "print(X)\n",
    "for train_index, test_index in skf.split(X,y) :\n",
    "    print 'train={} test={}'.format(train_index,test_index)\n",
    "    print np.array(X)[train_index]\n",
    "    print np.array(X)[test_index]\n"
   ]
  },
  {
   "cell_type": "code",
   "execution_count": 336,
   "metadata": {
    "collapsed": false,
    "deletable": true,
    "editable": true
   },
   "outputs": [
    {
     "data": {
      "text/plain": [
       "(0.99839152723779545,\n",
       " 0.00012748411913640487,\n",
       " array([ 0.99834759,  0.99852797,  0.99835356,  0.99835328,  0.99859732,\n",
       "         0.99834908,  0.99856697,  0.99815247,  0.99832212,  0.99834491]))"
      ]
     },
     "execution_count": 336,
     "metadata": {},
     "output_type": "execute_result"
    }
   ],
   "source": [
    "skf = skms.StratifiedKFold(n_splits=10)\n",
    "import xgboost as xgb\n",
    "columns  = []\n",
    "columns += ['len_paragraph', 'len_question', 'len_intersection', 'idf_question', 'idf_paragraph', 'idf_intersection']\n",
    "columns += ['len_paragraph0', 'len_question0', 'len_intersection0', 'idf_question0', 'idf_paragraph0', 'idf_intersection0']\n",
    "#model = GradientBoostingClassifier()\n",
    "model = xgb.XGBClassifier(learning_rate=0.1, n_estimators=300, silent=True)\n",
    "scores = skms.cross_val_score(model, dftrain[columns], dftrain['target'], cv=skf, scoring='roc_auc');\n",
    "#dftest['prediction']  = model.predict_proba(dftest[columns])[:, 1]\n",
    "#ddftrain = model.predict_proba(dftrain[columns])[:, 1]\n",
    "np.array(scores).mean(), np.array(scores).std(), scores"
   ]
  },
  {
   "cell_type": "code",
   "execution_count": 335,
   "metadata": {
    "collapsed": false,
    "deletable": true,
    "editable": true
   },
   "outputs": [
    {
     "data": {
      "text/plain": [
       "(0.99835128988464183,\n",
       " 0.00013363048368364195,\n",
       " array([ 0.99830495,  0.99850091,  0.99830191,  0.99829347,  0.99856759,\n",
       "         0.99828593,  0.99852408,  0.99809739,  0.99833713,  0.99829954]))"
      ]
     },
     "execution_count": 335,
     "metadata": {},
     "output_type": "execute_result"
    }
   ],
   "source": [
    "np.array(scores).mean(), np.array(scores).std(), scores"
   ]
  }
 ],
 "metadata": {
  "kernelspec": {
   "display_name": "Python 2",
   "language": "python",
   "name": "python2"
  },
  "language_info": {
   "codemirror_mode": {
    "name": "ipython",
    "version": 2
   },
   "file_extension": ".py",
   "mimetype": "text/x-python",
   "name": "python",
   "nbconvert_exporter": "python",
   "pygments_lexer": "ipython2",
   "version": "2.7.13"
  }
 },
 "nbformat": 4,
 "nbformat_minor": 2
}
